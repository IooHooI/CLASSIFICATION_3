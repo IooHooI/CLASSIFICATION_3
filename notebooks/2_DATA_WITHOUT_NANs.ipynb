{
 "cells": [
  {
   "cell_type": "markdown",
   "metadata": {},
   "source": [
    "# All necessary imports"
   ]
  },
  {
   "cell_type": "code",
   "execution_count": 1,
   "metadata": {},
   "outputs": [],
   "source": [
    "import sys\n",
    "sys.path.append('..')"
   ]
  },
  {
   "cell_type": "code",
   "execution_count": 2,
   "metadata": {},
   "outputs": [],
   "source": [
    "from source.code.utils import save_obj\n",
    "from source.code.utils import load_obj"
   ]
  },
  {
   "cell_type": "code",
   "execution_count": 3,
   "metadata": {},
   "outputs": [],
   "source": [
    "import pandas as pd\n",
    "import numpy as np\n",
    "import os\n",
    "import pandas_profiling\n",
    "from tqdm import tqdm"
   ]
  },
  {
   "cell_type": "code",
   "execution_count": 4,
   "metadata": {},
   "outputs": [],
   "source": [
    "pd.set_option('display.max_colwidth', -1)\n",
    "pd.set_option('display.max_rows', 30000)\n",
    "pd.set_option('display.max_columns', 30000)"
   ]
  },
  {
   "cell_type": "code",
   "execution_count": 5,
   "metadata": {},
   "outputs": [],
   "source": [
    "data_path = '../data/dataset/processed/{}.csv'\n",
    "profiling_path = '../data/dataset/processed/data_profiling/{}.html'\n",
    "meta_path = '../data/dataset/processed/meta-info/{}.pkl'"
   ]
  },
  {
   "cell_type": "markdown",
   "metadata": {},
   "source": [
    "# Data reading"
   ]
  },
  {
   "cell_type": "markdown",
   "metadata": {},
   "source": [
    "## Datasets"
   ]
  },
  {
   "cell_type": "code",
   "execution_count": 6,
   "metadata": {},
   "outputs": [],
   "source": [
    "dataset_names = ['application_train', 'application_test', 'bureau', 'bureau_balance', 'credit_card_balance', 'installments_payments', 'POS_CASH_balance', 'previous_application', 'sample_submission']"
   ]
  },
  {
   "cell_type": "code",
   "execution_count": 7,
   "metadata": {},
   "outputs": [
    {
     "name": "stderr",
     "output_type": "stream",
     "text": [
      "100%|████████████████████████████████████████████████████████████████████████████████████████████████████████████████████████████████████████████| 9/9 [00:26<00:00,  2.97s/it]\n"
     ]
    }
   ],
   "source": [
    "data_dict = dict(zip(dataset_names, list(map(lambda name: pd.read_csv(filepath_or_buffer=data_path.format(name)), tqdm(dataset_names)))))"
   ]
  },
  {
   "cell_type": "code",
   "execution_count": 9,
   "metadata": {},
   "outputs": [],
   "source": [
    "columns_description = pd.read_csv(filepath_or_buffer='../data/dataset/processed/HomeCredit_columns_description.csv', encoding='ISO-8859-1', index_col=0)"
   ]
  },
  {
   "cell_type": "markdown",
   "metadata": {},
   "source": [
    "## Columns needed"
   ]
  },
  {
   "cell_type": "code",
   "execution_count": 10,
   "metadata": {},
   "outputs": [],
   "source": [
    "datasets_num_features = load_obj(meta_path.format('datasets_num_features'))"
   ]
  },
  {
   "cell_type": "code",
   "execution_count": 11,
   "metadata": {},
   "outputs": [],
   "source": [
    "datasets_cat_features = load_obj(meta_path.format('datasets_cat_features'))"
   ]
  },
  {
   "cell_type": "code",
   "execution_count": 12,
   "metadata": {},
   "outputs": [],
   "source": [
    "datasets_bin_features = load_obj(meta_path.format('datasets_bin_features'))"
   ]
  },
  {
   "cell_type": "markdown",
   "metadata": {},
   "source": [
    "# Common train & test categories"
   ]
  },
  {
   "cell_type": "code",
   "execution_count": 13,
   "metadata": {},
   "outputs": [],
   "source": [
    "commom_categories = load_obj(meta_path.format('commom_categories'))"
   ]
  },
  {
   "cell_type": "markdown",
   "metadata": {},
   "source": [
    "# Data examples"
   ]
  },
  {
   "cell_type": "markdown",
   "metadata": {},
   "source": [
    "## Numeric columns"
   ]
  },
  {
   "cell_type": "code",
   "execution_count": 14,
   "metadata": {},
   "outputs": [],
   "source": [
    "name_number = 0"
   ]
  },
  {
   "cell_type": "code",
   "execution_count": 15,
   "metadata": {
    "scrolled": false
   },
   "outputs": [
    {
     "data": {
      "text/html": [
       "<div>\n",
       "<style scoped>\n",
       "    .dataframe tbody tr th:only-of-type {\n",
       "        vertical-align: middle;\n",
       "    }\n",
       "\n",
       "    .dataframe tbody tr th {\n",
       "        vertical-align: top;\n",
       "    }\n",
       "\n",
       "    .dataframe thead th {\n",
       "        text-align: right;\n",
       "    }\n",
       "</style>\n",
       "<table border=\"1\" class=\"dataframe\">\n",
       "  <thead>\n",
       "    <tr style=\"text-align: right;\">\n",
       "      <th></th>\n",
       "      <th>0</th>\n",
       "      <th>1</th>\n",
       "      <th>2</th>\n",
       "      <th>3</th>\n",
       "      <th>4</th>\n",
       "    </tr>\n",
       "  </thead>\n",
       "  <tbody>\n",
       "    <tr>\n",
       "      <th>AMT_CREDIT</th>\n",
       "      <td>406597.500000</td>\n",
       "      <td>1.293502e+06</td>\n",
       "      <td>135000.000000</td>\n",
       "      <td>312682.500000</td>\n",
       "      <td>513000.000000</td>\n",
       "    </tr>\n",
       "    <tr>\n",
       "      <th>AMT_INCOME_TOTAL</th>\n",
       "      <td>202500.000000</td>\n",
       "      <td>2.700000e+05</td>\n",
       "      <td>67500.000000</td>\n",
       "      <td>135000.000000</td>\n",
       "      <td>121500.000000</td>\n",
       "    </tr>\n",
       "    <tr>\n",
       "      <th>CNT_CHILDREN</th>\n",
       "      <td>0.000000</td>\n",
       "      <td>0.000000e+00</td>\n",
       "      <td>0.000000</td>\n",
       "      <td>0.000000</td>\n",
       "      <td>0.000000</td>\n",
       "    </tr>\n",
       "    <tr>\n",
       "      <th>DAYS_BIRTH</th>\n",
       "      <td>-9461.000000</td>\n",
       "      <td>-1.676500e+04</td>\n",
       "      <td>-19046.000000</td>\n",
       "      <td>-19005.000000</td>\n",
       "      <td>-19932.000000</td>\n",
       "    </tr>\n",
       "    <tr>\n",
       "      <th>DAYS_EMPLOYED</th>\n",
       "      <td>-637.000000</td>\n",
       "      <td>-1.188000e+03</td>\n",
       "      <td>-225.000000</td>\n",
       "      <td>-3039.000000</td>\n",
       "      <td>-3038.000000</td>\n",
       "    </tr>\n",
       "    <tr>\n",
       "      <th>DAYS_ID_PUBLISH</th>\n",
       "      <td>-2120.000000</td>\n",
       "      <td>-2.910000e+02</td>\n",
       "      <td>-2531.000000</td>\n",
       "      <td>-2437.000000</td>\n",
       "      <td>-3458.000000</td>\n",
       "    </tr>\n",
       "    <tr>\n",
       "      <th>DAYS_REGISTRATION</th>\n",
       "      <td>-3648.000000</td>\n",
       "      <td>-1.186000e+03</td>\n",
       "      <td>-4260.000000</td>\n",
       "      <td>-9833.000000</td>\n",
       "      <td>-4311.000000</td>\n",
       "    </tr>\n",
       "    <tr>\n",
       "      <th>HOUR_APPR_PROCESS_START</th>\n",
       "      <td>10.000000</td>\n",
       "      <td>1.100000e+01</td>\n",
       "      <td>9.000000</td>\n",
       "      <td>17.000000</td>\n",
       "      <td>11.000000</td>\n",
       "    </tr>\n",
       "    <tr>\n",
       "      <th>REGION_POPULATION_RELATIVE</th>\n",
       "      <td>0.018801</td>\n",
       "      <td>3.541000e-03</td>\n",
       "      <td>0.010032</td>\n",
       "      <td>0.008019</td>\n",
       "      <td>0.028663</td>\n",
       "    </tr>\n",
       "    <tr>\n",
       "      <th>REGION_RATING_CLIENT</th>\n",
       "      <td>2.000000</td>\n",
       "      <td>1.000000e+00</td>\n",
       "      <td>2.000000</td>\n",
       "      <td>2.000000</td>\n",
       "      <td>2.000000</td>\n",
       "    </tr>\n",
       "    <tr>\n",
       "      <th>SK_ID_CURR</th>\n",
       "      <td>100002.000000</td>\n",
       "      <td>1.000030e+05</td>\n",
       "      <td>100004.000000</td>\n",
       "      <td>100006.000000</td>\n",
       "      <td>100007.000000</td>\n",
       "    </tr>\n",
       "  </tbody>\n",
       "</table>\n",
       "</div>"
      ],
      "text/plain": [
       "                                        0             1              2  \\\n",
       "AMT_CREDIT                  406597.500000  1.293502e+06  135000.000000   \n",
       "AMT_INCOME_TOTAL            202500.000000  2.700000e+05  67500.000000    \n",
       "CNT_CHILDREN                0.000000       0.000000e+00  0.000000        \n",
       "DAYS_BIRTH                 -9461.000000   -1.676500e+04 -19046.000000    \n",
       "DAYS_EMPLOYED              -637.000000    -1.188000e+03 -225.000000      \n",
       "DAYS_ID_PUBLISH            -2120.000000   -2.910000e+02 -2531.000000     \n",
       "DAYS_REGISTRATION          -3648.000000   -1.186000e+03 -4260.000000     \n",
       "HOUR_APPR_PROCESS_START     10.000000      1.100000e+01  9.000000        \n",
       "REGION_POPULATION_RELATIVE  0.018801       3.541000e-03  0.010032        \n",
       "REGION_RATING_CLIENT        2.000000       1.000000e+00  2.000000        \n",
       "SK_ID_CURR                  100002.000000  1.000030e+05  100004.000000   \n",
       "\n",
       "                                        3              4  \n",
       "AMT_CREDIT                  312682.500000  513000.000000  \n",
       "AMT_INCOME_TOTAL            135000.000000  121500.000000  \n",
       "CNT_CHILDREN                0.000000       0.000000       \n",
       "DAYS_BIRTH                 -19005.000000  -19932.000000   \n",
       "DAYS_EMPLOYED              -3039.000000   -3038.000000    \n",
       "DAYS_ID_PUBLISH            -2437.000000   -3458.000000    \n",
       "DAYS_REGISTRATION          -9833.000000   -4311.000000    \n",
       "HOUR_APPR_PROCESS_START     17.000000      11.000000      \n",
       "REGION_POPULATION_RELATIVE  0.008019       0.028663       \n",
       "REGION_RATING_CLIENT        2.000000       2.000000       \n",
       "SK_ID_CURR                  100006.000000  100007.000000  "
      ]
     },
     "execution_count": 15,
     "metadata": {},
     "output_type": "execute_result"
    }
   ],
   "source": [
    "data_dict[dataset_names[name_number]][datasets_num_features[dataset_names[name_number]]].head().T # application_train"
   ]
  },
  {
   "cell_type": "code",
   "execution_count": 16,
   "metadata": {},
   "outputs": [],
   "source": [
    "name_number = 1"
   ]
  },
  {
   "cell_type": "code",
   "execution_count": 17,
   "metadata": {
    "scrolled": false
   },
   "outputs": [
    {
     "data": {
      "text/html": [
       "<div>\n",
       "<style scoped>\n",
       "    .dataframe tbody tr th:only-of-type {\n",
       "        vertical-align: middle;\n",
       "    }\n",
       "\n",
       "    .dataframe tbody tr th {\n",
       "        vertical-align: top;\n",
       "    }\n",
       "\n",
       "    .dataframe thead th {\n",
       "        text-align: right;\n",
       "    }\n",
       "</style>\n",
       "<table border=\"1\" class=\"dataframe\">\n",
       "  <thead>\n",
       "    <tr style=\"text-align: right;\">\n",
       "      <th></th>\n",
       "      <th>0</th>\n",
       "      <th>1</th>\n",
       "      <th>2</th>\n",
       "      <th>3</th>\n",
       "      <th>4</th>\n",
       "    </tr>\n",
       "  </thead>\n",
       "  <tbody>\n",
       "    <tr>\n",
       "      <th>AMT_CREDIT</th>\n",
       "      <td>568800.00000</td>\n",
       "      <td>222768.000000</td>\n",
       "      <td>663264.000000</td>\n",
       "      <td>1.575000e+06</td>\n",
       "      <td>625500.000000</td>\n",
       "    </tr>\n",
       "    <tr>\n",
       "      <th>AMT_INCOME_TOTAL</th>\n",
       "      <td>135000.00000</td>\n",
       "      <td>99000.000000</td>\n",
       "      <td>202500.000000</td>\n",
       "      <td>3.150000e+05</td>\n",
       "      <td>180000.000000</td>\n",
       "    </tr>\n",
       "    <tr>\n",
       "      <th>CNT_CHILDREN</th>\n",
       "      <td>0.00000</td>\n",
       "      <td>0.000000</td>\n",
       "      <td>0.000000</td>\n",
       "      <td>2.000000e+00</td>\n",
       "      <td>1.000000</td>\n",
       "    </tr>\n",
       "    <tr>\n",
       "      <th>CNT_FAM_MEMBERS</th>\n",
       "      <td>2.00000</td>\n",
       "      <td>2.000000</td>\n",
       "      <td>2.000000</td>\n",
       "      <td>4.000000e+00</td>\n",
       "      <td>3.000000</td>\n",
       "    </tr>\n",
       "    <tr>\n",
       "      <th>DAYS_BIRTH</th>\n",
       "      <td>-19241.00000</td>\n",
       "      <td>-18064.000000</td>\n",
       "      <td>-20038.000000</td>\n",
       "      <td>-1.397600e+04</td>\n",
       "      <td>-13040.000000</td>\n",
       "    </tr>\n",
       "    <tr>\n",
       "      <th>DAYS_EMPLOYED</th>\n",
       "      <td>-2329.00000</td>\n",
       "      <td>-4469.000000</td>\n",
       "      <td>-4458.000000</td>\n",
       "      <td>-1.866000e+03</td>\n",
       "      <td>-2191.000000</td>\n",
       "    </tr>\n",
       "    <tr>\n",
       "      <th>DAYS_ID_PUBLISH</th>\n",
       "      <td>-812.00000</td>\n",
       "      <td>-1623.000000</td>\n",
       "      <td>-3503.000000</td>\n",
       "      <td>-4.208000e+03</td>\n",
       "      <td>-4262.000000</td>\n",
       "    </tr>\n",
       "    <tr>\n",
       "      <th>DAYS_LAST_PHONE_CHANGE</th>\n",
       "      <td>-1740.00000</td>\n",
       "      <td>0.000000</td>\n",
       "      <td>-856.000000</td>\n",
       "      <td>-1.805000e+03</td>\n",
       "      <td>-821.000000</td>\n",
       "    </tr>\n",
       "    <tr>\n",
       "      <th>DAYS_REGISTRATION</th>\n",
       "      <td>-5170.00000</td>\n",
       "      <td>-9118.000000</td>\n",
       "      <td>-2175.000000</td>\n",
       "      <td>-2.000000e+03</td>\n",
       "      <td>-4000.000000</td>\n",
       "    </tr>\n",
       "    <tr>\n",
       "      <th>HOUR_APPR_PROCESS_START</th>\n",
       "      <td>18.00000</td>\n",
       "      <td>9.000000</td>\n",
       "      <td>14.000000</td>\n",
       "      <td>1.100000e+01</td>\n",
       "      <td>5.000000</td>\n",
       "    </tr>\n",
       "    <tr>\n",
       "      <th>REGION_POPULATION_RELATIVE</th>\n",
       "      <td>0.01885</td>\n",
       "      <td>0.035792</td>\n",
       "      <td>0.019101</td>\n",
       "      <td>2.639200e-02</td>\n",
       "      <td>0.010032</td>\n",
       "    </tr>\n",
       "    <tr>\n",
       "      <th>REGION_RATING_CLIENT</th>\n",
       "      <td>2.00000</td>\n",
       "      <td>2.000000</td>\n",
       "      <td>2.000000</td>\n",
       "      <td>2.000000e+00</td>\n",
       "      <td>2.000000</td>\n",
       "    </tr>\n",
       "    <tr>\n",
       "      <th>SK_ID_CURR</th>\n",
       "      <td>100001.00000</td>\n",
       "      <td>100005.000000</td>\n",
       "      <td>100013.000000</td>\n",
       "      <td>1.000280e+05</td>\n",
       "      <td>100038.000000</td>\n",
       "    </tr>\n",
       "  </tbody>\n",
       "</table>\n",
       "</div>"
      ],
      "text/plain": [
       "                                       0              1              2  \\\n",
       "AMT_CREDIT                  568800.00000  222768.000000  663264.000000   \n",
       "AMT_INCOME_TOTAL            135000.00000  99000.000000   202500.000000   \n",
       "CNT_CHILDREN                0.00000       0.000000       0.000000        \n",
       "CNT_FAM_MEMBERS             2.00000       2.000000       2.000000        \n",
       "DAYS_BIRTH                 -19241.00000  -18064.000000  -20038.000000    \n",
       "DAYS_EMPLOYED              -2329.00000   -4469.000000   -4458.000000     \n",
       "DAYS_ID_PUBLISH            -812.00000    -1623.000000   -3503.000000     \n",
       "DAYS_LAST_PHONE_CHANGE     -1740.00000    0.000000      -856.000000      \n",
       "DAYS_REGISTRATION          -5170.00000   -9118.000000   -2175.000000     \n",
       "HOUR_APPR_PROCESS_START     18.00000      9.000000       14.000000       \n",
       "REGION_POPULATION_RELATIVE  0.01885       0.035792       0.019101        \n",
       "REGION_RATING_CLIENT        2.00000       2.000000       2.000000        \n",
       "SK_ID_CURR                  100001.00000  100005.000000  100013.000000   \n",
       "\n",
       "                                       3              4  \n",
       "AMT_CREDIT                  1.575000e+06  625500.000000  \n",
       "AMT_INCOME_TOTAL            3.150000e+05  180000.000000  \n",
       "CNT_CHILDREN                2.000000e+00  1.000000       \n",
       "CNT_FAM_MEMBERS             4.000000e+00  3.000000       \n",
       "DAYS_BIRTH                 -1.397600e+04 -13040.000000   \n",
       "DAYS_EMPLOYED              -1.866000e+03 -2191.000000    \n",
       "DAYS_ID_PUBLISH            -4.208000e+03 -4262.000000    \n",
       "DAYS_LAST_PHONE_CHANGE     -1.805000e+03 -821.000000     \n",
       "DAYS_REGISTRATION          -2.000000e+03 -4000.000000    \n",
       "HOUR_APPR_PROCESS_START     1.100000e+01  5.000000       \n",
       "REGION_POPULATION_RELATIVE  2.639200e-02  0.010032       \n",
       "REGION_RATING_CLIENT        2.000000e+00  2.000000       \n",
       "SK_ID_CURR                  1.000280e+05  100038.000000  "
      ]
     },
     "execution_count": 17,
     "metadata": {},
     "output_type": "execute_result"
    }
   ],
   "source": [
    "data_dict[dataset_names[name_number]][datasets_num_features[dataset_names[name_number]]].head().T # application_test"
   ]
  },
  {
   "cell_type": "code",
   "execution_count": 18,
   "metadata": {},
   "outputs": [],
   "source": [
    "name_number = 2"
   ]
  },
  {
   "cell_type": "code",
   "execution_count": 19,
   "metadata": {
    "scrolled": false
   },
   "outputs": [
    {
     "data": {
      "text/html": [
       "<div>\n",
       "<style scoped>\n",
       "    .dataframe tbody tr th:only-of-type {\n",
       "        vertical-align: middle;\n",
       "    }\n",
       "\n",
       "    .dataframe tbody tr th {\n",
       "        vertical-align: top;\n",
       "    }\n",
       "\n",
       "    .dataframe thead th {\n",
       "        text-align: right;\n",
       "    }\n",
       "</style>\n",
       "<table border=\"1\" class=\"dataframe\">\n",
       "  <thead>\n",
       "    <tr style=\"text-align: right;\">\n",
       "      <th></th>\n",
       "      <th>0</th>\n",
       "      <th>1</th>\n",
       "      <th>2</th>\n",
       "      <th>3</th>\n",
       "      <th>4</th>\n",
       "    </tr>\n",
       "  </thead>\n",
       "  <tbody>\n",
       "    <tr>\n",
       "      <th>AMT_CREDIT_SUM_OVERDUE</th>\n",
       "      <td>0.0</td>\n",
       "      <td>0.0</td>\n",
       "      <td>0.0</td>\n",
       "      <td>0.0</td>\n",
       "      <td>0.0</td>\n",
       "    </tr>\n",
       "    <tr>\n",
       "      <th>CNT_CREDIT_PROLONG</th>\n",
       "      <td>0.0</td>\n",
       "      <td>0.0</td>\n",
       "      <td>0.0</td>\n",
       "      <td>0.0</td>\n",
       "      <td>0.0</td>\n",
       "    </tr>\n",
       "    <tr>\n",
       "      <th>CREDIT_DAY_OVERDUE</th>\n",
       "      <td>0.0</td>\n",
       "      <td>0.0</td>\n",
       "      <td>0.0</td>\n",
       "      <td>0.0</td>\n",
       "      <td>0.0</td>\n",
       "    </tr>\n",
       "    <tr>\n",
       "      <th>DAYS_CREDIT</th>\n",
       "      <td>-497.0</td>\n",
       "      <td>-208.0</td>\n",
       "      <td>-203.0</td>\n",
       "      <td>-203.0</td>\n",
       "      <td>-629.0</td>\n",
       "    </tr>\n",
       "    <tr>\n",
       "      <th>DAYS_CREDIT_UPDATE</th>\n",
       "      <td>-131.0</td>\n",
       "      <td>-20.0</td>\n",
       "      <td>-16.0</td>\n",
       "      <td>-16.0</td>\n",
       "      <td>-21.0</td>\n",
       "    </tr>\n",
       "    <tr>\n",
       "      <th>SK_ID_BUREAU</th>\n",
       "      <td>5714462.0</td>\n",
       "      <td>5714463.0</td>\n",
       "      <td>5714464.0</td>\n",
       "      <td>5714465.0</td>\n",
       "      <td>5714466.0</td>\n",
       "    </tr>\n",
       "    <tr>\n",
       "      <th>SK_ID_CURR</th>\n",
       "      <td>215354.0</td>\n",
       "      <td>215354.0</td>\n",
       "      <td>215354.0</td>\n",
       "      <td>215354.0</td>\n",
       "      <td>215354.0</td>\n",
       "    </tr>\n",
       "  </tbody>\n",
       "</table>\n",
       "</div>"
      ],
      "text/plain": [
       "                                0          1          2          3          4\n",
       "AMT_CREDIT_SUM_OVERDUE  0.0        0.0        0.0        0.0        0.0      \n",
       "CNT_CREDIT_PROLONG      0.0        0.0        0.0        0.0        0.0      \n",
       "CREDIT_DAY_OVERDUE      0.0        0.0        0.0        0.0        0.0      \n",
       "DAYS_CREDIT            -497.0     -208.0     -203.0     -203.0     -629.0    \n",
       "DAYS_CREDIT_UPDATE     -131.0     -20.0      -16.0      -16.0      -21.0     \n",
       "SK_ID_BUREAU            5714462.0  5714463.0  5714464.0  5714465.0  5714466.0\n",
       "SK_ID_CURR              215354.0   215354.0   215354.0   215354.0   215354.0 "
      ]
     },
     "execution_count": 19,
     "metadata": {},
     "output_type": "execute_result"
    }
   ],
   "source": [
    "data_dict[dataset_names[name_number]][datasets_num_features[dataset_names[name_number]]].head().T # bureau"
   ]
  },
  {
   "cell_type": "code",
   "execution_count": 20,
   "metadata": {},
   "outputs": [],
   "source": [
    "name_number = 3"
   ]
  },
  {
   "cell_type": "code",
   "execution_count": 21,
   "metadata": {},
   "outputs": [
    {
     "data": {
      "text/html": [
       "<div>\n",
       "<style scoped>\n",
       "    .dataframe tbody tr th:only-of-type {\n",
       "        vertical-align: middle;\n",
       "    }\n",
       "\n",
       "    .dataframe tbody tr th {\n",
       "        vertical-align: top;\n",
       "    }\n",
       "\n",
       "    .dataframe thead th {\n",
       "        text-align: right;\n",
       "    }\n",
       "</style>\n",
       "<table border=\"1\" class=\"dataframe\">\n",
       "  <thead>\n",
       "    <tr style=\"text-align: right;\">\n",
       "      <th></th>\n",
       "      <th>0</th>\n",
       "      <th>1</th>\n",
       "      <th>2</th>\n",
       "      <th>3</th>\n",
       "      <th>4</th>\n",
       "    </tr>\n",
       "  </thead>\n",
       "  <tbody>\n",
       "    <tr>\n",
       "      <th>MONTHS_BALANCE</th>\n",
       "      <td>0</td>\n",
       "      <td>-1</td>\n",
       "      <td>-2</td>\n",
       "      <td>-3</td>\n",
       "      <td>-4</td>\n",
       "    </tr>\n",
       "    <tr>\n",
       "      <th>SK_ID_BUREAU</th>\n",
       "      <td>5715448</td>\n",
       "      <td>5715448</td>\n",
       "      <td>5715448</td>\n",
       "      <td>5715448</td>\n",
       "      <td>5715448</td>\n",
       "    </tr>\n",
       "  </tbody>\n",
       "</table>\n",
       "</div>"
      ],
      "text/plain": [
       "                      0        1        2        3        4\n",
       "MONTHS_BALANCE  0       -1       -2       -3       -4      \n",
       "SK_ID_BUREAU    5715448  5715448  5715448  5715448  5715448"
      ]
     },
     "execution_count": 21,
     "metadata": {},
     "output_type": "execute_result"
    }
   ],
   "source": [
    "data_dict[dataset_names[name_number]][datasets_num_features[dataset_names[name_number]]].head().T # bureau_balance"
   ]
  },
  {
   "cell_type": "code",
   "execution_count": 22,
   "metadata": {},
   "outputs": [],
   "source": [
    "name_number = 4"
   ]
  },
  {
   "cell_type": "code",
   "execution_count": 23,
   "metadata": {},
   "outputs": [
    {
     "data": {
      "text/html": [
       "<div>\n",
       "<style scoped>\n",
       "    .dataframe tbody tr th:only-of-type {\n",
       "        vertical-align: middle;\n",
       "    }\n",
       "\n",
       "    .dataframe tbody tr th {\n",
       "        vertical-align: top;\n",
       "    }\n",
       "\n",
       "    .dataframe thead th {\n",
       "        text-align: right;\n",
       "    }\n",
       "</style>\n",
       "<table border=\"1\" class=\"dataframe\">\n",
       "  <thead>\n",
       "    <tr style=\"text-align: right;\">\n",
       "      <th></th>\n",
       "      <th>0</th>\n",
       "      <th>1</th>\n",
       "      <th>2</th>\n",
       "      <th>3</th>\n",
       "      <th>4</th>\n",
       "    </tr>\n",
       "  </thead>\n",
       "  <tbody>\n",
       "    <tr>\n",
       "      <th>AMT_BALANCE</th>\n",
       "      <td>56.97</td>\n",
       "      <td>63975.555</td>\n",
       "      <td>31815.225</td>\n",
       "      <td>236572.11</td>\n",
       "      <td>453919.455</td>\n",
       "    </tr>\n",
       "    <tr>\n",
       "      <th>AMT_CREDIT_LIMIT_ACTUAL</th>\n",
       "      <td>135000.00</td>\n",
       "      <td>45000.000</td>\n",
       "      <td>450000.000</td>\n",
       "      <td>225000.00</td>\n",
       "      <td>450000.000</td>\n",
       "    </tr>\n",
       "    <tr>\n",
       "      <th>AMT_DRAWINGS_CURRENT</th>\n",
       "      <td>877.50</td>\n",
       "      <td>2250.000</td>\n",
       "      <td>0.000</td>\n",
       "      <td>2250.00</td>\n",
       "      <td>11547.000</td>\n",
       "    </tr>\n",
       "    <tr>\n",
       "      <th>CNT_DRAWINGS_CURRENT</th>\n",
       "      <td>1.00</td>\n",
       "      <td>1.000</td>\n",
       "      <td>0.000</td>\n",
       "      <td>1.00</td>\n",
       "      <td>1.000</td>\n",
       "    </tr>\n",
       "    <tr>\n",
       "      <th>MONTHS_BALANCE</th>\n",
       "      <td>-6.00</td>\n",
       "      <td>-1.000</td>\n",
       "      <td>-7.000</td>\n",
       "      <td>-4.00</td>\n",
       "      <td>-1.000</td>\n",
       "    </tr>\n",
       "    <tr>\n",
       "      <th>SK_DPD</th>\n",
       "      <td>0.00</td>\n",
       "      <td>0.000</td>\n",
       "      <td>0.000</td>\n",
       "      <td>0.00</td>\n",
       "      <td>0.000</td>\n",
       "    </tr>\n",
       "    <tr>\n",
       "      <th>SK_DPD_DEF</th>\n",
       "      <td>0.00</td>\n",
       "      <td>0.000</td>\n",
       "      <td>0.000</td>\n",
       "      <td>0.00</td>\n",
       "      <td>0.000</td>\n",
       "    </tr>\n",
       "    <tr>\n",
       "      <th>SK_ID_CURR</th>\n",
       "      <td>378907.00</td>\n",
       "      <td>363914.000</td>\n",
       "      <td>371185.000</td>\n",
       "      <td>337855.00</td>\n",
       "      <td>126868.000</td>\n",
       "    </tr>\n",
       "    <tr>\n",
       "      <th>SK_ID_PREV</th>\n",
       "      <td>2562384.00</td>\n",
       "      <td>2582071.000</td>\n",
       "      <td>1740877.000</td>\n",
       "      <td>1389973.00</td>\n",
       "      <td>1891521.000</td>\n",
       "    </tr>\n",
       "  </tbody>\n",
       "</table>\n",
       "</div>"
      ],
      "text/plain": [
       "                                  0            1            2           3  \\\n",
       "AMT_BALANCE              56.97       63975.555    31815.225    236572.11    \n",
       "AMT_CREDIT_LIMIT_ACTUAL  135000.00   45000.000    450000.000   225000.00    \n",
       "AMT_DRAWINGS_CURRENT     877.50      2250.000     0.000        2250.00      \n",
       "CNT_DRAWINGS_CURRENT     1.00        1.000        0.000        1.00         \n",
       "MONTHS_BALANCE          -6.00       -1.000       -7.000       -4.00         \n",
       "SK_DPD                   0.00        0.000        0.000        0.00         \n",
       "SK_DPD_DEF               0.00        0.000        0.000        0.00         \n",
       "SK_ID_CURR               378907.00   363914.000   371185.000   337855.00    \n",
       "SK_ID_PREV               2562384.00  2582071.000  1740877.000  1389973.00   \n",
       "\n",
       "                                   4  \n",
       "AMT_BALANCE              453919.455   \n",
       "AMT_CREDIT_LIMIT_ACTUAL  450000.000   \n",
       "AMT_DRAWINGS_CURRENT     11547.000    \n",
       "CNT_DRAWINGS_CURRENT     1.000        \n",
       "MONTHS_BALANCE          -1.000        \n",
       "SK_DPD                   0.000        \n",
       "SK_DPD_DEF               0.000        \n",
       "SK_ID_CURR               126868.000   \n",
       "SK_ID_PREV               1891521.000  "
      ]
     },
     "execution_count": 23,
     "metadata": {},
     "output_type": "execute_result"
    }
   ],
   "source": [
    "data_dict[dataset_names[name_number]][datasets_num_features[dataset_names[name_number]]].head().T # credit_card_balance"
   ]
  },
  {
   "cell_type": "code",
   "execution_count": 24,
   "metadata": {},
   "outputs": [],
   "source": [
    "name_number = 5"
   ]
  },
  {
   "cell_type": "code",
   "execution_count": 25,
   "metadata": {},
   "outputs": [
    {
     "data": {
      "text/html": [
       "<div>\n",
       "<style scoped>\n",
       "    .dataframe tbody tr th:only-of-type {\n",
       "        vertical-align: middle;\n",
       "    }\n",
       "\n",
       "    .dataframe tbody tr th {\n",
       "        vertical-align: top;\n",
       "    }\n",
       "\n",
       "    .dataframe thead th {\n",
       "        text-align: right;\n",
       "    }\n",
       "</style>\n",
       "<table border=\"1\" class=\"dataframe\">\n",
       "  <thead>\n",
       "    <tr style=\"text-align: right;\">\n",
       "      <th></th>\n",
       "      <th>0</th>\n",
       "      <th>1</th>\n",
       "      <th>2</th>\n",
       "      <th>3</th>\n",
       "      <th>4</th>\n",
       "    </tr>\n",
       "  </thead>\n",
       "  <tbody>\n",
       "    <tr>\n",
       "      <th>AMT_INSTALMENT</th>\n",
       "      <td>6948.36</td>\n",
       "      <td>1716.525</td>\n",
       "      <td>25425.0</td>\n",
       "      <td>24350.13</td>\n",
       "      <td>2165.04</td>\n",
       "    </tr>\n",
       "    <tr>\n",
       "      <th>DAYS_INSTALMENT</th>\n",
       "      <td>-1180.00</td>\n",
       "      <td>-2156.000</td>\n",
       "      <td>-63.0</td>\n",
       "      <td>-2418.00</td>\n",
       "      <td>-1383.00</td>\n",
       "    </tr>\n",
       "    <tr>\n",
       "      <th>NUM_INSTALMENT_NUMBER</th>\n",
       "      <td>6.00</td>\n",
       "      <td>34.000</td>\n",
       "      <td>1.0</td>\n",
       "      <td>3.00</td>\n",
       "      <td>2.00</td>\n",
       "    </tr>\n",
       "    <tr>\n",
       "      <th>NUM_INSTALMENT_VERSION</th>\n",
       "      <td>1.00</td>\n",
       "      <td>0.000</td>\n",
       "      <td>2.0</td>\n",
       "      <td>1.00</td>\n",
       "      <td>1.00</td>\n",
       "    </tr>\n",
       "    <tr>\n",
       "      <th>SK_ID_CURR</th>\n",
       "      <td>161674.00</td>\n",
       "      <td>151639.000</td>\n",
       "      <td>193053.0</td>\n",
       "      <td>199697.00</td>\n",
       "      <td>167756.00</td>\n",
       "    </tr>\n",
       "    <tr>\n",
       "      <th>SK_ID_PREV</th>\n",
       "      <td>1054186.00</td>\n",
       "      <td>1330831.000</td>\n",
       "      <td>2085231.0</td>\n",
       "      <td>2452527.00</td>\n",
       "      <td>2714724.00</td>\n",
       "    </tr>\n",
       "  </tbody>\n",
       "</table>\n",
       "</div>"
      ],
      "text/plain": [
       "                                 0            1          2           3  \\\n",
       "AMT_INSTALMENT          6948.36     1716.525     25425.0    24350.13     \n",
       "DAYS_INSTALMENT        -1180.00    -2156.000    -63.0      -2418.00      \n",
       "NUM_INSTALMENT_NUMBER   6.00        34.000       1.0        3.00         \n",
       "NUM_INSTALMENT_VERSION  1.00        0.000        2.0        1.00         \n",
       "SK_ID_CURR              161674.00   151639.000   193053.0   199697.00    \n",
       "SK_ID_PREV              1054186.00  1330831.000  2085231.0  2452527.00   \n",
       "\n",
       "                                 4  \n",
       "AMT_INSTALMENT          2165.04     \n",
       "DAYS_INSTALMENT        -1383.00     \n",
       "NUM_INSTALMENT_NUMBER   2.00        \n",
       "NUM_INSTALMENT_VERSION  1.00        \n",
       "SK_ID_CURR              167756.00   \n",
       "SK_ID_PREV              2714724.00  "
      ]
     },
     "execution_count": 25,
     "metadata": {},
     "output_type": "execute_result"
    }
   ],
   "source": [
    "data_dict[dataset_names[name_number]][datasets_num_features[dataset_names[name_number]]].head().T # installments_payments"
   ]
  },
  {
   "cell_type": "code",
   "execution_count": 26,
   "metadata": {},
   "outputs": [],
   "source": [
    "name_number = 6"
   ]
  },
  {
   "cell_type": "code",
   "execution_count": 27,
   "metadata": {
    "scrolled": true
   },
   "outputs": [
    {
     "data": {
      "text/html": [
       "<div>\n",
       "<style scoped>\n",
       "    .dataframe tbody tr th:only-of-type {\n",
       "        vertical-align: middle;\n",
       "    }\n",
       "\n",
       "    .dataframe tbody tr th {\n",
       "        vertical-align: top;\n",
       "    }\n",
       "\n",
       "    .dataframe thead th {\n",
       "        text-align: right;\n",
       "    }\n",
       "</style>\n",
       "<table border=\"1\" class=\"dataframe\">\n",
       "  <thead>\n",
       "    <tr style=\"text-align: right;\">\n",
       "      <th></th>\n",
       "      <th>0</th>\n",
       "      <th>1</th>\n",
       "      <th>2</th>\n",
       "      <th>3</th>\n",
       "      <th>4</th>\n",
       "    </tr>\n",
       "  </thead>\n",
       "  <tbody>\n",
       "    <tr>\n",
       "      <th>MONTHS_BALANCE</th>\n",
       "      <td>-31</td>\n",
       "      <td>-33</td>\n",
       "      <td>-32</td>\n",
       "      <td>-35</td>\n",
       "      <td>-35</td>\n",
       "    </tr>\n",
       "    <tr>\n",
       "      <th>SK_DPD</th>\n",
       "      <td>0</td>\n",
       "      <td>0</td>\n",
       "      <td>0</td>\n",
       "      <td>0</td>\n",
       "      <td>0</td>\n",
       "    </tr>\n",
       "    <tr>\n",
       "      <th>SK_DPD_DEF</th>\n",
       "      <td>0</td>\n",
       "      <td>0</td>\n",
       "      <td>0</td>\n",
       "      <td>0</td>\n",
       "      <td>0</td>\n",
       "    </tr>\n",
       "    <tr>\n",
       "      <th>SK_ID_CURR</th>\n",
       "      <td>182943</td>\n",
       "      <td>367990</td>\n",
       "      <td>397406</td>\n",
       "      <td>269225</td>\n",
       "      <td>334279</td>\n",
       "    </tr>\n",
       "    <tr>\n",
       "      <th>SK_ID_PREV</th>\n",
       "      <td>1803195</td>\n",
       "      <td>1715348</td>\n",
       "      <td>1784872</td>\n",
       "      <td>1903291</td>\n",
       "      <td>2341044</td>\n",
       "    </tr>\n",
       "  </tbody>\n",
       "</table>\n",
       "</div>"
      ],
      "text/plain": [
       "                      0        1        2        3        4\n",
       "MONTHS_BALANCE -31      -33      -32      -35      -35     \n",
       "SK_DPD          0        0        0        0        0      \n",
       "SK_DPD_DEF      0        0        0        0        0      \n",
       "SK_ID_CURR      182943   367990   397406   269225   334279 \n",
       "SK_ID_PREV      1803195  1715348  1784872  1903291  2341044"
      ]
     },
     "execution_count": 27,
     "metadata": {},
     "output_type": "execute_result"
    }
   ],
   "source": [
    "data_dict[dataset_names[name_number]][datasets_num_features[dataset_names[name_number]]].head().T # POS_CASH_balance"
   ]
  },
  {
   "cell_type": "code",
   "execution_count": 28,
   "metadata": {},
   "outputs": [],
   "source": [
    "name_number = 7"
   ]
  },
  {
   "cell_type": "code",
   "execution_count": 29,
   "metadata": {
    "scrolled": true
   },
   "outputs": [
    {
     "data": {
      "text/html": [
       "<div>\n",
       "<style scoped>\n",
       "    .dataframe tbody tr th:only-of-type {\n",
       "        vertical-align: middle;\n",
       "    }\n",
       "\n",
       "    .dataframe tbody tr th {\n",
       "        vertical-align: top;\n",
       "    }\n",
       "\n",
       "    .dataframe thead th {\n",
       "        text-align: right;\n",
       "    }\n",
       "</style>\n",
       "<table border=\"1\" class=\"dataframe\">\n",
       "  <thead>\n",
       "    <tr style=\"text-align: right;\">\n",
       "      <th></th>\n",
       "      <th>0</th>\n",
       "      <th>1</th>\n",
       "      <th>2</th>\n",
       "      <th>3</th>\n",
       "      <th>4</th>\n",
       "    </tr>\n",
       "  </thead>\n",
       "  <tbody>\n",
       "    <tr>\n",
       "      <th>AMT_APPLICATION</th>\n",
       "      <td>17145.0</td>\n",
       "      <td>607500.0</td>\n",
       "      <td>112500.0</td>\n",
       "      <td>450000.0</td>\n",
       "      <td>337500.0</td>\n",
       "    </tr>\n",
       "    <tr>\n",
       "      <th>DAYS_DECISION</th>\n",
       "      <td>-73.0</td>\n",
       "      <td>-164.0</td>\n",
       "      <td>-301.0</td>\n",
       "      <td>-512.0</td>\n",
       "      <td>-781.0</td>\n",
       "    </tr>\n",
       "    <tr>\n",
       "      <th>HOUR_APPR_PROCESS_START</th>\n",
       "      <td>15.0</td>\n",
       "      <td>11.0</td>\n",
       "      <td>11.0</td>\n",
       "      <td>7.0</td>\n",
       "      <td>9.0</td>\n",
       "    </tr>\n",
       "    <tr>\n",
       "      <th>SELLERPLACE_AREA</th>\n",
       "      <td>35.0</td>\n",
       "      <td>-1.0</td>\n",
       "      <td>-1.0</td>\n",
       "      <td>-1.0</td>\n",
       "      <td>-1.0</td>\n",
       "    </tr>\n",
       "    <tr>\n",
       "      <th>SK_ID_CURR</th>\n",
       "      <td>271877.0</td>\n",
       "      <td>108129.0</td>\n",
       "      <td>122040.0</td>\n",
       "      <td>176158.0</td>\n",
       "      <td>202054.0</td>\n",
       "    </tr>\n",
       "    <tr>\n",
       "      <th>SK_ID_PREV</th>\n",
       "      <td>2030495.0</td>\n",
       "      <td>2802425.0</td>\n",
       "      <td>2523466.0</td>\n",
       "      <td>2819243.0</td>\n",
       "      <td>1784265.0</td>\n",
       "    </tr>\n",
       "  </tbody>\n",
       "</table>\n",
       "</div>"
      ],
      "text/plain": [
       "                                 0          1          2          3          4\n",
       "AMT_APPLICATION          17145.0    607500.0   112500.0   450000.0   337500.0 \n",
       "DAYS_DECISION           -73.0      -164.0     -301.0     -512.0     -781.0    \n",
       "HOUR_APPR_PROCESS_START  15.0       11.0       11.0       7.0        9.0      \n",
       "SELLERPLACE_AREA         35.0      -1.0       -1.0       -1.0       -1.0      \n",
       "SK_ID_CURR               271877.0   108129.0   122040.0   176158.0   202054.0 \n",
       "SK_ID_PREV               2030495.0  2802425.0  2523466.0  2819243.0  1784265.0"
      ]
     },
     "execution_count": 29,
     "metadata": {},
     "output_type": "execute_result"
    }
   ],
   "source": [
    "data_dict[dataset_names[name_number]][datasets_num_features[dataset_names[name_number]]].head().T # previous_application"
   ]
  },
  {
   "cell_type": "code",
   "execution_count": 30,
   "metadata": {},
   "outputs": [],
   "source": [
    "name_number = 8"
   ]
  },
  {
   "cell_type": "code",
   "execution_count": 31,
   "metadata": {},
   "outputs": [
    {
     "data": {
      "text/html": [
       "<div>\n",
       "<style scoped>\n",
       "    .dataframe tbody tr th:only-of-type {\n",
       "        vertical-align: middle;\n",
       "    }\n",
       "\n",
       "    .dataframe tbody tr th {\n",
       "        vertical-align: top;\n",
       "    }\n",
       "\n",
       "    .dataframe thead th {\n",
       "        text-align: right;\n",
       "    }\n",
       "</style>\n",
       "<table border=\"1\" class=\"dataframe\">\n",
       "  <thead>\n",
       "    <tr style=\"text-align: right;\">\n",
       "      <th></th>\n",
       "      <th>0</th>\n",
       "      <th>1</th>\n",
       "      <th>2</th>\n",
       "      <th>3</th>\n",
       "      <th>4</th>\n",
       "    </tr>\n",
       "  </thead>\n",
       "  <tbody>\n",
       "    <tr>\n",
       "      <th>SK_ID_CURR</th>\n",
       "      <td>100001</td>\n",
       "      <td>100005</td>\n",
       "      <td>100013</td>\n",
       "      <td>100028</td>\n",
       "      <td>100038</td>\n",
       "    </tr>\n",
       "  </tbody>\n",
       "</table>\n",
       "</div>"
      ],
      "text/plain": [
       "                 0       1       2       3       4\n",
       "SK_ID_CURR  100001  100005  100013  100028  100038"
      ]
     },
     "execution_count": 31,
     "metadata": {},
     "output_type": "execute_result"
    }
   ],
   "source": [
    "data_dict[dataset_names[name_number]][datasets_num_features[dataset_names[name_number]]].head().T # sample_submission"
   ]
  },
  {
   "cell_type": "markdown",
   "metadata": {},
   "source": [
    "## Categorical columns"
   ]
  },
  {
   "cell_type": "code",
   "execution_count": 32,
   "metadata": {},
   "outputs": [],
   "source": [
    "name_number = 0"
   ]
  },
  {
   "cell_type": "code",
   "execution_count": 33,
   "metadata": {
    "scrolled": false
   },
   "outputs": [
    {
     "data": {
      "text/html": [
       "<div>\n",
       "<style scoped>\n",
       "    .dataframe tbody tr th:only-of-type {\n",
       "        vertical-align: middle;\n",
       "    }\n",
       "\n",
       "    .dataframe tbody tr th {\n",
       "        vertical-align: top;\n",
       "    }\n",
       "\n",
       "    .dataframe thead th {\n",
       "        text-align: right;\n",
       "    }\n",
       "</style>\n",
       "<table border=\"1\" class=\"dataframe\">\n",
       "  <thead>\n",
       "    <tr style=\"text-align: right;\">\n",
       "      <th></th>\n",
       "      <th>0</th>\n",
       "      <th>1</th>\n",
       "      <th>2</th>\n",
       "      <th>3</th>\n",
       "      <th>4</th>\n",
       "    </tr>\n",
       "  </thead>\n",
       "  <tbody>\n",
       "    <tr>\n",
       "      <th>NAME_EDUCATION_TYPE</th>\n",
       "      <td>Secondary / secondary special</td>\n",
       "      <td>Higher education</td>\n",
       "      <td>Secondary / secondary special</td>\n",
       "      <td>Secondary / secondary special</td>\n",
       "      <td>Secondary / secondary special</td>\n",
       "    </tr>\n",
       "    <tr>\n",
       "      <th>NAME_FAMILY_STATUS</th>\n",
       "      <td>Single / not married</td>\n",
       "      <td>Married</td>\n",
       "      <td>Single / not married</td>\n",
       "      <td>Civil marriage</td>\n",
       "      <td>Single / not married</td>\n",
       "    </tr>\n",
       "    <tr>\n",
       "      <th>NAME_HOUSING_TYPE</th>\n",
       "      <td>House / apartment</td>\n",
       "      <td>House / apartment</td>\n",
       "      <td>House / apartment</td>\n",
       "      <td>House / apartment</td>\n",
       "      <td>House / apartment</td>\n",
       "    </tr>\n",
       "    <tr>\n",
       "      <th>NAME_INCOME_TYPE</th>\n",
       "      <td>Working</td>\n",
       "      <td>State servant</td>\n",
       "      <td>Working</td>\n",
       "      <td>Working</td>\n",
       "      <td>Working</td>\n",
       "    </tr>\n",
       "    <tr>\n",
       "      <th>ORGANIZATION_TYPE</th>\n",
       "      <td>Business Entity Type 3</td>\n",
       "      <td>School</td>\n",
       "      <td>Government</td>\n",
       "      <td>Business Entity Type 3</td>\n",
       "      <td>Religion</td>\n",
       "    </tr>\n",
       "    <tr>\n",
       "      <th>WEEKDAY_APPR_PROCESS_START</th>\n",
       "      <td>WEDNESDAY</td>\n",
       "      <td>MONDAY</td>\n",
       "      <td>MONDAY</td>\n",
       "      <td>WEDNESDAY</td>\n",
       "      <td>THURSDAY</td>\n",
       "    </tr>\n",
       "  </tbody>\n",
       "</table>\n",
       "</div>"
      ],
      "text/plain": [
       "                                                        0                  1  \\\n",
       "NAME_EDUCATION_TYPE         Secondary / secondary special  Higher education    \n",
       "NAME_FAMILY_STATUS          Single / not married           Married             \n",
       "NAME_HOUSING_TYPE           House / apartment              House / apartment   \n",
       "NAME_INCOME_TYPE            Working                        State servant       \n",
       "ORGANIZATION_TYPE           Business Entity Type 3         School              \n",
       "WEEKDAY_APPR_PROCESS_START  WEDNESDAY                      MONDAY              \n",
       "\n",
       "                                                        2  \\\n",
       "NAME_EDUCATION_TYPE         Secondary / secondary special   \n",
       "NAME_FAMILY_STATUS          Single / not married            \n",
       "NAME_HOUSING_TYPE           House / apartment               \n",
       "NAME_INCOME_TYPE            Working                         \n",
       "ORGANIZATION_TYPE           Government                      \n",
       "WEEKDAY_APPR_PROCESS_START  MONDAY                          \n",
       "\n",
       "                                                        3  \\\n",
       "NAME_EDUCATION_TYPE         Secondary / secondary special   \n",
       "NAME_FAMILY_STATUS          Civil marriage                  \n",
       "NAME_HOUSING_TYPE           House / apartment               \n",
       "NAME_INCOME_TYPE            Working                         \n",
       "ORGANIZATION_TYPE           Business Entity Type 3          \n",
       "WEEKDAY_APPR_PROCESS_START  WEDNESDAY                       \n",
       "\n",
       "                                                        4  \n",
       "NAME_EDUCATION_TYPE         Secondary / secondary special  \n",
       "NAME_FAMILY_STATUS          Single / not married           \n",
       "NAME_HOUSING_TYPE           House / apartment              \n",
       "NAME_INCOME_TYPE            Working                        \n",
       "ORGANIZATION_TYPE           Religion                       \n",
       "WEEKDAY_APPR_PROCESS_START  THURSDAY                       "
      ]
     },
     "execution_count": 33,
     "metadata": {},
     "output_type": "execute_result"
    }
   ],
   "source": [
    "data_dict[dataset_names[name_number]][datasets_cat_features[dataset_names[name_number]]].head().T # application_train"
   ]
  },
  {
   "cell_type": "code",
   "execution_count": 34,
   "metadata": {},
   "outputs": [],
   "source": [
    "name_number = 1"
   ]
  },
  {
   "cell_type": "code",
   "execution_count": 35,
   "metadata": {
    "scrolled": false
   },
   "outputs": [
    {
     "data": {
      "text/html": [
       "<div>\n",
       "<style scoped>\n",
       "    .dataframe tbody tr th:only-of-type {\n",
       "        vertical-align: middle;\n",
       "    }\n",
       "\n",
       "    .dataframe tbody tr th {\n",
       "        vertical-align: top;\n",
       "    }\n",
       "\n",
       "    .dataframe thead th {\n",
       "        text-align: right;\n",
       "    }\n",
       "</style>\n",
       "<table border=\"1\" class=\"dataframe\">\n",
       "  <thead>\n",
       "    <tr style=\"text-align: right;\">\n",
       "      <th></th>\n",
       "      <th>0</th>\n",
       "      <th>1</th>\n",
       "      <th>2</th>\n",
       "      <th>3</th>\n",
       "      <th>4</th>\n",
       "    </tr>\n",
       "  </thead>\n",
       "  <tbody>\n",
       "    <tr>\n",
       "      <th>NAME_EDUCATION_TYPE</th>\n",
       "      <td>Higher education</td>\n",
       "      <td>Secondary / secondary special</td>\n",
       "      <td>Higher education</td>\n",
       "      <td>Secondary / secondary special</td>\n",
       "      <td>Secondary / secondary special</td>\n",
       "    </tr>\n",
       "    <tr>\n",
       "      <th>NAME_FAMILY_STATUS</th>\n",
       "      <td>Married</td>\n",
       "      <td>Married</td>\n",
       "      <td>Married</td>\n",
       "      <td>Married</td>\n",
       "      <td>Married</td>\n",
       "    </tr>\n",
       "    <tr>\n",
       "      <th>NAME_HOUSING_TYPE</th>\n",
       "      <td>House / apartment</td>\n",
       "      <td>House / apartment</td>\n",
       "      <td>House / apartment</td>\n",
       "      <td>House / apartment</td>\n",
       "      <td>House / apartment</td>\n",
       "    </tr>\n",
       "    <tr>\n",
       "      <th>NAME_INCOME_TYPE</th>\n",
       "      <td>Working</td>\n",
       "      <td>Working</td>\n",
       "      <td>Working</td>\n",
       "      <td>Working</td>\n",
       "      <td>Working</td>\n",
       "    </tr>\n",
       "    <tr>\n",
       "      <th>ORGANIZATION_TYPE</th>\n",
       "      <td>Kindergarten</td>\n",
       "      <td>Self-employed</td>\n",
       "      <td>Transport: type 3</td>\n",
       "      <td>Business Entity Type 3</td>\n",
       "      <td>Business Entity Type 3</td>\n",
       "    </tr>\n",
       "    <tr>\n",
       "      <th>WEEKDAY_APPR_PROCESS_START</th>\n",
       "      <td>TUESDAY</td>\n",
       "      <td>FRIDAY</td>\n",
       "      <td>MONDAY</td>\n",
       "      <td>WEDNESDAY</td>\n",
       "      <td>FRIDAY</td>\n",
       "    </tr>\n",
       "  </tbody>\n",
       "</table>\n",
       "</div>"
      ],
      "text/plain": [
       "                                            0                              1  \\\n",
       "NAME_EDUCATION_TYPE         Higher education   Secondary / secondary special   \n",
       "NAME_FAMILY_STATUS          Married            Married                         \n",
       "NAME_HOUSING_TYPE           House / apartment  House / apartment               \n",
       "NAME_INCOME_TYPE            Working            Working                         \n",
       "ORGANIZATION_TYPE           Kindergarten       Self-employed                   \n",
       "WEEKDAY_APPR_PROCESS_START  TUESDAY            FRIDAY                          \n",
       "\n",
       "                                            2                              3  \\\n",
       "NAME_EDUCATION_TYPE         Higher education   Secondary / secondary special   \n",
       "NAME_FAMILY_STATUS          Married            Married                         \n",
       "NAME_HOUSING_TYPE           House / apartment  House / apartment               \n",
       "NAME_INCOME_TYPE            Working            Working                         \n",
       "ORGANIZATION_TYPE           Transport: type 3  Business Entity Type 3          \n",
       "WEEKDAY_APPR_PROCESS_START  MONDAY             WEDNESDAY                       \n",
       "\n",
       "                                                        4  \n",
       "NAME_EDUCATION_TYPE         Secondary / secondary special  \n",
       "NAME_FAMILY_STATUS          Married                        \n",
       "NAME_HOUSING_TYPE           House / apartment              \n",
       "NAME_INCOME_TYPE            Working                        \n",
       "ORGANIZATION_TYPE           Business Entity Type 3         \n",
       "WEEKDAY_APPR_PROCESS_START  FRIDAY                         "
      ]
     },
     "execution_count": 35,
     "metadata": {},
     "output_type": "execute_result"
    }
   ],
   "source": [
    "data_dict[dataset_names[name_number]][datasets_cat_features[dataset_names[name_number]]].head().T # application_test"
   ]
  },
  {
   "cell_type": "code",
   "execution_count": 36,
   "metadata": {},
   "outputs": [],
   "source": [
    "name_number = 2"
   ]
  },
  {
   "cell_type": "code",
   "execution_count": 37,
   "metadata": {
    "scrolled": false
   },
   "outputs": [
    {
     "data": {
      "text/html": [
       "<div>\n",
       "<style scoped>\n",
       "    .dataframe tbody tr th:only-of-type {\n",
       "        vertical-align: middle;\n",
       "    }\n",
       "\n",
       "    .dataframe tbody tr th {\n",
       "        vertical-align: top;\n",
       "    }\n",
       "\n",
       "    .dataframe thead th {\n",
       "        text-align: right;\n",
       "    }\n",
       "</style>\n",
       "<table border=\"1\" class=\"dataframe\">\n",
       "  <thead>\n",
       "    <tr style=\"text-align: right;\">\n",
       "      <th></th>\n",
       "      <th>0</th>\n",
       "      <th>1</th>\n",
       "      <th>2</th>\n",
       "      <th>3</th>\n",
       "      <th>4</th>\n",
       "    </tr>\n",
       "  </thead>\n",
       "  <tbody>\n",
       "    <tr>\n",
       "      <th>CREDIT_ACTIVE</th>\n",
       "      <td>Closed</td>\n",
       "      <td>Active</td>\n",
       "      <td>Active</td>\n",
       "      <td>Active</td>\n",
       "      <td>Active</td>\n",
       "    </tr>\n",
       "    <tr>\n",
       "      <th>CREDIT_CURRENCY</th>\n",
       "      <td>currency 1</td>\n",
       "      <td>currency 1</td>\n",
       "      <td>currency 1</td>\n",
       "      <td>currency 1</td>\n",
       "      <td>currency 1</td>\n",
       "    </tr>\n",
       "    <tr>\n",
       "      <th>CREDIT_TYPE</th>\n",
       "      <td>Consumer credit</td>\n",
       "      <td>Credit card</td>\n",
       "      <td>Consumer credit</td>\n",
       "      <td>Credit card</td>\n",
       "      <td>Consumer credit</td>\n",
       "    </tr>\n",
       "  </tbody>\n",
       "</table>\n",
       "</div>"
      ],
      "text/plain": [
       "                               0            1                2            3  \\\n",
       "CREDIT_ACTIVE    Closed           Active       Active           Active        \n",
       "CREDIT_CURRENCY  currency 1       currency 1   currency 1       currency 1    \n",
       "CREDIT_TYPE      Consumer credit  Credit card  Consumer credit  Credit card   \n",
       "\n",
       "                               4  \n",
       "CREDIT_ACTIVE    Active           \n",
       "CREDIT_CURRENCY  currency 1       \n",
       "CREDIT_TYPE      Consumer credit  "
      ]
     },
     "execution_count": 37,
     "metadata": {},
     "output_type": "execute_result"
    }
   ],
   "source": [
    "data_dict[dataset_names[name_number]][datasets_cat_features[dataset_names[name_number]]].head().T # bureau"
   ]
  },
  {
   "cell_type": "code",
   "execution_count": 38,
   "metadata": {},
   "outputs": [],
   "source": [
    "name_number = 3"
   ]
  },
  {
   "cell_type": "code",
   "execution_count": 39,
   "metadata": {},
   "outputs": [
    {
     "data": {
      "text/html": [
       "<div>\n",
       "<style scoped>\n",
       "    .dataframe tbody tr th:only-of-type {\n",
       "        vertical-align: middle;\n",
       "    }\n",
       "\n",
       "    .dataframe tbody tr th {\n",
       "        vertical-align: top;\n",
       "    }\n",
       "\n",
       "    .dataframe thead th {\n",
       "        text-align: right;\n",
       "    }\n",
       "</style>\n",
       "<table border=\"1\" class=\"dataframe\">\n",
       "  <thead>\n",
       "    <tr style=\"text-align: right;\">\n",
       "      <th></th>\n",
       "      <th>0</th>\n",
       "      <th>1</th>\n",
       "      <th>2</th>\n",
       "      <th>3</th>\n",
       "      <th>4</th>\n",
       "    </tr>\n",
       "  </thead>\n",
       "  <tbody>\n",
       "    <tr>\n",
       "      <th>STATUS</th>\n",
       "      <td>C</td>\n",
       "      <td>C</td>\n",
       "      <td>C</td>\n",
       "      <td>C</td>\n",
       "      <td>C</td>\n",
       "    </tr>\n",
       "  </tbody>\n",
       "</table>\n",
       "</div>"
      ],
      "text/plain": [
       "        0  1  2  3  4\n",
       "STATUS  C  C  C  C  C"
      ]
     },
     "execution_count": 39,
     "metadata": {},
     "output_type": "execute_result"
    }
   ],
   "source": [
    "data_dict[dataset_names[name_number]][datasets_cat_features[dataset_names[name_number]]].head().T # bureau_balance"
   ]
  },
  {
   "cell_type": "code",
   "execution_count": 40,
   "metadata": {},
   "outputs": [],
   "source": [
    "name_number = 4"
   ]
  },
  {
   "cell_type": "code",
   "execution_count": 41,
   "metadata": {},
   "outputs": [
    {
     "data": {
      "text/html": [
       "<div>\n",
       "<style scoped>\n",
       "    .dataframe tbody tr th:only-of-type {\n",
       "        vertical-align: middle;\n",
       "    }\n",
       "\n",
       "    .dataframe tbody tr th {\n",
       "        vertical-align: top;\n",
       "    }\n",
       "\n",
       "    .dataframe thead th {\n",
       "        text-align: right;\n",
       "    }\n",
       "</style>\n",
       "<table border=\"1\" class=\"dataframe\">\n",
       "  <thead>\n",
       "    <tr style=\"text-align: right;\">\n",
       "      <th></th>\n",
       "      <th>0</th>\n",
       "      <th>1</th>\n",
       "      <th>2</th>\n",
       "      <th>3</th>\n",
       "      <th>4</th>\n",
       "    </tr>\n",
       "  </thead>\n",
       "  <tbody>\n",
       "    <tr>\n",
       "      <th>NAME_CONTRACT_STATUS</th>\n",
       "      <td>Active</td>\n",
       "      <td>Active</td>\n",
       "      <td>Active</td>\n",
       "      <td>Active</td>\n",
       "      <td>Active</td>\n",
       "    </tr>\n",
       "  </tbody>\n",
       "</table>\n",
       "</div>"
      ],
      "text/plain": [
       "                           0       1       2       3       4\n",
       "NAME_CONTRACT_STATUS  Active  Active  Active  Active  Active"
      ]
     },
     "execution_count": 41,
     "metadata": {},
     "output_type": "execute_result"
    }
   ],
   "source": [
    "data_dict[dataset_names[name_number]][datasets_cat_features[dataset_names[name_number]]].head().T # credit_card_balance"
   ]
  },
  {
   "cell_type": "code",
   "execution_count": 42,
   "metadata": {},
   "outputs": [],
   "source": [
    "name_number = 5"
   ]
  },
  {
   "cell_type": "code",
   "execution_count": 43,
   "metadata": {},
   "outputs": [
    {
     "data": {
      "text/html": [
       "<div>\n",
       "<style scoped>\n",
       "    .dataframe tbody tr th:only-of-type {\n",
       "        vertical-align: middle;\n",
       "    }\n",
       "\n",
       "    .dataframe tbody tr th {\n",
       "        vertical-align: top;\n",
       "    }\n",
       "\n",
       "    .dataframe thead th {\n",
       "        text-align: right;\n",
       "    }\n",
       "</style>\n",
       "<table border=\"1\" class=\"dataframe\">\n",
       "  <thead>\n",
       "    <tr style=\"text-align: right;\">\n",
       "      <th></th>\n",
       "      <th>0</th>\n",
       "      <th>1</th>\n",
       "      <th>2</th>\n",
       "      <th>3</th>\n",
       "      <th>4</th>\n",
       "    </tr>\n",
       "  </thead>\n",
       "  <tbody>\n",
       "  </tbody>\n",
       "</table>\n",
       "</div>"
      ],
      "text/plain": [
       "Empty DataFrame\n",
       "Columns: [0, 1, 2, 3, 4]\n",
       "Index: []"
      ]
     },
     "execution_count": 43,
     "metadata": {},
     "output_type": "execute_result"
    }
   ],
   "source": [
    "data_dict[dataset_names[name_number]][datasets_cat_features[dataset_names[name_number]]].head().T # installments_payments"
   ]
  },
  {
   "cell_type": "code",
   "execution_count": 44,
   "metadata": {},
   "outputs": [],
   "source": [
    "name_number = 6"
   ]
  },
  {
   "cell_type": "code",
   "execution_count": 45,
   "metadata": {
    "scrolled": true
   },
   "outputs": [
    {
     "data": {
      "text/html": [
       "<div>\n",
       "<style scoped>\n",
       "    .dataframe tbody tr th:only-of-type {\n",
       "        vertical-align: middle;\n",
       "    }\n",
       "\n",
       "    .dataframe tbody tr th {\n",
       "        vertical-align: top;\n",
       "    }\n",
       "\n",
       "    .dataframe thead th {\n",
       "        text-align: right;\n",
       "    }\n",
       "</style>\n",
       "<table border=\"1\" class=\"dataframe\">\n",
       "  <thead>\n",
       "    <tr style=\"text-align: right;\">\n",
       "      <th></th>\n",
       "      <th>0</th>\n",
       "      <th>1</th>\n",
       "      <th>2</th>\n",
       "      <th>3</th>\n",
       "      <th>4</th>\n",
       "    </tr>\n",
       "  </thead>\n",
       "  <tbody>\n",
       "    <tr>\n",
       "      <th>NAME_CONTRACT_STATUS</th>\n",
       "      <td>Active</td>\n",
       "      <td>Active</td>\n",
       "      <td>Active</td>\n",
       "      <td>Active</td>\n",
       "      <td>Active</td>\n",
       "    </tr>\n",
       "  </tbody>\n",
       "</table>\n",
       "</div>"
      ],
      "text/plain": [
       "                           0       1       2       3       4\n",
       "NAME_CONTRACT_STATUS  Active  Active  Active  Active  Active"
      ]
     },
     "execution_count": 45,
     "metadata": {},
     "output_type": "execute_result"
    }
   ],
   "source": [
    "data_dict[dataset_names[name_number]][datasets_cat_features[dataset_names[name_number]]].head().T # POS_CASH_balance"
   ]
  },
  {
   "cell_type": "code",
   "execution_count": 46,
   "metadata": {},
   "outputs": [],
   "source": [
    "name_number = 7"
   ]
  },
  {
   "cell_type": "code",
   "execution_count": 47,
   "metadata": {
    "scrolled": true
   },
   "outputs": [
    {
     "data": {
      "text/html": [
       "<div>\n",
       "<style scoped>\n",
       "    .dataframe tbody tr th:only-of-type {\n",
       "        vertical-align: middle;\n",
       "    }\n",
       "\n",
       "    .dataframe tbody tr th {\n",
       "        vertical-align: top;\n",
       "    }\n",
       "\n",
       "    .dataframe thead th {\n",
       "        text-align: right;\n",
       "    }\n",
       "</style>\n",
       "<table border=\"1\" class=\"dataframe\">\n",
       "  <thead>\n",
       "    <tr style=\"text-align: right;\">\n",
       "      <th></th>\n",
       "      <th>0</th>\n",
       "      <th>1</th>\n",
       "      <th>2</th>\n",
       "      <th>3</th>\n",
       "      <th>4</th>\n",
       "    </tr>\n",
       "  </thead>\n",
       "  <tbody>\n",
       "    <tr>\n",
       "      <th>CHANNEL_TYPE</th>\n",
       "      <td>Country-wide</td>\n",
       "      <td>Contact center</td>\n",
       "      <td>Credit and cash offices</td>\n",
       "      <td>Credit and cash offices</td>\n",
       "      <td>Credit and cash offices</td>\n",
       "    </tr>\n",
       "    <tr>\n",
       "      <th>CODE_REJECT_REASON</th>\n",
       "      <td>XAP</td>\n",
       "      <td>XAP</td>\n",
       "      <td>XAP</td>\n",
       "      <td>XAP</td>\n",
       "      <td>HC</td>\n",
       "    </tr>\n",
       "    <tr>\n",
       "      <th>NAME_CASH_LOAN_PURPOSE</th>\n",
       "      <td>XAP</td>\n",
       "      <td>XNA</td>\n",
       "      <td>XNA</td>\n",
       "      <td>XNA</td>\n",
       "      <td>Repairs</td>\n",
       "    </tr>\n",
       "    <tr>\n",
       "      <th>NAME_CLIENT_TYPE</th>\n",
       "      <td>Repeater</td>\n",
       "      <td>Repeater</td>\n",
       "      <td>Repeater</td>\n",
       "      <td>Repeater</td>\n",
       "      <td>Repeater</td>\n",
       "    </tr>\n",
       "    <tr>\n",
       "      <th>NAME_CONTRACT_STATUS</th>\n",
       "      <td>Approved</td>\n",
       "      <td>Approved</td>\n",
       "      <td>Approved</td>\n",
       "      <td>Approved</td>\n",
       "      <td>Refused</td>\n",
       "    </tr>\n",
       "    <tr>\n",
       "      <th>NAME_CONTRACT_TYPE</th>\n",
       "      <td>Consumer loans</td>\n",
       "      <td>Cash loans</td>\n",
       "      <td>Cash loans</td>\n",
       "      <td>Cash loans</td>\n",
       "      <td>Cash loans</td>\n",
       "    </tr>\n",
       "    <tr>\n",
       "      <th>NAME_GOODS_CATEGORY</th>\n",
       "      <td>Mobile</td>\n",
       "      <td>XNA</td>\n",
       "      <td>XNA</td>\n",
       "      <td>XNA</td>\n",
       "      <td>XNA</td>\n",
       "    </tr>\n",
       "    <tr>\n",
       "      <th>NAME_PAYMENT_TYPE</th>\n",
       "      <td>Cash through the bank</td>\n",
       "      <td>XNA</td>\n",
       "      <td>Cash through the bank</td>\n",
       "      <td>Cash through the bank</td>\n",
       "      <td>Cash through the bank</td>\n",
       "    </tr>\n",
       "    <tr>\n",
       "      <th>NAME_PORTFOLIO</th>\n",
       "      <td>POS</td>\n",
       "      <td>Cash</td>\n",
       "      <td>Cash</td>\n",
       "      <td>Cash</td>\n",
       "      <td>Cash</td>\n",
       "    </tr>\n",
       "    <tr>\n",
       "      <th>NAME_PRODUCT_TYPE</th>\n",
       "      <td>XNA</td>\n",
       "      <td>x-sell</td>\n",
       "      <td>x-sell</td>\n",
       "      <td>x-sell</td>\n",
       "      <td>walk-in</td>\n",
       "    </tr>\n",
       "    <tr>\n",
       "      <th>NAME_SELLER_INDUSTRY</th>\n",
       "      <td>Connectivity</td>\n",
       "      <td>XNA</td>\n",
       "      <td>XNA</td>\n",
       "      <td>XNA</td>\n",
       "      <td>XNA</td>\n",
       "    </tr>\n",
       "    <tr>\n",
       "      <th>NAME_YIELD_GROUP</th>\n",
       "      <td>middle</td>\n",
       "      <td>low_action</td>\n",
       "      <td>high</td>\n",
       "      <td>middle</td>\n",
       "      <td>high</td>\n",
       "    </tr>\n",
       "    <tr>\n",
       "      <th>WEEKDAY_APPR_PROCESS_START</th>\n",
       "      <td>SATURDAY</td>\n",
       "      <td>THURSDAY</td>\n",
       "      <td>TUESDAY</td>\n",
       "      <td>MONDAY</td>\n",
       "      <td>THURSDAY</td>\n",
       "    </tr>\n",
       "  </tbody>\n",
       "</table>\n",
       "</div>"
      ],
      "text/plain": [
       "                                                0               1  \\\n",
       "CHANNEL_TYPE                Country-wide           Contact center   \n",
       "CODE_REJECT_REASON          XAP                    XAP              \n",
       "NAME_CASH_LOAN_PURPOSE      XAP                    XNA              \n",
       "NAME_CLIENT_TYPE            Repeater               Repeater         \n",
       "NAME_CONTRACT_STATUS        Approved               Approved         \n",
       "NAME_CONTRACT_TYPE          Consumer loans         Cash loans       \n",
       "NAME_GOODS_CATEGORY         Mobile                 XNA              \n",
       "NAME_PAYMENT_TYPE           Cash through the bank  XNA              \n",
       "NAME_PORTFOLIO              POS                    Cash             \n",
       "NAME_PRODUCT_TYPE           XNA                    x-sell           \n",
       "NAME_SELLER_INDUSTRY        Connectivity           XNA              \n",
       "NAME_YIELD_GROUP            middle                 low_action       \n",
       "WEEKDAY_APPR_PROCESS_START  SATURDAY               THURSDAY         \n",
       "\n",
       "                                                  2                        3  \\\n",
       "CHANNEL_TYPE                Credit and cash offices  Credit and cash offices   \n",
       "CODE_REJECT_REASON          XAP                      XAP                       \n",
       "NAME_CASH_LOAN_PURPOSE      XNA                      XNA                       \n",
       "NAME_CLIENT_TYPE            Repeater                 Repeater                  \n",
       "NAME_CONTRACT_STATUS        Approved                 Approved                  \n",
       "NAME_CONTRACT_TYPE          Cash loans               Cash loans                \n",
       "NAME_GOODS_CATEGORY         XNA                      XNA                       \n",
       "NAME_PAYMENT_TYPE           Cash through the bank    Cash through the bank     \n",
       "NAME_PORTFOLIO              Cash                     Cash                      \n",
       "NAME_PRODUCT_TYPE           x-sell                   x-sell                    \n",
       "NAME_SELLER_INDUSTRY        XNA                      XNA                       \n",
       "NAME_YIELD_GROUP            high                     middle                    \n",
       "WEEKDAY_APPR_PROCESS_START  TUESDAY                  MONDAY                    \n",
       "\n",
       "                                                  4  \n",
       "CHANNEL_TYPE                Credit and cash offices  \n",
       "CODE_REJECT_REASON          HC                       \n",
       "NAME_CASH_LOAN_PURPOSE      Repairs                  \n",
       "NAME_CLIENT_TYPE            Repeater                 \n",
       "NAME_CONTRACT_STATUS        Refused                  \n",
       "NAME_CONTRACT_TYPE          Cash loans               \n",
       "NAME_GOODS_CATEGORY         XNA                      \n",
       "NAME_PAYMENT_TYPE           Cash through the bank    \n",
       "NAME_PORTFOLIO              Cash                     \n",
       "NAME_PRODUCT_TYPE           walk-in                  \n",
       "NAME_SELLER_INDUSTRY        XNA                      \n",
       "NAME_YIELD_GROUP            high                     \n",
       "WEEKDAY_APPR_PROCESS_START  THURSDAY                 "
      ]
     },
     "execution_count": 47,
     "metadata": {},
     "output_type": "execute_result"
    }
   ],
   "source": [
    "data_dict[dataset_names[name_number]][datasets_cat_features[dataset_names[name_number]]].head().T # previous_application"
   ]
  },
  {
   "cell_type": "code",
   "execution_count": 48,
   "metadata": {},
   "outputs": [],
   "source": [
    "name_number = 8"
   ]
  },
  {
   "cell_type": "code",
   "execution_count": 49,
   "metadata": {},
   "outputs": [
    {
     "data": {
      "text/html": [
       "<div>\n",
       "<style scoped>\n",
       "    .dataframe tbody tr th:only-of-type {\n",
       "        vertical-align: middle;\n",
       "    }\n",
       "\n",
       "    .dataframe tbody tr th {\n",
       "        vertical-align: top;\n",
       "    }\n",
       "\n",
       "    .dataframe thead th {\n",
       "        text-align: right;\n",
       "    }\n",
       "</style>\n",
       "<table border=\"1\" class=\"dataframe\">\n",
       "  <thead>\n",
       "    <tr style=\"text-align: right;\">\n",
       "      <th></th>\n",
       "      <th>0</th>\n",
       "      <th>1</th>\n",
       "      <th>2</th>\n",
       "      <th>3</th>\n",
       "      <th>4</th>\n",
       "    </tr>\n",
       "  </thead>\n",
       "  <tbody>\n",
       "  </tbody>\n",
       "</table>\n",
       "</div>"
      ],
      "text/plain": [
       "Empty DataFrame\n",
       "Columns: [0, 1, 2, 3, 4]\n",
       "Index: []"
      ]
     },
     "execution_count": 49,
     "metadata": {},
     "output_type": "execute_result"
    }
   ],
   "source": [
    "data_dict[dataset_names[name_number]][datasets_cat_features[dataset_names[name_number]]].head().T # sample_submission"
   ]
  },
  {
   "cell_type": "markdown",
   "metadata": {},
   "source": [
    "## Binary columns"
   ]
  },
  {
   "cell_type": "code",
   "execution_count": 50,
   "metadata": {},
   "outputs": [],
   "source": [
    "name_number = 0"
   ]
  },
  {
   "cell_type": "code",
   "execution_count": 51,
   "metadata": {
    "scrolled": false
   },
   "outputs": [
    {
     "data": {
      "text/html": [
       "<div>\n",
       "<style scoped>\n",
       "    .dataframe tbody tr th:only-of-type {\n",
       "        vertical-align: middle;\n",
       "    }\n",
       "\n",
       "    .dataframe tbody tr th {\n",
       "        vertical-align: top;\n",
       "    }\n",
       "\n",
       "    .dataframe thead th {\n",
       "        text-align: right;\n",
       "    }\n",
       "</style>\n",
       "<table border=\"1\" class=\"dataframe\">\n",
       "  <thead>\n",
       "    <tr style=\"text-align: right;\">\n",
       "      <th></th>\n",
       "      <th>0</th>\n",
       "      <th>1</th>\n",
       "      <th>2</th>\n",
       "      <th>3</th>\n",
       "      <th>4</th>\n",
       "    </tr>\n",
       "  </thead>\n",
       "  <tbody>\n",
       "    <tr>\n",
       "      <th>CODE_GENDER</th>\n",
       "      <td>0</td>\n",
       "      <td>1</td>\n",
       "      <td>0</td>\n",
       "      <td>1</td>\n",
       "      <td>0</td>\n",
       "    </tr>\n",
       "    <tr>\n",
       "      <th>FLAG_CONT_MOBILE</th>\n",
       "      <td>1</td>\n",
       "      <td>1</td>\n",
       "      <td>1</td>\n",
       "      <td>1</td>\n",
       "      <td>1</td>\n",
       "    </tr>\n",
       "    <tr>\n",
       "      <th>FLAG_DOCUMENT_10</th>\n",
       "      <td>0</td>\n",
       "      <td>0</td>\n",
       "      <td>0</td>\n",
       "      <td>0</td>\n",
       "      <td>0</td>\n",
       "    </tr>\n",
       "    <tr>\n",
       "      <th>FLAG_DOCUMENT_11</th>\n",
       "      <td>0</td>\n",
       "      <td>0</td>\n",
       "      <td>0</td>\n",
       "      <td>0</td>\n",
       "      <td>0</td>\n",
       "    </tr>\n",
       "    <tr>\n",
       "      <th>FLAG_DOCUMENT_12</th>\n",
       "      <td>0</td>\n",
       "      <td>0</td>\n",
       "      <td>0</td>\n",
       "      <td>0</td>\n",
       "      <td>0</td>\n",
       "    </tr>\n",
       "    <tr>\n",
       "      <th>FLAG_DOCUMENT_13</th>\n",
       "      <td>0</td>\n",
       "      <td>0</td>\n",
       "      <td>0</td>\n",
       "      <td>0</td>\n",
       "      <td>0</td>\n",
       "    </tr>\n",
       "    <tr>\n",
       "      <th>FLAG_DOCUMENT_14</th>\n",
       "      <td>0</td>\n",
       "      <td>0</td>\n",
       "      <td>0</td>\n",
       "      <td>0</td>\n",
       "      <td>0</td>\n",
       "    </tr>\n",
       "    <tr>\n",
       "      <th>FLAG_DOCUMENT_15</th>\n",
       "      <td>0</td>\n",
       "      <td>0</td>\n",
       "      <td>0</td>\n",
       "      <td>0</td>\n",
       "      <td>0</td>\n",
       "    </tr>\n",
       "    <tr>\n",
       "      <th>FLAG_DOCUMENT_16</th>\n",
       "      <td>0</td>\n",
       "      <td>0</td>\n",
       "      <td>0</td>\n",
       "      <td>0</td>\n",
       "      <td>0</td>\n",
       "    </tr>\n",
       "    <tr>\n",
       "      <th>FLAG_DOCUMENT_17</th>\n",
       "      <td>0</td>\n",
       "      <td>0</td>\n",
       "      <td>0</td>\n",
       "      <td>0</td>\n",
       "      <td>0</td>\n",
       "    </tr>\n",
       "    <tr>\n",
       "      <th>FLAG_DOCUMENT_18</th>\n",
       "      <td>0</td>\n",
       "      <td>0</td>\n",
       "      <td>0</td>\n",
       "      <td>0</td>\n",
       "      <td>0</td>\n",
       "    </tr>\n",
       "    <tr>\n",
       "      <th>FLAG_DOCUMENT_19</th>\n",
       "      <td>0</td>\n",
       "      <td>0</td>\n",
       "      <td>0</td>\n",
       "      <td>0</td>\n",
       "      <td>0</td>\n",
       "    </tr>\n",
       "    <tr>\n",
       "      <th>FLAG_DOCUMENT_2</th>\n",
       "      <td>0</td>\n",
       "      <td>0</td>\n",
       "      <td>0</td>\n",
       "      <td>0</td>\n",
       "      <td>0</td>\n",
       "    </tr>\n",
       "    <tr>\n",
       "      <th>FLAG_DOCUMENT_20</th>\n",
       "      <td>0</td>\n",
       "      <td>0</td>\n",
       "      <td>0</td>\n",
       "      <td>0</td>\n",
       "      <td>0</td>\n",
       "    </tr>\n",
       "    <tr>\n",
       "      <th>FLAG_DOCUMENT_21</th>\n",
       "      <td>0</td>\n",
       "      <td>0</td>\n",
       "      <td>0</td>\n",
       "      <td>0</td>\n",
       "      <td>0</td>\n",
       "    </tr>\n",
       "    <tr>\n",
       "      <th>FLAG_DOCUMENT_3</th>\n",
       "      <td>1</td>\n",
       "      <td>1</td>\n",
       "      <td>0</td>\n",
       "      <td>1</td>\n",
       "      <td>0</td>\n",
       "    </tr>\n",
       "    <tr>\n",
       "      <th>FLAG_DOCUMENT_4</th>\n",
       "      <td>0</td>\n",
       "      <td>0</td>\n",
       "      <td>0</td>\n",
       "      <td>0</td>\n",
       "      <td>0</td>\n",
       "    </tr>\n",
       "    <tr>\n",
       "      <th>FLAG_DOCUMENT_5</th>\n",
       "      <td>0</td>\n",
       "      <td>0</td>\n",
       "      <td>0</td>\n",
       "      <td>0</td>\n",
       "      <td>0</td>\n",
       "    </tr>\n",
       "    <tr>\n",
       "      <th>FLAG_DOCUMENT_6</th>\n",
       "      <td>0</td>\n",
       "      <td>0</td>\n",
       "      <td>0</td>\n",
       "      <td>0</td>\n",
       "      <td>0</td>\n",
       "    </tr>\n",
       "    <tr>\n",
       "      <th>FLAG_DOCUMENT_7</th>\n",
       "      <td>0</td>\n",
       "      <td>0</td>\n",
       "      <td>0</td>\n",
       "      <td>0</td>\n",
       "      <td>0</td>\n",
       "    </tr>\n",
       "    <tr>\n",
       "      <th>FLAG_DOCUMENT_8</th>\n",
       "      <td>0</td>\n",
       "      <td>0</td>\n",
       "      <td>0</td>\n",
       "      <td>0</td>\n",
       "      <td>1</td>\n",
       "    </tr>\n",
       "    <tr>\n",
       "      <th>FLAG_DOCUMENT_9</th>\n",
       "      <td>0</td>\n",
       "      <td>0</td>\n",
       "      <td>0</td>\n",
       "      <td>0</td>\n",
       "      <td>0</td>\n",
       "    </tr>\n",
       "    <tr>\n",
       "      <th>FLAG_EMAIL</th>\n",
       "      <td>0</td>\n",
       "      <td>0</td>\n",
       "      <td>0</td>\n",
       "      <td>0</td>\n",
       "      <td>0</td>\n",
       "    </tr>\n",
       "    <tr>\n",
       "      <th>FLAG_EMP_PHONE</th>\n",
       "      <td>1</td>\n",
       "      <td>1</td>\n",
       "      <td>1</td>\n",
       "      <td>1</td>\n",
       "      <td>1</td>\n",
       "    </tr>\n",
       "    <tr>\n",
       "      <th>FLAG_MOBIL</th>\n",
       "      <td>1</td>\n",
       "      <td>1</td>\n",
       "      <td>1</td>\n",
       "      <td>1</td>\n",
       "      <td>1</td>\n",
       "    </tr>\n",
       "    <tr>\n",
       "      <th>FLAG_OWN_CAR</th>\n",
       "      <td>0</td>\n",
       "      <td>0</td>\n",
       "      <td>1</td>\n",
       "      <td>0</td>\n",
       "      <td>0</td>\n",
       "    </tr>\n",
       "    <tr>\n",
       "      <th>FLAG_OWN_REALTY</th>\n",
       "      <td>1</td>\n",
       "      <td>0</td>\n",
       "      <td>1</td>\n",
       "      <td>1</td>\n",
       "      <td>1</td>\n",
       "    </tr>\n",
       "    <tr>\n",
       "      <th>FLAG_PHONE</th>\n",
       "      <td>1</td>\n",
       "      <td>1</td>\n",
       "      <td>1</td>\n",
       "      <td>0</td>\n",
       "      <td>0</td>\n",
       "    </tr>\n",
       "    <tr>\n",
       "      <th>FLAG_WORK_PHONE</th>\n",
       "      <td>0</td>\n",
       "      <td>0</td>\n",
       "      <td>1</td>\n",
       "      <td>0</td>\n",
       "      <td>0</td>\n",
       "    </tr>\n",
       "    <tr>\n",
       "      <th>LIVE_CITY_NOT_WORK_CITY</th>\n",
       "      <td>0</td>\n",
       "      <td>0</td>\n",
       "      <td>0</td>\n",
       "      <td>0</td>\n",
       "      <td>1</td>\n",
       "    </tr>\n",
       "    <tr>\n",
       "      <th>LIVE_REGION_NOT_WORK_REGION</th>\n",
       "      <td>0</td>\n",
       "      <td>0</td>\n",
       "      <td>0</td>\n",
       "      <td>0</td>\n",
       "      <td>0</td>\n",
       "    </tr>\n",
       "    <tr>\n",
       "      <th>NAME_CONTRACT_TYPE</th>\n",
       "      <td>1</td>\n",
       "      <td>1</td>\n",
       "      <td>0</td>\n",
       "      <td>1</td>\n",
       "      <td>1</td>\n",
       "    </tr>\n",
       "    <tr>\n",
       "      <th>REG_CITY_NOT_LIVE_CITY</th>\n",
       "      <td>0</td>\n",
       "      <td>0</td>\n",
       "      <td>0</td>\n",
       "      <td>0</td>\n",
       "      <td>0</td>\n",
       "    </tr>\n",
       "    <tr>\n",
       "      <th>REG_CITY_NOT_WORK_CITY</th>\n",
       "      <td>0</td>\n",
       "      <td>0</td>\n",
       "      <td>0</td>\n",
       "      <td>0</td>\n",
       "      <td>1</td>\n",
       "    </tr>\n",
       "    <tr>\n",
       "      <th>REG_REGION_NOT_LIVE_REGION</th>\n",
       "      <td>0</td>\n",
       "      <td>0</td>\n",
       "      <td>0</td>\n",
       "      <td>0</td>\n",
       "      <td>0</td>\n",
       "    </tr>\n",
       "    <tr>\n",
       "      <th>REG_REGION_NOT_WORK_REGION</th>\n",
       "      <td>0</td>\n",
       "      <td>0</td>\n",
       "      <td>0</td>\n",
       "      <td>0</td>\n",
       "      <td>0</td>\n",
       "    </tr>\n",
       "    <tr>\n",
       "      <th>TARGET</th>\n",
       "      <td>1</td>\n",
       "      <td>0</td>\n",
       "      <td>0</td>\n",
       "      <td>0</td>\n",
       "      <td>0</td>\n",
       "    </tr>\n",
       "  </tbody>\n",
       "</table>\n",
       "</div>"
      ],
      "text/plain": [
       "                             0  1  2  3  4\n",
       "CODE_GENDER                  0  1  0  1  0\n",
       "FLAG_CONT_MOBILE             1  1  1  1  1\n",
       "FLAG_DOCUMENT_10             0  0  0  0  0\n",
       "FLAG_DOCUMENT_11             0  0  0  0  0\n",
       "FLAG_DOCUMENT_12             0  0  0  0  0\n",
       "FLAG_DOCUMENT_13             0  0  0  0  0\n",
       "FLAG_DOCUMENT_14             0  0  0  0  0\n",
       "FLAG_DOCUMENT_15             0  0  0  0  0\n",
       "FLAG_DOCUMENT_16             0  0  0  0  0\n",
       "FLAG_DOCUMENT_17             0  0  0  0  0\n",
       "FLAG_DOCUMENT_18             0  0  0  0  0\n",
       "FLAG_DOCUMENT_19             0  0  0  0  0\n",
       "FLAG_DOCUMENT_2              0  0  0  0  0\n",
       "FLAG_DOCUMENT_20             0  0  0  0  0\n",
       "FLAG_DOCUMENT_21             0  0  0  0  0\n",
       "FLAG_DOCUMENT_3              1  1  0  1  0\n",
       "FLAG_DOCUMENT_4              0  0  0  0  0\n",
       "FLAG_DOCUMENT_5              0  0  0  0  0\n",
       "FLAG_DOCUMENT_6              0  0  0  0  0\n",
       "FLAG_DOCUMENT_7              0  0  0  0  0\n",
       "FLAG_DOCUMENT_8              0  0  0  0  1\n",
       "FLAG_DOCUMENT_9              0  0  0  0  0\n",
       "FLAG_EMAIL                   0  0  0  0  0\n",
       "FLAG_EMP_PHONE               1  1  1  1  1\n",
       "FLAG_MOBIL                   1  1  1  1  1\n",
       "FLAG_OWN_CAR                 0  0  1  0  0\n",
       "FLAG_OWN_REALTY              1  0  1  1  1\n",
       "FLAG_PHONE                   1  1  1  0  0\n",
       "FLAG_WORK_PHONE              0  0  1  0  0\n",
       "LIVE_CITY_NOT_WORK_CITY      0  0  0  0  1\n",
       "LIVE_REGION_NOT_WORK_REGION  0  0  0  0  0\n",
       "NAME_CONTRACT_TYPE           1  1  0  1  1\n",
       "REG_CITY_NOT_LIVE_CITY       0  0  0  0  0\n",
       "REG_CITY_NOT_WORK_CITY       0  0  0  0  1\n",
       "REG_REGION_NOT_LIVE_REGION   0  0  0  0  0\n",
       "REG_REGION_NOT_WORK_REGION   0  0  0  0  0\n",
       "TARGET                       1  0  0  0  0"
      ]
     },
     "execution_count": 51,
     "metadata": {},
     "output_type": "execute_result"
    }
   ],
   "source": [
    "data_dict[dataset_names[name_number]][datasets_bin_features[dataset_names[name_number]]].head().T # application_train"
   ]
  },
  {
   "cell_type": "code",
   "execution_count": 52,
   "metadata": {},
   "outputs": [],
   "source": [
    "name_number = 1"
   ]
  },
  {
   "cell_type": "code",
   "execution_count": 53,
   "metadata": {
    "scrolled": false
   },
   "outputs": [
    {
     "data": {
      "text/html": [
       "<div>\n",
       "<style scoped>\n",
       "    .dataframe tbody tr th:only-of-type {\n",
       "        vertical-align: middle;\n",
       "    }\n",
       "\n",
       "    .dataframe tbody tr th {\n",
       "        vertical-align: top;\n",
       "    }\n",
       "\n",
       "    .dataframe thead th {\n",
       "        text-align: right;\n",
       "    }\n",
       "</style>\n",
       "<table border=\"1\" class=\"dataframe\">\n",
       "  <thead>\n",
       "    <tr style=\"text-align: right;\">\n",
       "      <th></th>\n",
       "      <th>0</th>\n",
       "      <th>1</th>\n",
       "      <th>2</th>\n",
       "      <th>3</th>\n",
       "      <th>4</th>\n",
       "    </tr>\n",
       "  </thead>\n",
       "  <tbody>\n",
       "    <tr>\n",
       "      <th>CODE_GENDER</th>\n",
       "      <td>1</td>\n",
       "      <td>0</td>\n",
       "      <td>0</td>\n",
       "      <td>1</td>\n",
       "      <td>0</td>\n",
       "    </tr>\n",
       "    <tr>\n",
       "      <th>FLAG_CONT_MOBILE</th>\n",
       "      <td>1</td>\n",
       "      <td>1</td>\n",
       "      <td>1</td>\n",
       "      <td>1</td>\n",
       "      <td>1</td>\n",
       "    </tr>\n",
       "    <tr>\n",
       "      <th>FLAG_DOCUMENT_11</th>\n",
       "      <td>0</td>\n",
       "      <td>0</td>\n",
       "      <td>0</td>\n",
       "      <td>0</td>\n",
       "      <td>0</td>\n",
       "    </tr>\n",
       "    <tr>\n",
       "      <th>FLAG_DOCUMENT_18</th>\n",
       "      <td>0</td>\n",
       "      <td>0</td>\n",
       "      <td>0</td>\n",
       "      <td>0</td>\n",
       "      <td>0</td>\n",
       "    </tr>\n",
       "    <tr>\n",
       "      <th>FLAG_DOCUMENT_3</th>\n",
       "      <td>1</td>\n",
       "      <td>1</td>\n",
       "      <td>0</td>\n",
       "      <td>1</td>\n",
       "      <td>1</td>\n",
       "    </tr>\n",
       "    <tr>\n",
       "      <th>FLAG_DOCUMENT_4</th>\n",
       "      <td>0</td>\n",
       "      <td>0</td>\n",
       "      <td>0</td>\n",
       "      <td>0</td>\n",
       "      <td>0</td>\n",
       "    </tr>\n",
       "    <tr>\n",
       "      <th>FLAG_DOCUMENT_5</th>\n",
       "      <td>0</td>\n",
       "      <td>0</td>\n",
       "      <td>0</td>\n",
       "      <td>0</td>\n",
       "      <td>0</td>\n",
       "    </tr>\n",
       "    <tr>\n",
       "      <th>FLAG_DOCUMENT_6</th>\n",
       "      <td>0</td>\n",
       "      <td>0</td>\n",
       "      <td>0</td>\n",
       "      <td>0</td>\n",
       "      <td>0</td>\n",
       "    </tr>\n",
       "    <tr>\n",
       "      <th>FLAG_DOCUMENT_7</th>\n",
       "      <td>0</td>\n",
       "      <td>0</td>\n",
       "      <td>0</td>\n",
       "      <td>0</td>\n",
       "      <td>0</td>\n",
       "    </tr>\n",
       "    <tr>\n",
       "      <th>FLAG_DOCUMENT_8</th>\n",
       "      <td>0</td>\n",
       "      <td>0</td>\n",
       "      <td>1</td>\n",
       "      <td>0</td>\n",
       "      <td>0</td>\n",
       "    </tr>\n",
       "    <tr>\n",
       "      <th>FLAG_DOCUMENT_9</th>\n",
       "      <td>0</td>\n",
       "      <td>0</td>\n",
       "      <td>0</td>\n",
       "      <td>0</td>\n",
       "      <td>0</td>\n",
       "    </tr>\n",
       "    <tr>\n",
       "      <th>FLAG_EMAIL</th>\n",
       "      <td>1</td>\n",
       "      <td>0</td>\n",
       "      <td>0</td>\n",
       "      <td>0</td>\n",
       "      <td>0</td>\n",
       "    </tr>\n",
       "    <tr>\n",
       "      <th>FLAG_EMP_PHONE</th>\n",
       "      <td>1</td>\n",
       "      <td>1</td>\n",
       "      <td>1</td>\n",
       "      <td>1</td>\n",
       "      <td>1</td>\n",
       "    </tr>\n",
       "    <tr>\n",
       "      <th>FLAG_MOBIL</th>\n",
       "      <td>1</td>\n",
       "      <td>1</td>\n",
       "      <td>1</td>\n",
       "      <td>1</td>\n",
       "      <td>1</td>\n",
       "    </tr>\n",
       "    <tr>\n",
       "      <th>FLAG_OWN_CAR</th>\n",
       "      <td>0</td>\n",
       "      <td>0</td>\n",
       "      <td>1</td>\n",
       "      <td>0</td>\n",
       "      <td>1</td>\n",
       "    </tr>\n",
       "    <tr>\n",
       "      <th>FLAG_OWN_REALTY</th>\n",
       "      <td>1</td>\n",
       "      <td>1</td>\n",
       "      <td>1</td>\n",
       "      <td>1</td>\n",
       "      <td>0</td>\n",
       "    </tr>\n",
       "    <tr>\n",
       "      <th>FLAG_PHONE</th>\n",
       "      <td>0</td>\n",
       "      <td>0</td>\n",
       "      <td>0</td>\n",
       "      <td>1</td>\n",
       "      <td>0</td>\n",
       "    </tr>\n",
       "    <tr>\n",
       "      <th>FLAG_WORK_PHONE</th>\n",
       "      <td>0</td>\n",
       "      <td>0</td>\n",
       "      <td>0</td>\n",
       "      <td>0</td>\n",
       "      <td>1</td>\n",
       "    </tr>\n",
       "    <tr>\n",
       "      <th>LIVE_CITY_NOT_WORK_CITY</th>\n",
       "      <td>0</td>\n",
       "      <td>0</td>\n",
       "      <td>0</td>\n",
       "      <td>0</td>\n",
       "      <td>1</td>\n",
       "    </tr>\n",
       "    <tr>\n",
       "      <th>LIVE_REGION_NOT_WORK_REGION</th>\n",
       "      <td>0</td>\n",
       "      <td>0</td>\n",
       "      <td>0</td>\n",
       "      <td>0</td>\n",
       "      <td>0</td>\n",
       "    </tr>\n",
       "    <tr>\n",
       "      <th>NAME_CONTRACT_TYPE</th>\n",
       "      <td>1</td>\n",
       "      <td>1</td>\n",
       "      <td>1</td>\n",
       "      <td>1</td>\n",
       "      <td>1</td>\n",
       "    </tr>\n",
       "    <tr>\n",
       "      <th>REG_CITY_NOT_LIVE_CITY</th>\n",
       "      <td>0</td>\n",
       "      <td>0</td>\n",
       "      <td>0</td>\n",
       "      <td>0</td>\n",
       "      <td>0</td>\n",
       "    </tr>\n",
       "    <tr>\n",
       "      <th>REG_CITY_NOT_WORK_CITY</th>\n",
       "      <td>0</td>\n",
       "      <td>0</td>\n",
       "      <td>0</td>\n",
       "      <td>0</td>\n",
       "      <td>1</td>\n",
       "    </tr>\n",
       "    <tr>\n",
       "      <th>REG_REGION_NOT_LIVE_REGION</th>\n",
       "      <td>0</td>\n",
       "      <td>0</td>\n",
       "      <td>0</td>\n",
       "      <td>0</td>\n",
       "      <td>0</td>\n",
       "    </tr>\n",
       "    <tr>\n",
       "      <th>REG_REGION_NOT_WORK_REGION</th>\n",
       "      <td>0</td>\n",
       "      <td>0</td>\n",
       "      <td>0</td>\n",
       "      <td>0</td>\n",
       "      <td>0</td>\n",
       "    </tr>\n",
       "  </tbody>\n",
       "</table>\n",
       "</div>"
      ],
      "text/plain": [
       "                             0  1  2  3  4\n",
       "CODE_GENDER                  1  0  0  1  0\n",
       "FLAG_CONT_MOBILE             1  1  1  1  1\n",
       "FLAG_DOCUMENT_11             0  0  0  0  0\n",
       "FLAG_DOCUMENT_18             0  0  0  0  0\n",
       "FLAG_DOCUMENT_3              1  1  0  1  1\n",
       "FLAG_DOCUMENT_4              0  0  0  0  0\n",
       "FLAG_DOCUMENT_5              0  0  0  0  0\n",
       "FLAG_DOCUMENT_6              0  0  0  0  0\n",
       "FLAG_DOCUMENT_7              0  0  0  0  0\n",
       "FLAG_DOCUMENT_8              0  0  1  0  0\n",
       "FLAG_DOCUMENT_9              0  0  0  0  0\n",
       "FLAG_EMAIL                   1  0  0  0  0\n",
       "FLAG_EMP_PHONE               1  1  1  1  1\n",
       "FLAG_MOBIL                   1  1  1  1  1\n",
       "FLAG_OWN_CAR                 0  0  1  0  1\n",
       "FLAG_OWN_REALTY              1  1  1  1  0\n",
       "FLAG_PHONE                   0  0  0  1  0\n",
       "FLAG_WORK_PHONE              0  0  0  0  1\n",
       "LIVE_CITY_NOT_WORK_CITY      0  0  0  0  1\n",
       "LIVE_REGION_NOT_WORK_REGION  0  0  0  0  0\n",
       "NAME_CONTRACT_TYPE           1  1  1  1  1\n",
       "REG_CITY_NOT_LIVE_CITY       0  0  0  0  0\n",
       "REG_CITY_NOT_WORK_CITY       0  0  0  0  1\n",
       "REG_REGION_NOT_LIVE_REGION   0  0  0  0  0\n",
       "REG_REGION_NOT_WORK_REGION   0  0  0  0  0"
      ]
     },
     "execution_count": 53,
     "metadata": {},
     "output_type": "execute_result"
    }
   ],
   "source": [
    "data_dict[dataset_names[name_number]][datasets_bin_features[dataset_names[name_number]]].head().T # application_test"
   ]
  },
  {
   "cell_type": "code",
   "execution_count": 54,
   "metadata": {},
   "outputs": [],
   "source": [
    "name_number = 2"
   ]
  },
  {
   "cell_type": "code",
   "execution_count": 55,
   "metadata": {
    "scrolled": false
   },
   "outputs": [
    {
     "data": {
      "text/html": [
       "<div>\n",
       "<style scoped>\n",
       "    .dataframe tbody tr th:only-of-type {\n",
       "        vertical-align: middle;\n",
       "    }\n",
       "\n",
       "    .dataframe tbody tr th {\n",
       "        vertical-align: top;\n",
       "    }\n",
       "\n",
       "    .dataframe thead th {\n",
       "        text-align: right;\n",
       "    }\n",
       "</style>\n",
       "<table border=\"1\" class=\"dataframe\">\n",
       "  <thead>\n",
       "    <tr style=\"text-align: right;\">\n",
       "      <th></th>\n",
       "      <th>0</th>\n",
       "      <th>1</th>\n",
       "      <th>2</th>\n",
       "      <th>3</th>\n",
       "      <th>4</th>\n",
       "    </tr>\n",
       "  </thead>\n",
       "  <tbody>\n",
       "  </tbody>\n",
       "</table>\n",
       "</div>"
      ],
      "text/plain": [
       "Empty DataFrame\n",
       "Columns: [0, 1, 2, 3, 4]\n",
       "Index: []"
      ]
     },
     "execution_count": 55,
     "metadata": {},
     "output_type": "execute_result"
    }
   ],
   "source": [
    "data_dict[dataset_names[name_number]][datasets_bin_features[dataset_names[name_number]]].head().T # bureau"
   ]
  },
  {
   "cell_type": "code",
   "execution_count": 56,
   "metadata": {},
   "outputs": [],
   "source": [
    "name_number = 3"
   ]
  },
  {
   "cell_type": "code",
   "execution_count": 57,
   "metadata": {},
   "outputs": [
    {
     "data": {
      "text/html": [
       "<div>\n",
       "<style scoped>\n",
       "    .dataframe tbody tr th:only-of-type {\n",
       "        vertical-align: middle;\n",
       "    }\n",
       "\n",
       "    .dataframe tbody tr th {\n",
       "        vertical-align: top;\n",
       "    }\n",
       "\n",
       "    .dataframe thead th {\n",
       "        text-align: right;\n",
       "    }\n",
       "</style>\n",
       "<table border=\"1\" class=\"dataframe\">\n",
       "  <thead>\n",
       "    <tr style=\"text-align: right;\">\n",
       "      <th></th>\n",
       "      <th>0</th>\n",
       "      <th>1</th>\n",
       "      <th>2</th>\n",
       "      <th>3</th>\n",
       "      <th>4</th>\n",
       "    </tr>\n",
       "  </thead>\n",
       "  <tbody>\n",
       "  </tbody>\n",
       "</table>\n",
       "</div>"
      ],
      "text/plain": [
       "Empty DataFrame\n",
       "Columns: [0, 1, 2, 3, 4]\n",
       "Index: []"
      ]
     },
     "execution_count": 57,
     "metadata": {},
     "output_type": "execute_result"
    }
   ],
   "source": [
    "data_dict[dataset_names[name_number]][datasets_bin_features[dataset_names[name_number]]].head().T # bureau_balance"
   ]
  },
  {
   "cell_type": "code",
   "execution_count": 58,
   "metadata": {},
   "outputs": [],
   "source": [
    "name_number = 4"
   ]
  },
  {
   "cell_type": "code",
   "execution_count": 59,
   "metadata": {},
   "outputs": [
    {
     "data": {
      "text/html": [
       "<div>\n",
       "<style scoped>\n",
       "    .dataframe tbody tr th:only-of-type {\n",
       "        vertical-align: middle;\n",
       "    }\n",
       "\n",
       "    .dataframe tbody tr th {\n",
       "        vertical-align: top;\n",
       "    }\n",
       "\n",
       "    .dataframe thead th {\n",
       "        text-align: right;\n",
       "    }\n",
       "</style>\n",
       "<table border=\"1\" class=\"dataframe\">\n",
       "  <thead>\n",
       "    <tr style=\"text-align: right;\">\n",
       "      <th></th>\n",
       "      <th>0</th>\n",
       "      <th>1</th>\n",
       "      <th>2</th>\n",
       "      <th>3</th>\n",
       "      <th>4</th>\n",
       "    </tr>\n",
       "  </thead>\n",
       "  <tbody>\n",
       "  </tbody>\n",
       "</table>\n",
       "</div>"
      ],
      "text/plain": [
       "Empty DataFrame\n",
       "Columns: [0, 1, 2, 3, 4]\n",
       "Index: []"
      ]
     },
     "execution_count": 59,
     "metadata": {},
     "output_type": "execute_result"
    }
   ],
   "source": [
    "data_dict[dataset_names[name_number]][datasets_bin_features[dataset_names[name_number]]].head().T # credit_card_balance"
   ]
  },
  {
   "cell_type": "code",
   "execution_count": 60,
   "metadata": {},
   "outputs": [],
   "source": [
    "name_number = 5"
   ]
  },
  {
   "cell_type": "code",
   "execution_count": 61,
   "metadata": {},
   "outputs": [
    {
     "data": {
      "text/html": [
       "<div>\n",
       "<style scoped>\n",
       "    .dataframe tbody tr th:only-of-type {\n",
       "        vertical-align: middle;\n",
       "    }\n",
       "\n",
       "    .dataframe tbody tr th {\n",
       "        vertical-align: top;\n",
       "    }\n",
       "\n",
       "    .dataframe thead th {\n",
       "        text-align: right;\n",
       "    }\n",
       "</style>\n",
       "<table border=\"1\" class=\"dataframe\">\n",
       "  <thead>\n",
       "    <tr style=\"text-align: right;\">\n",
       "      <th></th>\n",
       "      <th>0</th>\n",
       "      <th>1</th>\n",
       "      <th>2</th>\n",
       "      <th>3</th>\n",
       "      <th>4</th>\n",
       "    </tr>\n",
       "  </thead>\n",
       "  <tbody>\n",
       "  </tbody>\n",
       "</table>\n",
       "</div>"
      ],
      "text/plain": [
       "Empty DataFrame\n",
       "Columns: [0, 1, 2, 3, 4]\n",
       "Index: []"
      ]
     },
     "execution_count": 61,
     "metadata": {},
     "output_type": "execute_result"
    }
   ],
   "source": [
    "data_dict[dataset_names[name_number]][datasets_bin_features[dataset_names[name_number]]].head().T # installments_payments"
   ]
  },
  {
   "cell_type": "code",
   "execution_count": 62,
   "metadata": {},
   "outputs": [],
   "source": [
    "name_number = 6"
   ]
  },
  {
   "cell_type": "code",
   "execution_count": 63,
   "metadata": {
    "scrolled": true
   },
   "outputs": [
    {
     "data": {
      "text/html": [
       "<div>\n",
       "<style scoped>\n",
       "    .dataframe tbody tr th:only-of-type {\n",
       "        vertical-align: middle;\n",
       "    }\n",
       "\n",
       "    .dataframe tbody tr th {\n",
       "        vertical-align: top;\n",
       "    }\n",
       "\n",
       "    .dataframe thead th {\n",
       "        text-align: right;\n",
       "    }\n",
       "</style>\n",
       "<table border=\"1\" class=\"dataframe\">\n",
       "  <thead>\n",
       "    <tr style=\"text-align: right;\">\n",
       "      <th></th>\n",
       "      <th>0</th>\n",
       "      <th>1</th>\n",
       "      <th>2</th>\n",
       "      <th>3</th>\n",
       "      <th>4</th>\n",
       "    </tr>\n",
       "  </thead>\n",
       "  <tbody>\n",
       "  </tbody>\n",
       "</table>\n",
       "</div>"
      ],
      "text/plain": [
       "Empty DataFrame\n",
       "Columns: [0, 1, 2, 3, 4]\n",
       "Index: []"
      ]
     },
     "execution_count": 63,
     "metadata": {},
     "output_type": "execute_result"
    }
   ],
   "source": [
    "data_dict[dataset_names[name_number]][datasets_bin_features[dataset_names[name_number]]].head().T # POS_CASH_balance"
   ]
  },
  {
   "cell_type": "code",
   "execution_count": 64,
   "metadata": {},
   "outputs": [],
   "source": [
    "name_number = 7"
   ]
  },
  {
   "cell_type": "code",
   "execution_count": 65,
   "metadata": {
    "scrolled": true
   },
   "outputs": [
    {
     "data": {
      "text/html": [
       "<div>\n",
       "<style scoped>\n",
       "    .dataframe tbody tr th:only-of-type {\n",
       "        vertical-align: middle;\n",
       "    }\n",
       "\n",
       "    .dataframe tbody tr th {\n",
       "        vertical-align: top;\n",
       "    }\n",
       "\n",
       "    .dataframe thead th {\n",
       "        text-align: right;\n",
       "    }\n",
       "</style>\n",
       "<table border=\"1\" class=\"dataframe\">\n",
       "  <thead>\n",
       "    <tr style=\"text-align: right;\">\n",
       "      <th></th>\n",
       "      <th>0</th>\n",
       "      <th>1</th>\n",
       "      <th>2</th>\n",
       "      <th>3</th>\n",
       "      <th>4</th>\n",
       "    </tr>\n",
       "  </thead>\n",
       "  <tbody>\n",
       "    <tr>\n",
       "      <th>FLAG_LAST_APPL_PER_CONTRACT</th>\n",
       "      <td>1</td>\n",
       "      <td>1</td>\n",
       "      <td>1</td>\n",
       "      <td>1</td>\n",
       "      <td>1</td>\n",
       "    </tr>\n",
       "    <tr>\n",
       "      <th>NFLAG_LAST_APPL_IN_DAY</th>\n",
       "      <td>1</td>\n",
       "      <td>1</td>\n",
       "      <td>1</td>\n",
       "      <td>1</td>\n",
       "      <td>1</td>\n",
       "    </tr>\n",
       "  </tbody>\n",
       "</table>\n",
       "</div>"
      ],
      "text/plain": [
       "                             0  1  2  3  4\n",
       "FLAG_LAST_APPL_PER_CONTRACT  1  1  1  1  1\n",
       "NFLAG_LAST_APPL_IN_DAY       1  1  1  1  1"
      ]
     },
     "execution_count": 65,
     "metadata": {},
     "output_type": "execute_result"
    }
   ],
   "source": [
    "data_dict[dataset_names[name_number]][datasets_bin_features[dataset_names[name_number]]].head().T # previous_application"
   ]
  },
  {
   "cell_type": "code",
   "execution_count": 66,
   "metadata": {},
   "outputs": [],
   "source": [
    "name_number = 8"
   ]
  },
  {
   "cell_type": "code",
   "execution_count": 67,
   "metadata": {},
   "outputs": [
    {
     "data": {
      "text/html": [
       "<div>\n",
       "<style scoped>\n",
       "    .dataframe tbody tr th:only-of-type {\n",
       "        vertical-align: middle;\n",
       "    }\n",
       "\n",
       "    .dataframe tbody tr th {\n",
       "        vertical-align: top;\n",
       "    }\n",
       "\n",
       "    .dataframe thead th {\n",
       "        text-align: right;\n",
       "    }\n",
       "</style>\n",
       "<table border=\"1\" class=\"dataframe\">\n",
       "  <thead>\n",
       "    <tr style=\"text-align: right;\">\n",
       "      <th></th>\n",
       "      <th>0</th>\n",
       "      <th>1</th>\n",
       "      <th>2</th>\n",
       "      <th>3</th>\n",
       "      <th>4</th>\n",
       "    </tr>\n",
       "  </thead>\n",
       "  <tbody>\n",
       "  </tbody>\n",
       "</table>\n",
       "</div>"
      ],
      "text/plain": [
       "Empty DataFrame\n",
       "Columns: [0, 1, 2, 3, 4]\n",
       "Index: []"
      ]
     },
     "execution_count": 67,
     "metadata": {},
     "output_type": "execute_result"
    }
   ],
   "source": [
    "data_dict[dataset_names[name_number]][datasets_bin_features[dataset_names[name_number]]].head().T # sample_submission"
   ]
  },
  {
   "cell_type": "markdown",
   "metadata": {},
   "source": [
    "# Info"
   ]
  },
  {
   "cell_type": "markdown",
   "metadata": {},
   "source": [
    "## Numeric columns"
   ]
  },
  {
   "cell_type": "code",
   "execution_count": 68,
   "metadata": {},
   "outputs": [],
   "source": [
    "name_number = 0"
   ]
  },
  {
   "cell_type": "code",
   "execution_count": 69,
   "metadata": {
    "scrolled": false
   },
   "outputs": [
    {
     "name": "stdout",
     "output_type": "stream",
     "text": [
      "<class 'pandas.core.frame.DataFrame'>\n",
      "RangeIndex: 307507 entries, 0 to 307506\n",
      "Data columns (total 11 columns):\n",
      "AMT_CREDIT                    307507 non-null float64\n",
      "AMT_INCOME_TOTAL              307507 non-null float64\n",
      "CNT_CHILDREN                  307507 non-null int64\n",
      "DAYS_BIRTH                    307507 non-null int64\n",
      "DAYS_EMPLOYED                 307507 non-null int64\n",
      "DAYS_ID_PUBLISH               307507 non-null int64\n",
      "DAYS_REGISTRATION             307507 non-null float64\n",
      "HOUR_APPR_PROCESS_START       307507 non-null int64\n",
      "REGION_POPULATION_RELATIVE    307507 non-null float64\n",
      "REGION_RATING_CLIENT          307507 non-null int64\n",
      "SK_ID_CURR                    307507 non-null int64\n",
      "dtypes: float64(4), int64(7)\n",
      "memory usage: 25.8 MB\n"
     ]
    }
   ],
   "source": [
    "data_dict[dataset_names[name_number]][datasets_num_features[dataset_names[name_number]]].info(verbose=10, null_counts=True)"
   ]
  },
  {
   "cell_type": "code",
   "execution_count": 70,
   "metadata": {},
   "outputs": [],
   "source": [
    "name_number = 1"
   ]
  },
  {
   "cell_type": "code",
   "execution_count": 71,
   "metadata": {
    "scrolled": true
   },
   "outputs": [
    {
     "name": "stdout",
     "output_type": "stream",
     "text": [
      "<class 'pandas.core.frame.DataFrame'>\n",
      "RangeIndex: 48744 entries, 0 to 48743\n",
      "Data columns (total 13 columns):\n",
      "AMT_CREDIT                    48744 non-null float64\n",
      "AMT_INCOME_TOTAL              48744 non-null float64\n",
      "CNT_CHILDREN                  48744 non-null int64\n",
      "CNT_FAM_MEMBERS               48744 non-null float64\n",
      "DAYS_BIRTH                    48744 non-null int64\n",
      "DAYS_EMPLOYED                 48744 non-null int64\n",
      "DAYS_ID_PUBLISH               48744 non-null int64\n",
      "DAYS_LAST_PHONE_CHANGE        48744 non-null float64\n",
      "DAYS_REGISTRATION             48744 non-null float64\n",
      "HOUR_APPR_PROCESS_START       48744 non-null int64\n",
      "REGION_POPULATION_RELATIVE    48744 non-null float64\n",
      "REGION_RATING_CLIENT          48744 non-null int64\n",
      "SK_ID_CURR                    48744 non-null int64\n",
      "dtypes: float64(6), int64(7)\n",
      "memory usage: 4.8 MB\n"
     ]
    }
   ],
   "source": [
    "data_dict[dataset_names[name_number]][datasets_num_features[dataset_names[name_number]]].info(verbose=10, null_counts=True)"
   ]
  },
  {
   "cell_type": "code",
   "execution_count": 72,
   "metadata": {},
   "outputs": [],
   "source": [
    "name_number = 2"
   ]
  },
  {
   "cell_type": "code",
   "execution_count": 73,
   "metadata": {
    "scrolled": false
   },
   "outputs": [
    {
     "name": "stdout",
     "output_type": "stream",
     "text": [
      "<class 'pandas.core.frame.DataFrame'>\n",
      "RangeIndex: 1716428 entries, 0 to 1716427\n",
      "Data columns (total 7 columns):\n",
      "AMT_CREDIT_SUM_OVERDUE    1716428 non-null float64\n",
      "CNT_CREDIT_PROLONG        1716428 non-null int64\n",
      "CREDIT_DAY_OVERDUE        1716428 non-null int64\n",
      "DAYS_CREDIT               1716428 non-null int64\n",
      "DAYS_CREDIT_UPDATE        1716428 non-null int64\n",
      "SK_ID_BUREAU              1716428 non-null int64\n",
      "SK_ID_CURR                1716428 non-null int64\n",
      "dtypes: float64(1), int64(6)\n",
      "memory usage: 91.7 MB\n"
     ]
    }
   ],
   "source": [
    "data_dict[dataset_names[name_number]][datasets_num_features[dataset_names[name_number]]].info(verbose=10, null_counts=True)"
   ]
  },
  {
   "cell_type": "code",
   "execution_count": 74,
   "metadata": {},
   "outputs": [],
   "source": [
    "name_number = 3"
   ]
  },
  {
   "cell_type": "code",
   "execution_count": 75,
   "metadata": {},
   "outputs": [
    {
     "name": "stdout",
     "output_type": "stream",
     "text": [
      "<class 'pandas.core.frame.DataFrame'>\n",
      "RangeIndex: 27299925 entries, 0 to 27299924\n",
      "Data columns (total 2 columns):\n",
      "MONTHS_BALANCE    27299925 non-null int64\n",
      "SK_ID_BUREAU      27299925 non-null int64\n",
      "dtypes: int64(2)\n",
      "memory usage: 416.6 MB\n"
     ]
    }
   ],
   "source": [
    "data_dict[dataset_names[name_number]][datasets_num_features[dataset_names[name_number]]].info(verbose=10, null_counts=True)"
   ]
  },
  {
   "cell_type": "code",
   "execution_count": 76,
   "metadata": {},
   "outputs": [],
   "source": [
    "name_number = 4"
   ]
  },
  {
   "cell_type": "code",
   "execution_count": 77,
   "metadata": {},
   "outputs": [
    {
     "name": "stdout",
     "output_type": "stream",
     "text": [
      "<class 'pandas.core.frame.DataFrame'>\n",
      "RangeIndex: 3840312 entries, 0 to 3840311\n",
      "Data columns (total 9 columns):\n",
      "AMT_BALANCE                3840312 non-null float64\n",
      "AMT_CREDIT_LIMIT_ACTUAL    3840312 non-null int64\n",
      "AMT_DRAWINGS_CURRENT       3840312 non-null float64\n",
      "CNT_DRAWINGS_CURRENT       3840312 non-null int64\n",
      "MONTHS_BALANCE             3840312 non-null int64\n",
      "SK_DPD                     3840312 non-null int64\n",
      "SK_DPD_DEF                 3840312 non-null int64\n",
      "SK_ID_CURR                 3840312 non-null int64\n",
      "SK_ID_PREV                 3840312 non-null int64\n",
      "dtypes: float64(2), int64(7)\n",
      "memory usage: 263.7 MB\n"
     ]
    }
   ],
   "source": [
    "data_dict[dataset_names[name_number]][datasets_num_features[dataset_names[name_number]]].info(verbose=10, null_counts=True)"
   ]
  },
  {
   "cell_type": "code",
   "execution_count": 78,
   "metadata": {},
   "outputs": [],
   "source": [
    "name_number = 5"
   ]
  },
  {
   "cell_type": "code",
   "execution_count": 79,
   "metadata": {},
   "outputs": [
    {
     "name": "stdout",
     "output_type": "stream",
     "text": [
      "<class 'pandas.core.frame.DataFrame'>\n",
      "RangeIndex: 13605401 entries, 0 to 13605400\n",
      "Data columns (total 6 columns):\n",
      "AMT_INSTALMENT            13605401 non-null float64\n",
      "DAYS_INSTALMENT           13605401 non-null float64\n",
      "NUM_INSTALMENT_NUMBER     13605401 non-null int64\n",
      "NUM_INSTALMENT_VERSION    13605401 non-null float64\n",
      "SK_ID_CURR                13605401 non-null int64\n",
      "SK_ID_PREV                13605401 non-null int64\n",
      "dtypes: float64(3), int64(3)\n",
      "memory usage: 622.8 MB\n"
     ]
    }
   ],
   "source": [
    "data_dict[dataset_names[name_number]][datasets_num_features[dataset_names[name_number]]].info(verbose=10, null_counts=True)"
   ]
  },
  {
   "cell_type": "code",
   "execution_count": 80,
   "metadata": {},
   "outputs": [],
   "source": [
    "name_number = 6"
   ]
  },
  {
   "cell_type": "code",
   "execution_count": 81,
   "metadata": {
    "scrolled": true
   },
   "outputs": [
    {
     "name": "stdout",
     "output_type": "stream",
     "text": [
      "<class 'pandas.core.frame.DataFrame'>\n",
      "RangeIndex: 10001358 entries, 0 to 10001357\n",
      "Data columns (total 5 columns):\n",
      "MONTHS_BALANCE    10001358 non-null int64\n",
      "SK_DPD            10001358 non-null int64\n",
      "SK_DPD_DEF        10001358 non-null int64\n",
      "SK_ID_CURR        10001358 non-null int64\n",
      "SK_ID_PREV        10001358 non-null int64\n",
      "dtypes: int64(5)\n",
      "memory usage: 381.5 MB\n"
     ]
    }
   ],
   "source": [
    "data_dict[dataset_names[name_number]][datasets_num_features[dataset_names[name_number]]].info(verbose=10, null_counts=True)"
   ]
  },
  {
   "cell_type": "code",
   "execution_count": 82,
   "metadata": {},
   "outputs": [],
   "source": [
    "name_number = 7"
   ]
  },
  {
   "cell_type": "code",
   "execution_count": 83,
   "metadata": {
    "scrolled": true
   },
   "outputs": [
    {
     "name": "stdout",
     "output_type": "stream",
     "text": [
      "<class 'pandas.core.frame.DataFrame'>\n",
      "RangeIndex: 1670214 entries, 0 to 1670213\n",
      "Data columns (total 6 columns):\n",
      "AMT_APPLICATION            1670214 non-null float64\n",
      "DAYS_DECISION              1670214 non-null int64\n",
      "HOUR_APPR_PROCESS_START    1670214 non-null int64\n",
      "SELLERPLACE_AREA           1670214 non-null int64\n",
      "SK_ID_CURR                 1670214 non-null int64\n",
      "SK_ID_PREV                 1670214 non-null int64\n",
      "dtypes: float64(1), int64(5)\n",
      "memory usage: 76.5 MB\n"
     ]
    }
   ],
   "source": [
    "data_dict[dataset_names[name_number]][datasets_num_features[dataset_names[name_number]]].info(verbose=10, null_counts=True)"
   ]
  },
  {
   "cell_type": "code",
   "execution_count": 84,
   "metadata": {},
   "outputs": [],
   "source": [
    "name_number = 8"
   ]
  },
  {
   "cell_type": "code",
   "execution_count": 85,
   "metadata": {},
   "outputs": [
    {
     "name": "stdout",
     "output_type": "stream",
     "text": [
      "<class 'pandas.core.frame.DataFrame'>\n",
      "RangeIndex: 48744 entries, 0 to 48743\n",
      "Data columns (total 1 columns):\n",
      "SK_ID_CURR    48744 non-null int64\n",
      "dtypes: int64(1)\n",
      "memory usage: 380.9 KB\n"
     ]
    }
   ],
   "source": [
    "data_dict[dataset_names[name_number]][datasets_num_features[dataset_names[name_number]]].info(verbose=10, null_counts=True)"
   ]
  },
  {
   "cell_type": "markdown",
   "metadata": {},
   "source": [
    "## Categorical columns"
   ]
  },
  {
   "cell_type": "code",
   "execution_count": 86,
   "metadata": {},
   "outputs": [],
   "source": [
    "name_number = 0"
   ]
  },
  {
   "cell_type": "code",
   "execution_count": 87,
   "metadata": {
    "scrolled": false
   },
   "outputs": [
    {
     "name": "stdout",
     "output_type": "stream",
     "text": [
      "<class 'pandas.core.frame.DataFrame'>\n",
      "RangeIndex: 307507 entries, 0 to 307506\n",
      "Data columns (total 6 columns):\n",
      "NAME_EDUCATION_TYPE           307507 non-null object\n",
      "NAME_FAMILY_STATUS            307507 non-null object\n",
      "NAME_HOUSING_TYPE             307507 non-null object\n",
      "NAME_INCOME_TYPE              307507 non-null object\n",
      "ORGANIZATION_TYPE             307507 non-null object\n",
      "WEEKDAY_APPR_PROCESS_START    307507 non-null object\n",
      "dtypes: object(6)\n",
      "memory usage: 14.1+ MB\n"
     ]
    }
   ],
   "source": [
    "data_dict[dataset_names[name_number]][datasets_cat_features[dataset_names[name_number]]].info(verbose=10, null_counts=True)"
   ]
  },
  {
   "cell_type": "code",
   "execution_count": 88,
   "metadata": {},
   "outputs": [],
   "source": [
    "name_number = 1"
   ]
  },
  {
   "cell_type": "code",
   "execution_count": 89,
   "metadata": {
    "scrolled": false
   },
   "outputs": [
    {
     "name": "stdout",
     "output_type": "stream",
     "text": [
      "<class 'pandas.core.frame.DataFrame'>\n",
      "RangeIndex: 48744 entries, 0 to 48743\n",
      "Data columns (total 6 columns):\n",
      "NAME_EDUCATION_TYPE           48744 non-null object\n",
      "NAME_FAMILY_STATUS            48744 non-null object\n",
      "NAME_HOUSING_TYPE             48744 non-null object\n",
      "NAME_INCOME_TYPE              48744 non-null object\n",
      "ORGANIZATION_TYPE             48744 non-null object\n",
      "WEEKDAY_APPR_PROCESS_START    48744 non-null object\n",
      "dtypes: object(6)\n",
      "memory usage: 2.2+ MB\n"
     ]
    }
   ],
   "source": [
    "data_dict[dataset_names[name_number]][datasets_cat_features[dataset_names[name_number]]].info(verbose=10, null_counts=True)"
   ]
  },
  {
   "cell_type": "code",
   "execution_count": 90,
   "metadata": {},
   "outputs": [],
   "source": [
    "name_number = 2"
   ]
  },
  {
   "cell_type": "code",
   "execution_count": 91,
   "metadata": {
    "scrolled": false
   },
   "outputs": [
    {
     "name": "stdout",
     "output_type": "stream",
     "text": [
      "<class 'pandas.core.frame.DataFrame'>\n",
      "RangeIndex: 1716428 entries, 0 to 1716427\n",
      "Data columns (total 3 columns):\n",
      "CREDIT_ACTIVE      1716428 non-null object\n",
      "CREDIT_CURRENCY    1716428 non-null object\n",
      "CREDIT_TYPE        1716428 non-null object\n",
      "dtypes: object(3)\n",
      "memory usage: 39.3+ MB\n"
     ]
    }
   ],
   "source": [
    "data_dict[dataset_names[name_number]][datasets_cat_features[dataset_names[name_number]]].info(verbose=10, null_counts=True)"
   ]
  },
  {
   "cell_type": "code",
   "execution_count": 92,
   "metadata": {},
   "outputs": [],
   "source": [
    "name_number = 3"
   ]
  },
  {
   "cell_type": "code",
   "execution_count": 93,
   "metadata": {},
   "outputs": [
    {
     "name": "stdout",
     "output_type": "stream",
     "text": [
      "<class 'pandas.core.frame.DataFrame'>\n",
      "RangeIndex: 27299925 entries, 0 to 27299924\n",
      "Data columns (total 1 columns):\n",
      "STATUS    27299925 non-null object\n",
      "dtypes: object(1)\n",
      "memory usage: 208.3+ MB\n"
     ]
    }
   ],
   "source": [
    "data_dict[dataset_names[name_number]][datasets_cat_features[dataset_names[name_number]]].info(verbose=10, null_counts=True)"
   ]
  },
  {
   "cell_type": "code",
   "execution_count": 94,
   "metadata": {},
   "outputs": [],
   "source": [
    "name_number = 4"
   ]
  },
  {
   "cell_type": "code",
   "execution_count": 95,
   "metadata": {},
   "outputs": [
    {
     "name": "stdout",
     "output_type": "stream",
     "text": [
      "<class 'pandas.core.frame.DataFrame'>\n",
      "RangeIndex: 3840312 entries, 0 to 3840311\n",
      "Data columns (total 1 columns):\n",
      "NAME_CONTRACT_STATUS    3840312 non-null object\n",
      "dtypes: object(1)\n",
      "memory usage: 29.3+ MB\n"
     ]
    }
   ],
   "source": [
    "data_dict[dataset_names[name_number]][datasets_cat_features[dataset_names[name_number]]].info(verbose=10, null_counts=True)"
   ]
  },
  {
   "cell_type": "code",
   "execution_count": 96,
   "metadata": {},
   "outputs": [],
   "source": [
    "name_number = 5"
   ]
  },
  {
   "cell_type": "code",
   "execution_count": 97,
   "metadata": {},
   "outputs": [
    {
     "name": "stdout",
     "output_type": "stream",
     "text": [
      "<class 'pandas.core.frame.DataFrame'>\n",
      "RangeIndex: 13605401 entries, 0 to 13605400\n",
      "Empty DataFrame"
     ]
    }
   ],
   "source": [
    "data_dict[dataset_names[name_number]][datasets_cat_features[dataset_names[name_number]]].info(verbose=10, null_counts=True)"
   ]
  },
  {
   "cell_type": "code",
   "execution_count": 98,
   "metadata": {},
   "outputs": [],
   "source": [
    "name_number = 6"
   ]
  },
  {
   "cell_type": "code",
   "execution_count": 99,
   "metadata": {
    "scrolled": true
   },
   "outputs": [
    {
     "name": "stdout",
     "output_type": "stream",
     "text": [
      "<class 'pandas.core.frame.DataFrame'>\n",
      "RangeIndex: 10001358 entries, 0 to 10001357\n",
      "Data columns (total 1 columns):\n",
      "NAME_CONTRACT_STATUS    10001358 non-null object\n",
      "dtypes: object(1)\n",
      "memory usage: 76.3+ MB\n"
     ]
    }
   ],
   "source": [
    "data_dict[dataset_names[name_number]][datasets_cat_features[dataset_names[name_number]]].info(verbose=10, null_counts=True)"
   ]
  },
  {
   "cell_type": "code",
   "execution_count": 100,
   "metadata": {},
   "outputs": [],
   "source": [
    "name_number = 7"
   ]
  },
  {
   "cell_type": "code",
   "execution_count": 101,
   "metadata": {
    "scrolled": true
   },
   "outputs": [
    {
     "name": "stdout",
     "output_type": "stream",
     "text": [
      "<class 'pandas.core.frame.DataFrame'>\n",
      "RangeIndex: 1670214 entries, 0 to 1670213\n",
      "Data columns (total 13 columns):\n",
      "CHANNEL_TYPE                  1670214 non-null object\n",
      "CODE_REJECT_REASON            1670214 non-null object\n",
      "NAME_CASH_LOAN_PURPOSE        1670214 non-null object\n",
      "NAME_CLIENT_TYPE              1670214 non-null object\n",
      "NAME_CONTRACT_STATUS          1670214 non-null object\n",
      "NAME_CONTRACT_TYPE            1670214 non-null object\n",
      "NAME_GOODS_CATEGORY           1670214 non-null object\n",
      "NAME_PAYMENT_TYPE             1670214 non-null object\n",
      "NAME_PORTFOLIO                1670214 non-null object\n",
      "NAME_PRODUCT_TYPE             1670214 non-null object\n",
      "NAME_SELLER_INDUSTRY          1670214 non-null object\n",
      "NAME_YIELD_GROUP              1670214 non-null object\n",
      "WEEKDAY_APPR_PROCESS_START    1670214 non-null object\n",
      "dtypes: object(13)\n",
      "memory usage: 165.7+ MB\n"
     ]
    }
   ],
   "source": [
    "data_dict[dataset_names[name_number]][datasets_cat_features[dataset_names[name_number]]].info(verbose=10, null_counts=True)"
   ]
  },
  {
   "cell_type": "code",
   "execution_count": 102,
   "metadata": {},
   "outputs": [],
   "source": [
    "name_number = 8"
   ]
  },
  {
   "cell_type": "code",
   "execution_count": 103,
   "metadata": {},
   "outputs": [
    {
     "name": "stdout",
     "output_type": "stream",
     "text": [
      "<class 'pandas.core.frame.DataFrame'>\n",
      "RangeIndex: 48744 entries, 0 to 48743\n",
      "Empty DataFrame"
     ]
    }
   ],
   "source": [
    "data_dict[dataset_names[name_number]][datasets_cat_features[dataset_names[name_number]]].info(verbose=10, null_counts=True)"
   ]
  },
  {
   "cell_type": "markdown",
   "metadata": {},
   "source": [
    "## Binary columns"
   ]
  },
  {
   "cell_type": "code",
   "execution_count": 104,
   "metadata": {},
   "outputs": [],
   "source": [
    "name_number = 0"
   ]
  },
  {
   "cell_type": "code",
   "execution_count": 105,
   "metadata": {
    "scrolled": false
   },
   "outputs": [
    {
     "name": "stdout",
     "output_type": "stream",
     "text": [
      "<class 'pandas.core.frame.DataFrame'>\n",
      "RangeIndex: 307507 entries, 0 to 307506\n",
      "Data columns (total 37 columns):\n",
      "CODE_GENDER                    307507 non-null int64\n",
      "FLAG_CONT_MOBILE               307507 non-null int64\n",
      "FLAG_DOCUMENT_10               307507 non-null int64\n",
      "FLAG_DOCUMENT_11               307507 non-null int64\n",
      "FLAG_DOCUMENT_12               307507 non-null int64\n",
      "FLAG_DOCUMENT_13               307507 non-null int64\n",
      "FLAG_DOCUMENT_14               307507 non-null int64\n",
      "FLAG_DOCUMENT_15               307507 non-null int64\n",
      "FLAG_DOCUMENT_16               307507 non-null int64\n",
      "FLAG_DOCUMENT_17               307507 non-null int64\n",
      "FLAG_DOCUMENT_18               307507 non-null int64\n",
      "FLAG_DOCUMENT_19               307507 non-null int64\n",
      "FLAG_DOCUMENT_2                307507 non-null int64\n",
      "FLAG_DOCUMENT_20               307507 non-null int64\n",
      "FLAG_DOCUMENT_21               307507 non-null int64\n",
      "FLAG_DOCUMENT_3                307507 non-null int64\n",
      "FLAG_DOCUMENT_4                307507 non-null int64\n",
      "FLAG_DOCUMENT_5                307507 non-null int64\n",
      "FLAG_DOCUMENT_6                307507 non-null int64\n",
      "FLAG_DOCUMENT_7                307507 non-null int64\n",
      "FLAG_DOCUMENT_8                307507 non-null int64\n",
      "FLAG_DOCUMENT_9                307507 non-null int64\n",
      "FLAG_EMAIL                     307507 non-null int64\n",
      "FLAG_EMP_PHONE                 307507 non-null int64\n",
      "FLAG_MOBIL                     307507 non-null int64\n",
      "FLAG_OWN_CAR                   307507 non-null int64\n",
      "FLAG_OWN_REALTY                307507 non-null int64\n",
      "FLAG_PHONE                     307507 non-null int64\n",
      "FLAG_WORK_PHONE                307507 non-null int64\n",
      "LIVE_CITY_NOT_WORK_CITY        307507 non-null int64\n",
      "LIVE_REGION_NOT_WORK_REGION    307507 non-null int64\n",
      "NAME_CONTRACT_TYPE             307507 non-null int64\n",
      "REG_CITY_NOT_LIVE_CITY         307507 non-null int64\n",
      "REG_CITY_NOT_WORK_CITY         307507 non-null int64\n",
      "REG_REGION_NOT_LIVE_REGION     307507 non-null int64\n",
      "REG_REGION_NOT_WORK_REGION     307507 non-null int64\n",
      "TARGET                         307507 non-null int64\n",
      "dtypes: int64(37)\n",
      "memory usage: 86.8 MB\n"
     ]
    }
   ],
   "source": [
    "data_dict[dataset_names[name_number]][datasets_bin_features[dataset_names[name_number]]].info(verbose=10, null_counts=True)"
   ]
  },
  {
   "cell_type": "code",
   "execution_count": 106,
   "metadata": {},
   "outputs": [],
   "source": [
    "name_number = 1"
   ]
  },
  {
   "cell_type": "code",
   "execution_count": 107,
   "metadata": {
    "scrolled": false
   },
   "outputs": [
    {
     "name": "stdout",
     "output_type": "stream",
     "text": [
      "<class 'pandas.core.frame.DataFrame'>\n",
      "RangeIndex: 48744 entries, 0 to 48743\n",
      "Data columns (total 25 columns):\n",
      "CODE_GENDER                    48744 non-null int64\n",
      "FLAG_CONT_MOBILE               48744 non-null int64\n",
      "FLAG_DOCUMENT_11               48744 non-null int64\n",
      "FLAG_DOCUMENT_18               48744 non-null int64\n",
      "FLAG_DOCUMENT_3                48744 non-null int64\n",
      "FLAG_DOCUMENT_4                48744 non-null int64\n",
      "FLAG_DOCUMENT_5                48744 non-null int64\n",
      "FLAG_DOCUMENT_6                48744 non-null int64\n",
      "FLAG_DOCUMENT_7                48744 non-null int64\n",
      "FLAG_DOCUMENT_8                48744 non-null int64\n",
      "FLAG_DOCUMENT_9                48744 non-null int64\n",
      "FLAG_EMAIL                     48744 non-null int64\n",
      "FLAG_EMP_PHONE                 48744 non-null int64\n",
      "FLAG_MOBIL                     48744 non-null int64\n",
      "FLAG_OWN_CAR                   48744 non-null int64\n",
      "FLAG_OWN_REALTY                48744 non-null int64\n",
      "FLAG_PHONE                     48744 non-null int64\n",
      "FLAG_WORK_PHONE                48744 non-null int64\n",
      "LIVE_CITY_NOT_WORK_CITY        48744 non-null int64\n",
      "LIVE_REGION_NOT_WORK_REGION    48744 non-null int64\n",
      "NAME_CONTRACT_TYPE             48744 non-null int64\n",
      "REG_CITY_NOT_LIVE_CITY         48744 non-null int64\n",
      "REG_CITY_NOT_WORK_CITY         48744 non-null int64\n",
      "REG_REGION_NOT_LIVE_REGION     48744 non-null int64\n",
      "REG_REGION_NOT_WORK_REGION     48744 non-null int64\n",
      "dtypes: int64(25)\n",
      "memory usage: 9.3 MB\n"
     ]
    }
   ],
   "source": [
    "data_dict[dataset_names[name_number]][datasets_bin_features[dataset_names[name_number]]].info(verbose=10, null_counts=True)"
   ]
  },
  {
   "cell_type": "code",
   "execution_count": 108,
   "metadata": {},
   "outputs": [],
   "source": [
    "name_number = 2"
   ]
  },
  {
   "cell_type": "code",
   "execution_count": 109,
   "metadata": {
    "scrolled": false
   },
   "outputs": [
    {
     "name": "stdout",
     "output_type": "stream",
     "text": [
      "<class 'pandas.core.frame.DataFrame'>\n",
      "RangeIndex: 1716428 entries, 0 to 1716427\n",
      "Empty DataFrame"
     ]
    }
   ],
   "source": [
    "data_dict[dataset_names[name_number]][datasets_bin_features[dataset_names[name_number]]].info(verbose=10, null_counts=True)"
   ]
  },
  {
   "cell_type": "code",
   "execution_count": 110,
   "metadata": {},
   "outputs": [],
   "source": [
    "name_number = 3"
   ]
  },
  {
   "cell_type": "code",
   "execution_count": 111,
   "metadata": {},
   "outputs": [
    {
     "name": "stdout",
     "output_type": "stream",
     "text": [
      "<class 'pandas.core.frame.DataFrame'>\n",
      "RangeIndex: 27299925 entries, 0 to 27299924\n",
      "Empty DataFrame"
     ]
    }
   ],
   "source": [
    "data_dict[dataset_names[name_number]][datasets_bin_features[dataset_names[name_number]]].info(verbose=10, null_counts=True)"
   ]
  },
  {
   "cell_type": "code",
   "execution_count": 112,
   "metadata": {},
   "outputs": [],
   "source": [
    "name_number = 4"
   ]
  },
  {
   "cell_type": "code",
   "execution_count": 113,
   "metadata": {},
   "outputs": [
    {
     "name": "stdout",
     "output_type": "stream",
     "text": [
      "<class 'pandas.core.frame.DataFrame'>\n",
      "RangeIndex: 3840312 entries, 0 to 3840311\n",
      "Empty DataFrame"
     ]
    }
   ],
   "source": [
    "data_dict[dataset_names[name_number]][datasets_bin_features[dataset_names[name_number]]].info(verbose=10, null_counts=True)"
   ]
  },
  {
   "cell_type": "code",
   "execution_count": 114,
   "metadata": {},
   "outputs": [],
   "source": [
    "name_number = 5"
   ]
  },
  {
   "cell_type": "code",
   "execution_count": 115,
   "metadata": {},
   "outputs": [
    {
     "name": "stdout",
     "output_type": "stream",
     "text": [
      "<class 'pandas.core.frame.DataFrame'>\n",
      "RangeIndex: 13605401 entries, 0 to 13605400\n",
      "Empty DataFrame"
     ]
    }
   ],
   "source": [
    "data_dict[dataset_names[name_number]][datasets_bin_features[dataset_names[name_number]]].info(verbose=10, null_counts=True)"
   ]
  },
  {
   "cell_type": "code",
   "execution_count": 116,
   "metadata": {},
   "outputs": [],
   "source": [
    "name_number = 6"
   ]
  },
  {
   "cell_type": "code",
   "execution_count": 117,
   "metadata": {
    "scrolled": true
   },
   "outputs": [
    {
     "name": "stdout",
     "output_type": "stream",
     "text": [
      "<class 'pandas.core.frame.DataFrame'>\n",
      "RangeIndex: 10001358 entries, 0 to 10001357\n",
      "Empty DataFrame"
     ]
    }
   ],
   "source": [
    "data_dict[dataset_names[name_number]][datasets_bin_features[dataset_names[name_number]]].info(verbose=10, null_counts=True)"
   ]
  },
  {
   "cell_type": "code",
   "execution_count": 118,
   "metadata": {},
   "outputs": [],
   "source": [
    "name_number = 7"
   ]
  },
  {
   "cell_type": "code",
   "execution_count": 119,
   "metadata": {
    "scrolled": true
   },
   "outputs": [
    {
     "name": "stdout",
     "output_type": "stream",
     "text": [
      "<class 'pandas.core.frame.DataFrame'>\n",
      "RangeIndex: 1670214 entries, 0 to 1670213\n",
      "Data columns (total 2 columns):\n",
      "FLAG_LAST_APPL_PER_CONTRACT    1670214 non-null int64\n",
      "NFLAG_LAST_APPL_IN_DAY         1670214 non-null int64\n",
      "dtypes: int64(2)\n",
      "memory usage: 25.5 MB\n"
     ]
    }
   ],
   "source": [
    "data_dict[dataset_names[name_number]][datasets_bin_features[dataset_names[name_number]]].info(verbose=10, null_counts=True)"
   ]
  },
  {
   "cell_type": "code",
   "execution_count": 120,
   "metadata": {},
   "outputs": [],
   "source": [
    "name_number = 8"
   ]
  },
  {
   "cell_type": "code",
   "execution_count": 121,
   "metadata": {},
   "outputs": [
    {
     "name": "stdout",
     "output_type": "stream",
     "text": [
      "<class 'pandas.core.frame.DataFrame'>\n",
      "RangeIndex: 48744 entries, 0 to 48743\n",
      "Empty DataFrame"
     ]
    }
   ],
   "source": [
    "data_dict[dataset_names[name_number]][datasets_bin_features[dataset_names[name_number]]].info(verbose=10, null_counts=True)"
   ]
  }
 ],
 "metadata": {
  "kernelspec": {
   "display_name": "Python 3",
   "language": "python",
   "name": "python3"
  },
  "language_info": {
   "codemirror_mode": {
    "name": "ipython",
    "version": 3
   },
   "file_extension": ".py",
   "mimetype": "text/x-python",
   "name": "python",
   "nbconvert_exporter": "python",
   "pygments_lexer": "ipython3",
   "version": "3.6.3"
  }
 },
 "nbformat": 4,
 "nbformat_minor": 1
}
