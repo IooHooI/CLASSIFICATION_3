{
 "cells": [
  {
   "cell_type": "markdown",
   "metadata": {},
   "source": [
    "# Все необходимые импорты"
   ]
  },
  {
   "cell_type": "code",
   "execution_count": 1,
   "metadata": {},
   "outputs": [],
   "source": [
    "import sys\n",
    "sys.path.append('..')"
   ]
  },
  {
   "cell_type": "code",
   "execution_count": 2,
   "metadata": {},
   "outputs": [],
   "source": [
    "from source.code.ItemSelector import ItemSelector\n",
    "from source.code.MyLabelBinarizer import MyLabelBinarizer"
   ]
  },
  {
   "cell_type": "code",
   "execution_count": 3,
   "metadata": {},
   "outputs": [],
   "source": [
    "import pandas as pd\n",
    "import numpy as np\n",
    "\n",
    "from sklearn.ensemble import BaggingClassifier\n",
    "from sklearn.ensemble import RandomForestClassifier\n",
    "from sklearn.ensemble import ExtraTreesClassifier\n",
    "\n",
    "from sklearn.model_selection import cross_val_score\n",
    "from sklearn.model_selection import GridSearchCV\n",
    "from sklearn.metrics import make_scorer\n",
    "from sklearn.metrics import roc_auc_score\n",
    "\n",
    "from imblearn.pipeline import Pipeline\n",
    "from sklearn.pipeline import FeatureUnion\n",
    "\n",
    "from imblearn.under_sampling import RandomUnderSampler"
   ]
  },
  {
   "cell_type": "markdown",
   "metadata": {},
   "source": [
    "# Выбрать random_state"
   ]
  },
  {
   "cell_type": "code",
   "execution_count": 4,
   "metadata": {},
   "outputs": [],
   "source": [
    "random_state = 42"
   ]
  },
  {
   "cell_type": "markdown",
   "metadata": {},
   "source": [
    "# Вспомогательные функции"
   ]
  },
  {
   "cell_type": "code",
   "execution_count": 5,
   "metadata": {},
   "outputs": [],
   "source": [
    "def read_columns(path):\n",
    "    with open(path, 'r') as file:\n",
    "        columns = file.readlines()\n",
    "        columns = list(map(str.rstrip, columns))\n",
    "    return columns"
   ]
  },
  {
   "cell_type": "code",
   "execution_count": 6,
   "metadata": {},
   "outputs": [],
   "source": [
    "def generate_pipeline(column):\n",
    "    return  (column, Pipeline([\n",
    "        ('choose', ItemSelector(column)),\n",
    "        ('binarize', MyLabelBinarizer())\n",
    "    ]))"
   ]
  },
  {
   "cell_type": "markdown",
   "metadata": {},
   "source": [
    "# Чтение данных"
   ]
  },
  {
   "cell_type": "code",
   "execution_count": 7,
   "metadata": {},
   "outputs": [],
   "source": [
    "train = pd.read_csv('../data/dataset/application_train.csv')"
   ]
  },
  {
   "cell_type": "code",
   "execution_count": 8,
   "metadata": {},
   "outputs": [],
   "source": [
    "train = train[train.CODE_GENDER != 'XNA']"
   ]
  },
  {
   "cell_type": "code",
   "execution_count": 9,
   "metadata": {},
   "outputs": [],
   "source": [
    "train = train[train.NAME_FAMILY_STATUS != 'Unknown']"
   ]
  },
  {
   "cell_type": "code",
   "execution_count": 10,
   "metadata": {},
   "outputs": [],
   "source": [
    "train = train[train.NAME_INCOME_TYPE != 'Maternity leave']"
   ]
  },
  {
   "cell_type": "code",
   "execution_count": 11,
   "metadata": {},
   "outputs": [],
   "source": [
    "test = pd.read_csv('../data/dataset/application_test.csv')"
   ]
  },
  {
   "cell_type": "code",
   "execution_count": 12,
   "metadata": {},
   "outputs": [],
   "source": [
    "na_columns = read_columns('../data/train_test_na_columns.txt')"
   ]
  },
  {
   "cell_type": "code",
   "execution_count": 13,
   "metadata": {},
   "outputs": [],
   "source": [
    "highly_correlated_columns = read_columns('../data/train_test_highly_correlated_columns.txt')"
   ]
  },
  {
   "cell_type": "code",
   "execution_count": 14,
   "metadata": {},
   "outputs": [],
   "source": [
    "categorical_columns = read_columns('../data/train_test_categorical_columns.txt')"
   ]
  },
  {
   "cell_type": "code",
   "execution_count": 15,
   "metadata": {},
   "outputs": [],
   "source": [
    "binary_columns = read_columns('../data/train_test_binary_columns.txt')"
   ]
  },
  {
   "cell_type": "markdown",
   "metadata": {},
   "source": [
    "# Предобработка"
   ]
  },
  {
   "cell_type": "markdown",
   "metadata": {},
   "source": [
    "Пока что попробуем обойтись только этими данными, без хитростей с заполнениями пропусков:"
   ]
  },
  {
   "cell_type": "code",
   "execution_count": 16,
   "metadata": {},
   "outputs": [],
   "source": [
    "train = train[list(set(train.columns) - (set(na_columns) | set(highly_correlated_columns)))]"
   ]
  },
  {
   "cell_type": "code",
   "execution_count": 17,
   "metadata": {},
   "outputs": [],
   "source": [
    "test = test[list(set(test.columns) - (set(na_columns) | set(highly_correlated_columns)))]"
   ]
  },
  {
   "cell_type": "code",
   "execution_count": 18,
   "metadata": {},
   "outputs": [],
   "source": [
    "continuous_columns = list(\n",
    "    set(test.columns) - (set(binary_columns) | set(categorical_columns) | set(['SK_ID_CURR']))\n",
    ")"
   ]
  },
  {
   "cell_type": "code",
   "execution_count": 19,
   "metadata": {},
   "outputs": [],
   "source": [
    "X = train[test.columns]"
   ]
  },
  {
   "cell_type": "code",
   "execution_count": 20,
   "metadata": {},
   "outputs": [],
   "source": [
    "Y = train['TARGET']"
   ]
  },
  {
   "cell_type": "code",
   "execution_count": 21,
   "metadata": {},
   "outputs": [
    {
     "name": "stdout",
     "output_type": "stream",
     "text": [
      "<class 'pandas.core.frame.DataFrame'>\n",
      "Int64Index: 307500 entries, 0 to 307510\n",
      "Data columns (total 53 columns):\n",
      "FLAG_PHONE                     307500 non-null int64\n",
      "FLAG_OWN_CAR                   307500 non-null object\n",
      "FLAG_DOCUMENT_21               307500 non-null int64\n",
      "FLAG_DOCUMENT_7                307500 non-null int64\n",
      "DAYS_EMPLOYED                  307500 non-null int64\n",
      "FLAG_WORK_PHONE                307500 non-null int64\n",
      "REGION_RATING_CLIENT           307500 non-null int64\n",
      "REG_CITY_NOT_WORK_CITY         307500 non-null int64\n",
      "FLAG_DOCUMENT_6                307500 non-null int64\n",
      "FLAG_DOCUMENT_10               307500 non-null int64\n",
      "FLAG_DOCUMENT_5                307500 non-null int64\n",
      "REG_REGION_NOT_WORK_REGION     307500 non-null int64\n",
      "AMT_CREDIT                     307500 non-null float64\n",
      "FLAG_DOCUMENT_16               307500 non-null int64\n",
      "WEEKDAY_APPR_PROCESS_START     307500 non-null object\n",
      "CNT_CHILDREN                   307500 non-null int64\n",
      "FLAG_CONT_MOBILE               307500 non-null int64\n",
      "ORGANIZATION_TYPE              307500 non-null object\n",
      "FLAG_OWN_REALTY                307500 non-null object\n",
      "FLAG_DOCUMENT_18               307500 non-null int64\n",
      "HOUR_APPR_PROCESS_START        307500 non-null int64\n",
      "NAME_HOUSING_TYPE              307500 non-null object\n",
      "FLAG_MOBIL                     307500 non-null int64\n",
      "NAME_CONTRACT_TYPE             307500 non-null object\n",
      "DAYS_ID_PUBLISH                307500 non-null int64\n",
      "REG_REGION_NOT_LIVE_REGION     307500 non-null int64\n",
      "FLAG_DOCUMENT_12               307500 non-null int64\n",
      "NAME_INCOME_TYPE               307500 non-null object\n",
      "NAME_FAMILY_STATUS             307500 non-null object\n",
      "FLAG_DOCUMENT_8                307500 non-null int64\n",
      "FLAG_DOCUMENT_2                307500 non-null int64\n",
      "DAYS_REGISTRATION              307500 non-null float64\n",
      "FLAG_EMP_PHONE                 307500 non-null int64\n",
      "FLAG_DOCUMENT_3                307500 non-null int64\n",
      "FLAG_DOCUMENT_13               307500 non-null int64\n",
      "DAYS_BIRTH                     307500 non-null int64\n",
      "CODE_GENDER                    307500 non-null object\n",
      "FLAG_DOCUMENT_15               307500 non-null int64\n",
      "FLAG_EMAIL                     307500 non-null int64\n",
      "FLAG_DOCUMENT_14               307500 non-null int64\n",
      "NAME_EDUCATION_TYPE            307500 non-null object\n",
      "FLAG_DOCUMENT_11               307500 non-null int64\n",
      "FLAG_DOCUMENT_19               307500 non-null int64\n",
      "AMT_INCOME_TOTAL               307500 non-null float64\n",
      "SK_ID_CURR                     307500 non-null int64\n",
      "FLAG_DOCUMENT_4                307500 non-null int64\n",
      "REG_CITY_NOT_LIVE_CITY         307500 non-null int64\n",
      "FLAG_DOCUMENT_17               307500 non-null int64\n",
      "LIVE_REGION_NOT_WORK_REGION    307500 non-null int64\n",
      "FLAG_DOCUMENT_20               307500 non-null int64\n",
      "FLAG_DOCUMENT_9                307500 non-null int64\n",
      "LIVE_CITY_NOT_WORK_CITY        307500 non-null int64\n",
      "REGION_POPULATION_RELATIVE     307500 non-null float64\n",
      "dtypes: float64(4), int64(39), object(10)\n",
      "memory usage: 126.7+ MB\n"
     ]
    }
   ],
   "source": [
    "X.info()"
   ]
  },
  {
   "cell_type": "code",
   "execution_count": 22,
   "metadata": {},
   "outputs": [
    {
     "data": {
      "text/plain": [
       "0    282677\n",
       "1     24823\n",
       "Name: TARGET, dtype: int64"
      ]
     },
     "execution_count": 22,
     "metadata": {},
     "output_type": "execute_result"
    }
   ],
   "source": [
    "Y.value_counts()"
   ]
  },
  {
   "cell_type": "markdown",
   "metadata": {},
   "source": [
    "Классы не сбалансированы.\n",
    "\n",
    "Надо поправить.\n",
    "\n",
    "Перед этим надо бинаризовать все поля, где есть символьные обозначения:"
   ]
  },
  {
   "cell_type": "code",
   "execution_count": 23,
   "metadata": {},
   "outputs": [],
   "source": [
    "pipeline = Pipeline([\n",
    "    ('union', FeatureUnion(\n",
    "        list(map(generate_pipeline, binary_columns)) + \\\n",
    "        list(map(generate_pipeline, categorical_columns)) + \\\n",
    "        [('all_other_features', Pipeline([('choose', ItemSelector(continuous_columns))]))]\n",
    "    ))\n",
    "])"
   ]
  },
  {
   "cell_type": "code",
   "execution_count": 24,
   "metadata": {
    "scrolled": false
   },
   "outputs": [],
   "source": [
    "X_tr = pd.DataFrame(pipeline.fit_transform(X))"
   ]
  },
  {
   "cell_type": "code",
   "execution_count": 25,
   "metadata": {},
   "outputs": [
    {
     "name": "stdout",
     "output_type": "stream",
     "text": [
      "<class 'pandas.core.frame.DataFrame'>\n",
      "RangeIndex: 307500 entries, 0 to 307499\n",
      "Columns: 134 entries, 0 to 133\n",
      "dtypes: float64(134)\n",
      "memory usage: 314.4 MB\n"
     ]
    }
   ],
   "source": [
    "X_tr.info()"
   ]
  },
  {
   "cell_type": "code",
   "execution_count": 26,
   "metadata": {},
   "outputs": [],
   "source": [
    "pipeline = Pipeline([\n",
    "    ('union', FeatureUnion(\n",
    "        list(map(generate_pipeline, binary_columns)) + \\\n",
    "        list(map(generate_pipeline, categorical_columns)) + \\\n",
    "        [('all_other_features', Pipeline([('choose', ItemSelector(continuous_columns))]))]\n",
    "    ))\n",
    "])"
   ]
  },
  {
   "cell_type": "code",
   "execution_count": 27,
   "metadata": {
    "scrolled": false
   },
   "outputs": [],
   "source": [
    "test_tr = pd.DataFrame(pipeline.fit_transform(test))"
   ]
  },
  {
   "cell_type": "code",
   "execution_count": 28,
   "metadata": {},
   "outputs": [
    {
     "name": "stdout",
     "output_type": "stream",
     "text": [
      "<class 'pandas.core.frame.DataFrame'>\n",
      "RangeIndex: 48744 entries, 0 to 48743\n",
      "Columns: 134 entries, 0 to 133\n",
      "dtypes: float64(134)\n",
      "memory usage: 49.8 MB\n"
     ]
    }
   ],
   "source": [
    "test_tr.info()"
   ]
  },
  {
   "cell_type": "code",
   "execution_count": 29,
   "metadata": {},
   "outputs": [
    {
     "name": "stdout",
     "output_type": "stream",
     "text": [
      "307500 307500\n"
     ]
    }
   ],
   "source": [
    "print(len(X_tr), len(Y))"
   ]
  },
  {
   "cell_type": "markdown",
   "metadata": {},
   "source": [
    "Тперь можно попробовать и сбалансировать:"
   ]
  },
  {
   "cell_type": "code",
   "execution_count": 30,
   "metadata": {},
   "outputs": [],
   "source": [
    "X_b, Y_b = RandomUnderSampler(random_state=random_state).fit_sample(X_tr, Y)"
   ]
  },
  {
   "cell_type": "code",
   "execution_count": 31,
   "metadata": {},
   "outputs": [
    {
     "name": "stdout",
     "output_type": "stream",
     "text": [
      "24823 49646\n"
     ]
    }
   ],
   "source": [
    "print(sum(Y_b), len(Y_b))"
   ]
  },
  {
   "cell_type": "markdown",
   "metadata": {},
   "source": [
    "# Baseline-модель"
   ]
  },
  {
   "cell_type": "code",
   "execution_count": 32,
   "metadata": {},
   "outputs": [
    {
     "data": {
      "text/plain": [
       "array([0.58072508, 0.57904278, 0.58103698])"
      ]
     },
     "execution_count": 32,
     "metadata": {},
     "output_type": "execute_result"
    }
   ],
   "source": [
    "cross_val_score(BaggingClassifier(random_state=random_state), X_b, Y_b, scoring=make_scorer(roc_auc_score))"
   ]
  },
  {
   "cell_type": "code",
   "execution_count": 33,
   "metadata": {},
   "outputs": [
    {
     "data": {
      "text/plain": [
       "array([0.58338369, 0.57704859, 0.58043268])"
      ]
     },
     "execution_count": 33,
     "metadata": {},
     "output_type": "execute_result"
    }
   ],
   "source": [
    "cross_val_score(RandomForestClassifier(random_state=random_state), X_b, Y_b, scoring=make_scorer(roc_auc_score))"
   ]
  },
  {
   "cell_type": "code",
   "execution_count": 34,
   "metadata": {},
   "outputs": [
    {
     "data": {
      "text/plain": [
       "array([0.57480363, 0.56550641, 0.56961566])"
      ]
     },
     "execution_count": 34,
     "metadata": {},
     "output_type": "execute_result"
    }
   ],
   "source": [
    "cross_val_score(ExtraTreesClassifier(random_state=random_state), X_b, Y_b, scoring=make_scorer(roc_auc_score))"
   ]
  },
  {
   "cell_type": "code",
   "execution_count": 69,
   "metadata": {},
   "outputs": [],
   "source": [
    "classifier = RandomForestClassifier(random_state=random_state)"
   ]
  },
  {
   "cell_type": "code",
   "execution_count": 70,
   "metadata": {},
   "outputs": [
    {
     "data": {
      "text/plain": [
       "RandomForestClassifier(bootstrap=True, class_weight=None, criterion='gini',\n",
       "            max_depth=None, max_features='auto', max_leaf_nodes=None,\n",
       "            min_impurity_decrease=0.0, min_impurity_split=None,\n",
       "            min_samples_leaf=1, min_samples_split=2,\n",
       "            min_weight_fraction_leaf=0.0, n_estimators=10, n_jobs=1,\n",
       "            oob_score=False, random_state=42, verbose=0, warm_start=False)"
      ]
     },
     "execution_count": 70,
     "metadata": {},
     "output_type": "execute_result"
    }
   ],
   "source": [
    "classifier.fit(X_b, Y_b)"
   ]
  },
  {
   "cell_type": "code",
   "execution_count": 71,
   "metadata": {},
   "outputs": [],
   "source": [
    "y_est = classifier.predict_proba(test_tr)"
   ]
  },
  {
   "cell_type": "code",
   "execution_count": 72,
   "metadata": {},
   "outputs": [
    {
     "data": {
      "text/plain": [
       "(48744,)"
      ]
     },
     "execution_count": 72,
     "metadata": {},
     "output_type": "execute_result"
    }
   ],
   "source": [
    "y_est[:, 1].shape"
   ]
  },
  {
   "cell_type": "code",
   "execution_count": 73,
   "metadata": {},
   "outputs": [],
   "source": [
    "result = pd.DataFrame({\n",
    "    'SK_ID_CURR': test.SK_ID_CURR.values,\n",
    "    'TARGET': y_est[:, 1]\n",
    "})"
   ]
  },
  {
   "cell_type": "code",
   "execution_count": 74,
   "metadata": {},
   "outputs": [],
   "source": [
    "result.to_csv('../data/dataset/baseline_submission.csv', index=False)"
   ]
  },
  {
   "cell_type": "markdown",
   "metadata": {},
   "source": [
    "# Потюним гиперпараметры"
   ]
  },
  {
   "cell_type": "markdown",
   "metadata": {},
   "source": [
    "# ExtraTreesClassifier"
   ]
  },
  {
   "cell_type": "code",
   "execution_count": 41,
   "metadata": {},
   "outputs": [
    {
     "data": {
      "text/plain": [
       "{'bootstrap': False,\n",
       " 'class_weight': None,\n",
       " 'criterion': 'gini',\n",
       " 'max_depth': None,\n",
       " 'max_features': 'auto',\n",
       " 'max_leaf_nodes': None,\n",
       " 'min_impurity_decrease': 0.0,\n",
       " 'min_impurity_split': None,\n",
       " 'min_samples_leaf': 1,\n",
       " 'min_samples_split': 2,\n",
       " 'min_weight_fraction_leaf': 0.0,\n",
       " 'n_estimators': 10,\n",
       " 'n_jobs': 1,\n",
       " 'oob_score': False,\n",
       " 'random_state': 42,\n",
       " 'verbose': 0,\n",
       " 'warm_start': False}"
      ]
     },
     "execution_count": 41,
     "metadata": {},
     "output_type": "execute_result"
    }
   ],
   "source": [
    "classifier.get_params()"
   ]
  },
  {
   "cell_type": "code",
   "execution_count": 42,
   "metadata": {},
   "outputs": [],
   "source": [
    "params_grid = {\n",
    "    'bootstrap': [False, True],\n",
    "    'n_estimators': [10, 15, 20, 25, 30],\n",
    "    'criterion': ['gini', 'entropy']\n",
    "}"
   ]
  },
  {
   "cell_type": "code",
   "execution_count": 43,
   "metadata": {},
   "outputs": [],
   "source": [
    "grid = GridSearchCV(\n",
    "    ExtraTreesClassifier(random_state=random_state),\n",
    "    param_grid=params_grid,\n",
    "    scoring=make_scorer(roc_auc_score),\n",
    "    verbose=10,\n",
    "    n_jobs=-1\n",
    ")"
   ]
  },
  {
   "cell_type": "code",
   "execution_count": 44,
   "metadata": {
    "scrolled": false
   },
   "outputs": [
    {
     "name": "stdout",
     "output_type": "stream",
     "text": [
      "Fitting 3 folds for each of 20 candidates, totalling 60 fits\n",
      "[CV] bootstrap=False, criterion=gini, n_estimators=10 ................\n",
      "[CV] bootstrap=False, criterion=gini, n_estimators=10 ................\n",
      "[CV] bootstrap=False, criterion=gini, n_estimators=10 ................\n",
      "[CV] bootstrap=False, criterion=gini, n_estimators=15 ................\n",
      "[CV]  bootstrap=False, criterion=gini, n_estimators=10, score=0.5748036253776435, total=   1.8s\n",
      "[CV] bootstrap=False, criterion=gini, n_estimators=15 ................\n",
      "[CV]  bootstrap=False, criterion=gini, n_estimators=10, score=0.5655064056079285, total=   1.9s\n",
      "[CV] bootstrap=False, criterion=gini, n_estimators=15 ................\n",
      "[CV]  bootstrap=False, criterion=gini, n_estimators=10, score=0.569615663524293, total=   2.1s\n",
      "[CV] bootstrap=False, criterion=gini, n_estimators=20 ................\n",
      "[CV]  bootstrap=False, criterion=gini, n_estimators=15, score=0.5827794561933535, total=   3.1s\n",
      "[CV] bootstrap=False, criterion=gini, n_estimators=20 ................\n",
      "[CV]  bootstrap=False, criterion=gini, n_estimators=15, score=0.5774111675126903, total=   3.1s\n",
      "[CV] bootstrap=False, criterion=gini, n_estimators=20 ................\n"
     ]
    },
    {
     "name": "stderr",
     "output_type": "stream",
     "text": [
      "[Parallel(n_jobs=-1)]: Done   5 tasks      | elapsed:    5.7s\n"
     ]
    },
    {
     "name": "stdout",
     "output_type": "stream",
     "text": [
      "[CV]  bootstrap=False, criterion=gini, n_estimators=15, score=0.581339134638627, total=   3.1s\n",
      "[CV] bootstrap=False, criterion=gini, n_estimators=25 ................\n",
      "[CV]  bootstrap=False, criterion=gini, n_estimators=20, score=0.590453172205438, total=   3.7s\n",
      "[CV] bootstrap=False, criterion=gini, n_estimators=25 ................\n",
      "[CV]  bootstrap=False, criterion=gini, n_estimators=20, score=0.5836354846507131, total=   3.6s\n",
      "[CV] bootstrap=False, criterion=gini, n_estimators=25 ................\n",
      "[CV]  bootstrap=False, criterion=gini, n_estimators=20, score=0.5868382886149384, total=   3.7s\n",
      "[CV] bootstrap=False, criterion=gini, n_estimators=30 ................\n",
      "[CV]  bootstrap=False, criterion=gini, n_estimators=25, score=0.5911178247734139, total=   4.7s\n",
      "[CV] bootstrap=False, criterion=gini, n_estimators=30 ................\n"
     ]
    },
    {
     "name": "stderr",
     "output_type": "stream",
     "text": [
      "[Parallel(n_jobs=-1)]: Done  10 tasks      | elapsed:   11.3s\n"
     ]
    },
    {
     "name": "stdout",
     "output_type": "stream",
     "text": [
      "[CV]  bootstrap=False, criterion=gini, n_estimators=25, score=0.583816775441141, total=   4.5s\n",
      "[CV] bootstrap=False, criterion=gini, n_estimators=30 ................\n",
      "[CV]  bootstrap=False, criterion=gini, n_estimators=25, score=0.5903432438965434, total=   4.7s\n",
      "[CV] bootstrap=False, criterion=entropy, n_estimators=10 .............\n",
      "[CV]  bootstrap=False, criterion=entropy, n_estimators=10, score=0.5682779456193353, total=   2.2s\n",
      "[CV] bootstrap=False, criterion=entropy, n_estimators=10 .............\n",
      "[CV]  bootstrap=False, criterion=gini, n_estimators=30, score=0.5895468277945619, total=   6.1s\n",
      "[CV] bootstrap=False, criterion=entropy, n_estimators=10 .............\n",
      "[CV]  bootstrap=False, criterion=gini, n_estimators=30, score=0.5864757070340827, total=   6.1s\n",
      "[CV]  bootstrap=False, criterion=entropy, n_estimators=10, score=0.5684070582547739, total=   2.2s\n",
      "[CV] bootstrap=False, criterion=entropy, n_estimators=15 .............\n",
      "[CV] bootstrap=False, criterion=entropy, n_estimators=15 .............\n",
      "[CV]  bootstrap=False, criterion=gini, n_estimators=30, score=0.5922165820642978, total=   5.7s\n",
      "[CV] bootstrap=False, criterion=entropy, n_estimators=15 .............\n",
      "[CV]  bootstrap=False, criterion=entropy, n_estimators=10, score=0.5724558859076625, total=   2.0s\n"
     ]
    },
    {
     "name": "stderr",
     "output_type": "stream",
     "text": [
      "[Parallel(n_jobs=-1)]: Done  17 tasks      | elapsed:   18.7s\n"
     ]
    },
    {
     "name": "stdout",
     "output_type": "stream",
     "text": [
      "[CV] bootstrap=False, criterion=entropy, n_estimators=20 .............\n",
      "[CV]  bootstrap=False, criterion=entropy, n_estimators=15, score=0.5772809667673716, total=   3.3s\n",
      "[CV] bootstrap=False, criterion=entropy, n_estimators=20 .............\n",
      "[CV]  bootstrap=False, criterion=entropy, n_estimators=15, score=0.5803118201595359, total=   2.8s\n",
      "[CV]  bootstrap=False, criterion=entropy, n_estimators=15, score=0.5720328740633309, total=   3.2s\n",
      "[CV] bootstrap=False, criterion=entropy, n_estimators=20 .............\n",
      "[CV] bootstrap=False, criterion=entropy, n_estimators=25 .............\n",
      "[CV]  bootstrap=False, criterion=entropy, n_estimators=20, score=0.5838670694864049, total=   4.5s\n",
      "[CV] bootstrap=False, criterion=entropy, n_estimators=25 .............\n",
      "[CV]  bootstrap=False, criterion=entropy, n_estimators=20, score=0.5853275320280397, total=   4.6s\n",
      "[CV] bootstrap=False, criterion=entropy, n_estimators=25 .............\n",
      "[CV]  bootstrap=False, criterion=entropy, n_estimators=20, score=0.5775924583031182, total=   5.0s\n",
      "[CV] bootstrap=False, criterion=entropy, n_estimators=30 .............\n"
     ]
    },
    {
     "name": "stderr",
     "output_type": "stream",
     "text": [
      "[Parallel(n_jobs=-1)]: Done  24 tasks      | elapsed:   27.4s\n"
     ]
    },
    {
     "name": "stdout",
     "output_type": "stream",
     "text": [
      "[CV]  bootstrap=False, criterion=entropy, n_estimators=25, score=0.5851359516616315, total=   6.5s\n",
      "[CV] bootstrap=False, criterion=entropy, n_estimators=30 .............\n",
      "[CV]  bootstrap=False, criterion=entropy, n_estimators=25, score=0.5829103214890017, total=   5.5s\n",
      "[CV] bootstrap=False, criterion=entropy, n_estimators=30 .............\n",
      "[CV]  bootstrap=False, criterion=entropy, n_estimators=25, score=0.5891950688905004, total=   5.4s\n",
      "[CV] bootstrap=True, criterion=gini, n_estimators=10 .................\n",
      "[CV]  bootstrap=True, criterion=gini, n_estimators=10, score=0.5737764350453172, total=   1.3s\n",
      "[CV] bootstrap=True, criterion=gini, n_estimators=10 .................\n",
      "[CV]  bootstrap=False, criterion=entropy, n_estimators=30, score=0.5876132930513596, total=   6.5s\n",
      "[CV] bootstrap=True, criterion=gini, n_estimators=10 .................\n",
      "[CV]  bootstrap=False, criterion=entropy, n_estimators=30, score=0.5840584964950447, total=   6.0s\n",
      "[CV] bootstrap=True, criterion=gini, n_estimators=15 .................\n",
      "[CV]  bootstrap=True, criterion=gini, n_estimators=10, score=0.5676818950930625, total=   1.5s\n",
      "[CV] bootstrap=True, criterion=gini, n_estimators=15 .................\n",
      "[CV]  bootstrap=True, criterion=gini, n_estimators=10, score=0.5798283780517283, total=   1.4s\n",
      "[CV] bootstrap=True, criterion=gini, n_estimators=15 .................\n",
      "[CV]  bootstrap=False, criterion=entropy, n_estimators=30, score=0.5926395939086295, total=   6.2s\n",
      "[CV] bootstrap=True, criterion=gini, n_estimators=20 .................\n"
     ]
    },
    {
     "name": "stderr",
     "output_type": "stream",
     "text": [
      "[Parallel(n_jobs=-1)]: Done  33 tasks      | elapsed:   37.2s\n"
     ]
    },
    {
     "name": "stdout",
     "output_type": "stream",
     "text": [
      "[CV]  bootstrap=True, criterion=gini, n_estimators=15, score=0.5855589123867069, total=   2.1s\n",
      "[CV] bootstrap=True, criterion=gini, n_estimators=20 .................\n",
      "[CV]  bootstrap=True, criterion=gini, n_estimators=15, score=0.576565143824027, total=   2.1s\n",
      "[CV] bootstrap=True, criterion=gini, n_estimators=20 .................\n",
      "[CV]  bootstrap=True, criterion=gini, n_estimators=15, score=0.5898598017887359, total=   2.0s\n",
      "[CV] bootstrap=True, criterion=gini, n_estimators=25 .................\n",
      "[CV]  bootstrap=True, criterion=gini, n_estimators=20, score=0.5886404833836858, total=   2.7s\n",
      "[CV] bootstrap=True, criterion=gini, n_estimators=25 .................\n",
      "[CV]  bootstrap=True, criterion=gini, n_estimators=20, score=0.581399564902103, total=   2.6s\n",
      "[CV] bootstrap=True, criterion=gini, n_estimators=25 .................\n",
      "[CV]  bootstrap=True, criterion=gini, n_estimators=20, score=0.5904036741600193, total=   2.5s\n",
      "[CV] bootstrap=True, criterion=gini, n_estimators=30 .................\n",
      "[CV]  bootstrap=True, criterion=gini, n_estimators=25, score=0.5929909365558912, total=   3.4s\n",
      "[CV] bootstrap=True, criterion=gini, n_estimators=30 .................\n",
      "[CV]  bootstrap=True, criterion=gini, n_estimators=25, score=0.5857505438723712, total=   3.3s\n",
      "[CV] bootstrap=True, criterion=gini, n_estimators=30 .................\n",
      "[CV]  bootstrap=True, criterion=gini, n_estimators=25, score=0.5944525018129079, total=   3.5s\n",
      "[CV] bootstrap=True, criterion=entropy, n_estimators=10 ..............\n"
     ]
    },
    {
     "name": "stderr",
     "output_type": "stream",
     "text": [
      "[Parallel(n_jobs=-1)]: Done  42 tasks      | elapsed:   45.6s\n"
     ]
    },
    {
     "name": "stdout",
     "output_type": "stream",
     "text": [
      "[CV]  bootstrap=True, criterion=gini, n_estimators=30, score=0.5929909365558913, total=   3.8s\n",
      "[CV] bootstrap=True, criterion=entropy, n_estimators=10 ..............\n",
      "[CV]  bootstrap=True, criterion=entropy, n_estimators=10, score=0.5699093655589124, total=   1.6s\n",
      "[CV] bootstrap=True, criterion=entropy, n_estimators=10 ..............\n",
      "[CV]  bootstrap=True, criterion=gini, n_estimators=30, score=0.5879864636209814, total=   4.1s\n",
      "[CV] bootstrap=True, criterion=entropy, n_estimators=15 ..............\n",
      "[CV]  bootstrap=True, criterion=entropy, n_estimators=10, score=0.5711264201111917, total=   1.5s\n",
      "[CV] bootstrap=True, criterion=entropy, n_estimators=15 ..............\n",
      "[CV]  bootstrap=True, criterion=gini, n_estimators=30, score=0.5970510031423738, total=   3.8s\n",
      "[CV] bootstrap=True, criterion=entropy, n_estimators=15 ..............\n",
      "[CV]  bootstrap=True, criterion=entropy, n_estimators=10, score=0.5728184674885183, total=   1.6s\n",
      "[CV] bootstrap=True, criterion=entropy, n_estimators=20 ..............\n",
      "[CV]  bootstrap=True, criterion=entropy, n_estimators=15, score=0.5827290306985738, total=   2.1s\n",
      "[CV]  bootstrap=True, criterion=entropy, n_estimators=15, score=0.578308157099698, total=   2.3s\n",
      "[CV] bootstrap=True, criterion=entropy, n_estimators=20 ..............\n",
      "[CV] bootstrap=True, criterion=entropy, n_estimators=20 ..............\n",
      "[CV]  bootstrap=True, criterion=entropy, n_estimators=15, score=0.578982354363065, total=   2.1s\n",
      "[CV] bootstrap=True, criterion=entropy, n_estimators=25 ..............\n",
      "[CV]  bootstrap=True, criterion=entropy, n_estimators=20, score=0.5832628398791541, total=   2.7s\n",
      "[CV] bootstrap=True, criterion=entropy, n_estimators=25 ..............\n",
      "[CV]  bootstrap=True, criterion=entropy, n_estimators=20, score=0.5863548465071308, total=   2.6s\n",
      "[CV] bootstrap=True, criterion=entropy, n_estimators=25 ..............\n"
     ]
    },
    {
     "name": "stderr",
     "output_type": "stream",
     "text": [
      "[Parallel(n_jobs=-1)]: Done  53 tasks      | elapsed:   53.4s\n"
     ]
    },
    {
     "name": "stdout",
     "output_type": "stream",
     "text": [
      "[CV]  bootstrap=True, criterion=entropy, n_estimators=20, score=0.5815808556925308, total=   2.7s\n",
      "[CV] bootstrap=True, criterion=entropy, n_estimators=30 ..............\n",
      "[CV]  bootstrap=True, criterion=entropy, n_estimators=25, score=0.5890030211480363, total=   3.3s\n",
      "[CV] bootstrap=True, criterion=entropy, n_estimators=30 ..............\n",
      "[CV]  bootstrap=True, criterion=entropy, n_estimators=25, score=0.587382160986222, total=   3.3s\n",
      "[CV] bootstrap=True, criterion=entropy, n_estimators=30 ..............\n",
      "[CV]  bootstrap=True, criterion=entropy, n_estimators=25, score=0.5852671017645636, total=   3.4s\n",
      "[CV]  bootstrap=True, criterion=entropy, n_estimators=30, score=0.5909969788519638, total=   3.9s\n",
      "[CV]  bootstrap=True, criterion=entropy, n_estimators=30, score=0.5877447425670776, total=   3.3s\n",
      "[CV]  bootstrap=True, criterion=entropy, n_estimators=30, score=0.5868382886149383, total=   2.9s\n"
     ]
    },
    {
     "name": "stderr",
     "output_type": "stream",
     "text": [
      "[Parallel(n_jobs=-1)]: Done  60 out of  60 | elapsed:   59.3s remaining:    0.0s\n",
      "[Parallel(n_jobs=-1)]: Done  60 out of  60 | elapsed:   59.3s finished\n"
     ]
    },
    {
     "data": {
      "text/plain": [
       "GridSearchCV(cv=None, error_score='raise',\n",
       "       estimator=ExtraTreesClassifier(bootstrap=False, class_weight=None, criterion='gini',\n",
       "           max_depth=None, max_features='auto', max_leaf_nodes=None,\n",
       "           min_impurity_decrease=0.0, min_impurity_split=None,\n",
       "           min_samples_leaf=1, min_samples_split=2,\n",
       "           min_weight_fraction_leaf=0.0, n_estimators=10, n_jobs=1,\n",
       "           oob_score=False, random_state=42, verbose=0, warm_start=False),\n",
       "       fit_params=None, iid=True, n_jobs=-1,\n",
       "       param_grid={'bootstrap': [False, True], 'n_estimators': [10, 15, 20, 25, 30], 'criterion': ['gini', 'entropy']},\n",
       "       pre_dispatch='2*n_jobs', refit=True, return_train_score='warn',\n",
       "       scoring=make_scorer(roc_auc_score), verbose=10)"
      ]
     },
     "execution_count": 44,
     "metadata": {},
     "output_type": "execute_result"
    }
   ],
   "source": [
    "grid.fit(X_b, Y_b)"
   ]
  },
  {
   "cell_type": "code",
   "execution_count": 45,
   "metadata": {},
   "outputs": [
    {
     "data": {
      "text/plain": [
       "{'bootstrap': True, 'criterion': 'gini', 'n_estimators': 30}"
      ]
     },
     "execution_count": 45,
     "metadata": {},
     "output_type": "execute_result"
    }
   ],
   "source": [
    "grid.best_params_"
   ]
  },
  {
   "cell_type": "code",
   "execution_count": 46,
   "metadata": {},
   "outputs": [
    {
     "data": {
      "text/plain": [
       "0.5926761471216211"
      ]
     },
     "execution_count": 46,
     "metadata": {},
     "output_type": "execute_result"
    }
   ],
   "source": [
    "grid.best_score_"
   ]
  },
  {
   "cell_type": "code",
   "execution_count": 47,
   "metadata": {},
   "outputs": [],
   "source": [
    "classifier = ExtraTreesClassifier(random_state=random_state, **grid.best_params_)"
   ]
  },
  {
   "cell_type": "code",
   "execution_count": 48,
   "metadata": {},
   "outputs": [
    {
     "data": {
      "text/plain": [
       "ExtraTreesClassifier(bootstrap=True, class_weight=None, criterion='gini',\n",
       "           max_depth=None, max_features='auto', max_leaf_nodes=None,\n",
       "           min_impurity_decrease=0.0, min_impurity_split=None,\n",
       "           min_samples_leaf=1, min_samples_split=2,\n",
       "           min_weight_fraction_leaf=0.0, n_estimators=30, n_jobs=1,\n",
       "           oob_score=False, random_state=42, verbose=0, warm_start=False)"
      ]
     },
     "execution_count": 48,
     "metadata": {},
     "output_type": "execute_result"
    }
   ],
   "source": [
    "classifier.fit(X_b, Y_b)"
   ]
  },
  {
   "cell_type": "code",
   "execution_count": 49,
   "metadata": {},
   "outputs": [],
   "source": [
    "y_est = classifier.predict_proba(test_tr)"
   ]
  },
  {
   "cell_type": "code",
   "execution_count": 50,
   "metadata": {},
   "outputs": [
    {
     "data": {
      "text/plain": [
       "(48744,)"
      ]
     },
     "execution_count": 50,
     "metadata": {},
     "output_type": "execute_result"
    }
   ],
   "source": [
    "y_est[:, 1].shape"
   ]
  },
  {
   "cell_type": "code",
   "execution_count": 51,
   "metadata": {},
   "outputs": [],
   "source": [
    "result = pd.DataFrame({\n",
    "    'SK_ID_CURR': test.SK_ID_CURR.values,\n",
    "    'TARGET': y_est[:, 1]\n",
    "})"
   ]
  },
  {
   "cell_type": "code",
   "execution_count": 52,
   "metadata": {},
   "outputs": [],
   "source": [
    "result.to_csv('../data/dataset/grid_search_cv_submission.csv', index=False)"
   ]
  },
  {
   "cell_type": "markdown",
   "metadata": {},
   "source": [
    "# Models mixture"
   ]
  },
  {
   "cell_type": "code",
   "execution_count": 53,
   "metadata": {},
   "outputs": [],
   "source": [
    "classifier = BaggingClassifier(random_state=random_state)"
   ]
  },
  {
   "cell_type": "code",
   "execution_count": 54,
   "metadata": {},
   "outputs": [
    {
     "data": {
      "text/plain": [
       "BaggingClassifier(base_estimator=None, bootstrap=True,\n",
       "         bootstrap_features=False, max_features=1.0, max_samples=1.0,\n",
       "         n_estimators=10, n_jobs=1, oob_score=False, random_state=42,\n",
       "         verbose=0, warm_start=False)"
      ]
     },
     "execution_count": 54,
     "metadata": {},
     "output_type": "execute_result"
    }
   ],
   "source": [
    "classifier.fit(X_b, Y_b)"
   ]
  },
  {
   "cell_type": "code",
   "execution_count": 55,
   "metadata": {},
   "outputs": [],
   "source": [
    "bagg_y_est = classifier.predict_proba(test_tr)"
   ]
  },
  {
   "cell_type": "code",
   "execution_count": 56,
   "metadata": {},
   "outputs": [
    {
     "data": {
      "text/plain": [
       "array([0.4, 0.4, 0.2, ..., 0.5, 0.3, 0.8])"
      ]
     },
     "execution_count": 56,
     "metadata": {},
     "output_type": "execute_result"
    }
   ],
   "source": [
    "bagg_y_est[:, 1]"
   ]
  },
  {
   "cell_type": "code",
   "execution_count": 57,
   "metadata": {},
   "outputs": [],
   "source": [
    "classifier = RandomForestClassifier(random_state=random_state)"
   ]
  },
  {
   "cell_type": "code",
   "execution_count": 58,
   "metadata": {},
   "outputs": [
    {
     "data": {
      "text/plain": [
       "RandomForestClassifier(bootstrap=True, class_weight=None, criterion='gini',\n",
       "            max_depth=None, max_features='auto', max_leaf_nodes=None,\n",
       "            min_impurity_decrease=0.0, min_impurity_split=None,\n",
       "            min_samples_leaf=1, min_samples_split=2,\n",
       "            min_weight_fraction_leaf=0.0, n_estimators=10, n_jobs=1,\n",
       "            oob_score=False, random_state=42, verbose=0, warm_start=False)"
      ]
     },
     "execution_count": 58,
     "metadata": {},
     "output_type": "execute_result"
    }
   ],
   "source": [
    "classifier.fit(X_b, Y_b)"
   ]
  },
  {
   "cell_type": "code",
   "execution_count": 59,
   "metadata": {},
   "outputs": [],
   "source": [
    "r_f_y_est = classifier.predict_proba(test_tr)"
   ]
  },
  {
   "cell_type": "code",
   "execution_count": 60,
   "metadata": {},
   "outputs": [
    {
     "data": {
      "text/plain": [
       "array([0.5, 0.5, 0.4, ..., 0.4, 0.4, 0.7])"
      ]
     },
     "execution_count": 60,
     "metadata": {},
     "output_type": "execute_result"
    }
   ],
   "source": [
    "r_f_y_est[:, 1]"
   ]
  },
  {
   "cell_type": "code",
   "execution_count": 61,
   "metadata": {},
   "outputs": [],
   "source": [
    "classifier = ExtraTreesClassifier(random_state=random_state)"
   ]
  },
  {
   "cell_type": "code",
   "execution_count": 62,
   "metadata": {},
   "outputs": [
    {
     "data": {
      "text/plain": [
       "ExtraTreesClassifier(bootstrap=False, class_weight=None, criterion='gini',\n",
       "           max_depth=None, max_features='auto', max_leaf_nodes=None,\n",
       "           min_impurity_decrease=0.0, min_impurity_split=None,\n",
       "           min_samples_leaf=1, min_samples_split=2,\n",
       "           min_weight_fraction_leaf=0.0, n_estimators=10, n_jobs=1,\n",
       "           oob_score=False, random_state=42, verbose=0, warm_start=False)"
      ]
     },
     "execution_count": 62,
     "metadata": {},
     "output_type": "execute_result"
    }
   ],
   "source": [
    "classifier.fit(X_b, Y_b)"
   ]
  },
  {
   "cell_type": "code",
   "execution_count": 63,
   "metadata": {},
   "outputs": [],
   "source": [
    "e_t_y_est = classifier.predict_proba(test_tr)"
   ]
  },
  {
   "cell_type": "code",
   "execution_count": 64,
   "metadata": {},
   "outputs": [
    {
     "data": {
      "text/plain": [
       "array([0.8, 0.3, 0.3, ..., 0.5, 0.3, 0.7])"
      ]
     },
     "execution_count": 64,
     "metadata": {},
     "output_type": "execute_result"
    }
   ],
   "source": [
    "e_t_y_est[:, 1]"
   ]
  },
  {
   "cell_type": "code",
   "execution_count": 65,
   "metadata": {},
   "outputs": [],
   "source": [
    "res_y = (bagg_y_est[:, 1] + r_f_y_est[:, 1] + e_t_y_est[:, 1]) / 3"
   ]
  },
  {
   "cell_type": "code",
   "execution_count": 66,
   "metadata": {},
   "outputs": [
    {
     "data": {
      "text/plain": [
       "array([0.56666667, 0.4       , 0.3       , ..., 0.46666667, 0.33333333,\n",
       "       0.73333333])"
      ]
     },
     "execution_count": 66,
     "metadata": {},
     "output_type": "execute_result"
    }
   ],
   "source": [
    "res_y"
   ]
  },
  {
   "cell_type": "code",
   "execution_count": 67,
   "metadata": {},
   "outputs": [],
   "source": [
    "result = pd.DataFrame({\n",
    "    'SK_ID_CURR': test.SK_ID_CURR.values,\n",
    "    'TARGET': res_y\n",
    "})"
   ]
  },
  {
   "cell_type": "code",
   "execution_count": 68,
   "metadata": {},
   "outputs": [],
   "source": [
    "result.to_csv('../data/dataset/mixture_submission.csv', index=False)"
   ]
  }
 ],
 "metadata": {
  "kernelspec": {
   "display_name": "Python 3",
   "language": "python",
   "name": "python3"
  },
  "language_info": {
   "codemirror_mode": {
    "name": "ipython",
    "version": 3
   },
   "file_extension": ".py",
   "mimetype": "text/x-python",
   "name": "python",
   "nbconvert_exporter": "python",
   "pygments_lexer": "ipython3",
   "version": "3.6.4"
  }
 },
 "nbformat": 4,
 "nbformat_minor": 1
}
