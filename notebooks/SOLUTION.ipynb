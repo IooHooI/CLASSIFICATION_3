{
 "cells": [
  {
   "cell_type": "markdown",
   "metadata": {},
   "source": [
    "# Все необходимые импорты"
   ]
  },
  {
   "cell_type": "code",
   "execution_count": 1,
   "metadata": {},
   "outputs": [],
   "source": [
    "import sys\n",
    "sys.path.append('..')"
   ]
  },
  {
   "cell_type": "code",
   "execution_count": 2,
   "metadata": {},
   "outputs": [],
   "source": [
    "from source.code.ItemSelector import ItemSelector\n",
    "from source.code.MyLabelBinarizer import MyLabelBinarizer"
   ]
  },
  {
   "cell_type": "code",
   "execution_count": 3,
   "metadata": {},
   "outputs": [],
   "source": [
    "import pandas as pd\n",
    "import numpy as np\n",
    "\n",
    "from sklearn.ensemble import BaggingClassifier\n",
    "from sklearn.ensemble import RandomForestClassifier\n",
    "from sklearn.ensemble import ExtraTreesClassifier\n",
    "\n",
    "from sklearn.model_selection import cross_val_score\n",
    "from sklearn.model_selection import GridSearchCV\n",
    "from sklearn.metrics import make_scorer\n",
    "from sklearn.metrics import roc_auc_score\n",
    "\n",
    "from imblearn.pipeline import Pipeline\n",
    "from sklearn.pipeline import FeatureUnion\n",
    "\n",
    "from imblearn.under_sampling import RandomUnderSampler"
   ]
  },
  {
   "cell_type": "markdown",
   "metadata": {},
   "source": [
    "# Выбрать random_state"
   ]
  },
  {
   "cell_type": "code",
   "execution_count": 4,
   "metadata": {},
   "outputs": [],
   "source": [
    "random_state = 42"
   ]
  },
  {
   "cell_type": "markdown",
   "metadata": {},
   "source": [
    "# Вспомогательные функции"
   ]
  },
  {
   "cell_type": "code",
   "execution_count": 5,
   "metadata": {},
   "outputs": [],
   "source": [
    "def read_columns(path):\n",
    "    with open(path, 'r') as file:\n",
    "        columns = file.readlines()\n",
    "        columns = list(map(str.rstrip, columns))\n",
    "    return columns"
   ]
  },
  {
   "cell_type": "code",
   "execution_count": 6,
   "metadata": {},
   "outputs": [],
   "source": [
    "def generate_pipeline(column):\n",
    "    return  (column, Pipeline([\n",
    "        ('choose', ItemSelector(column)),\n",
    "        ('binarize', MyLabelBinarizer())\n",
    "    ]))"
   ]
  },
  {
   "cell_type": "markdown",
   "metadata": {},
   "source": [
    "# Чтение данных"
   ]
  },
  {
   "cell_type": "code",
   "execution_count": 7,
   "metadata": {},
   "outputs": [],
   "source": [
    "train = pd.read_csv('../data/dataset/application_train.csv')"
   ]
  },
  {
   "cell_type": "code",
   "execution_count": 8,
   "metadata": {},
   "outputs": [],
   "source": [
    "train = train[train.CODE_GENDER != 'XNA']"
   ]
  },
  {
   "cell_type": "code",
   "execution_count": 9,
   "metadata": {},
   "outputs": [],
   "source": [
    "train = train[train.NAME_FAMILY_STATUS != 'Unknown']"
   ]
  },
  {
   "cell_type": "code",
   "execution_count": 10,
   "metadata": {},
   "outputs": [],
   "source": [
    "train = train[train.NAME_INCOME_TYPE != 'Maternity leave']"
   ]
  },
  {
   "cell_type": "code",
   "execution_count": 11,
   "metadata": {},
   "outputs": [],
   "source": [
    "test = pd.read_csv('../data/dataset/application_test.csv')"
   ]
  },
  {
   "cell_type": "code",
   "execution_count": 12,
   "metadata": {},
   "outputs": [],
   "source": [
    "na_columns = read_columns('../data/train_test_na_columns.txt')"
   ]
  },
  {
   "cell_type": "code",
   "execution_count": 13,
   "metadata": {},
   "outputs": [],
   "source": [
    "highly_correlated_columns = read_columns('../data/train_test_highly_correlated_columns.txt')"
   ]
  },
  {
   "cell_type": "code",
   "execution_count": 14,
   "metadata": {},
   "outputs": [],
   "source": [
    "categorical_columns = read_columns('../data/train_test_categorical_columns.txt')"
   ]
  },
  {
   "cell_type": "code",
   "execution_count": 15,
   "metadata": {},
   "outputs": [],
   "source": [
    "binary_columns = read_columns('../data/train_test_binary_columns.txt')"
   ]
  },
  {
   "cell_type": "markdown",
   "metadata": {},
   "source": [
    "# Предобработка"
   ]
  },
  {
   "cell_type": "markdown",
   "metadata": {},
   "source": [
    "Пока что попробуем обойтись только этими данными, без хитростей с заполнениями пропусков:"
   ]
  },
  {
   "cell_type": "code",
   "execution_count": 16,
   "metadata": {},
   "outputs": [],
   "source": [
    "train = train[list(set(train.columns) - (set(na_columns) | set(highly_correlated_columns)))]"
   ]
  },
  {
   "cell_type": "code",
   "execution_count": 17,
   "metadata": {},
   "outputs": [],
   "source": [
    "test = test[list(set(test.columns) - (set(na_columns) | set(highly_correlated_columns)))]"
   ]
  },
  {
   "cell_type": "code",
   "execution_count": 18,
   "metadata": {},
   "outputs": [],
   "source": [
    "continuous_columns = list(\n",
    "    set(test.columns) - (set(binary_columns) | set(categorical_columns) | set(['SK_ID_CURR']))\n",
    ")"
   ]
  },
  {
   "cell_type": "code",
   "execution_count": 19,
   "metadata": {},
   "outputs": [],
   "source": [
    "X = train[test.columns]"
   ]
  },
  {
   "cell_type": "code",
   "execution_count": 20,
   "metadata": {},
   "outputs": [],
   "source": [
    "Y = train['TARGET']"
   ]
  },
  {
   "cell_type": "code",
   "execution_count": 21,
   "metadata": {},
   "outputs": [
    {
     "name": "stdout",
     "output_type": "stream",
     "text": [
      "<class 'pandas.core.frame.DataFrame'>\n",
      "Int64Index: 307500 entries, 0 to 307510\n",
      "Data columns (total 53 columns):\n",
      "NAME_CONTRACT_TYPE             307500 non-null object\n",
      "FLAG_DOCUMENT_10               307500 non-null int64\n",
      "FLAG_DOCUMENT_13               307500 non-null int64\n",
      "FLAG_DOCUMENT_9                307500 non-null int64\n",
      "FLAG_DOCUMENT_2                307500 non-null int64\n",
      "NAME_FAMILY_STATUS             307500 non-null object\n",
      "FLAG_DOCUMENT_15               307500 non-null int64\n",
      "AMT_INCOME_TOTAL               307500 non-null float64\n",
      "FLAG_DOCUMENT_6                307500 non-null int64\n",
      "FLAG_DOCUMENT_11               307500 non-null int64\n",
      "FLAG_DOCUMENT_20               307500 non-null int64\n",
      "REG_REGION_NOT_LIVE_REGION     307500 non-null int64\n",
      "HOUR_APPR_PROCESS_START        307500 non-null int64\n",
      "FLAG_DOCUMENT_8                307500 non-null int64\n",
      "AMT_CREDIT                     307500 non-null float64\n",
      "SK_ID_CURR                     307500 non-null int64\n",
      "FLAG_DOCUMENT_5                307500 non-null int64\n",
      "FLAG_EMAIL                     307500 non-null int64\n",
      "REG_CITY_NOT_LIVE_CITY         307500 non-null int64\n",
      "FLAG_DOCUMENT_3                307500 non-null int64\n",
      "FLAG_MOBIL                     307500 non-null int64\n",
      "FLAG_EMP_PHONE                 307500 non-null int64\n",
      "REG_REGION_NOT_WORK_REGION     307500 non-null int64\n",
      "NAME_EDUCATION_TYPE            307500 non-null object\n",
      "NAME_INCOME_TYPE               307500 non-null object\n",
      "CODE_GENDER                    307500 non-null object\n",
      "FLAG_OWN_REALTY                307500 non-null object\n",
      "FLAG_DOCUMENT_7                307500 non-null int64\n",
      "CNT_CHILDREN                   307500 non-null int64\n",
      "FLAG_DOCUMENT_4                307500 non-null int64\n",
      "FLAG_PHONE                     307500 non-null int64\n",
      "FLAG_DOCUMENT_19               307500 non-null int64\n",
      "FLAG_WORK_PHONE                307500 non-null int64\n",
      "FLAG_DOCUMENT_21               307500 non-null int64\n",
      "DAYS_EMPLOYED                  307500 non-null int64\n",
      "FLAG_DOCUMENT_14               307500 non-null int64\n",
      "NAME_HOUSING_TYPE              307500 non-null object\n",
      "REGION_POPULATION_RELATIVE     307500 non-null float64\n",
      "REG_CITY_NOT_WORK_CITY         307500 non-null int64\n",
      "FLAG_OWN_CAR                   307500 non-null object\n",
      "ORGANIZATION_TYPE              307500 non-null object\n",
      "DAYS_REGISTRATION              307500 non-null float64\n",
      "DAYS_ID_PUBLISH                307500 non-null int64\n",
      "LIVE_REGION_NOT_WORK_REGION    307500 non-null int64\n",
      "FLAG_DOCUMENT_18               307500 non-null int64\n",
      "REGION_RATING_CLIENT           307500 non-null int64\n",
      "FLAG_DOCUMENT_16               307500 non-null int64\n",
      "WEEKDAY_APPR_PROCESS_START     307500 non-null object\n",
      "FLAG_CONT_MOBILE               307500 non-null int64\n",
      "FLAG_DOCUMENT_12               307500 non-null int64\n",
      "FLAG_DOCUMENT_17               307500 non-null int64\n",
      "DAYS_BIRTH                     307500 non-null int64\n",
      "LIVE_CITY_NOT_WORK_CITY        307500 non-null int64\n",
      "dtypes: float64(4), int64(39), object(10)\n",
      "memory usage: 126.7+ MB\n"
     ]
    }
   ],
   "source": [
    "X.info()"
   ]
  },
  {
   "cell_type": "code",
   "execution_count": 22,
   "metadata": {},
   "outputs": [
    {
     "data": {
      "text/plain": [
       "0    282677\n",
       "1     24823\n",
       "Name: TARGET, dtype: int64"
      ]
     },
     "execution_count": 22,
     "metadata": {},
     "output_type": "execute_result"
    }
   ],
   "source": [
    "Y.value_counts()"
   ]
  },
  {
   "cell_type": "markdown",
   "metadata": {},
   "source": [
    "Классы не сбалансированы.\n",
    "\n",
    "Надо поправить.\n",
    "\n",
    "Перед этим надо бинаризовать все поля, где есть символьные обозначения:"
   ]
  },
  {
   "cell_type": "code",
   "execution_count": 23,
   "metadata": {},
   "outputs": [],
   "source": [
    "pipeline = Pipeline([\n",
    "    ('union', FeatureUnion(\n",
    "        list(map(generate_pipeline, binary_columns)) + \\\n",
    "        list(map(generate_pipeline, categorical_columns)) + \\\n",
    "        [('all_other_features', Pipeline([('choose', ItemSelector(continuous_columns))]))]\n",
    "    ))\n",
    "])"
   ]
  },
  {
   "cell_type": "code",
   "execution_count": 24,
   "metadata": {
    "scrolled": false
   },
   "outputs": [],
   "source": [
    "X_tr = pd.DataFrame(pipeline.fit_transform(X))"
   ]
  },
  {
   "cell_type": "code",
   "execution_count": 25,
   "metadata": {},
   "outputs": [
    {
     "name": "stdout",
     "output_type": "stream",
     "text": [
      "<class 'pandas.core.frame.DataFrame'>\n",
      "RangeIndex: 307500 entries, 0 to 307499\n",
      "Columns: 134 entries, 0 to 133\n",
      "dtypes: float64(134)\n",
      "memory usage: 314.4 MB\n"
     ]
    }
   ],
   "source": [
    "X_tr.info()"
   ]
  },
  {
   "cell_type": "code",
   "execution_count": 26,
   "metadata": {},
   "outputs": [],
   "source": [
    "pipeline = Pipeline([\n",
    "    ('union', FeatureUnion(\n",
    "        list(map(generate_pipeline, binary_columns)) + \\\n",
    "        list(map(generate_pipeline, categorical_columns)) + \\\n",
    "        [('all_other_features', Pipeline([('choose', ItemSelector(continuous_columns))]))]\n",
    "    ))\n",
    "])"
   ]
  },
  {
   "cell_type": "code",
   "execution_count": 27,
   "metadata": {
    "scrolled": false
   },
   "outputs": [],
   "source": [
    "test_tr = pd.DataFrame(pipeline.fit_transform(test))"
   ]
  },
  {
   "cell_type": "code",
   "execution_count": 28,
   "metadata": {},
   "outputs": [
    {
     "name": "stdout",
     "output_type": "stream",
     "text": [
      "<class 'pandas.core.frame.DataFrame'>\n",
      "RangeIndex: 48744 entries, 0 to 48743\n",
      "Columns: 134 entries, 0 to 133\n",
      "dtypes: float64(134)\n",
      "memory usage: 49.8 MB\n"
     ]
    }
   ],
   "source": [
    "test_tr.info()"
   ]
  },
  {
   "cell_type": "code",
   "execution_count": 29,
   "metadata": {},
   "outputs": [
    {
     "name": "stdout",
     "output_type": "stream",
     "text": [
      "307500 307500\n"
     ]
    }
   ],
   "source": [
    "print(len(X_tr), len(Y))"
   ]
  },
  {
   "cell_type": "markdown",
   "metadata": {},
   "source": [
    "Тперь можно попробовать и сбалансировать:"
   ]
  },
  {
   "cell_type": "code",
   "execution_count": 30,
   "metadata": {},
   "outputs": [],
   "source": [
    "X_b, Y_b = RandomUnderSampler(random_state=random_state).fit_sample(X_tr, Y)"
   ]
  },
  {
   "cell_type": "code",
   "execution_count": 31,
   "metadata": {},
   "outputs": [
    {
     "name": "stdout",
     "output_type": "stream",
     "text": [
      "24823 49646\n"
     ]
    }
   ],
   "source": [
    "print(sum(Y_b), len(Y_b))"
   ]
  },
  {
   "cell_type": "markdown",
   "metadata": {},
   "source": [
    "# Baseline-модель"
   ]
  },
  {
   "cell_type": "code",
   "execution_count": 32,
   "metadata": {},
   "outputs": [
    {
     "data": {
      "text/plain": [
       "array([0.57546828, 0.58079526, 0.5786802 ])"
      ]
     },
     "execution_count": 32,
     "metadata": {},
     "output_type": "execute_result"
    }
   ],
   "source": [
    "cross_val_score(BaggingClassifier(random_state=random_state), X_b, Y_b, scoring=make_scorer(roc_auc_score))"
   ]
  },
  {
   "cell_type": "code",
   "execution_count": 33,
   "metadata": {},
   "outputs": [
    {
     "data": {
      "text/plain": [
       "array([0.57691843, 0.57221416, 0.5754774 ])"
      ]
     },
     "execution_count": 33,
     "metadata": {},
     "output_type": "execute_result"
    }
   ],
   "source": [
    "cross_val_score(RandomForestClassifier(random_state=random_state), X_b, Y_b, scoring=make_scorer(roc_auc_score))"
   ]
  },
  {
   "cell_type": "code",
   "execution_count": 34,
   "metadata": {},
   "outputs": [
    {
     "data": {
      "text/plain": [
       "array([0.58114804, 0.56538555, 0.57596084])"
      ]
     },
     "execution_count": 34,
     "metadata": {},
     "output_type": "execute_result"
    }
   ],
   "source": [
    "cross_val_score(ExtraTreesClassifier(random_state=random_state), X_b, Y_b, scoring=make_scorer(roc_auc_score))"
   ]
  },
  {
   "cell_type": "code",
   "execution_count": 35,
   "metadata": {},
   "outputs": [],
   "source": [
    "baseline_classifier = RandomForestClassifier(random_state=random_state)"
   ]
  },
  {
   "cell_type": "code",
   "execution_count": 36,
   "metadata": {},
   "outputs": [
    {
     "data": {
      "text/plain": [
       "RandomForestClassifier(bootstrap=True, class_weight=None, criterion='gini',\n",
       "            max_depth=None, max_features='auto', max_leaf_nodes=None,\n",
       "            min_impurity_decrease=0.0, min_impurity_split=None,\n",
       "            min_samples_leaf=1, min_samples_split=2,\n",
       "            min_weight_fraction_leaf=0.0, n_estimators=10, n_jobs=1,\n",
       "            oob_score=False, random_state=42, verbose=0, warm_start=False)"
      ]
     },
     "execution_count": 36,
     "metadata": {},
     "output_type": "execute_result"
    }
   ],
   "source": [
    "baseline_classifier.fit(X_b, Y_b)"
   ]
  },
  {
   "cell_type": "code",
   "execution_count": 37,
   "metadata": {},
   "outputs": [],
   "source": [
    "baseline_y_est = baseline_classifier.predict_proba(test_tr)"
   ]
  },
  {
   "cell_type": "code",
   "execution_count": 38,
   "metadata": {},
   "outputs": [
    {
     "data": {
      "text/plain": [
       "(48744,)"
      ]
     },
     "execution_count": 38,
     "metadata": {},
     "output_type": "execute_result"
    }
   ],
   "source": [
    "baseline_y_est[:, 1].shape"
   ]
  },
  {
   "cell_type": "code",
   "execution_count": 39,
   "metadata": {},
   "outputs": [],
   "source": [
    "result = pd.DataFrame({\n",
    "    'SK_ID_CURR': test.SK_ID_CURR.values,\n",
    "    'TARGET': baseline_y_est[:, 1]\n",
    "})"
   ]
  },
  {
   "cell_type": "code",
   "execution_count": 40,
   "metadata": {},
   "outputs": [],
   "source": [
    "result.to_csv('../data/dataset/baseline_submission.csv', index=False)"
   ]
  },
  {
   "cell_type": "markdown",
   "metadata": {},
   "source": [
    "# Потюним гиперпараметры"
   ]
  },
  {
   "cell_type": "markdown",
   "metadata": {},
   "source": [
    "# ExtraTreesClassifier"
   ]
  },
  {
   "cell_type": "code",
   "execution_count": 41,
   "metadata": {},
   "outputs": [
    {
     "data": {
      "text/plain": [
       "{'bootstrap': False,\n",
       " 'class_weight': None,\n",
       " 'criterion': 'gini',\n",
       " 'max_depth': None,\n",
       " 'max_features': 'auto',\n",
       " 'max_leaf_nodes': None,\n",
       " 'min_impurity_decrease': 0.0,\n",
       " 'min_impurity_split': None,\n",
       " 'min_samples_leaf': 1,\n",
       " 'min_samples_split': 2,\n",
       " 'min_weight_fraction_leaf': 0.0,\n",
       " 'n_estimators': 10,\n",
       " 'n_jobs': 1,\n",
       " 'oob_score': False,\n",
       " 'random_state': None,\n",
       " 'verbose': 0,\n",
       " 'warm_start': False}"
      ]
     },
     "execution_count": 41,
     "metadata": {},
     "output_type": "execute_result"
    }
   ],
   "source": [
    "ExtraTreesClassifier().get_params()"
   ]
  },
  {
   "cell_type": "code",
   "execution_count": 42,
   "metadata": {},
   "outputs": [],
   "source": [
    "e_t_params_grid = {\n",
    "    'bootstrap': [False, True],\n",
    "    'n_estimators': [10, 15, 20, 25, 30],\n",
    "    'criterion': ['gini', 'entropy']\n",
    "}"
   ]
  },
  {
   "cell_type": "code",
   "execution_count": 43,
   "metadata": {},
   "outputs": [],
   "source": [
    "e_t_grid = GridSearchCV(\n",
    "    ExtraTreesClassifier(random_state=random_state),\n",
    "    param_grid=e_t_params_grid,\n",
    "    scoring=make_scorer(roc_auc_score),\n",
    "    verbose=10,\n",
    "    n_jobs=-1\n",
    ")"
   ]
  },
  {
   "cell_type": "code",
   "execution_count": 44,
   "metadata": {
    "scrolled": false
   },
   "outputs": [
    {
     "name": "stdout",
     "output_type": "stream",
     "text": [
      "Fitting 3 folds for each of 20 candidates, totalling 60 fits\n",
      "[CV] bootstrap=False, criterion=gini, n_estimators=10 ................\n",
      "[CV] bootstrap=False, criterion=gini, n_estimators=10 ................\n",
      "[CV] bootstrap=False, criterion=gini, n_estimators=10 ................\n",
      "[CV] bootstrap=False, criterion=gini, n_estimators=15 ................\n",
      "[CV]  bootstrap=False, criterion=gini, n_estimators=10, score=0.5811480362537764, total=   2.1s\n",
      "[CV] bootstrap=False, criterion=gini, n_estimators=15 ................\n",
      "[CV]  bootstrap=False, criterion=gini, n_estimators=10, score=0.5759608411892676, total=   2.2s\n",
      "[CV] bootstrap=False, criterion=gini, n_estimators=15 ................\n",
      "[CV]  bootstrap=False, criterion=gini, n_estimators=10, score=0.5653855450809765, total=   2.3s\n",
      "[CV] bootstrap=False, criterion=gini, n_estimators=20 ................\n",
      "[CV]  bootstrap=False, criterion=gini, n_estimators=15, score=0.5809063444108761, total=   3.0s\n",
      "[CV] bootstrap=False, criterion=gini, n_estimators=20 ................\n",
      "[CV]  bootstrap=False, criterion=gini, n_estimators=15, score=0.5870800096688422, total=   3.2s\n",
      "[CV] bootstrap=False, criterion=gini, n_estimators=20 ................\n"
     ]
    },
    {
     "name": "stderr",
     "output_type": "stream",
     "text": [
      "[Parallel(n_jobs=-1)]: Done   5 tasks      | elapsed:    6.3s\n"
     ]
    },
    {
     "name": "stdout",
     "output_type": "stream",
     "text": [
      "[CV]  bootstrap=False, criterion=gini, n_estimators=15, score=0.5806139714769157, total=   3.6s\n",
      "[CV] bootstrap=False, criterion=gini, n_estimators=25 ................\n",
      "[CV]  bootstrap=False, criterion=gini, n_estimators=20, score=0.58404833836858, total=   4.0s\n",
      "[CV] bootstrap=False, criterion=gini, n_estimators=25 ................\n",
      "[CV]  bootstrap=False, criterion=gini, n_estimators=20, score=0.5817017162194827, total=   4.2s\n",
      "[CV] bootstrap=False, criterion=gini, n_estimators=25 ................\n",
      "[CV]  bootstrap=False, criterion=gini, n_estimators=20, score=0.587321730722746, total=   3.7s\n",
      "[CV] bootstrap=False, criterion=gini, n_estimators=30 ................\n",
      "[CV]  bootstrap=False, criterion=gini, n_estimators=25, score=0.5905849649504471, total=   4.6s\n",
      "[CV] bootstrap=False, criterion=gini, n_estimators=30 ................\n"
     ]
    },
    {
     "name": "stderr",
     "output_type": "stream",
     "text": [
      "[Parallel(n_jobs=-1)]: Done  10 tasks      | elapsed:   12.5s\n"
     ]
    },
    {
     "name": "stdout",
     "output_type": "stream",
     "text": [
      "[CV]  bootstrap=False, criterion=gini, n_estimators=25, score=0.59202416918429, total=   5.5s\n",
      "[CV] bootstrap=False, criterion=gini, n_estimators=30 ................\n",
      "[CV]  bootstrap=False, criterion=gini, n_estimators=25, score=0.5881073241479333, total=   5.2s\n",
      "[CV] bootstrap=False, criterion=entropy, n_estimators=10 .............\n",
      "[CV]  bootstrap=False, criterion=entropy, n_estimators=10, score=0.572809667673716, total=   2.5s\n",
      "[CV] bootstrap=False, criterion=entropy, n_estimators=10 .............\n",
      "[CV]  bootstrap=False, criterion=gini, n_estimators=30, score=0.5929909365558913, total=   6.7s\n",
      "[CV] bootstrap=False, criterion=entropy, n_estimators=10 .............\n",
      "[CV]  bootstrap=False, criterion=gini, n_estimators=30, score=0.5907662557408749, total=   6.2s\n",
      "[CV] bootstrap=False, criterion=entropy, n_estimators=15 .............\n",
      "[CV]  bootstrap=False, criterion=gini, n_estimators=30, score=0.5925187333816776, total=   6.4s\n",
      "[CV] bootstrap=False, criterion=entropy, n_estimators=15 .............\n",
      "[CV]  bootstrap=False, criterion=entropy, n_estimators=10, score=0.5676214648295866, total=   2.6s\n",
      "[CV] bootstrap=False, criterion=entropy, n_estimators=15 .............\n"
     ]
    },
    {
     "name": "stderr",
     "output_type": "stream",
     "text": [
      "[Parallel(n_jobs=-1)]: Done  17 tasks      | elapsed:   20.3s\n"
     ]
    },
    {
     "name": "stdout",
     "output_type": "stream",
     "text": [
      "[CV]  bootstrap=False, criterion=entropy, n_estimators=10, score=0.5726976069615664, total=   3.0s\n",
      "[CV] bootstrap=False, criterion=entropy, n_estimators=20 .............\n",
      "[CV]  bootstrap=False, criterion=entropy, n_estimators=15, score=0.5837462235649546, total=   3.6s\n",
      "[CV] bootstrap=False, criterion=entropy, n_estimators=20 .............\n",
      "[CV]  bootstrap=False, criterion=entropy, n_estimators=15, score=0.5794657964708726, total=   3.5s\n",
      "[CV] bootstrap=False, criterion=entropy, n_estimators=20 .............\n",
      "[CV]  bootstrap=False, criterion=entropy, n_estimators=15, score=0.5754169688179841, total=   4.1s\n",
      "[CV] bootstrap=False, criterion=entropy, n_estimators=25 .............\n",
      "[CV]  bootstrap=False, criterion=entropy, n_estimators=20, score=0.5865256797583082, total=   4.7s\n",
      "[CV] bootstrap=False, criterion=entropy, n_estimators=25 .............\n",
      "[CV]  bootstrap=False, criterion=entropy, n_estimators=20, score=0.5842397872854725, total=   4.8s\n",
      "[CV] bootstrap=False, criterion=entropy, n_estimators=25 .............\n",
      "[CV]  bootstrap=False, criterion=entropy, n_estimators=20, score=0.5826686004350978, total=   4.7s\n",
      "[CV] bootstrap=False, criterion=entropy, n_estimators=30 .............\n"
     ]
    },
    {
     "name": "stderr",
     "output_type": "stream",
     "text": [
      "[Parallel(n_jobs=-1)]: Done  24 tasks      | elapsed:   29.5s\n"
     ]
    },
    {
     "name": "stdout",
     "output_type": "stream",
     "text": [
      "[CV]  bootstrap=False, criterion=entropy, n_estimators=25, score=0.5905135951661632, total=   5.5s\n",
      "[CV] bootstrap=False, criterion=entropy, n_estimators=30 .............\n",
      "[CV]  bootstrap=False, criterion=entropy, n_estimators=25, score=0.5818830070099106, total=   6.9s\n",
      "[CV] bootstrap=False, criterion=entropy, n_estimators=30 .............\n",
      "[CV]  bootstrap=False, criterion=entropy, n_estimators=25, score=0.5866569978245105, total=   6.3s\n",
      "[CV] bootstrap=True, criterion=gini, n_estimators=10 .................\n",
      "[CV]  bootstrap=False, criterion=entropy, n_estimators=30, score=0.5941993957703927, total=   7.1s\n",
      "[CV] bootstrap=True, criterion=gini, n_estimators=10 .................\n",
      "[CV]  bootstrap=True, criterion=gini, n_estimators=10, score=0.5710574018126887, total=   1.5s\n",
      "[CV] bootstrap=True, criterion=gini, n_estimators=10 .................\n",
      "[CV]  bootstrap=False, criterion=entropy, n_estimators=30, score=0.5852066715010877, total=   7.3s\n",
      "[CV] bootstrap=True, criterion=gini, n_estimators=15 .................\n",
      "[CV]  bootstrap=True, criterion=gini, n_estimators=10, score=0.5735436306502296, total=   1.5s\n",
      "[CV] bootstrap=True, criterion=gini, n_estimators=15 .................\n",
      "[CV]  bootstrap=True, criterion=gini, n_estimators=10, score=0.5654459753444525, total=   1.5s\n",
      "[CV] bootstrap=True, criterion=gini, n_estimators=15 .................\n",
      "[CV]  bootstrap=True, criterion=gini, n_estimators=15, score=0.5781873111782478, total=   2.5s\n",
      "[CV] bootstrap=True, criterion=gini, n_estimators=20 .................\n"
     ]
    },
    {
     "name": "stderr",
     "output_type": "stream",
     "text": [
      "[Parallel(n_jobs=-1)]: Done  33 tasks      | elapsed:   41.7s\n"
     ]
    },
    {
     "name": "stdout",
     "output_type": "stream",
     "text": [
      "[CV]  bootstrap=True, criterion=gini, n_estimators=15, score=0.5817621464829587, total=   2.3s\n",
      "[CV] bootstrap=True, criterion=gini, n_estimators=20 .................\n",
      "[CV]  bootstrap=True, criterion=gini, n_estimators=15, score=0.5789823543630651, total=   2.1s\n",
      "[CV] bootstrap=True, criterion=gini, n_estimators=20 .................\n",
      "[CV]  bootstrap=False, criterion=entropy, n_estimators=30, score=0.5891346386270244, total=   7.0s\n",
      "[CV] bootstrap=True, criterion=gini, n_estimators=25 .................\n",
      "[CV]  bootstrap=True, criterion=gini, n_estimators=20, score=0.5855692530819434, total=   2.7s\n",
      "[CV] bootstrap=True, criterion=gini, n_estimators=25 .................\n",
      "[CV]  bootstrap=True, criterion=gini, n_estimators=20, score=0.5831419939577039, total=   3.3s\n",
      "[CV] bootstrap=True, criterion=gini, n_estimators=25 .................\n",
      "[CV]  bootstrap=True, criterion=gini, n_estimators=20, score=0.5836354846507131, total=   3.0s\n",
      "[CV] bootstrap=True, criterion=gini, n_estimators=30 .................\n",
      "[CV]  bootstrap=True, criterion=gini, n_estimators=25, score=0.5847734138972809, total=   3.3s\n",
      "[CV] bootstrap=True, criterion=gini, n_estimators=30 .................\n",
      "[CV]  bootstrap=True, criterion=gini, n_estimators=25, score=0.5885303359922649, total=   3.8s\n",
      "[CV] bootstrap=True, criterion=gini, n_estimators=30 .................\n",
      "[CV]  bootstrap=True, criterion=gini, n_estimators=25, score=0.5875634517766497, total=   3.8s\n",
      "[CV] bootstrap=True, criterion=entropy, n_estimators=10 ..............\n"
     ]
    },
    {
     "name": "stderr",
     "output_type": "stream",
     "text": [
      "[Parallel(n_jobs=-1)]: Done  42 tasks      | elapsed:   50.1s\n"
     ]
    },
    {
     "name": "stdout",
     "output_type": "stream",
     "text": [
      "[CV]  bootstrap=True, criterion=gini, n_estimators=30, score=0.5893655589123867, total=   4.5s\n",
      "[CV] bootstrap=True, criterion=entropy, n_estimators=10 ..............\n",
      "[CV]  bootstrap=True, criterion=gini, n_estimators=30, score=0.5934251873338168, total=   4.6s\n",
      "[CV] bootstrap=True, criterion=entropy, n_estimators=10 ..............\n",
      "[CV]  bootstrap=True, criterion=entropy, n_estimators=10, score=0.576797583081571, total=   2.2s\n",
      "[CV] bootstrap=True, criterion=entropy, n_estimators=15 ..............\n",
      "[CV]  bootstrap=True, criterion=entropy, n_estimators=10, score=0.5691926516799614, total=   1.7s\n",
      "[CV] bootstrap=True, criterion=entropy, n_estimators=15 ..............\n",
      "[CV]  bootstrap=True, criterion=entropy, n_estimators=10, score=0.5697969543147208, total=   1.6s\n",
      "[CV] bootstrap=True, criterion=entropy, n_estimators=15 ..............\n",
      "[CV]  bootstrap=True, criterion=gini, n_estimators=30, score=0.5893159294174523, total=   4.7s\n",
      "[CV] bootstrap=True, criterion=entropy, n_estimators=20 ..............\n",
      "[CV]  bootstrap=True, criterion=entropy, n_estimators=15, score=0.5819335347432024, total=   2.7s\n",
      "[CV] bootstrap=True, criterion=entropy, n_estimators=20 ..............\n",
      "[CV]  bootstrap=True, criterion=entropy, n_estimators=15, score=0.5755982596084118, total=   2.6s\n",
      "[CV] bootstrap=True, criterion=entropy, n_estimators=20 ..............\n",
      "[CV]  bootstrap=True, criterion=entropy, n_estimators=15, score=0.5820038675368625, total=   2.2s\n",
      "[CV] bootstrap=True, criterion=entropy, n_estimators=25 ..............\n",
      "[CV]  bootstrap=True, criterion=entropy, n_estimators=20, score=0.5872507552870091, total=   2.9s\n",
      "[CV] bootstrap=True, criterion=entropy, n_estimators=25 ..............\n",
      "[CV]  bootstrap=True, criterion=entropy, n_estimators=20, score=0.5857505438723714, total=   3.4s\n",
      "[CV] bootstrap=True, criterion=entropy, n_estimators=25 ..............\n",
      "[CV]  bootstrap=True, criterion=entropy, n_estimators=20, score=0.5849045201837081, total=   3.1s\n"
     ]
    },
    {
     "name": "stderr",
     "output_type": "stream",
     "text": [
      "[Parallel(n_jobs=-1)]: Done  53 tasks      | elapsed:   59.5s\n"
     ]
    },
    {
     "name": "stdout",
     "output_type": "stream",
     "text": [
      "[CV] bootstrap=True, criterion=entropy, n_estimators=30 ..............\n",
      "[CV]  bootstrap=True, criterion=entropy, n_estimators=25, score=0.5919637462235648, total=   3.6s\n",
      "[CV] bootstrap=True, criterion=entropy, n_estimators=30 ..............\n",
      "[CV]  bootstrap=True, criterion=entropy, n_estimators=25, score=0.5888929175731206, total=   3.6s\n",
      "[CV] bootstrap=True, criterion=entropy, n_estimators=30 ..............\n",
      "[CV]  bootstrap=True, criterion=entropy, n_estimators=25, score=0.5926395939086294, total=   3.7s\n",
      "[CV]  bootstrap=True, criterion=entropy, n_estimators=30, score=0.5964954682779456, total=   4.2s\n",
      "[CV]  bootstrap=True, criterion=entropy, n_estimators=30, score=0.5937273386511965, total=   3.8s\n",
      "[CV]  bootstrap=True, criterion=entropy, n_estimators=30, score=0.5917331399564902, total=   2.8s\n"
     ]
    },
    {
     "name": "stderr",
     "output_type": "stream",
     "text": [
      "[Parallel(n_jobs=-1)]: Done  60 out of  60 | elapsed:  1.1min remaining:    0.0s\n",
      "[Parallel(n_jobs=-1)]: Done  60 out of  60 | elapsed:  1.1min finished\n"
     ]
    },
    {
     "data": {
      "text/plain": [
       "GridSearchCV(cv=None, error_score='raise',\n",
       "       estimator=ExtraTreesClassifier(bootstrap=False, class_weight=None, criterion='gini',\n",
       "           max_depth=None, max_features='auto', max_leaf_nodes=None,\n",
       "           min_impurity_decrease=0.0, min_impurity_split=None,\n",
       "           min_samples_leaf=1, min_samples_split=2,\n",
       "           min_weight_fraction_leaf=0.0, n_estimators=10, n_jobs=1,\n",
       "           oob_score=False, random_state=42, verbose=0, warm_start=False),\n",
       "       fit_params=None, iid=True, n_jobs=-1,\n",
       "       param_grid={'bootstrap': [False, True], 'n_estimators': [10, 15, 20, 25, 30], 'criterion': ['gini', 'entropy']},\n",
       "       pre_dispatch='2*n_jobs', refit=True, return_train_score='warn',\n",
       "       scoring=make_scorer(roc_auc_score), verbose=10)"
      ]
     },
     "execution_count": 44,
     "metadata": {},
     "output_type": "execute_result"
    }
   ],
   "source": [
    "e_t_grid.fit(X_b, Y_b)"
   ]
  },
  {
   "cell_type": "code",
   "execution_count": 45,
   "metadata": {},
   "outputs": [
    {
     "data": {
      "text/plain": [
       "{'bootstrap': True, 'criterion': 'entropy', 'n_estimators': 30}"
      ]
     },
     "execution_count": 45,
     "metadata": {},
     "output_type": "execute_result"
    }
   ],
   "source": [
    "e_t_grid.best_params_"
   ]
  },
  {
   "cell_type": "code",
   "execution_count": 46,
   "metadata": {},
   "outputs": [
    {
     "data": {
      "text/plain": [
       "0.5939854167505942"
      ]
     },
     "execution_count": 46,
     "metadata": {},
     "output_type": "execute_result"
    }
   ],
   "source": [
    "e_t_grid.best_score_"
   ]
  },
  {
   "cell_type": "code",
   "execution_count": 47,
   "metadata": {},
   "outputs": [],
   "source": [
    "e_t_classifier = ExtraTreesClassifier(random_state=random_state, **e_t_grid.best_params_)"
   ]
  },
  {
   "cell_type": "code",
   "execution_count": 48,
   "metadata": {},
   "outputs": [
    {
     "data": {
      "text/plain": [
       "ExtraTreesClassifier(bootstrap=True, class_weight=None, criterion='entropy',\n",
       "           max_depth=None, max_features='auto', max_leaf_nodes=None,\n",
       "           min_impurity_decrease=0.0, min_impurity_split=None,\n",
       "           min_samples_leaf=1, min_samples_split=2,\n",
       "           min_weight_fraction_leaf=0.0, n_estimators=30, n_jobs=1,\n",
       "           oob_score=False, random_state=42, verbose=0, warm_start=False)"
      ]
     },
     "execution_count": 48,
     "metadata": {},
     "output_type": "execute_result"
    }
   ],
   "source": [
    "e_t_classifier.fit(X_b, Y_b)"
   ]
  },
  {
   "cell_type": "code",
   "execution_count": 49,
   "metadata": {},
   "outputs": [],
   "source": [
    "e_t_y_est = e_t_classifier.predict_proba(test_tr)"
   ]
  },
  {
   "cell_type": "code",
   "execution_count": 50,
   "metadata": {},
   "outputs": [
    {
     "data": {
      "text/plain": [
       "(48744,)"
      ]
     },
     "execution_count": 50,
     "metadata": {},
     "output_type": "execute_result"
    }
   ],
   "source": [
    "e_t_y_est[:, 1].shape"
   ]
  },
  {
   "cell_type": "code",
   "execution_count": 51,
   "metadata": {},
   "outputs": [],
   "source": [
    "result = pd.DataFrame({\n",
    "    'SK_ID_CURR': test.SK_ID_CURR.values,\n",
    "    'TARGET': e_t_y_est[:, 1]\n",
    "})"
   ]
  },
  {
   "cell_type": "code",
   "execution_count": 52,
   "metadata": {},
   "outputs": [],
   "source": [
    "result.to_csv('../data/dataset/e_t_grid_search_cv_submission.csv', index=False)"
   ]
  },
  {
   "cell_type": "markdown",
   "metadata": {},
   "source": [
    "# RandomForestClassifier"
   ]
  },
  {
   "cell_type": "code",
   "execution_count": 53,
   "metadata": {},
   "outputs": [
    {
     "data": {
      "text/plain": [
       "{'bootstrap': True,\n",
       " 'class_weight': None,\n",
       " 'criterion': 'gini',\n",
       " 'max_depth': None,\n",
       " 'max_features': 'auto',\n",
       " 'max_leaf_nodes': None,\n",
       " 'min_impurity_decrease': 0.0,\n",
       " 'min_impurity_split': None,\n",
       " 'min_samples_leaf': 1,\n",
       " 'min_samples_split': 2,\n",
       " 'min_weight_fraction_leaf': 0.0,\n",
       " 'n_estimators': 10,\n",
       " 'n_jobs': 1,\n",
       " 'oob_score': False,\n",
       " 'random_state': None,\n",
       " 'verbose': 0,\n",
       " 'warm_start': False}"
      ]
     },
     "execution_count": 53,
     "metadata": {},
     "output_type": "execute_result"
    }
   ],
   "source": [
    "RandomForestClassifier().get_params()"
   ]
  },
  {
   "cell_type": "code",
   "execution_count": 54,
   "metadata": {},
   "outputs": [],
   "source": [
    "r_f_params_grid = {\n",
    "    'bootstrap': [False, True],\n",
    "    'n_estimators': [10, 15, 20, 25, 30],\n",
    "    'criterion': ['gini', 'entropy']\n",
    "}"
   ]
  },
  {
   "cell_type": "code",
   "execution_count": 55,
   "metadata": {},
   "outputs": [],
   "source": [
    "r_f_grid = GridSearchCV(\n",
    "    RandomForestClassifier(random_state=random_state),\n",
    "    param_grid=r_f_params_grid,\n",
    "    scoring=make_scorer(roc_auc_score),\n",
    "    verbose=10,\n",
    "    n_jobs=-1\n",
    ")"
   ]
  },
  {
   "cell_type": "code",
   "execution_count": 56,
   "metadata": {
    "scrolled": false
   },
   "outputs": [
    {
     "name": "stdout",
     "output_type": "stream",
     "text": [
      "Fitting 3 folds for each of 20 candidates, totalling 60 fits\n",
      "[CV] bootstrap=False, criterion=gini, n_estimators=10 ................\n",
      "[CV] bootstrap=False, criterion=gini, n_estimators=10 ................\n",
      "[CV] bootstrap=False, criterion=gini, n_estimators=10 ................\n",
      "[CV] bootstrap=False, criterion=gini, n_estimators=15 ................\n",
      "[CV]  bootstrap=False, criterion=gini, n_estimators=10, score=0.5803021148036254, total=   2.2s\n",
      "[CV] bootstrap=False, criterion=gini, n_estimators=15 ................\n",
      "[CV]  bootstrap=False, criterion=gini, n_estimators=10, score=0.5755378293449359, total=   2.1s\n",
      "[CV] bootstrap=False, criterion=gini, n_estimators=15 ................\n",
      "[CV]  bootstrap=False, criterion=gini, n_estimators=10, score=0.5774111675126904, total=   2.6s\n",
      "[CV] bootstrap=False, criterion=gini, n_estimators=20 ................\n",
      "[CV]  bootstrap=False, criterion=gini, n_estimators=15, score=0.5868277945619335, total=   3.4s\n",
      "[CV] bootstrap=False, criterion=gini, n_estimators=20 ................\n",
      "[CV]  bootstrap=False, criterion=gini, n_estimators=15, score=0.5894972202078802, total=   3.4s\n",
      "[CV] bootstrap=False, criterion=gini, n_estimators=20 ................\n"
     ]
    },
    {
     "name": "stderr",
     "output_type": "stream",
     "text": [
      "[Parallel(n_jobs=-1)]: Done   5 tasks      | elapsed:    6.2s\n"
     ]
    },
    {
     "name": "stdout",
     "output_type": "stream",
     "text": [
      "[CV]  bootstrap=False, criterion=gini, n_estimators=15, score=0.5844815083393764, total=   3.5s\n",
      "[CV] bootstrap=False, criterion=gini, n_estimators=25 ................\n",
      "[CV]  bootstrap=False, criterion=gini, n_estimators=20, score=0.5919033232628399, total=   4.6s\n",
      "[CV] bootstrap=False, criterion=gini, n_estimators=25 ................\n",
      "[CV]  bootstrap=False, criterion=gini, n_estimators=20, score=0.5938481991781485, total=   4.3s\n",
      "[CV] bootstrap=False, criterion=gini, n_estimators=25 ................\n",
      "[CV]  bootstrap=False, criterion=gini, n_estimators=20, score=0.5885907662557408, total=   4.1s\n",
      "[CV] bootstrap=False, criterion=gini, n_estimators=30 ................\n",
      "[CV]  bootstrap=False, criterion=gini, n_estimators=25, score=0.5961933534743201, total=   5.3s\n",
      "[CV] bootstrap=False, criterion=gini, n_estimators=30 ................\n"
     ]
    },
    {
     "name": "stderr",
     "output_type": "stream",
     "text": [
      "[Parallel(n_jobs=-1)]: Done  10 tasks      | elapsed:   12.4s\n"
     ]
    },
    {
     "name": "stdout",
     "output_type": "stream",
     "text": [
      "[CV]  bootstrap=False, criterion=gini, n_estimators=25, score=0.5991660623640319, total=   6.1s\n",
      "[CV] bootstrap=False, criterion=gini, n_estimators=30 ................\n",
      "[CV]  bootstrap=False, criterion=gini, n_estimators=25, score=0.5960236886632825, total=   5.3s\n",
      "[CV] bootstrap=False, criterion=entropy, n_estimators=10 .............\n",
      "[CV]  bootstrap=False, criterion=entropy, n_estimators=10, score=0.5794561933534743, total=   2.8s\n",
      "[CV] bootstrap=False, criterion=entropy, n_estimators=10 .............\n",
      "[CV]  bootstrap=False, criterion=gini, n_estimators=30, score=0.6010876132930513, total=   6.7s\n",
      "[CV] bootstrap=False, criterion=entropy, n_estimators=10 .............\n",
      "[CV]  bootstrap=False, criterion=gini, n_estimators=30, score=0.5989847715736041, total=   6.0s\n",
      "[CV] bootstrap=False, criterion=entropy, n_estimators=15 .............\n",
      "[CV]  bootstrap=False, criterion=entropy, n_estimators=10, score=0.5738457819676094, total=   2.9s\n",
      "[CV] bootstrap=False, criterion=entropy, n_estimators=15 .............\n",
      "[CV]  bootstrap=False, criterion=entropy, n_estimators=10, score=0.5756586898718878, total=   3.1s\n",
      "[CV] bootstrap=False, criterion=entropy, n_estimators=15 .............\n"
     ]
    },
    {
     "name": "stderr",
     "output_type": "stream",
     "text": [
      "[Parallel(n_jobs=-1)]: Done  17 tasks      | elapsed:   21.5s\n"
     ]
    },
    {
     "name": "stdout",
     "output_type": "stream",
     "text": [
      "[CV]  bootstrap=False, criterion=gini, n_estimators=30, score=0.5964467005076143, total=   6.8s\n",
      "[CV] bootstrap=False, criterion=entropy, n_estimators=20 .............\n",
      "[CV]  bootstrap=False, criterion=entropy, n_estimators=15, score=0.5891842900302116, total=   4.0s\n",
      "[CV] bootstrap=False, criterion=entropy, n_estimators=20 .............\n",
      "[CV]  bootstrap=False, criterion=entropy, n_estimators=15, score=0.5868382886149384, total=   4.2s\n",
      "[CV]  bootstrap=False, criterion=entropy, n_estimators=15, score=0.5861735557167029, total=   4.7s\n",
      "[CV] bootstrap=False, criterion=entropy, n_estimators=20 .............\n",
      "[CV] bootstrap=False, criterion=entropy, n_estimators=25 .............\n",
      "[CV]  bootstrap=False, criterion=entropy, n_estimators=20, score=0.5930513595166164, total=   5.4s\n",
      "[CV] bootstrap=False, criterion=entropy, n_estimators=25 .............\n",
      "[CV]  bootstrap=False, criterion=entropy, n_estimators=20, score=0.5897389412617839, total=   5.4s\n",
      "[CV] bootstrap=False, criterion=entropy, n_estimators=25 .............\n",
      "[CV]  bootstrap=False, criterion=entropy, n_estimators=20, score=0.5909475465313028, total=   5.4s\n",
      "[CV] bootstrap=False, criterion=entropy, n_estimators=30 .............\n"
     ]
    },
    {
     "name": "stderr",
     "output_type": "stream",
     "text": [
      "[Parallel(n_jobs=-1)]: Done  24 tasks      | elapsed:   31.7s\n"
     ]
    },
    {
     "name": "stdout",
     "output_type": "stream",
     "text": [
      "[CV]  bootstrap=False, criterion=entropy, n_estimators=25, score=0.6004833836858006, total=   7.2s\n",
      "[CV] bootstrap=False, criterion=entropy, n_estimators=30 .............\n",
      "[CV]  bootstrap=False, criterion=entropy, n_estimators=25, score=0.5948755136572396, total=   7.0s\n",
      "[CV] bootstrap=False, criterion=entropy, n_estimators=30 .............\n",
      "[CV]  bootstrap=False, criterion=entropy, n_estimators=25, score=0.5963862702441383, total=   6.8s\n",
      "[CV] bootstrap=True, criterion=gini, n_estimators=10 .................\n",
      "[CV]  bootstrap=True, criterion=gini, n_estimators=10, score=0.5769184290030211, total=   1.4s\n",
      "[CV] bootstrap=True, criterion=gini, n_estimators=10 .................\n",
      "[CV]  bootstrap=True, criterion=gini, n_estimators=10, score=0.5722141648537588, total=   1.4s\n",
      "[CV] bootstrap=True, criterion=gini, n_estimators=10 .................\n",
      "[CV]  bootstrap=False, criterion=entropy, n_estimators=30, score=0.6056797583081571, total=   8.1s\n",
      "[CV] bootstrap=True, criterion=gini, n_estimators=15 .................\n",
      "[CV]  bootstrap=True, criterion=gini, n_estimators=10, score=0.57547739908146, total=   1.5s\n",
      "[CV] bootstrap=True, criterion=gini, n_estimators=15 .................\n",
      "[CV]  bootstrap=True, criterion=gini, n_estimators=15, score=0.5915407854984894, total=   2.1s\n",
      "[CV] bootstrap=True, criterion=gini, n_estimators=15 .................\n",
      "[CV]  bootstrap=False, criterion=entropy, n_estimators=30, score=0.5947546531302876, total=   9.0s\n",
      "[CV] bootstrap=True, criterion=gini, n_estimators=20 .................\n"
     ]
    },
    {
     "name": "stderr",
     "output_type": "stream",
     "text": [
      "[Parallel(n_jobs=-1)]: Done  33 tasks      | elapsed:   43.4s\n"
     ]
    },
    {
     "name": "stdout",
     "output_type": "stream",
     "text": [
      "[CV]  bootstrap=True, criterion=gini, n_estimators=15, score=0.584964950447184, total=   2.3s\n",
      "[CV] bootstrap=True, criterion=gini, n_estimators=20 .................\n",
      "[CV]  bootstrap=True, criterion=gini, n_estimators=15, score=0.5830311820159536, total=   2.2s\n",
      "[CV] bootstrap=True, criterion=gini, n_estimators=20 .................\n",
      "[CV]  bootstrap=False, criterion=entropy, n_estimators=30, score=0.5948755136572396, total=   9.1s\n",
      "[CV] bootstrap=True, criterion=gini, n_estimators=25 .................\n",
      "[CV]  bootstrap=True, criterion=gini, n_estimators=20, score=0.596012084592145, total=   2.6s\n",
      "[CV] bootstrap=True, criterion=gini, n_estimators=25 .................\n",
      "[CV]  bootstrap=True, criterion=gini, n_estimators=20, score=0.5914914189025864, total=   2.7s\n",
      "[CV] bootstrap=True, criterion=gini, n_estimators=25 .................\n",
      "[CV]  bootstrap=True, criterion=gini, n_estimators=20, score=0.5882281846748851, total=   2.7s\n",
      "[CV] bootstrap=True, criterion=gini, n_estimators=30 .................\n",
      "[CV]  bootstrap=True, criterion=gini, n_estimators=25, score=0.5983081570996979, total=   3.8s\n",
      "[CV] bootstrap=True, criterion=gini, n_estimators=30 .................\n",
      "[CV]  bootstrap=True, criterion=gini, n_estimators=25, score=0.5936064781242447, total=   3.6s\n",
      "[CV] bootstrap=True, criterion=gini, n_estimators=30 .................\n",
      "[CV]  bootstrap=True, criterion=gini, n_estimators=25, score=0.5949963741841915, total=   4.1s\n",
      "[CV] bootstrap=True, criterion=entropy, n_estimators=10 ..............\n"
     ]
    },
    {
     "name": "stderr",
     "output_type": "stream",
     "text": [
      "[Parallel(n_jobs=-1)]: Done  42 tasks      | elapsed:   50.9s\n"
     ]
    },
    {
     "name": "stdout",
     "output_type": "stream",
     "text": [
      "[CV]  bootstrap=True, criterion=entropy, n_estimators=10, score=0.5795166163141995, total=   1.9s\n",
      "[CV] bootstrap=True, criterion=entropy, n_estimators=10 ..............\n",
      "[CV]  bootstrap=True, criterion=gini, n_estimators=30, score=0.5988519637462235, total=   4.6s\n",
      "[CV] bootstrap=True, criterion=entropy, n_estimators=10 ..............\n",
      "[CV]  bootstrap=True, criterion=gini, n_estimators=30, score=0.6032753202803964, total=   4.2s\n",
      "[CV] bootstrap=True, criterion=entropy, n_estimators=15 ..............\n",
      "[CV]  bootstrap=True, criterion=entropy, n_estimators=10, score=0.5710659898477157, total=   1.9s\n",
      "[CV] bootstrap=True, criterion=entropy, n_estimators=15 ..............\n",
      "[CV]  bootstrap=True, criterion=gini, n_estimators=30, score=0.5946942228668116, total=   3.9s\n",
      "[CV] bootstrap=True, criterion=entropy, n_estimators=15 ..............\n",
      "[CV]  bootstrap=True, criterion=entropy, n_estimators=10, score=0.5755982596084119, total=   2.0s\n",
      "[CV] bootstrap=True, criterion=entropy, n_estimators=20 ..............\n",
      "[CV]  bootstrap=True, criterion=entropy, n_estimators=15, score=0.5908761329305136, total=   3.5s\n",
      "[CV] bootstrap=True, criterion=entropy, n_estimators=20 ..............\n",
      "[CV]  bootstrap=True, criterion=entropy, n_estimators=15, score=0.5875030215131737, total=   3.5s\n",
      "[CV] bootstrap=True, criterion=entropy, n_estimators=20 ..............\n",
      "[CV]  bootstrap=True, criterion=entropy, n_estimators=15, score=0.5830311820159535, total=   3.7s\n",
      "[CV] bootstrap=True, criterion=entropy, n_estimators=25 ..............\n",
      "[CV]  bootstrap=True, criterion=entropy, n_estimators=20, score=0.5914199395770393, total=   4.9s\n",
      "[CV] bootstrap=True, criterion=entropy, n_estimators=25 ..............\n",
      "[CV]  bootstrap=True, criterion=entropy, n_estimators=20, score=0.5910684070582548, total=   4.9s\n",
      "[CV] bootstrap=True, criterion=entropy, n_estimators=25 ..............\n"
     ]
    },
    {
     "name": "stderr",
     "output_type": "stream",
     "text": [
      "[Parallel(n_jobs=-1)]: Done  53 tasks      | elapsed:  1.1min\n"
     ]
    },
    {
     "name": "stdout",
     "output_type": "stream",
     "text": [
      "[CV]  bootstrap=True, criterion=entropy, n_estimators=20, score=0.5921561518008218, total=   4.6s\n",
      "[CV] bootstrap=True, criterion=entropy, n_estimators=30 ..............\n",
      "[CV]  bootstrap=True, criterion=entropy, n_estimators=25, score=0.5975226586102719, total=   5.3s\n",
      "[CV] bootstrap=True, criterion=entropy, n_estimators=30 ..............\n",
      "[CV]  bootstrap=True, criterion=entropy, n_estimators=25, score=0.5995286439448876, total=   5.9s\n",
      "[CV] bootstrap=True, criterion=entropy, n_estimators=30 ..............\n",
      "[CV]  bootstrap=True, criterion=entropy, n_estimators=25, score=0.5972322939328015, total=   5.4s\n",
      "[CV]  bootstrap=True, criterion=entropy, n_estimators=30, score=0.6029003021148036, total=   6.3s\n",
      "[CV]  bootstrap=True, criterion=entropy, n_estimators=30, score=0.602671017645637, total=   5.6s\n",
      "[CV]  bootstrap=True, criterion=entropy, n_estimators=30, score=0.6006768189509306, total=   5.1s\n"
     ]
    },
    {
     "name": "stderr",
     "output_type": "stream",
     "text": [
      "[Parallel(n_jobs=-1)]: Done  60 out of  60 | elapsed:  1.2min remaining:    0.0s\n",
      "[Parallel(n_jobs=-1)]: Done  60 out of  60 | elapsed:  1.2min finished\n"
     ]
    },
    {
     "data": {
      "text/plain": [
       "GridSearchCV(cv=None, error_score='raise',\n",
       "       estimator=RandomForestClassifier(bootstrap=True, class_weight=None, criterion='gini',\n",
       "            max_depth=None, max_features='auto', max_leaf_nodes=None,\n",
       "            min_impurity_decrease=0.0, min_impurity_split=None,\n",
       "            min_samples_leaf=1, min_samples_split=2,\n",
       "            min_weight_fraction_leaf=0.0, n_estimators=10, n_jobs=1,\n",
       "            oob_score=False, random_state=42, verbose=0, warm_start=False),\n",
       "       fit_params=None, iid=True, n_jobs=-1,\n",
       "       param_grid={'bootstrap': [False, True], 'n_estimators': [10, 15, 20, 25, 30], 'criterion': ['gini', 'entropy']},\n",
       "       pre_dispatch='2*n_jobs', refit=True, return_train_score='warn',\n",
       "       scoring=make_scorer(roc_auc_score), verbose=10)"
      ]
     },
     "execution_count": 56,
     "metadata": {},
     "output_type": "execute_result"
    }
   ],
   "source": [
    "r_f_grid.fit(X_b, Y_b)"
   ]
  },
  {
   "cell_type": "code",
   "execution_count": 57,
   "metadata": {},
   "outputs": [
    {
     "data": {
      "text/plain": [
       "{'bootstrap': True, 'criterion': 'entropy', 'n_estimators': 30}"
      ]
     },
     "execution_count": 57,
     "metadata": {},
     "output_type": "execute_result"
    }
   ],
   "source": [
    "r_f_grid.best_params_"
   ]
  },
  {
   "cell_type": "code",
   "execution_count": 58,
   "metadata": {},
   "outputs": [
    {
     "data": {
      "text/plain": [
       "0.6020827458405511"
      ]
     },
     "execution_count": 58,
     "metadata": {},
     "output_type": "execute_result"
    }
   ],
   "source": [
    "r_f_grid.best_score_"
   ]
  },
  {
   "cell_type": "code",
   "execution_count": 59,
   "metadata": {},
   "outputs": [],
   "source": [
    "r_f_classifier = RandomForestClassifier(random_state=random_state, **r_f_grid.best_params_)"
   ]
  },
  {
   "cell_type": "code",
   "execution_count": 60,
   "metadata": {},
   "outputs": [
    {
     "data": {
      "text/plain": [
       "RandomForestClassifier(bootstrap=True, class_weight=None, criterion='entropy',\n",
       "            max_depth=None, max_features='auto', max_leaf_nodes=None,\n",
       "            min_impurity_decrease=0.0, min_impurity_split=None,\n",
       "            min_samples_leaf=1, min_samples_split=2,\n",
       "            min_weight_fraction_leaf=0.0, n_estimators=30, n_jobs=1,\n",
       "            oob_score=False, random_state=42, verbose=0, warm_start=False)"
      ]
     },
     "execution_count": 60,
     "metadata": {},
     "output_type": "execute_result"
    }
   ],
   "source": [
    "r_f_classifier.fit(X_b, Y_b)"
   ]
  },
  {
   "cell_type": "code",
   "execution_count": 61,
   "metadata": {},
   "outputs": [],
   "source": [
    "r_f_y_est = r_f_classifier.predict_proba(test_tr)"
   ]
  },
  {
   "cell_type": "code",
   "execution_count": 62,
   "metadata": {},
   "outputs": [
    {
     "data": {
      "text/plain": [
       "(48744,)"
      ]
     },
     "execution_count": 62,
     "metadata": {},
     "output_type": "execute_result"
    }
   ],
   "source": [
    "r_f_y_est[:, 1].shape"
   ]
  },
  {
   "cell_type": "code",
   "execution_count": 63,
   "metadata": {},
   "outputs": [],
   "source": [
    "result = pd.DataFrame({\n",
    "    'SK_ID_CURR': test.SK_ID_CURR.values,\n",
    "    'TARGET': r_f_y_est[:, 1]\n",
    "})"
   ]
  },
  {
   "cell_type": "code",
   "execution_count": 64,
   "metadata": {},
   "outputs": [],
   "source": [
    "result.to_csv('../data/dataset/r_f_grid_search_cv_submission.csv', index=False)"
   ]
  },
  {
   "cell_type": "markdown",
   "metadata": {},
   "source": [
    "# BaggingClassifier"
   ]
  },
  {
   "cell_type": "code",
   "execution_count": 65,
   "metadata": {},
   "outputs": [
    {
     "data": {
      "text/plain": [
       "{'base_estimator': None,\n",
       " 'bootstrap': True,\n",
       " 'bootstrap_features': False,\n",
       " 'max_features': 1.0,\n",
       " 'max_samples': 1.0,\n",
       " 'n_estimators': 10,\n",
       " 'n_jobs': 1,\n",
       " 'oob_score': False,\n",
       " 'random_state': None,\n",
       " 'verbose': 0,\n",
       " 'warm_start': False}"
      ]
     },
     "execution_count": 65,
     "metadata": {},
     "output_type": "execute_result"
    }
   ],
   "source": [
    "BaggingClassifier().get_params()"
   ]
  },
  {
   "cell_type": "code",
   "execution_count": 66,
   "metadata": {},
   "outputs": [],
   "source": [
    "bagging_params_grid = {\n",
    "    'bootstrap': [True],\n",
    "    'bootstrap_features': [False, True],\n",
    "    'n_estimators': [10, 15, 20, 25, 30],\n",
    "    'oob_score': [False, True]\n",
    "}"
   ]
  },
  {
   "cell_type": "code",
   "execution_count": 67,
   "metadata": {},
   "outputs": [],
   "source": [
    "bagging_grid = GridSearchCV(\n",
    "    BaggingClassifier(random_state=random_state),\n",
    "    param_grid=bagging_params_grid,\n",
    "    scoring=make_scorer(roc_auc_score),\n",
    "    verbose=10,\n",
    "    n_jobs=-1\n",
    ")"
   ]
  },
  {
   "cell_type": "code",
   "execution_count": 68,
   "metadata": {
    "scrolled": false
   },
   "outputs": [
    {
     "name": "stdout",
     "output_type": "stream",
     "text": [
      "Fitting 3 folds for each of 20 candidates, totalling 60 fits\n",
      "[CV] bootstrap=True, bootstrap_features=False, n_estimators=10, oob_score=False \n",
      "[CV] bootstrap=True, bootstrap_features=False, n_estimators=10, oob_score=False \n",
      "[CV] bootstrap=True, bootstrap_features=False, n_estimators=10, oob_score=False \n",
      "[CV] bootstrap=True, bootstrap_features=False, n_estimators=10, oob_score=True \n"
     ]
    },
    {
     "name": "stderr",
     "output_type": "stream",
     "text": [
      "/home/bender/anaconda3/lib/python3.6/site-packages/sklearn/ensemble/bagging.py:605: UserWarning: Some inputs do not have OOB scores. This probably means too few estimators were used to compute any reliable oob estimates.\n",
      "  warn(\"Some inputs do not have OOB scores. \"\n",
      "/home/bender/anaconda3/lib/python3.6/site-packages/sklearn/ensemble/bagging.py:610: RuntimeWarning: invalid value encountered in true_divide\n",
      "  predictions.sum(axis=1)[:, np.newaxis])\n"
     ]
    },
    {
     "name": "stdout",
     "output_type": "stream",
     "text": [
      "[CV]  bootstrap=True, bootstrap_features=False, n_estimators=10, oob_score=False, score=0.5807952622673436, total=  10.4s\n",
      "[CV] bootstrap=True, bootstrap_features=False, n_estimators=10, oob_score=True \n",
      "[CV]  bootstrap=True, bootstrap_features=False, n_estimators=10, oob_score=False, score=0.5786802030456852, total=  11.1s\n",
      "[CV] bootstrap=True, bootstrap_features=False, n_estimators=10, oob_score=True \n",
      "[CV]  bootstrap=True, bootstrap_features=False, n_estimators=10, oob_score=True, score=0.5754682779456194, total=  11.1s\n",
      "[CV] bootstrap=True, bootstrap_features=False, n_estimators=15, oob_score=False \n",
      "[CV]  bootstrap=True, bootstrap_features=False, n_estimators=10, oob_score=False, score=0.5754682779456194, total=  11.4s\n",
      "[CV] bootstrap=True, bootstrap_features=False, n_estimators=15, oob_score=False \n"
     ]
    },
    {
     "name": "stderr",
     "output_type": "stream",
     "text": [
      "/home/bender/anaconda3/lib/python3.6/site-packages/sklearn/ensemble/bagging.py:605: UserWarning: Some inputs do not have OOB scores. This probably means too few estimators were used to compute any reliable oob estimates.\n",
      "  warn(\"Some inputs do not have OOB scores. \"\n",
      "/home/bender/anaconda3/lib/python3.6/site-packages/sklearn/ensemble/bagging.py:610: RuntimeWarning: invalid value encountered in true_divide\n",
      "  predictions.sum(axis=1)[:, np.newaxis])\n",
      "/home/bender/anaconda3/lib/python3.6/site-packages/sklearn/ensemble/bagging.py:605: UserWarning: Some inputs do not have OOB scores. This probably means too few estimators were used to compute any reliable oob estimates.\n",
      "  warn(\"Some inputs do not have OOB scores. \"\n",
      "/home/bender/anaconda3/lib/python3.6/site-packages/sklearn/ensemble/bagging.py:610: RuntimeWarning: invalid value encountered in true_divide\n",
      "  predictions.sum(axis=1)[:, np.newaxis])\n"
     ]
    },
    {
     "name": "stdout",
     "output_type": "stream",
     "text": [
      "[CV]  bootstrap=True, bootstrap_features=False, n_estimators=10, oob_score=True, score=0.5807952622673436, total=   9.7s\n",
      "[CV] bootstrap=True, bootstrap_features=False, n_estimators=15, oob_score=False \n"
     ]
    },
    {
     "name": "stderr",
     "output_type": "stream",
     "text": [
      "[Parallel(n_jobs=-1)]: Done   5 tasks      | elapsed:   22.6s\n"
     ]
    },
    {
     "name": "stdout",
     "output_type": "stream",
     "text": [
      "[CV]  bootstrap=True, bootstrap_features=False, n_estimators=10, oob_score=True, score=0.5786802030456852, total=  10.1s\n",
      "[CV] bootstrap=True, bootstrap_features=False, n_estimators=15, oob_score=True \n",
      "[CV]  bootstrap=True, bootstrap_features=False, n_estimators=15, oob_score=False, score=0.5853172205438066, total=  15.7s\n",
      "[CV] bootstrap=True, bootstrap_features=False, n_estimators=15, oob_score=True \n",
      "[CV]  bootstrap=True, bootstrap_features=False, n_estimators=15, oob_score=False, score=0.5887116267826927, total=  16.0s\n",
      "[CV] bootstrap=True, bootstrap_features=False, n_estimators=15, oob_score=True \n"
     ]
    },
    {
     "name": "stderr",
     "output_type": "stream",
     "text": [
      "/home/bender/anaconda3/lib/python3.6/site-packages/sklearn/ensemble/bagging.py:605: UserWarning: Some inputs do not have OOB scores. This probably means too few estimators were used to compute any reliable oob estimates.\n",
      "  warn(\"Some inputs do not have OOB scores. \"\n",
      "/home/bender/anaconda3/lib/python3.6/site-packages/sklearn/ensemble/bagging.py:610: RuntimeWarning: invalid value encountered in true_divide\n",
      "  predictions.sum(axis=1)[:, np.newaxis])\n"
     ]
    },
    {
     "name": "stdout",
     "output_type": "stream",
     "text": [
      "[CV]  bootstrap=True, bootstrap_features=False, n_estimators=15, oob_score=False, score=0.5915518491660624, total=  17.0s\n",
      "[CV] bootstrap=True, bootstrap_features=False, n_estimators=20, oob_score=False \n",
      "[CV]  bootstrap=True, bootstrap_features=False, n_estimators=15, oob_score=True, score=0.5853172205438066, total=  17.3s\n",
      "[CV] bootstrap=True, bootstrap_features=False, n_estimators=20, oob_score=False \n"
     ]
    },
    {
     "name": "stderr",
     "output_type": "stream",
     "text": [
      "[Parallel(n_jobs=-1)]: Done  10 tasks      | elapsed:   42.6s\n",
      "/home/bender/anaconda3/lib/python3.6/site-packages/sklearn/ensemble/bagging.py:605: UserWarning: Some inputs do not have OOB scores. This probably means too few estimators were used to compute any reliable oob estimates.\n",
      "  warn(\"Some inputs do not have OOB scores. \"\n",
      "/home/bender/anaconda3/lib/python3.6/site-packages/sklearn/ensemble/bagging.py:610: RuntimeWarning: invalid value encountered in true_divide\n",
      "  predictions.sum(axis=1)[:, np.newaxis])\n",
      "/home/bender/anaconda3/lib/python3.6/site-packages/sklearn/ensemble/bagging.py:605: UserWarning: Some inputs do not have OOB scores. This probably means too few estimators were used to compute any reliable oob estimates.\n",
      "  warn(\"Some inputs do not have OOB scores. \"\n",
      "/home/bender/anaconda3/lib/python3.6/site-packages/sklearn/ensemble/bagging.py:610: RuntimeWarning: invalid value encountered in true_divide\n",
      "  predictions.sum(axis=1)[:, np.newaxis])\n"
     ]
    },
    {
     "name": "stdout",
     "output_type": "stream",
     "text": [
      "[CV]  bootstrap=True, bootstrap_features=False, n_estimators=15, oob_score=True, score=0.5915518491660624, total=  17.2s\n",
      "[CV] bootstrap=True, bootstrap_features=False, n_estimators=20, oob_score=False \n",
      "[CV]  bootstrap=True, bootstrap_features=False, n_estimators=15, oob_score=True, score=0.5887116267826927, total=  18.1s\n",
      "[CV] bootstrap=True, bootstrap_features=False, n_estimators=20, oob_score=True \n",
      "[CV]  bootstrap=True, bootstrap_features=False, n_estimators=20, oob_score=False, score=0.5906344410876133, total=  24.4s\n",
      "[CV] bootstrap=True, bootstrap_features=False, n_estimators=20, oob_score=True \n",
      "[CV]  bootstrap=True, bootstrap_features=False, n_estimators=20, oob_score=False, score=0.5903432438965435, total=  23.8s\n",
      "[CV] bootstrap=True, bootstrap_features=False, n_estimators=20, oob_score=True \n"
     ]
    },
    {
     "name": "stderr",
     "output_type": "stream",
     "text": [
      "/home/bender/anaconda3/lib/python3.6/site-packages/sklearn/ensemble/bagging.py:605: UserWarning: Some inputs do not have OOB scores. This probably means too few estimators were used to compute any reliable oob estimates.\n",
      "  warn(\"Some inputs do not have OOB scores. \"\n",
      "/home/bender/anaconda3/lib/python3.6/site-packages/sklearn/ensemble/bagging.py:610: RuntimeWarning: invalid value encountered in true_divide\n",
      "  predictions.sum(axis=1)[:, np.newaxis])\n"
     ]
    },
    {
     "name": "stdout",
     "output_type": "stream",
     "text": [
      "[CV]  bootstrap=True, bootstrap_features=False, n_estimators=20, oob_score=False, score=0.5940899202320522, total=  24.1s\n",
      "[CV] bootstrap=True, bootstrap_features=False, n_estimators=25, oob_score=False \n",
      "[CV]  bootstrap=True, bootstrap_features=False, n_estimators=20, oob_score=True, score=0.5906344410876133, total=  23.9s\n",
      "[CV] bootstrap=True, bootstrap_features=False, n_estimators=25, oob_score=False \n"
     ]
    },
    {
     "name": "stderr",
     "output_type": "stream",
     "text": [
      "/home/bender/anaconda3/lib/python3.6/site-packages/sklearn/ensemble/bagging.py:605: UserWarning: Some inputs do not have OOB scores. This probably means too few estimators were used to compute any reliable oob estimates.\n",
      "  warn(\"Some inputs do not have OOB scores. \"\n",
      "/home/bender/anaconda3/lib/python3.6/site-packages/sklearn/ensemble/bagging.py:610: RuntimeWarning: invalid value encountered in true_divide\n",
      "  predictions.sum(axis=1)[:, np.newaxis])\n",
      "/home/bender/anaconda3/lib/python3.6/site-packages/sklearn/ensemble/bagging.py:605: UserWarning: Some inputs do not have OOB scores. This probably means too few estimators were used to compute any reliable oob estimates.\n",
      "  warn(\"Some inputs do not have OOB scores. \"\n",
      "/home/bender/anaconda3/lib/python3.6/site-packages/sklearn/ensemble/bagging.py:610: RuntimeWarning: invalid value encountered in true_divide\n",
      "  predictions.sum(axis=1)[:, np.newaxis])\n"
     ]
    },
    {
     "name": "stdout",
     "output_type": "stream",
     "text": [
      "[CV]  bootstrap=True, bootstrap_features=False, n_estimators=20, oob_score=True, score=0.5903432438965435, total=  22.9s\n",
      "[CV] bootstrap=True, bootstrap_features=False, n_estimators=25, oob_score=False \n"
     ]
    },
    {
     "name": "stderr",
     "output_type": "stream",
     "text": [
      "[Parallel(n_jobs=-1)]: Done  17 tasks      | elapsed:  1.6min\n"
     ]
    },
    {
     "name": "stdout",
     "output_type": "stream",
     "text": [
      "[CV]  bootstrap=True, bootstrap_features=False, n_estimators=20, oob_score=True, score=0.5940899202320522, total=  22.9s\n",
      "[CV] bootstrap=True, bootstrap_features=False, n_estimators=25, oob_score=True \n",
      "[CV]  bootstrap=True, bootstrap_features=False, n_estimators=25, oob_score=False, score=0.5989728096676737, total=  26.5s\n",
      "[CV] bootstrap=True, bootstrap_features=False, n_estimators=25, oob_score=True \n",
      "[CV]  bootstrap=True, bootstrap_features=False, n_estimators=25, oob_score=False, score=0.5951776649746193, total=  26.7s\n",
      "[CV] bootstrap=True, bootstrap_features=False, n_estimators=25, oob_score=True \n",
      "[CV]  bootstrap=True, bootstrap_features=False, n_estimators=25, oob_score=False, score=0.5998307952622673, total=  25.9s\n",
      "[CV] bootstrap=True, bootstrap_features=False, n_estimators=30, oob_score=False \n",
      "[CV]  bootstrap=True, bootstrap_features=False, n_estimators=25, oob_score=True, score=0.5989728096676737, total=  26.5s\n",
      "[CV] bootstrap=True, bootstrap_features=False, n_estimators=30, oob_score=False \n",
      "[CV]  bootstrap=True, bootstrap_features=False, n_estimators=25, oob_score=True, score=0.5951776649746193, total=  27.8s\n",
      "[CV] bootstrap=True, bootstrap_features=False, n_estimators=30, oob_score=False \n",
      "[CV]  bootstrap=True, bootstrap_features=False, n_estimators=25, oob_score=True, score=0.5998307952622673, total=  28.2s\n",
      "[CV] bootstrap=True, bootstrap_features=False, n_estimators=30, oob_score=True \n"
     ]
    },
    {
     "name": "stderr",
     "output_type": "stream",
     "text": [
      "[Parallel(n_jobs=-1)]: Done  24 tasks      | elapsed:  2.3min\n"
     ]
    },
    {
     "name": "stdout",
     "output_type": "stream",
     "text": [
      "[CV]  bootstrap=True, bootstrap_features=False, n_estimators=30, oob_score=False, score=0.5999395770392749, total=  31.8s\n",
      "[CV] bootstrap=True, bootstrap_features=False, n_estimators=30, oob_score=True \n",
      "[CV]  bootstrap=True, bootstrap_features=False, n_estimators=30, oob_score=False, score=0.6012206913222141, total=  31.6s\n",
      "[CV] bootstrap=True, bootstrap_features=False, n_estimators=30, oob_score=True \n",
      "[CV]  bootstrap=True, bootstrap_features=False, n_estimators=30, oob_score=False, score=0.5989243413101281, total=  33.3s\n",
      "[CV] bootstrap=True, bootstrap_features=True, n_estimators=10, oob_score=False \n",
      "[CV]  bootstrap=True, bootstrap_features=False, n_estimators=30, oob_score=True, score=0.5999395770392749, total=  34.9s\n",
      "[CV] bootstrap=True, bootstrap_features=True, n_estimators=10, oob_score=False \n",
      "[CV]  bootstrap=True, bootstrap_features=True, n_estimators=10, oob_score=False, score=0.5774622356495468, total=  11.3s\n",
      "[CV] bootstrap=True, bootstrap_features=True, n_estimators=10, oob_score=False \n",
      "[CV]  bootstrap=True, bootstrap_features=True, n_estimators=10, oob_score=False, score=0.577834179357022, total=  11.0s\n",
      "[CV] bootstrap=True, bootstrap_features=True, n_estimators=10, oob_score=True \n",
      "[CV]  bootstrap=True, bootstrap_features=False, n_estimators=30, oob_score=True, score=0.6012206913222141, total=  32.4s\n",
      "[CV] bootstrap=True, bootstrap_features=True, n_estimators=10, oob_score=True \n",
      "[CV]  bootstrap=True, bootstrap_features=False, n_estimators=30, oob_score=True, score=0.5989243413101281, total=  34.5s\n",
      "[CV] bootstrap=True, bootstrap_features=True, n_estimators=10, oob_score=True \n",
      "[CV]  bootstrap=True, bootstrap_features=True, n_estimators=10, oob_score=False, score=0.5707034082668601, total=  11.4s\n",
      "[CV] bootstrap=True, bootstrap_features=True, n_estimators=15, oob_score=False \n"
     ]
    },
    {
     "name": "stderr",
     "output_type": "stream",
     "text": [
      "[Parallel(n_jobs=-1)]: Done  33 tasks      | elapsed:  3.3min\n",
      "/home/bender/anaconda3/lib/python3.6/site-packages/sklearn/ensemble/bagging.py:605: UserWarning: Some inputs do not have OOB scores. This probably means too few estimators were used to compute any reliable oob estimates.\n",
      "  warn(\"Some inputs do not have OOB scores. \"\n",
      "/home/bender/anaconda3/lib/python3.6/site-packages/sklearn/ensemble/bagging.py:610: RuntimeWarning: invalid value encountered in true_divide\n",
      "  predictions.sum(axis=1)[:, np.newaxis])\n"
     ]
    },
    {
     "name": "stdout",
     "output_type": "stream",
     "text": [
      "[CV]  bootstrap=True, bootstrap_features=True, n_estimators=10, oob_score=True, score=0.5774622356495468, total=  11.6s\n",
      "[CV] bootstrap=True, bootstrap_features=True, n_estimators=15, oob_score=False \n"
     ]
    },
    {
     "name": "stderr",
     "output_type": "stream",
     "text": [
      "/home/bender/anaconda3/lib/python3.6/site-packages/sklearn/ensemble/bagging.py:605: UserWarning: Some inputs do not have OOB scores. This probably means too few estimators were used to compute any reliable oob estimates.\n",
      "  warn(\"Some inputs do not have OOB scores. \"\n",
      "/home/bender/anaconda3/lib/python3.6/site-packages/sklearn/ensemble/bagging.py:610: RuntimeWarning: invalid value encountered in true_divide\n",
      "  predictions.sum(axis=1)[:, np.newaxis])\n",
      "/home/bender/anaconda3/lib/python3.6/site-packages/sklearn/ensemble/bagging.py:605: UserWarning: Some inputs do not have OOB scores. This probably means too few estimators were used to compute any reliable oob estimates.\n",
      "  warn(\"Some inputs do not have OOB scores. \"\n",
      "/home/bender/anaconda3/lib/python3.6/site-packages/sklearn/ensemble/bagging.py:610: RuntimeWarning: invalid value encountered in true_divide\n",
      "  predictions.sum(axis=1)[:, np.newaxis])\n"
     ]
    },
    {
     "name": "stdout",
     "output_type": "stream",
     "text": [
      "[CV]  bootstrap=True, bootstrap_features=True, n_estimators=10, oob_score=True, score=0.577834179357022, total=  12.4s\n",
      "[CV] bootstrap=True, bootstrap_features=True, n_estimators=15, oob_score=False \n",
      "[CV]  bootstrap=True, bootstrap_features=True, n_estimators=10, oob_score=True, score=0.5707034082668601, total=  11.4s\n",
      "[CV] bootstrap=True, bootstrap_features=True, n_estimators=15, oob_score=True \n",
      "[CV]  bootstrap=True, bootstrap_features=True, n_estimators=15, oob_score=False, score=0.583987915407855, total=  16.5s\n",
      "[CV] bootstrap=True, bootstrap_features=True, n_estimators=15, oob_score=True \n",
      "[CV]  bootstrap=True, bootstrap_features=True, n_estimators=15, oob_score=False, score=0.5853275320280397, total=  16.3s\n",
      "[CV] bootstrap=True, bootstrap_features=True, n_estimators=15, oob_score=True \n"
     ]
    },
    {
     "name": "stderr",
     "output_type": "stream",
     "text": [
      "/home/bender/anaconda3/lib/python3.6/site-packages/sklearn/ensemble/bagging.py:605: UserWarning: Some inputs do not have OOB scores. This probably means too few estimators were used to compute any reliable oob estimates.\n",
      "  warn(\"Some inputs do not have OOB scores. \"\n",
      "/home/bender/anaconda3/lib/python3.6/site-packages/sklearn/ensemble/bagging.py:610: RuntimeWarning: invalid value encountered in true_divide\n",
      "  predictions.sum(axis=1)[:, np.newaxis])\n"
     ]
    },
    {
     "name": "stdout",
     "output_type": "stream",
     "text": [
      "[CV]  bootstrap=True, bootstrap_features=True, n_estimators=15, oob_score=False, score=0.5810974135847232, total=  16.7s\n",
      "[CV] bootstrap=True, bootstrap_features=True, n_estimators=20, oob_score=False \n",
      "[CV]  bootstrap=True, bootstrap_features=True, n_estimators=15, oob_score=True, score=0.583987915407855, total=  17.2s\n",
      "[CV] bootstrap=True, bootstrap_features=True, n_estimators=20, oob_score=False \n"
     ]
    },
    {
     "name": "stderr",
     "output_type": "stream",
     "text": [
      "/home/bender/anaconda3/lib/python3.6/site-packages/sklearn/ensemble/bagging.py:605: UserWarning: Some inputs do not have OOB scores. This probably means too few estimators were used to compute any reliable oob estimates.\n",
      "  warn(\"Some inputs do not have OOB scores. \"\n",
      "/home/bender/anaconda3/lib/python3.6/site-packages/sklearn/ensemble/bagging.py:610: RuntimeWarning: invalid value encountered in true_divide\n",
      "  predictions.sum(axis=1)[:, np.newaxis])\n",
      "/home/bender/anaconda3/lib/python3.6/site-packages/sklearn/ensemble/bagging.py:605: UserWarning: Some inputs do not have OOB scores. This probably means too few estimators were used to compute any reliable oob estimates.\n",
      "  warn(\"Some inputs do not have OOB scores. \"\n",
      "/home/bender/anaconda3/lib/python3.6/site-packages/sklearn/ensemble/bagging.py:610: RuntimeWarning: invalid value encountered in true_divide\n",
      "  predictions.sum(axis=1)[:, np.newaxis])\n"
     ]
    },
    {
     "name": "stdout",
     "output_type": "stream",
     "text": [
      "[CV]  bootstrap=True, bootstrap_features=True, n_estimators=15, oob_score=True, score=0.5853275320280397, total=  17.9s\n",
      "[CV] bootstrap=True, bootstrap_features=True, n_estimators=20, oob_score=False \n",
      "[CV]  bootstrap=True, bootstrap_features=True, n_estimators=15, oob_score=True, score=0.5810974135847232, total=  17.6s\n",
      "[CV] bootstrap=True, bootstrap_features=True, n_estimators=20, oob_score=True \n"
     ]
    },
    {
     "name": "stderr",
     "output_type": "stream",
     "text": [
      "[Parallel(n_jobs=-1)]: Done  42 tasks      | elapsed:  4.0min\n"
     ]
    },
    {
     "name": "stdout",
     "output_type": "stream",
     "text": [
      "[CV]  bootstrap=True, bootstrap_features=True, n_estimators=20, oob_score=False, score=0.587915407854985, total=  22.3s\n",
      "[CV] bootstrap=True, bootstrap_features=True, n_estimators=20, oob_score=True \n",
      "[CV]  bootstrap=True, bootstrap_features=True, n_estimators=20, oob_score=False, score=0.590705825477399, total=  22.3s\n",
      "[CV] bootstrap=True, bootstrap_features=True, n_estimators=20, oob_score=True \n"
     ]
    },
    {
     "name": "stderr",
     "output_type": "stream",
     "text": [
      "/home/bender/anaconda3/lib/python3.6/site-packages/sklearn/ensemble/bagging.py:605: UserWarning: Some inputs do not have OOB scores. This probably means too few estimators were used to compute any reliable oob estimates.\n",
      "  warn(\"Some inputs do not have OOB scores. \"\n",
      "/home/bender/anaconda3/lib/python3.6/site-packages/sklearn/ensemble/bagging.py:610: RuntimeWarning: invalid value encountered in true_divide\n",
      "  predictions.sum(axis=1)[:, np.newaxis])\n"
     ]
    },
    {
     "name": "stdout",
     "output_type": "stream",
     "text": [
      "[CV]  bootstrap=True, bootstrap_features=True, n_estimators=20, oob_score=False, score=0.5881073241479333, total=  25.0s\n",
      "[CV] bootstrap=True, bootstrap_features=True, n_estimators=25, oob_score=False \n",
      "[CV]  bootstrap=True, bootstrap_features=True, n_estimators=20, oob_score=True, score=0.587915407854985, total=  26.1s\n",
      "[CV] bootstrap=True, bootstrap_features=True, n_estimators=25, oob_score=False \n"
     ]
    },
    {
     "name": "stderr",
     "output_type": "stream",
     "text": [
      "/home/bender/anaconda3/lib/python3.6/site-packages/sklearn/ensemble/bagging.py:605: UserWarning: Some inputs do not have OOB scores. This probably means too few estimators were used to compute any reliable oob estimates.\n",
      "  warn(\"Some inputs do not have OOB scores. \"\n",
      "/home/bender/anaconda3/lib/python3.6/site-packages/sklearn/ensemble/bagging.py:610: RuntimeWarning: invalid value encountered in true_divide\n",
      "  predictions.sum(axis=1)[:, np.newaxis])\n",
      "/home/bender/anaconda3/lib/python3.6/site-packages/sklearn/ensemble/bagging.py:605: UserWarning: Some inputs do not have OOB scores. This probably means too few estimators were used to compute any reliable oob estimates.\n",
      "  warn(\"Some inputs do not have OOB scores. \"\n",
      "/home/bender/anaconda3/lib/python3.6/site-packages/sklearn/ensemble/bagging.py:610: RuntimeWarning: invalid value encountered in true_divide\n",
      "  predictions.sum(axis=1)[:, np.newaxis])\n"
     ]
    },
    {
     "name": "stdout",
     "output_type": "stream",
     "text": [
      "[CV]  bootstrap=True, bootstrap_features=True, n_estimators=20, oob_score=True, score=0.590705825477399, total=  27.0s\n",
      "[CV] bootstrap=True, bootstrap_features=True, n_estimators=25, oob_score=False \n",
      "[CV]  bootstrap=True, bootstrap_features=True, n_estimators=20, oob_score=True, score=0.5881073241479333, total=  27.2s\n",
      "[CV] bootstrap=True, bootstrap_features=True, n_estimators=25, oob_score=True \n",
      "[CV]  bootstrap=True, bootstrap_features=True, n_estimators=25, oob_score=False, score=0.590453172205438, total=  30.8s\n",
      "[CV] bootstrap=True, bootstrap_features=True, n_estimators=25, oob_score=True \n",
      "[CV]  bootstrap=True, bootstrap_features=True, n_estimators=25, oob_score=False, score=0.5960841189267585, total=  30.1s\n",
      "[CV] bootstrap=True, bootstrap_features=True, n_estimators=25, oob_score=True \n",
      "[CV]  bootstrap=True, bootstrap_features=True, n_estimators=25, oob_score=False, score=0.5926395939086294, total=  27.2s\n",
      "[CV] bootstrap=True, bootstrap_features=True, n_estimators=30, oob_score=False \n",
      "[CV]  bootstrap=True, bootstrap_features=True, n_estimators=25, oob_score=True, score=0.590453172205438, total=  29.3s\n",
      "[CV] bootstrap=True, bootstrap_features=True, n_estimators=30, oob_score=False \n",
      "[CV]  bootstrap=True, bootstrap_features=True, n_estimators=25, oob_score=True, score=0.5960841189267585, total=  29.0s\n",
      "[CV] bootstrap=True, bootstrap_features=True, n_estimators=30, oob_score=False \n"
     ]
    },
    {
     "name": "stderr",
     "output_type": "stream",
     "text": [
      "[Parallel(n_jobs=-1)]: Done  53 tasks      | elapsed:  5.5min\n"
     ]
    },
    {
     "name": "stdout",
     "output_type": "stream",
     "text": [
      "[CV]  bootstrap=True, bootstrap_features=True, n_estimators=25, oob_score=True, score=0.5926395939086294, total=  27.8s\n",
      "[CV] bootstrap=True, bootstrap_features=True, n_estimators=30, oob_score=True \n",
      "[CV]  bootstrap=True, bootstrap_features=True, n_estimators=30, oob_score=False, score=0.5954078549848942, total=  34.4s\n",
      "[CV] bootstrap=True, bootstrap_features=True, n_estimators=30, oob_score=True \n",
      "[CV]  bootstrap=True, bootstrap_features=True, n_estimators=30, oob_score=False, score=0.5960841189267585, total=  35.1s\n",
      "[CV] bootstrap=True, bootstrap_features=True, n_estimators=30, oob_score=True \n",
      "[CV]  bootstrap=True, bootstrap_features=True, n_estimators=30, oob_score=False, score=0.5995890742083635, total=  36.0s\n",
      "[CV]  bootstrap=True, bootstrap_features=True, n_estimators=30, oob_score=True, score=0.5954078549848942, total=  37.1s\n",
      "[CV]  bootstrap=True, bootstrap_features=True, n_estimators=30, oob_score=True, score=0.5960841189267585, total=  31.0s\n",
      "[CV]  bootstrap=True, bootstrap_features=True, n_estimators=30, oob_score=True, score=0.5995890742083635, total=  28.3s\n"
     ]
    },
    {
     "name": "stderr",
     "output_type": "stream",
     "text": [
      "[Parallel(n_jobs=-1)]: Done  60 out of  60 | elapsed:  6.4min remaining:    0.0s\n",
      "[Parallel(n_jobs=-1)]: Done  60 out of  60 | elapsed:  6.4min finished\n"
     ]
    },
    {
     "data": {
      "text/plain": [
       "GridSearchCV(cv=None, error_score='raise',\n",
       "       estimator=BaggingClassifier(base_estimator=None, bootstrap=True,\n",
       "         bootstrap_features=False, max_features=1.0, max_samples=1.0,\n",
       "         n_estimators=10, n_jobs=1, oob_score=False, random_state=42,\n",
       "         verbose=0, warm_start=False),\n",
       "       fit_params=None, iid=True, n_jobs=-1,\n",
       "       param_grid={'bootstrap': [True], 'bootstrap_features': [False, True], 'n_estimators': [10, 15, 20, 25, 30], 'oob_score': [False, True]},\n",
       "       pre_dispatch='2*n_jobs', refit=True, return_train_score='warn',\n",
       "       scoring=make_scorer(roc_auc_score), verbose=10)"
      ]
     },
     "execution_count": 68,
     "metadata": {},
     "output_type": "execute_result"
    }
   ],
   "source": [
    "bagging_grid.fit(X_b, Y_b)"
   ]
  },
  {
   "cell_type": "code",
   "execution_count": 69,
   "metadata": {},
   "outputs": [
    {
     "data": {
      "text/plain": [
       "{'bootstrap': True,\n",
       " 'bootstrap_features': False,\n",
       " 'n_estimators': 30,\n",
       " 'oob_score': False}"
      ]
     },
     "execution_count": 69,
     "metadata": {},
     "output_type": "execute_result"
    }
   ],
   "source": [
    "bagging_grid.best_params_"
   ]
  },
  {
   "cell_type": "code",
   "execution_count": 70,
   "metadata": {},
   "outputs": [
    {
     "data": {
      "text/plain": [
       "0.6000281996535471"
      ]
     },
     "execution_count": 70,
     "metadata": {},
     "output_type": "execute_result"
    }
   ],
   "source": [
    "bagging_grid.best_score_"
   ]
  },
  {
   "cell_type": "code",
   "execution_count": 73,
   "metadata": {},
   "outputs": [],
   "source": [
    "bagging_classifier = BaggingClassifier(random_state=random_state, **bagging_grid.best_params_)"
   ]
  },
  {
   "cell_type": "code",
   "execution_count": 74,
   "metadata": {},
   "outputs": [
    {
     "data": {
      "text/plain": [
       "BaggingClassifier(base_estimator=None, bootstrap=True,\n",
       "         bootstrap_features=False, max_features=1.0, max_samples=1.0,\n",
       "         n_estimators=30, n_jobs=1, oob_score=False, random_state=42,\n",
       "         verbose=0, warm_start=False)"
      ]
     },
     "execution_count": 74,
     "metadata": {},
     "output_type": "execute_result"
    }
   ],
   "source": [
    "bagging_classifier.fit(X_b, Y_b)"
   ]
  },
  {
   "cell_type": "code",
   "execution_count": 75,
   "metadata": {},
   "outputs": [],
   "source": [
    "bagging_y_est = bagging_classifier.predict_proba(test_tr)"
   ]
  },
  {
   "cell_type": "code",
   "execution_count": 76,
   "metadata": {},
   "outputs": [
    {
     "data": {
      "text/plain": [
       "(48744,)"
      ]
     },
     "execution_count": 76,
     "metadata": {},
     "output_type": "execute_result"
    }
   ],
   "source": [
    "bagging_y_est[:, 1].shape"
   ]
  },
  {
   "cell_type": "code",
   "execution_count": 77,
   "metadata": {},
   "outputs": [],
   "source": [
    "result = pd.DataFrame({\n",
    "    'SK_ID_CURR': test.SK_ID_CURR.values,\n",
    "    'TARGET': bagging_y_est[:, 1]\n",
    "})"
   ]
  },
  {
   "cell_type": "code",
   "execution_count": 78,
   "metadata": {},
   "outputs": [],
   "source": [
    "result.to_csv('../data/dataset/bagging_grid_search_cv_submission.csv', index=False)"
   ]
  },
  {
   "cell_type": "markdown",
   "metadata": {},
   "source": [
    "# Models mixture"
   ]
  },
  {
   "cell_type": "code",
   "execution_count": 79,
   "metadata": {},
   "outputs": [],
   "source": [
    "res_y = (bagging_y_est[:, 1] + r_f_y_est[:, 1] + e_t_y_est[:, 1] + baseline_y_est[:, 1]) / 4"
   ]
  },
  {
   "cell_type": "code",
   "execution_count": 80,
   "metadata": {},
   "outputs": [
    {
     "data": {
      "text/plain": [
       "array([0.39166667, 0.46666667, 0.40833333, ..., 0.425     , 0.45833333,\n",
       "       0.50833333])"
      ]
     },
     "execution_count": 80,
     "metadata": {},
     "output_type": "execute_result"
    }
   ],
   "source": [
    "res_y"
   ]
  },
  {
   "cell_type": "code",
   "execution_count": 81,
   "metadata": {},
   "outputs": [],
   "source": [
    "result = pd.DataFrame({\n",
    "    'SK_ID_CURR': test.SK_ID_CURR.values,\n",
    "    'TARGET': res_y\n",
    "})"
   ]
  },
  {
   "cell_type": "code",
   "execution_count": 82,
   "metadata": {},
   "outputs": [],
   "source": [
    "result.to_csv('../data/dataset/mixture_submission.csv', index=False)"
   ]
  }
 ],
 "metadata": {
  "kernelspec": {
   "display_name": "Python 3",
   "language": "python",
   "name": "python3"
  },
  "language_info": {
   "codemirror_mode": {
    "name": "ipython",
    "version": 3
   },
   "file_extension": ".py",
   "mimetype": "text/x-python",
   "name": "python",
   "nbconvert_exporter": "python",
   "pygments_lexer": "ipython3",
   "version": "3.6.4"
  }
 },
 "nbformat": 4,
 "nbformat_minor": 1
}
