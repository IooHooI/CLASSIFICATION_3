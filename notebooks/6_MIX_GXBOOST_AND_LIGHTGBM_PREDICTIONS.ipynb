{
 "cells": [
  {
   "cell_type": "markdown",
   "metadata": {},
   "source": [
    "# All necessary imports"
   ]
  },
  {
   "cell_type": "code",
   "execution_count": 1,
   "metadata": {},
   "outputs": [],
   "source": [
    "import sys\n",
    "sys.path.append('..')"
   ]
  },
  {
   "cell_type": "code",
   "execution_count": 2,
   "metadata": {},
   "outputs": [],
   "source": [
    "from source.code.utils import load_obj\n",
    "from source.code.utils import generate_pipeline\n",
    "from source.code.utils import generate_cat_feature_counts\n",
    "from source.code.utils import generate_features_names\n",
    "from source.code.ItemSelector import ItemSelector"
   ]
  },
  {
   "cell_type": "code",
   "execution_count": 3,
   "metadata": {},
   "outputs": [],
   "source": [
    "import pandas as pd\n",
    "import numpy as np\n",
    "from tqdm import tqdm\n",
    "\n",
    "from sklearn.ensemble import BaggingClassifier\n",
    "from sklearn.ensemble import RandomForestClassifier\n",
    "from sklearn.ensemble import ExtraTreesClassifier\n",
    "from sklearn.ensemble import VotingClassifier\n",
    "\n",
    "from sklearn.model_selection import cross_val_score\n",
    "from sklearn.model_selection import GridSearchCV\n",
    "from sklearn.metrics import make_scorer\n",
    "from sklearn.metrics import roc_auc_score\n",
    "\n",
    "from imblearn.pipeline import Pipeline\n",
    "from sklearn.pipeline import FeatureUnion\n",
    "\n",
    "from imblearn.under_sampling import RandomUnderSampler"
   ]
  },
  {
   "cell_type": "code",
   "execution_count": 4,
   "metadata": {},
   "outputs": [],
   "source": [
    "import lightgbm as lgb"
   ]
  },
  {
   "cell_type": "code",
   "execution_count": 5,
   "metadata": {},
   "outputs": [],
   "source": [
    "import xgboost as xgb"
   ]
  },
  {
   "cell_type": "code",
   "execution_count": 6,
   "metadata": {},
   "outputs": [],
   "source": [
    "pd.set_option('display.max_colwidth', -1)\n",
    "pd.set_option('display.max_rows', 30000)\n",
    "pd.set_option('display.max_columns', 30000)"
   ]
  },
  {
   "cell_type": "code",
   "execution_count": 7,
   "metadata": {},
   "outputs": [],
   "source": [
    "data_path = '../data/dataset/processed/{}.csv'\n",
    "profiling_path = '../data/dataset/processed/data_profiling/{}.html'\n",
    "meta_path = '../data/dataset/processed/meta-info/{}.pkl'"
   ]
  },
  {
   "cell_type": "markdown",
   "metadata": {},
   "source": [
    "# Choose random_state"
   ]
  },
  {
   "cell_type": "code",
   "execution_count": 8,
   "metadata": {},
   "outputs": [],
   "source": [
    "random_state = 42"
   ]
  },
  {
   "cell_type": "markdown",
   "metadata": {},
   "source": [
    "# Data reading"
   ]
  },
  {
   "cell_type": "markdown",
   "metadata": {},
   "source": [
    "## Datasets"
   ]
  },
  {
   "cell_type": "code",
   "execution_count": 9,
   "metadata": {},
   "outputs": [],
   "source": [
    "dataset_names = ['application_train', 'application_test']"
   ]
  },
  {
   "cell_type": "code",
   "execution_count": 10,
   "metadata": {},
   "outputs": [
    {
     "name": "stderr",
     "output_type": "stream",
     "text": [
      "100%|██████████| 2/2 [00:02<00:00,  1.28s/it]\n"
     ]
    }
   ],
   "source": [
    "data_dict = dict(zip(dataset_names, list(map(lambda name: pd.read_csv(filepath_or_buffer=data_path.format(name)), tqdm(dataset_names)))))"
   ]
  },
  {
   "cell_type": "markdown",
   "metadata": {},
   "source": [
    "## Columns needed"
   ]
  },
  {
   "cell_type": "code",
   "execution_count": 11,
   "metadata": {},
   "outputs": [],
   "source": [
    "datasets_num_features = load_obj(meta_path.format('datasets_num_features'))"
   ]
  },
  {
   "cell_type": "code",
   "execution_count": 12,
   "metadata": {},
   "outputs": [],
   "source": [
    "datasets_cat_features = load_obj(meta_path.format('datasets_cat_features'))"
   ]
  },
  {
   "cell_type": "code",
   "execution_count": 13,
   "metadata": {},
   "outputs": [],
   "source": [
    "datasets_bin_features = load_obj(meta_path.format('datasets_bin_features'))"
   ]
  },
  {
   "cell_type": "markdown",
   "metadata": {},
   "source": [
    "# Common train & test categories"
   ]
  },
  {
   "cell_type": "code",
   "execution_count": 14,
   "metadata": {},
   "outputs": [],
   "source": [
    "commom_categories = load_obj(meta_path.format('commom_categories'))"
   ]
  },
  {
   "cell_type": "markdown",
   "metadata": {},
   "source": [
    "# Preprocessing"
   ]
  },
  {
   "cell_type": "code",
   "execution_count": 15,
   "metadata": {},
   "outputs": [
    {
     "name": "stderr",
     "output_type": "stream",
     "text": [
      "100%|██████████| 6/6 [00:00<00:00, 10.85it/s]\n"
     ]
    }
   ],
   "source": [
    "for category in tqdm(commom_categories):\n",
    "    data_dict[dataset_names[0]] = data_dict[dataset_names[0]][data_dict[dataset_names[0]][category].isin(commom_categories[category])]"
   ]
  },
  {
   "cell_type": "markdown",
   "metadata": {},
   "source": [
    "So far we just generate features only from train and test, without NaNs imputing and other tricks:"
   ]
  },
  {
   "cell_type": "code",
   "execution_count": 16,
   "metadata": {},
   "outputs": [],
   "source": [
    "common_num_features = list(set(datasets_num_features[dataset_names[0]]) & set(datasets_num_features[dataset_names[1]]))\n",
    "common_cat_features = list(set(datasets_cat_features[dataset_names[0]]) & set(datasets_cat_features[dataset_names[1]]))\n",
    "common_bin_features = list(set(datasets_bin_features[dataset_names[0]]) & set(datasets_bin_features[dataset_names[1]]))"
   ]
  },
  {
   "cell_type": "code",
   "execution_count": 17,
   "metadata": {},
   "outputs": [
    {
     "name": "stdout",
     "output_type": "stream",
     "text": [
      "<class 'pandas.core.frame.DataFrame'>\n",
      "Int64Index: 307500 entries, 0 to 307506\n",
      "Data columns (total 54 columns):\n",
      "AMT_CREDIT                     307500 non-null float64\n",
      "AMT_INCOME_TOTAL               307500 non-null float64\n",
      "CNT_CHILDREN                   307500 non-null int64\n",
      "DAYS_BIRTH                     307500 non-null int64\n",
      "DAYS_EMPLOYED                  307500 non-null int64\n",
      "DAYS_ID_PUBLISH                307500 non-null int64\n",
      "DAYS_REGISTRATION              307500 non-null float64\n",
      "HOUR_APPR_PROCESS_START        307500 non-null int64\n",
      "REGION_POPULATION_RELATIVE     307500 non-null float64\n",
      "REGION_RATING_CLIENT           307500 non-null int64\n",
      "SK_ID_CURR                     307500 non-null int64\n",
      "NAME_EDUCATION_TYPE            307500 non-null object\n",
      "NAME_FAMILY_STATUS             307500 non-null object\n",
      "NAME_HOUSING_TYPE              307500 non-null object\n",
      "NAME_INCOME_TYPE               307500 non-null object\n",
      "ORGANIZATION_TYPE              307500 non-null object\n",
      "WEEKDAY_APPR_PROCESS_START     307500 non-null object\n",
      "CODE_GENDER                    307500 non-null int64\n",
      "FLAG_CONT_MOBILE               307500 non-null int64\n",
      "FLAG_DOCUMENT_10               307500 non-null int64\n",
      "FLAG_DOCUMENT_11               307500 non-null int64\n",
      "FLAG_DOCUMENT_12               307500 non-null int64\n",
      "FLAG_DOCUMENT_13               307500 non-null int64\n",
      "FLAG_DOCUMENT_14               307500 non-null int64\n",
      "FLAG_DOCUMENT_15               307500 non-null int64\n",
      "FLAG_DOCUMENT_16               307500 non-null int64\n",
      "FLAG_DOCUMENT_17               307500 non-null int64\n",
      "FLAG_DOCUMENT_18               307500 non-null int64\n",
      "FLAG_DOCUMENT_19               307500 non-null int64\n",
      "FLAG_DOCUMENT_2                307500 non-null int64\n",
      "FLAG_DOCUMENT_20               307500 non-null int64\n",
      "FLAG_DOCUMENT_21               307500 non-null int64\n",
      "FLAG_DOCUMENT_3                307500 non-null int64\n",
      "FLAG_DOCUMENT_4                307500 non-null int64\n",
      "FLAG_DOCUMENT_5                307500 non-null int64\n",
      "FLAG_DOCUMENT_6                307500 non-null int64\n",
      "FLAG_DOCUMENT_7                307500 non-null int64\n",
      "FLAG_DOCUMENT_8                307500 non-null int64\n",
      "FLAG_DOCUMENT_9                307500 non-null int64\n",
      "FLAG_EMAIL                     307500 non-null int64\n",
      "FLAG_EMP_PHONE                 307500 non-null int64\n",
      "FLAG_MOBIL                     307500 non-null int64\n",
      "FLAG_OWN_CAR                   307500 non-null int64\n",
      "FLAG_OWN_REALTY                307500 non-null int64\n",
      "FLAG_PHONE                     307500 non-null int64\n",
      "FLAG_WORK_PHONE                307500 non-null int64\n",
      "LIVE_CITY_NOT_WORK_CITY        307500 non-null int64\n",
      "LIVE_REGION_NOT_WORK_REGION    307500 non-null int64\n",
      "NAME_CONTRACT_TYPE             307500 non-null int64\n",
      "REG_CITY_NOT_LIVE_CITY         307500 non-null int64\n",
      "REG_CITY_NOT_WORK_CITY         307500 non-null int64\n",
      "REG_REGION_NOT_LIVE_REGION     307500 non-null int64\n",
      "REG_REGION_NOT_WORK_REGION     307500 non-null int64\n",
      "TARGET                         307500 non-null int64\n",
      "dtypes: float64(4), int64(44), object(6)\n",
      "memory usage: 129.0+ MB\n"
     ]
    }
   ],
   "source": [
    "data_dict[dataset_names[0]].info()"
   ]
  },
  {
   "cell_type": "code",
   "execution_count": 18,
   "metadata": {},
   "outputs": [],
   "source": [
    "X = data_dict[dataset_names[0]][common_num_features + common_cat_features + common_bin_features]"
   ]
  },
  {
   "cell_type": "code",
   "execution_count": 19,
   "metadata": {},
   "outputs": [],
   "source": [
    "Y = data_dict[dataset_names[0]]['TARGET']"
   ]
  },
  {
   "cell_type": "code",
   "execution_count": 20,
   "metadata": {},
   "outputs": [
    {
     "name": "stdout",
     "output_type": "stream",
     "text": [
      "<class 'pandas.core.frame.DataFrame'>\n",
      "Int64Index: 307500 entries, 0 to 307506\n",
      "Data columns (total 42 columns):\n",
      "REGION_RATING_CLIENT           307500 non-null int64\n",
      "HOUR_APPR_PROCESS_START        307500 non-null int64\n",
      "SK_ID_CURR                     307500 non-null int64\n",
      "CNT_CHILDREN                   307500 non-null int64\n",
      "DAYS_EMPLOYED                  307500 non-null int64\n",
      "AMT_INCOME_TOTAL               307500 non-null float64\n",
      "AMT_CREDIT                     307500 non-null float64\n",
      "DAYS_BIRTH                     307500 non-null int64\n",
      "DAYS_REGISTRATION              307500 non-null float64\n",
      "DAYS_ID_PUBLISH                307500 non-null int64\n",
      "REGION_POPULATION_RELATIVE     307500 non-null float64\n",
      "NAME_FAMILY_STATUS             307500 non-null object\n",
      "NAME_HOUSING_TYPE              307500 non-null object\n",
      "ORGANIZATION_TYPE              307500 non-null object\n",
      "NAME_INCOME_TYPE               307500 non-null object\n",
      "NAME_EDUCATION_TYPE            307500 non-null object\n",
      "WEEKDAY_APPR_PROCESS_START     307500 non-null object\n",
      "FLAG_DOCUMENT_6                307500 non-null int64\n",
      "CODE_GENDER                    307500 non-null int64\n",
      "FLAG_DOCUMENT_8                307500 non-null int64\n",
      "FLAG_EMP_PHONE                 307500 non-null int64\n",
      "NAME_CONTRACT_TYPE             307500 non-null int64\n",
      "FLAG_DOCUMENT_3                307500 non-null int64\n",
      "FLAG_DOCUMENT_7                307500 non-null int64\n",
      "FLAG_DOCUMENT_18               307500 non-null int64\n",
      "FLAG_DOCUMENT_9                307500 non-null int64\n",
      "REG_REGION_NOT_LIVE_REGION     307500 non-null int64\n",
      "REG_REGION_NOT_WORK_REGION     307500 non-null int64\n",
      "FLAG_DOCUMENT_5                307500 non-null int64\n",
      "LIVE_CITY_NOT_WORK_CITY        307500 non-null int64\n",
      "FLAG_OWN_REALTY                307500 non-null int64\n",
      "FLAG_DOCUMENT_4                307500 non-null int64\n",
      "LIVE_REGION_NOT_WORK_REGION    307500 non-null int64\n",
      "FLAG_WORK_PHONE                307500 non-null int64\n",
      "FLAG_CONT_MOBILE               307500 non-null int64\n",
      "FLAG_DOCUMENT_11               307500 non-null int64\n",
      "FLAG_EMAIL                     307500 non-null int64\n",
      "FLAG_PHONE                     307500 non-null int64\n",
      "FLAG_OWN_CAR                   307500 non-null int64\n",
      "FLAG_MOBIL                     307500 non-null int64\n",
      "REG_CITY_NOT_WORK_CITY         307500 non-null int64\n",
      "REG_CITY_NOT_LIVE_CITY         307500 non-null int64\n",
      "dtypes: float64(4), int64(32), object(6)\n",
      "memory usage: 100.9+ MB\n"
     ]
    }
   ],
   "source": [
    "X.info()"
   ]
  },
  {
   "cell_type": "code",
   "execution_count": 21,
   "metadata": {},
   "outputs": [
    {
     "data": {
      "text/plain": [
       "0    282677\n",
       "1    24823 \n",
       "Name: TARGET, dtype: int64"
      ]
     },
     "execution_count": 21,
     "metadata": {},
     "output_type": "execute_result"
    }
   ],
   "source": [
    "Y.value_counts()"
   ]
  },
  {
   "cell_type": "code",
   "execution_count": 22,
   "metadata": {},
   "outputs": [],
   "source": [
    "extended_features = generate_features_names(\n",
    "    common_bin_features,\n",
    "    generate_cat_feature_counts(X, common_cat_features),\n",
    "    common_num_features\n",
    ")"
   ]
  },
  {
   "cell_type": "code",
   "execution_count": 23,
   "metadata": {},
   "outputs": [
    {
     "data": {
      "text/plain": [
       "['FLAG_DOCUMENT_6',\n",
       " 'CODE_GENDER',\n",
       " 'FLAG_DOCUMENT_8',\n",
       " 'FLAG_EMP_PHONE',\n",
       " 'NAME_CONTRACT_TYPE',\n",
       " 'FLAG_DOCUMENT_3',\n",
       " 'FLAG_DOCUMENT_7',\n",
       " 'FLAG_DOCUMENT_18',\n",
       " 'FLAG_DOCUMENT_9',\n",
       " 'REG_REGION_NOT_LIVE_REGION',\n",
       " 'REG_REGION_NOT_WORK_REGION',\n",
       " 'FLAG_DOCUMENT_5',\n",
       " 'LIVE_CITY_NOT_WORK_CITY',\n",
       " 'FLAG_OWN_REALTY',\n",
       " 'FLAG_DOCUMENT_4',\n",
       " 'LIVE_REGION_NOT_WORK_REGION',\n",
       " 'FLAG_WORK_PHONE',\n",
       " 'FLAG_CONT_MOBILE',\n",
       " 'FLAG_DOCUMENT_11',\n",
       " 'FLAG_EMAIL',\n",
       " 'FLAG_PHONE',\n",
       " 'FLAG_OWN_CAR',\n",
       " 'FLAG_MOBIL',\n",
       " 'REG_CITY_NOT_WORK_CITY',\n",
       " 'REG_CITY_NOT_LIVE_CITY',\n",
       " 'NAME_FAMILY_STATUS_0',\n",
       " 'NAME_FAMILY_STATUS_1',\n",
       " 'NAME_FAMILY_STATUS_2',\n",
       " 'NAME_FAMILY_STATUS_3',\n",
       " 'NAME_FAMILY_STATUS_4',\n",
       " 'NAME_HOUSING_TYPE_0',\n",
       " 'NAME_HOUSING_TYPE_1',\n",
       " 'NAME_HOUSING_TYPE_2',\n",
       " 'NAME_HOUSING_TYPE_3',\n",
       " 'NAME_HOUSING_TYPE_4',\n",
       " 'NAME_HOUSING_TYPE_5',\n",
       " 'ORGANIZATION_TYPE_0',\n",
       " 'ORGANIZATION_TYPE_1',\n",
       " 'ORGANIZATION_TYPE_2',\n",
       " 'ORGANIZATION_TYPE_3',\n",
       " 'ORGANIZATION_TYPE_4',\n",
       " 'ORGANIZATION_TYPE_5',\n",
       " 'ORGANIZATION_TYPE_6',\n",
       " 'ORGANIZATION_TYPE_7',\n",
       " 'ORGANIZATION_TYPE_8',\n",
       " 'ORGANIZATION_TYPE_9',\n",
       " 'ORGANIZATION_TYPE_10',\n",
       " 'ORGANIZATION_TYPE_11',\n",
       " 'ORGANIZATION_TYPE_12',\n",
       " 'ORGANIZATION_TYPE_13',\n",
       " 'ORGANIZATION_TYPE_14',\n",
       " 'ORGANIZATION_TYPE_15',\n",
       " 'ORGANIZATION_TYPE_16',\n",
       " 'ORGANIZATION_TYPE_17',\n",
       " 'ORGANIZATION_TYPE_18',\n",
       " 'ORGANIZATION_TYPE_19',\n",
       " 'ORGANIZATION_TYPE_20',\n",
       " 'ORGANIZATION_TYPE_21',\n",
       " 'ORGANIZATION_TYPE_22',\n",
       " 'ORGANIZATION_TYPE_23',\n",
       " 'ORGANIZATION_TYPE_24',\n",
       " 'ORGANIZATION_TYPE_25',\n",
       " 'ORGANIZATION_TYPE_26',\n",
       " 'ORGANIZATION_TYPE_27',\n",
       " 'ORGANIZATION_TYPE_28',\n",
       " 'ORGANIZATION_TYPE_29',\n",
       " 'ORGANIZATION_TYPE_30',\n",
       " 'ORGANIZATION_TYPE_31',\n",
       " 'ORGANIZATION_TYPE_32',\n",
       " 'ORGANIZATION_TYPE_33',\n",
       " 'ORGANIZATION_TYPE_34',\n",
       " 'ORGANIZATION_TYPE_35',\n",
       " 'ORGANIZATION_TYPE_36',\n",
       " 'ORGANIZATION_TYPE_37',\n",
       " 'ORGANIZATION_TYPE_38',\n",
       " 'ORGANIZATION_TYPE_39',\n",
       " 'ORGANIZATION_TYPE_40',\n",
       " 'ORGANIZATION_TYPE_41',\n",
       " 'ORGANIZATION_TYPE_42',\n",
       " 'ORGANIZATION_TYPE_43',\n",
       " 'ORGANIZATION_TYPE_44',\n",
       " 'ORGANIZATION_TYPE_45',\n",
       " 'ORGANIZATION_TYPE_46',\n",
       " 'ORGANIZATION_TYPE_47',\n",
       " 'ORGANIZATION_TYPE_48',\n",
       " 'ORGANIZATION_TYPE_49',\n",
       " 'ORGANIZATION_TYPE_50',\n",
       " 'ORGANIZATION_TYPE_51',\n",
       " 'ORGANIZATION_TYPE_52',\n",
       " 'ORGANIZATION_TYPE_53',\n",
       " 'ORGANIZATION_TYPE_54',\n",
       " 'ORGANIZATION_TYPE_55',\n",
       " 'ORGANIZATION_TYPE_56',\n",
       " 'ORGANIZATION_TYPE_57',\n",
       " 'NAME_INCOME_TYPE_0',\n",
       " 'NAME_INCOME_TYPE_1',\n",
       " 'NAME_INCOME_TYPE_2',\n",
       " 'NAME_INCOME_TYPE_3',\n",
       " 'NAME_INCOME_TYPE_4',\n",
       " 'NAME_INCOME_TYPE_5',\n",
       " 'NAME_INCOME_TYPE_6',\n",
       " 'NAME_EDUCATION_TYPE_0',\n",
       " 'NAME_EDUCATION_TYPE_1',\n",
       " 'NAME_EDUCATION_TYPE_2',\n",
       " 'NAME_EDUCATION_TYPE_3',\n",
       " 'NAME_EDUCATION_TYPE_4',\n",
       " 'WEEKDAY_APPR_PROCESS_START_0',\n",
       " 'WEEKDAY_APPR_PROCESS_START_1',\n",
       " 'WEEKDAY_APPR_PROCESS_START_2',\n",
       " 'WEEKDAY_APPR_PROCESS_START_3',\n",
       " 'WEEKDAY_APPR_PROCESS_START_4',\n",
       " 'WEEKDAY_APPR_PROCESS_START_5',\n",
       " 'WEEKDAY_APPR_PROCESS_START_6',\n",
       " 'REGION_RATING_CLIENT',\n",
       " 'HOUR_APPR_PROCESS_START',\n",
       " 'SK_ID_CURR',\n",
       " 'CNT_CHILDREN',\n",
       " 'DAYS_EMPLOYED',\n",
       " 'AMT_INCOME_TOTAL',\n",
       " 'AMT_CREDIT',\n",
       " 'DAYS_BIRTH',\n",
       " 'DAYS_REGISTRATION',\n",
       " 'DAYS_ID_PUBLISH',\n",
       " 'REGION_POPULATION_RELATIVE']"
      ]
     },
     "execution_count": 23,
     "metadata": {},
     "output_type": "execute_result"
    }
   ],
   "source": [
    "extended_features"
   ]
  },
  {
   "cell_type": "code",
   "execution_count": 24,
   "metadata": {},
   "outputs": [
    {
     "data": {
      "text/plain": [
       "124"
      ]
     },
     "execution_count": 24,
     "metadata": {},
     "output_type": "execute_result"
    }
   ],
   "source": [
    "len(extended_features)"
   ]
  },
  {
   "cell_type": "markdown",
   "metadata": {},
   "source": [
    "Classes are unbalanced.\n",
    "\n",
    "This has to be fixed.\n",
    "\n",
    "But before that we need to binarize categorical features:"
   ]
  },
  {
   "cell_type": "code",
   "execution_count": 25,
   "metadata": {},
   "outputs": [],
   "source": [
    "pipeline = Pipeline([\n",
    "    ('union', FeatureUnion(\n",
    "        [('bin', Pipeline([('choose', ItemSelector(common_bin_features))]))] + list(map(generate_pipeline, common_cat_features)) + [('num', Pipeline([('choose', ItemSelector(common_num_features))]))]\n",
    "    ))\n",
    "])"
   ]
  },
  {
   "cell_type": "code",
   "execution_count": 26,
   "metadata": {
    "scrolled": false
   },
   "outputs": [],
   "source": [
    "X_tr = pd.DataFrame(pipeline.fit_transform(X), columns=extended_features)"
   ]
  },
  {
   "cell_type": "code",
   "execution_count": 27,
   "metadata": {},
   "outputs": [
    {
     "name": "stdout",
     "output_type": "stream",
     "text": [
      "<class 'pandas.core.frame.DataFrame'>\n",
      "RangeIndex: 307500 entries, 0 to 307499\n",
      "Data columns (total 124 columns):\n",
      "FLAG_DOCUMENT_6                 307500 non-null float64\n",
      "CODE_GENDER                     307500 non-null float64\n",
      "FLAG_DOCUMENT_8                 307500 non-null float64\n",
      "FLAG_EMP_PHONE                  307500 non-null float64\n",
      "NAME_CONTRACT_TYPE              307500 non-null float64\n",
      "FLAG_DOCUMENT_3                 307500 non-null float64\n",
      "FLAG_DOCUMENT_7                 307500 non-null float64\n",
      "FLAG_DOCUMENT_18                307500 non-null float64\n",
      "FLAG_DOCUMENT_9                 307500 non-null float64\n",
      "REG_REGION_NOT_LIVE_REGION      307500 non-null float64\n",
      "REG_REGION_NOT_WORK_REGION      307500 non-null float64\n",
      "FLAG_DOCUMENT_5                 307500 non-null float64\n",
      "LIVE_CITY_NOT_WORK_CITY         307500 non-null float64\n",
      "FLAG_OWN_REALTY                 307500 non-null float64\n",
      "FLAG_DOCUMENT_4                 307500 non-null float64\n",
      "LIVE_REGION_NOT_WORK_REGION     307500 non-null float64\n",
      "FLAG_WORK_PHONE                 307500 non-null float64\n",
      "FLAG_CONT_MOBILE                307500 non-null float64\n",
      "FLAG_DOCUMENT_11                307500 non-null float64\n",
      "FLAG_EMAIL                      307500 non-null float64\n",
      "FLAG_PHONE                      307500 non-null float64\n",
      "FLAG_OWN_CAR                    307500 non-null float64\n",
      "FLAG_MOBIL                      307500 non-null float64\n",
      "REG_CITY_NOT_WORK_CITY          307500 non-null float64\n",
      "REG_CITY_NOT_LIVE_CITY          307500 non-null float64\n",
      "NAME_FAMILY_STATUS_0            307500 non-null float64\n",
      "NAME_FAMILY_STATUS_1            307500 non-null float64\n",
      "NAME_FAMILY_STATUS_2            307500 non-null float64\n",
      "NAME_FAMILY_STATUS_3            307500 non-null float64\n",
      "NAME_FAMILY_STATUS_4            307500 non-null float64\n",
      "NAME_HOUSING_TYPE_0             307500 non-null float64\n",
      "NAME_HOUSING_TYPE_1             307500 non-null float64\n",
      "NAME_HOUSING_TYPE_2             307500 non-null float64\n",
      "NAME_HOUSING_TYPE_3             307500 non-null float64\n",
      "NAME_HOUSING_TYPE_4             307500 non-null float64\n",
      "NAME_HOUSING_TYPE_5             307500 non-null float64\n",
      "ORGANIZATION_TYPE_0             307500 non-null float64\n",
      "ORGANIZATION_TYPE_1             307500 non-null float64\n",
      "ORGANIZATION_TYPE_2             307500 non-null float64\n",
      "ORGANIZATION_TYPE_3             307500 non-null float64\n",
      "ORGANIZATION_TYPE_4             307500 non-null float64\n",
      "ORGANIZATION_TYPE_5             307500 non-null float64\n",
      "ORGANIZATION_TYPE_6             307500 non-null float64\n",
      "ORGANIZATION_TYPE_7             307500 non-null float64\n",
      "ORGANIZATION_TYPE_8             307500 non-null float64\n",
      "ORGANIZATION_TYPE_9             307500 non-null float64\n",
      "ORGANIZATION_TYPE_10            307500 non-null float64\n",
      "ORGANIZATION_TYPE_11            307500 non-null float64\n",
      "ORGANIZATION_TYPE_12            307500 non-null float64\n",
      "ORGANIZATION_TYPE_13            307500 non-null float64\n",
      "ORGANIZATION_TYPE_14            307500 non-null float64\n",
      "ORGANIZATION_TYPE_15            307500 non-null float64\n",
      "ORGANIZATION_TYPE_16            307500 non-null float64\n",
      "ORGANIZATION_TYPE_17            307500 non-null float64\n",
      "ORGANIZATION_TYPE_18            307500 non-null float64\n",
      "ORGANIZATION_TYPE_19            307500 non-null float64\n",
      "ORGANIZATION_TYPE_20            307500 non-null float64\n",
      "ORGANIZATION_TYPE_21            307500 non-null float64\n",
      "ORGANIZATION_TYPE_22            307500 non-null float64\n",
      "ORGANIZATION_TYPE_23            307500 non-null float64\n",
      "ORGANIZATION_TYPE_24            307500 non-null float64\n",
      "ORGANIZATION_TYPE_25            307500 non-null float64\n",
      "ORGANIZATION_TYPE_26            307500 non-null float64\n",
      "ORGANIZATION_TYPE_27            307500 non-null float64\n",
      "ORGANIZATION_TYPE_28            307500 non-null float64\n",
      "ORGANIZATION_TYPE_29            307500 non-null float64\n",
      "ORGANIZATION_TYPE_30            307500 non-null float64\n",
      "ORGANIZATION_TYPE_31            307500 non-null float64\n",
      "ORGANIZATION_TYPE_32            307500 non-null float64\n",
      "ORGANIZATION_TYPE_33            307500 non-null float64\n",
      "ORGANIZATION_TYPE_34            307500 non-null float64\n",
      "ORGANIZATION_TYPE_35            307500 non-null float64\n",
      "ORGANIZATION_TYPE_36            307500 non-null float64\n",
      "ORGANIZATION_TYPE_37            307500 non-null float64\n",
      "ORGANIZATION_TYPE_38            307500 non-null float64\n",
      "ORGANIZATION_TYPE_39            307500 non-null float64\n",
      "ORGANIZATION_TYPE_40            307500 non-null float64\n",
      "ORGANIZATION_TYPE_41            307500 non-null float64\n",
      "ORGANIZATION_TYPE_42            307500 non-null float64\n",
      "ORGANIZATION_TYPE_43            307500 non-null float64\n",
      "ORGANIZATION_TYPE_44            307500 non-null float64\n",
      "ORGANIZATION_TYPE_45            307500 non-null float64\n",
      "ORGANIZATION_TYPE_46            307500 non-null float64\n",
      "ORGANIZATION_TYPE_47            307500 non-null float64\n",
      "ORGANIZATION_TYPE_48            307500 non-null float64\n",
      "ORGANIZATION_TYPE_49            307500 non-null float64\n",
      "ORGANIZATION_TYPE_50            307500 non-null float64\n",
      "ORGANIZATION_TYPE_51            307500 non-null float64\n",
      "ORGANIZATION_TYPE_52            307500 non-null float64\n",
      "ORGANIZATION_TYPE_53            307500 non-null float64\n",
      "ORGANIZATION_TYPE_54            307500 non-null float64\n",
      "ORGANIZATION_TYPE_55            307500 non-null float64\n",
      "ORGANIZATION_TYPE_56            307500 non-null float64\n",
      "ORGANIZATION_TYPE_57            307500 non-null float64\n",
      "NAME_INCOME_TYPE_0              307500 non-null float64\n",
      "NAME_INCOME_TYPE_1              307500 non-null float64\n",
      "NAME_INCOME_TYPE_2              307500 non-null float64\n",
      "NAME_INCOME_TYPE_3              307500 non-null float64\n",
      "NAME_INCOME_TYPE_4              307500 non-null float64\n",
      "NAME_INCOME_TYPE_5              307500 non-null float64\n",
      "NAME_INCOME_TYPE_6              307500 non-null float64\n",
      "NAME_EDUCATION_TYPE_0           307500 non-null float64\n",
      "NAME_EDUCATION_TYPE_1           307500 non-null float64\n",
      "NAME_EDUCATION_TYPE_2           307500 non-null float64\n",
      "NAME_EDUCATION_TYPE_3           307500 non-null float64\n",
      "NAME_EDUCATION_TYPE_4           307500 non-null float64\n",
      "WEEKDAY_APPR_PROCESS_START_0    307500 non-null float64\n",
      "WEEKDAY_APPR_PROCESS_START_1    307500 non-null float64\n",
      "WEEKDAY_APPR_PROCESS_START_2    307500 non-null float64\n",
      "WEEKDAY_APPR_PROCESS_START_3    307500 non-null float64\n",
      "WEEKDAY_APPR_PROCESS_START_4    307500 non-null float64\n",
      "WEEKDAY_APPR_PROCESS_START_5    307500 non-null float64\n",
      "WEEKDAY_APPR_PROCESS_START_6    307500 non-null float64\n",
      "REGION_RATING_CLIENT            307500 non-null float64\n",
      "HOUR_APPR_PROCESS_START         307500 non-null float64\n",
      "SK_ID_CURR                      307500 non-null float64\n",
      "CNT_CHILDREN                    307500 non-null float64\n",
      "DAYS_EMPLOYED                   307500 non-null float64\n",
      "AMT_INCOME_TOTAL                307500 non-null float64\n",
      "AMT_CREDIT                      307500 non-null float64\n",
      "DAYS_BIRTH                      307500 non-null float64\n",
      "DAYS_REGISTRATION               307500 non-null float64\n",
      "DAYS_ID_PUBLISH                 307500 non-null float64\n",
      "REGION_POPULATION_RELATIVE      307500 non-null float64\n",
      "dtypes: float64(124)\n",
      "memory usage: 290.9 MB\n"
     ]
    }
   ],
   "source": [
    "X_tr.info(verbose=10, null_counts=True)"
   ]
  },
  {
   "cell_type": "code",
   "execution_count": 28,
   "metadata": {},
   "outputs": [],
   "source": [
    "pipeline = Pipeline([\n",
    "    ('union', FeatureUnion(\n",
    "        [('bin', Pipeline([('choose', ItemSelector(common_bin_features))]))] + list(map(generate_pipeline, common_cat_features)) + [('num', Pipeline([('choose', ItemSelector(common_num_features))]))]\n",
    "    ))\n",
    "])"
   ]
  },
  {
   "cell_type": "code",
   "execution_count": 29,
   "metadata": {},
   "outputs": [],
   "source": [
    "test = data_dict[dataset_names[1]][common_num_features + common_cat_features + common_bin_features]"
   ]
  },
  {
   "cell_type": "code",
   "execution_count": 30,
   "metadata": {
    "scrolled": false
   },
   "outputs": [],
   "source": [
    "test_tr = pd.DataFrame(pipeline.fit_transform(test), columns=extended_features)"
   ]
  },
  {
   "cell_type": "code",
   "execution_count": 31,
   "metadata": {},
   "outputs": [
    {
     "name": "stdout",
     "output_type": "stream",
     "text": [
      "<class 'pandas.core.frame.DataFrame'>\n",
      "RangeIndex: 48744 entries, 0 to 48743\n",
      "Data columns (total 124 columns):\n",
      "FLAG_DOCUMENT_6                 48744 non-null float64\n",
      "CODE_GENDER                     48744 non-null float64\n",
      "FLAG_DOCUMENT_8                 48744 non-null float64\n",
      "FLAG_EMP_PHONE                  48744 non-null float64\n",
      "NAME_CONTRACT_TYPE              48744 non-null float64\n",
      "FLAG_DOCUMENT_3                 48744 non-null float64\n",
      "FLAG_DOCUMENT_7                 48744 non-null float64\n",
      "FLAG_DOCUMENT_18                48744 non-null float64\n",
      "FLAG_DOCUMENT_9                 48744 non-null float64\n",
      "REG_REGION_NOT_LIVE_REGION      48744 non-null float64\n",
      "REG_REGION_NOT_WORK_REGION      48744 non-null float64\n",
      "FLAG_DOCUMENT_5                 48744 non-null float64\n",
      "LIVE_CITY_NOT_WORK_CITY         48744 non-null float64\n",
      "FLAG_OWN_REALTY                 48744 non-null float64\n",
      "FLAG_DOCUMENT_4                 48744 non-null float64\n",
      "LIVE_REGION_NOT_WORK_REGION     48744 non-null float64\n",
      "FLAG_WORK_PHONE                 48744 non-null float64\n",
      "FLAG_CONT_MOBILE                48744 non-null float64\n",
      "FLAG_DOCUMENT_11                48744 non-null float64\n",
      "FLAG_EMAIL                      48744 non-null float64\n",
      "FLAG_PHONE                      48744 non-null float64\n",
      "FLAG_OWN_CAR                    48744 non-null float64\n",
      "FLAG_MOBIL                      48744 non-null float64\n",
      "REG_CITY_NOT_WORK_CITY          48744 non-null float64\n",
      "REG_CITY_NOT_LIVE_CITY          48744 non-null float64\n",
      "NAME_FAMILY_STATUS_0            48744 non-null float64\n",
      "NAME_FAMILY_STATUS_1            48744 non-null float64\n",
      "NAME_FAMILY_STATUS_2            48744 non-null float64\n",
      "NAME_FAMILY_STATUS_3            48744 non-null float64\n",
      "NAME_FAMILY_STATUS_4            48744 non-null float64\n",
      "NAME_HOUSING_TYPE_0             48744 non-null float64\n",
      "NAME_HOUSING_TYPE_1             48744 non-null float64\n",
      "NAME_HOUSING_TYPE_2             48744 non-null float64\n",
      "NAME_HOUSING_TYPE_3             48744 non-null float64\n",
      "NAME_HOUSING_TYPE_4             48744 non-null float64\n",
      "NAME_HOUSING_TYPE_5             48744 non-null float64\n",
      "ORGANIZATION_TYPE_0             48744 non-null float64\n",
      "ORGANIZATION_TYPE_1             48744 non-null float64\n",
      "ORGANIZATION_TYPE_2             48744 non-null float64\n",
      "ORGANIZATION_TYPE_3             48744 non-null float64\n",
      "ORGANIZATION_TYPE_4             48744 non-null float64\n",
      "ORGANIZATION_TYPE_5             48744 non-null float64\n",
      "ORGANIZATION_TYPE_6             48744 non-null float64\n",
      "ORGANIZATION_TYPE_7             48744 non-null float64\n",
      "ORGANIZATION_TYPE_8             48744 non-null float64\n",
      "ORGANIZATION_TYPE_9             48744 non-null float64\n",
      "ORGANIZATION_TYPE_10            48744 non-null float64\n",
      "ORGANIZATION_TYPE_11            48744 non-null float64\n",
      "ORGANIZATION_TYPE_12            48744 non-null float64\n",
      "ORGANIZATION_TYPE_13            48744 non-null float64\n",
      "ORGANIZATION_TYPE_14            48744 non-null float64\n",
      "ORGANIZATION_TYPE_15            48744 non-null float64\n",
      "ORGANIZATION_TYPE_16            48744 non-null float64\n",
      "ORGANIZATION_TYPE_17            48744 non-null float64\n",
      "ORGANIZATION_TYPE_18            48744 non-null float64\n",
      "ORGANIZATION_TYPE_19            48744 non-null float64\n",
      "ORGANIZATION_TYPE_20            48744 non-null float64\n",
      "ORGANIZATION_TYPE_21            48744 non-null float64\n",
      "ORGANIZATION_TYPE_22            48744 non-null float64\n",
      "ORGANIZATION_TYPE_23            48744 non-null float64\n",
      "ORGANIZATION_TYPE_24            48744 non-null float64\n",
      "ORGANIZATION_TYPE_25            48744 non-null float64\n",
      "ORGANIZATION_TYPE_26            48744 non-null float64\n",
      "ORGANIZATION_TYPE_27            48744 non-null float64\n",
      "ORGANIZATION_TYPE_28            48744 non-null float64\n",
      "ORGANIZATION_TYPE_29            48744 non-null float64\n",
      "ORGANIZATION_TYPE_30            48744 non-null float64\n",
      "ORGANIZATION_TYPE_31            48744 non-null float64\n",
      "ORGANIZATION_TYPE_32            48744 non-null float64\n",
      "ORGANIZATION_TYPE_33            48744 non-null float64\n",
      "ORGANIZATION_TYPE_34            48744 non-null float64\n",
      "ORGANIZATION_TYPE_35            48744 non-null float64\n",
      "ORGANIZATION_TYPE_36            48744 non-null float64\n",
      "ORGANIZATION_TYPE_37            48744 non-null float64\n",
      "ORGANIZATION_TYPE_38            48744 non-null float64\n",
      "ORGANIZATION_TYPE_39            48744 non-null float64\n",
      "ORGANIZATION_TYPE_40            48744 non-null float64\n",
      "ORGANIZATION_TYPE_41            48744 non-null float64\n",
      "ORGANIZATION_TYPE_42            48744 non-null float64\n",
      "ORGANIZATION_TYPE_43            48744 non-null float64\n",
      "ORGANIZATION_TYPE_44            48744 non-null float64\n",
      "ORGANIZATION_TYPE_45            48744 non-null float64\n",
      "ORGANIZATION_TYPE_46            48744 non-null float64\n",
      "ORGANIZATION_TYPE_47            48744 non-null float64\n",
      "ORGANIZATION_TYPE_48            48744 non-null float64\n",
      "ORGANIZATION_TYPE_49            48744 non-null float64\n",
      "ORGANIZATION_TYPE_50            48744 non-null float64\n",
      "ORGANIZATION_TYPE_51            48744 non-null float64\n",
      "ORGANIZATION_TYPE_52            48744 non-null float64\n",
      "ORGANIZATION_TYPE_53            48744 non-null float64\n",
      "ORGANIZATION_TYPE_54            48744 non-null float64\n",
      "ORGANIZATION_TYPE_55            48744 non-null float64\n",
      "ORGANIZATION_TYPE_56            48744 non-null float64\n",
      "ORGANIZATION_TYPE_57            48744 non-null float64\n",
      "NAME_INCOME_TYPE_0              48744 non-null float64\n",
      "NAME_INCOME_TYPE_1              48744 non-null float64\n",
      "NAME_INCOME_TYPE_2              48744 non-null float64\n",
      "NAME_INCOME_TYPE_3              48744 non-null float64\n",
      "NAME_INCOME_TYPE_4              48744 non-null float64\n",
      "NAME_INCOME_TYPE_5              48744 non-null float64\n",
      "NAME_INCOME_TYPE_6              48744 non-null float64\n",
      "NAME_EDUCATION_TYPE_0           48744 non-null float64\n",
      "NAME_EDUCATION_TYPE_1           48744 non-null float64\n",
      "NAME_EDUCATION_TYPE_2           48744 non-null float64\n",
      "NAME_EDUCATION_TYPE_3           48744 non-null float64\n",
      "NAME_EDUCATION_TYPE_4           48744 non-null float64\n",
      "WEEKDAY_APPR_PROCESS_START_0    48744 non-null float64\n",
      "WEEKDAY_APPR_PROCESS_START_1    48744 non-null float64\n",
      "WEEKDAY_APPR_PROCESS_START_2    48744 non-null float64\n",
      "WEEKDAY_APPR_PROCESS_START_3    48744 non-null float64\n",
      "WEEKDAY_APPR_PROCESS_START_4    48744 non-null float64\n",
      "WEEKDAY_APPR_PROCESS_START_5    48744 non-null float64\n",
      "WEEKDAY_APPR_PROCESS_START_6    48744 non-null float64\n",
      "REGION_RATING_CLIENT            48744 non-null float64\n",
      "HOUR_APPR_PROCESS_START         48744 non-null float64\n",
      "SK_ID_CURR                      48744 non-null float64\n",
      "CNT_CHILDREN                    48744 non-null float64\n",
      "DAYS_EMPLOYED                   48744 non-null float64\n",
      "AMT_INCOME_TOTAL                48744 non-null float64\n",
      "AMT_CREDIT                      48744 non-null float64\n",
      "DAYS_BIRTH                      48744 non-null float64\n",
      "DAYS_REGISTRATION               48744 non-null float64\n",
      "DAYS_ID_PUBLISH                 48744 non-null float64\n",
      "REGION_POPULATION_RELATIVE      48744 non-null float64\n",
      "dtypes: float64(124)\n",
      "memory usage: 46.1 MB\n"
     ]
    }
   ],
   "source": [
    "test_tr.info(verbose=10, null_counts=True)"
   ]
  },
  {
   "cell_type": "code",
   "execution_count": 32,
   "metadata": {},
   "outputs": [
    {
     "name": "stdout",
     "output_type": "stream",
     "text": [
      "307500 307500\n"
     ]
    }
   ],
   "source": [
    "print(len(X_tr), len(Y))"
   ]
  },
  {
   "cell_type": "markdown",
   "metadata": {},
   "source": [
    "Now we can balance classes.\n",
    "\n",
    "Here we use the simplest way to do it (because of time & memory issues):"
   ]
  },
  {
   "cell_type": "code",
   "execution_count": 33,
   "metadata": {},
   "outputs": [],
   "source": [
    "X_b, Y_b = RandomUnderSampler(random_state=random_state).fit_sample(X_tr, Y)"
   ]
  },
  {
   "cell_type": "code",
   "execution_count": 34,
   "metadata": {},
   "outputs": [
    {
     "name": "stdout",
     "output_type": "stream",
     "text": [
      "24823 49646\n"
     ]
    }
   ],
   "source": [
    "print(sum(Y_b), len(Y_b))"
   ]
  },
  {
   "cell_type": "markdown",
   "metadata": {},
   "source": [
    "# XGBOOST"
   ]
  },
  {
   "cell_type": "code",
   "execution_count": 35,
   "metadata": {},
   "outputs": [],
   "source": [
    "xgb_classifier = xgb.XGBClassifier()"
   ]
  },
  {
   "cell_type": "code",
   "execution_count": 36,
   "metadata": {},
   "outputs": [
    {
     "data": {
      "text/plain": [
       "XGBClassifier(base_score=0.5, booster='gbtree', colsample_bylevel=1,\n",
       "       colsample_bytree=1, gamma=0, learning_rate=0.1, max_delta_step=0,\n",
       "       max_depth=3, min_child_weight=1, missing=None, n_estimators=100,\n",
       "       n_jobs=1, nthread=None, objective='binary:logistic', random_state=0,\n",
       "       reg_alpha=0, reg_lambda=1, scale_pos_weight=1, seed=None,\n",
       "       silent=True, subsample=1)"
      ]
     },
     "execution_count": 36,
     "metadata": {},
     "output_type": "execute_result"
    }
   ],
   "source": [
    "xgb_classifier.fit(X_b, Y_b)"
   ]
  },
  {
   "cell_type": "code",
   "execution_count": 37,
   "metadata": {},
   "outputs": [],
   "source": [
    "xgb_y_est = xgb_classifier.predict_proba(test_tr.values)"
   ]
  },
  {
   "cell_type": "code",
   "execution_count": 38,
   "metadata": {},
   "outputs": [
    {
     "data": {
      "text/plain": [
       "(48744,)"
      ]
     },
     "execution_count": 38,
     "metadata": {},
     "output_type": "execute_result"
    }
   ],
   "source": [
    "xgb_y_est[:, 1].shape"
   ]
  },
  {
   "cell_type": "code",
   "execution_count": 39,
   "metadata": {},
   "outputs": [],
   "source": [
    "result = pd.DataFrame({\n",
    "    'SK_ID_CURR': data_dict[dataset_names[1]].SK_ID_CURR.values,\n",
    "    'TARGET': xgb_y_est[:, 1]\n",
    "})"
   ]
  },
  {
   "cell_type": "code",
   "execution_count": 40,
   "metadata": {},
   "outputs": [],
   "source": [
    "result.to_csv('../data/dataset/xgb_submission.csv', index=False)"
   ]
  },
  {
   "cell_type": "markdown",
   "metadata": {},
   "source": [
    "# LIGHTGBM"
   ]
  },
  {
   "cell_type": "code",
   "execution_count": 41,
   "metadata": {},
   "outputs": [],
   "source": [
    "lgb_classifier = lgb.LGBMClassifier()"
   ]
  },
  {
   "cell_type": "code",
   "execution_count": 42,
   "metadata": {},
   "outputs": [
    {
     "data": {
      "text/plain": [
       "LGBMClassifier(boosting_type='gbdt', class_weight=None, colsample_bytree=1.0,\n",
       "        learning_rate=0.1, max_depth=-1, min_child_samples=20,\n",
       "        min_child_weight=0.001, min_split_gain=0.0, n_estimators=100,\n",
       "        n_jobs=-1, num_leaves=31, objective=None, random_state=None,\n",
       "        reg_alpha=0.0, reg_lambda=0.0, silent=True, subsample=1.0,\n",
       "        subsample_for_bin=200000, subsample_freq=0)"
      ]
     },
     "execution_count": 42,
     "metadata": {},
     "output_type": "execute_result"
    }
   ],
   "source": [
    "lgb_classifier.fit(X_b, Y_b)"
   ]
  },
  {
   "cell_type": "code",
   "execution_count": 43,
   "metadata": {},
   "outputs": [],
   "source": [
    "lgb_y_est = lgb_classifier.predict_proba(test_tr)"
   ]
  },
  {
   "cell_type": "code",
   "execution_count": 44,
   "metadata": {},
   "outputs": [
    {
     "data": {
      "text/plain": [
       "(48744,)"
      ]
     },
     "execution_count": 44,
     "metadata": {},
     "output_type": "execute_result"
    }
   ],
   "source": [
    "lgb_y_est[:, 1].shape"
   ]
  },
  {
   "cell_type": "code",
   "execution_count": 45,
   "metadata": {},
   "outputs": [],
   "source": [
    "result = pd.DataFrame({\n",
    "    'SK_ID_CURR': data_dict[dataset_names[1]].SK_ID_CURR.values,\n",
    "    'TARGET': lgb_y_est[:, 1]\n",
    "})"
   ]
  },
  {
   "cell_type": "code",
   "execution_count": 46,
   "metadata": {},
   "outputs": [],
   "source": [
    "result.to_csv('../data/dataset/lgb_submission.csv', index=False)"
   ]
  },
  {
   "cell_type": "markdown",
   "metadata": {},
   "source": [
    "# Models mixture"
   ]
  },
  {
   "cell_type": "code",
   "execution_count": 47,
   "metadata": {},
   "outputs": [],
   "source": [
    "voting_classifier = VotingClassifier(\n",
    "    estimators=[\n",
    "        ('xgb', xgb.XGBClassifier()),\n",
    "        ('lgb', lgb.LGBMClassifier())\n",
    "    ],\n",
    "    voting='soft')"
   ]
  },
  {
   "cell_type": "code",
   "execution_count": 48,
   "metadata": {},
   "outputs": [
    {
     "data": {
      "text/plain": [
       "VotingClassifier(estimators=[('xgb', XGBClassifier(base_score=0.5, booster='gbtree', colsample_bylevel=1,\n",
       "       colsample_bytree=1, gamma=0, learning_rate=0.1, max_delta_step=0,\n",
       "       max_depth=3, min_child_weight=1, missing=None, n_estimators=100,\n",
       "       n_jobs=1, nthread=None, objective='binary:logistic', random...0, reg_lambda=0.0, silent=True, subsample=1.0,\n",
       "        subsample_for_bin=200000, subsample_freq=0))],\n",
       "         flatten_transform=None, n_jobs=1, voting='soft', weights=None)"
      ]
     },
     "execution_count": 48,
     "metadata": {},
     "output_type": "execute_result"
    }
   ],
   "source": [
    "voting_classifier.fit(X_b, Y_b)"
   ]
  },
  {
   "cell_type": "code",
   "execution_count": 49,
   "metadata": {},
   "outputs": [],
   "source": [
    "res_y = voting_classifier.predict_proba(test_tr.values)"
   ]
  },
  {
   "cell_type": "code",
   "execution_count": 50,
   "metadata": {},
   "outputs": [],
   "source": [
    "result = pd.DataFrame({\n",
    "    'SK_ID_CURR': data_dict[dataset_names[1]].SK_ID_CURR.values,\n",
    "    'TARGET': res_y[:, 1]\n",
    "})"
   ]
  },
  {
   "cell_type": "code",
   "execution_count": 51,
   "metadata": {},
   "outputs": [],
   "source": [
    "result.to_csv('../data/dataset/xgb_lgb_mixture_submission.csv', index=False)"
   ]
  }
 ],
 "metadata": {
  "kernelspec": {
   "display_name": "Python 3",
   "language": "python",
   "name": "python3"
  },
  "language_info": {
   "codemirror_mode": {
    "name": "ipython",
    "version": 3
   },
   "file_extension": ".py",
   "mimetype": "text/x-python",
   "name": "python",
   "nbconvert_exporter": "python",
   "pygments_lexer": "ipython3",
   "version": "3.6.4"
  }
 },
 "nbformat": 4,
 "nbformat_minor": 2
}
