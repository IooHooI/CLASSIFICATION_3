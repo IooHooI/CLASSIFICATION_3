{
 "cells": [
  {
   "cell_type": "markdown",
   "metadata": {},
   "source": [
    "# All necessary imports"
   ]
  },
  {
   "cell_type": "code",
   "execution_count": 1,
   "metadata": {},
   "outputs": [],
   "source": [
    "import sys\n",
    "sys.path.append('..')"
   ]
  },
  {
   "cell_type": "code",
   "execution_count": 2,
   "metadata": {},
   "outputs": [],
   "source": [
    "from source.code.utils import load_obj\n",
    "from source.code.utils import generate_binarized_pipeline\n",
    "from source.code.utils import generate_encoded_pipeline\n",
    "\n",
    "from source.code.ItemSelector import ItemSelector"
   ]
  },
  {
   "cell_type": "code",
   "execution_count": 3,
   "metadata": {},
   "outputs": [],
   "source": [
    "import pandas as pd\n",
    "import numpy as np\n",
    "from tqdm import tqdm\n",
    "\n",
    "from sklearn.ensemble import BaggingClassifier\n",
    "from sklearn.ensemble import RandomForestClassifier\n",
    "from sklearn.ensemble import ExtraTreesClassifier\n",
    "from sklearn.ensemble import VotingClassifier\n",
    "\n",
    "from sklearn.model_selection import cross_val_score\n",
    "from sklearn.model_selection import GridSearchCV\n",
    "from sklearn.metrics import make_scorer\n",
    "from sklearn.metrics import roc_auc_score\n",
    "\n",
    "from sklearn.pipeline import Pipeline\n",
    "from sklearn.pipeline import FeatureUnion\n",
    "\n",
    "from imblearn.under_sampling import RandomUnderSampler"
   ]
  },
  {
   "cell_type": "code",
   "execution_count": 4,
   "metadata": {},
   "outputs": [],
   "source": [
    "pd.set_option('display.max_colwidth', -1)\n",
    "pd.set_option('display.max_rows', 30000)\n",
    "pd.set_option('display.max_columns', 30000)"
   ]
  },
  {
   "cell_type": "code",
   "execution_count": 5,
   "metadata": {},
   "outputs": [],
   "source": [
    "data_path = '../data/dataset/processed/{}.csv'\n",
    "profiling_path = '../data/dataset/processed/data_profiling/{}.html'\n",
    "meta_path = '../data/dataset/processed/meta-info/{}.pkl'"
   ]
  },
  {
   "cell_type": "markdown",
   "metadata": {},
   "source": [
    "# Choose random_state"
   ]
  },
  {
   "cell_type": "code",
   "execution_count": 6,
   "metadata": {},
   "outputs": [],
   "source": [
    "random_state = 42"
   ]
  },
  {
   "cell_type": "markdown",
   "metadata": {},
   "source": [
    "# Data reading"
   ]
  },
  {
   "cell_type": "markdown",
   "metadata": {},
   "source": [
    "## Datasets"
   ]
  },
  {
   "cell_type": "code",
   "execution_count": 7,
   "metadata": {},
   "outputs": [],
   "source": [
    "dataset_names = ['application_train', 'application_test']"
   ]
  },
  {
   "cell_type": "code",
   "execution_count": 8,
   "metadata": {},
   "outputs": [
    {
     "name": "stderr",
     "output_type": "stream",
     "text": [
      "100%|██████████| 2/2 [00:02<00:00,  1.01s/it]\n"
     ]
    }
   ],
   "source": [
    "data_dict = dict(zip(dataset_names, list(map(lambda name: pd.read_csv(filepath_or_buffer=data_path.format(name)), tqdm(dataset_names)))))"
   ]
  },
  {
   "cell_type": "markdown",
   "metadata": {},
   "source": [
    "## Columns needed"
   ]
  },
  {
   "cell_type": "code",
   "execution_count": 9,
   "metadata": {},
   "outputs": [],
   "source": [
    "datasets_num_features = load_obj(meta_path.format('datasets_num_features'))"
   ]
  },
  {
   "cell_type": "code",
   "execution_count": 10,
   "metadata": {},
   "outputs": [],
   "source": [
    "datasets_cat_features = load_obj(meta_path.format('datasets_cat_features'))"
   ]
  },
  {
   "cell_type": "code",
   "execution_count": 11,
   "metadata": {},
   "outputs": [],
   "source": [
    "datasets_bin_features = load_obj(meta_path.format('datasets_bin_features'))"
   ]
  },
  {
   "cell_type": "code",
   "execution_count": 12,
   "metadata": {},
   "outputs": [],
   "source": [
    "commom_categories = load_obj(meta_path.format('commom_categories'))"
   ]
  },
  {
   "cell_type": "markdown",
   "metadata": {},
   "source": [
    "# Preprocessing"
   ]
  },
  {
   "cell_type": "code",
   "execution_count": 13,
   "metadata": {},
   "outputs": [
    {
     "name": "stderr",
     "output_type": "stream",
     "text": [
      "100%|██████████| 6/6 [00:00<00:00, 11.27it/s]\n"
     ]
    }
   ],
   "source": [
    "for category in tqdm(commom_categories):\n",
    "    data_dict[dataset_names[0]] = data_dict[dataset_names[0]][data_dict[dataset_names[0]][category].isin(commom_categories[category])]"
   ]
  },
  {
   "cell_type": "markdown",
   "metadata": {},
   "source": [
    "So far we just generate features only from train and test, without NaNs imputing and other tricks:"
   ]
  },
  {
   "cell_type": "code",
   "execution_count": 14,
   "metadata": {},
   "outputs": [],
   "source": [
    "common_num_features = list(set(datasets_num_features[dataset_names[0]]) & set(datasets_num_features[dataset_names[1]]))\n",
    "common_cat_features = list(set(datasets_cat_features[dataset_names[0]]) & set(datasets_cat_features[dataset_names[1]]))\n",
    "common_bin_features = list(set(datasets_bin_features[dataset_names[0]]) & set(datasets_bin_features[dataset_names[1]]))"
   ]
  },
  {
   "cell_type": "code",
   "execution_count": 15,
   "metadata": {},
   "outputs": [],
   "source": [
    "X = data_dict[dataset_names[0]][common_num_features + common_cat_features + common_bin_features]"
   ]
  },
  {
   "cell_type": "code",
   "execution_count": 16,
   "metadata": {},
   "outputs": [],
   "source": [
    "Y = data_dict[dataset_names[0]]['TARGET']"
   ]
  },
  {
   "cell_type": "code",
   "execution_count": 17,
   "metadata": {},
   "outputs": [
    {
     "name": "stdout",
     "output_type": "stream",
     "text": [
      "<class 'pandas.core.frame.DataFrame'>\n",
      "Int64Index: 307500 entries, 0 to 307506\n",
      "Data columns (total 42 columns):\n",
      "DAYS_BIRTH                     307500 non-null int64\n",
      "AMT_INCOME_TOTAL               307500 non-null float64\n",
      "REGION_POPULATION_RELATIVE     307500 non-null float64\n",
      "CNT_CHILDREN                   307500 non-null int64\n",
      "SK_ID_CURR                     307500 non-null int64\n",
      "DAYS_EMPLOYED                  307500 non-null int64\n",
      "DAYS_ID_PUBLISH                307500 non-null int64\n",
      "DAYS_REGISTRATION              307500 non-null float64\n",
      "HOUR_APPR_PROCESS_START        307500 non-null int64\n",
      "AMT_CREDIT                     307500 non-null float64\n",
      "REGION_RATING_CLIENT           307500 non-null int64\n",
      "NAME_EDUCATION_TYPE            307500 non-null object\n",
      "WEEKDAY_APPR_PROCESS_START     307500 non-null object\n",
      "NAME_FAMILY_STATUS             307500 non-null object\n",
      "NAME_INCOME_TYPE               307500 non-null object\n",
      "NAME_HOUSING_TYPE              307500 non-null object\n",
      "ORGANIZATION_TYPE              307500 non-null object\n",
      "NAME_CONTRACT_TYPE             307500 non-null int64\n",
      "FLAG_EMP_PHONE                 307500 non-null int64\n",
      "REG_REGION_NOT_WORK_REGION     307500 non-null int64\n",
      "LIVE_CITY_NOT_WORK_CITY        307500 non-null int64\n",
      "FLAG_DOCUMENT_7                307500 non-null int64\n",
      "FLAG_DOCUMENT_8                307500 non-null int64\n",
      "FLAG_DOCUMENT_6                307500 non-null int64\n",
      "FLAG_DOCUMENT_18               307500 non-null int64\n",
      "FLAG_DOCUMENT_5                307500 non-null int64\n",
      "LIVE_REGION_NOT_WORK_REGION    307500 non-null int64\n",
      "FLAG_MOBIL                     307500 non-null int64\n",
      "REG_CITY_NOT_LIVE_CITY         307500 non-null int64\n",
      "REG_REGION_NOT_LIVE_REGION     307500 non-null int64\n",
      "FLAG_CONT_MOBILE               307500 non-null int64\n",
      "FLAG_OWN_REALTY                307500 non-null int64\n",
      "FLAG_DOCUMENT_9                307500 non-null int64\n",
      "REG_CITY_NOT_WORK_CITY         307500 non-null int64\n",
      "FLAG_DOCUMENT_3                307500 non-null int64\n",
      "FLAG_DOCUMENT_4                307500 non-null int64\n",
      "FLAG_WORK_PHONE                307500 non-null int64\n",
      "FLAG_PHONE                     307500 non-null int64\n",
      "CODE_GENDER                    307500 non-null int64\n",
      "FLAG_DOCUMENT_11               307500 non-null int64\n",
      "FLAG_OWN_CAR                   307500 non-null int64\n",
      "FLAG_EMAIL                     307500 non-null int64\n",
      "dtypes: float64(4), int64(32), object(6)\n",
      "memory usage: 100.9+ MB\n"
     ]
    }
   ],
   "source": [
    "X.info()"
   ]
  },
  {
   "cell_type": "code",
   "execution_count": 18,
   "metadata": {},
   "outputs": [
    {
     "data": {
      "text/plain": [
       "0    282677\n",
       "1    24823 \n",
       "Name: TARGET, dtype: int64"
      ]
     },
     "execution_count": 18,
     "metadata": {},
     "output_type": "execute_result"
    }
   ],
   "source": [
    "Y.value_counts()"
   ]
  },
  {
   "cell_type": "markdown",
   "metadata": {},
   "source": [
    "Classes are unbalanced.\n",
    "\n",
    "This has to be fixed.\n",
    "\n",
    "But before that we need to binarize categorical features:"
   ]
  },
  {
   "cell_type": "code",
   "execution_count": 19,
   "metadata": {},
   "outputs": [],
   "source": [
    "pipeline = Pipeline([\n",
    "    ('union', FeatureUnion(\n",
    "        list(map(generate_encoded_pipeline, common_cat_features)) +\\\n",
    "        [('all_other_features', Pipeline([('choose', ItemSelector(common_num_features + common_bin_features))]))]\n",
    "    ))\n",
    "])"
   ]
  },
  {
   "cell_type": "code",
   "execution_count": 20,
   "metadata": {
    "scrolled": false
   },
   "outputs": [],
   "source": [
    "X_tr = pd.DataFrame(pipeline.fit_transform(X))"
   ]
  },
  {
   "cell_type": "code",
   "execution_count": 21,
   "metadata": {},
   "outputs": [
    {
     "name": "stdout",
     "output_type": "stream",
     "text": [
      "<class 'pandas.core.frame.DataFrame'>\n",
      "RangeIndex: 307500 entries, 0 to 307499\n",
      "Data columns (total 42 columns):\n",
      "0     307500 non-null float64\n",
      "1     307500 non-null float64\n",
      "2     307500 non-null float64\n",
      "3     307500 non-null float64\n",
      "4     307500 non-null float64\n",
      "5     307500 non-null float64\n",
      "6     307500 non-null float64\n",
      "7     307500 non-null float64\n",
      "8     307500 non-null float64\n",
      "9     307500 non-null float64\n",
      "10    307500 non-null float64\n",
      "11    307500 non-null float64\n",
      "12    307500 non-null float64\n",
      "13    307500 non-null float64\n",
      "14    307500 non-null float64\n",
      "15    307500 non-null float64\n",
      "16    307500 non-null float64\n",
      "17    307500 non-null float64\n",
      "18    307500 non-null float64\n",
      "19    307500 non-null float64\n",
      "20    307500 non-null float64\n",
      "21    307500 non-null float64\n",
      "22    307500 non-null float64\n",
      "23    307500 non-null float64\n",
      "24    307500 non-null float64\n",
      "25    307500 non-null float64\n",
      "26    307500 non-null float64\n",
      "27    307500 non-null float64\n",
      "28    307500 non-null float64\n",
      "29    307500 non-null float64\n",
      "30    307500 non-null float64\n",
      "31    307500 non-null float64\n",
      "32    307500 non-null float64\n",
      "33    307500 non-null float64\n",
      "34    307500 non-null float64\n",
      "35    307500 non-null float64\n",
      "36    307500 non-null float64\n",
      "37    307500 non-null float64\n",
      "38    307500 non-null float64\n",
      "39    307500 non-null float64\n",
      "40    307500 non-null float64\n",
      "41    307500 non-null float64\n",
      "dtypes: float64(42)\n",
      "memory usage: 98.5 MB\n"
     ]
    }
   ],
   "source": [
    "X_tr.info()"
   ]
  },
  {
   "cell_type": "code",
   "execution_count": 22,
   "metadata": {},
   "outputs": [],
   "source": [
    "test = data_dict[dataset_names[1]][common_num_features + common_cat_features + common_bin_features]"
   ]
  },
  {
   "cell_type": "code",
   "execution_count": 23,
   "metadata": {
    "scrolled": false
   },
   "outputs": [],
   "source": [
    "test_tr = pd.DataFrame(pipeline.transform(test))"
   ]
  },
  {
   "cell_type": "code",
   "execution_count": 24,
   "metadata": {},
   "outputs": [
    {
     "name": "stdout",
     "output_type": "stream",
     "text": [
      "<class 'pandas.core.frame.DataFrame'>\n",
      "RangeIndex: 48744 entries, 0 to 48743\n",
      "Data columns (total 42 columns):\n",
      "0     48744 non-null float64\n",
      "1     48744 non-null float64\n",
      "2     48744 non-null float64\n",
      "3     48744 non-null float64\n",
      "4     48744 non-null float64\n",
      "5     48744 non-null float64\n",
      "6     48744 non-null float64\n",
      "7     48744 non-null float64\n",
      "8     48744 non-null float64\n",
      "9     48744 non-null float64\n",
      "10    48744 non-null float64\n",
      "11    48744 non-null float64\n",
      "12    48744 non-null float64\n",
      "13    48744 non-null float64\n",
      "14    48744 non-null float64\n",
      "15    48744 non-null float64\n",
      "16    48744 non-null float64\n",
      "17    48744 non-null float64\n",
      "18    48744 non-null float64\n",
      "19    48744 non-null float64\n",
      "20    48744 non-null float64\n",
      "21    48744 non-null float64\n",
      "22    48744 non-null float64\n",
      "23    48744 non-null float64\n",
      "24    48744 non-null float64\n",
      "25    48744 non-null float64\n",
      "26    48744 non-null float64\n",
      "27    48744 non-null float64\n",
      "28    48744 non-null float64\n",
      "29    48744 non-null float64\n",
      "30    48744 non-null float64\n",
      "31    48744 non-null float64\n",
      "32    48744 non-null float64\n",
      "33    48744 non-null float64\n",
      "34    48744 non-null float64\n",
      "35    48744 non-null float64\n",
      "36    48744 non-null float64\n",
      "37    48744 non-null float64\n",
      "38    48744 non-null float64\n",
      "39    48744 non-null float64\n",
      "40    48744 non-null float64\n",
      "41    48744 non-null float64\n",
      "dtypes: float64(42)\n",
      "memory usage: 15.6 MB\n"
     ]
    }
   ],
   "source": [
    "test_tr.info()"
   ]
  },
  {
   "cell_type": "code",
   "execution_count": 25,
   "metadata": {},
   "outputs": [
    {
     "name": "stdout",
     "output_type": "stream",
     "text": [
      "307500 307500\n"
     ]
    }
   ],
   "source": [
    "print(len(X_tr), len(Y))"
   ]
  },
  {
   "cell_type": "markdown",
   "metadata": {},
   "source": [
    "Now we can balance classes.\n",
    "\n",
    "Here we use the simplest way to do it (because of time & memory issues):"
   ]
  },
  {
   "cell_type": "code",
   "execution_count": 26,
   "metadata": {},
   "outputs": [],
   "source": [
    "X_b, Y_b = RandomUnderSampler(random_state=random_state).fit_sample(X_tr, Y)"
   ]
  },
  {
   "cell_type": "code",
   "execution_count": 27,
   "metadata": {},
   "outputs": [
    {
     "name": "stdout",
     "output_type": "stream",
     "text": [
      "24823 49646\n"
     ]
    }
   ],
   "source": [
    "print(sum(Y_b), len(Y_b))"
   ]
  },
  {
   "cell_type": "markdown",
   "metadata": {},
   "source": [
    "# Baseline-модель"
   ]
  },
  {
   "cell_type": "code",
   "execution_count": 28,
   "metadata": {},
   "outputs": [
    {
     "data": {
      "text/plain": [
       "array([0.33359517, 0.33417936, 0.33025139])"
      ]
     },
     "execution_count": 28,
     "metadata": {},
     "output_type": "execute_result"
    }
   ],
   "source": [
    "cross_val_score(BaggingClassifier(random_state=random_state), X_b, Y_b, scoring=make_scorer(roc_auc_score))"
   ]
  },
  {
   "cell_type": "code",
   "execution_count": 29,
   "metadata": {},
   "outputs": [
    {
     "data": {
      "text/plain": [
       "array([0.33667674, 0.34535896, 0.33460237])"
      ]
     },
     "execution_count": 29,
     "metadata": {},
     "output_type": "execute_result"
    }
   ],
   "source": [
    "cross_val_score(RandomForestClassifier(random_state=random_state), X_b, Y_b, scoring=make_scorer(roc_auc_score))"
   ]
  },
  {
   "cell_type": "code",
   "execution_count": 30,
   "metadata": {},
   "outputs": [
    {
     "data": {
      "text/plain": [
       "array([0.37220544, 0.44216824, 0.38343002])"
      ]
     },
     "execution_count": 30,
     "metadata": {},
     "output_type": "execute_result"
    }
   ],
   "source": [
    "cross_val_score(ExtraTreesClassifier(random_state=random_state), X_b, Y_b, scoring=make_scorer(roc_auc_score))"
   ]
  },
  {
   "cell_type": "code",
   "execution_count": 31,
   "metadata": {},
   "outputs": [],
   "source": [
    "baseline_classifier = RandomForestClassifier(random_state=random_state)"
   ]
  },
  {
   "cell_type": "code",
   "execution_count": 32,
   "metadata": {},
   "outputs": [
    {
     "data": {
      "text/plain": [
       "RandomForestClassifier(bootstrap=True, class_weight=None, criterion='gini',\n",
       "            max_depth=None, max_features='auto', max_leaf_nodes=None,\n",
       "            min_impurity_decrease=0.0, min_impurity_split=None,\n",
       "            min_samples_leaf=1, min_samples_split=2,\n",
       "            min_weight_fraction_leaf=0.0, n_estimators=10, n_jobs=1,\n",
       "            oob_score=False, random_state=42, verbose=0, warm_start=False)"
      ]
     },
     "execution_count": 32,
     "metadata": {},
     "output_type": "execute_result"
    }
   ],
   "source": [
    "baseline_classifier.fit(X_b, Y_b)"
   ]
  },
  {
   "cell_type": "code",
   "execution_count": 33,
   "metadata": {},
   "outputs": [],
   "source": [
    "baseline_y_est = baseline_classifier.predict_proba(test_tr)"
   ]
  },
  {
   "cell_type": "code",
   "execution_count": 34,
   "metadata": {},
   "outputs": [
    {
     "data": {
      "text/plain": [
       "(48744,)"
      ]
     },
     "execution_count": 34,
     "metadata": {},
     "output_type": "execute_result"
    }
   ],
   "source": [
    "baseline_y_est[:, 1].shape"
   ]
  },
  {
   "cell_type": "code",
   "execution_count": 35,
   "metadata": {},
   "outputs": [],
   "source": [
    "result = pd.DataFrame({\n",
    "    'SK_ID_CURR': data_dict[dataset_names[1]].SK_ID_CURR.values,\n",
    "    'TARGET': baseline_y_est[:, 1]\n",
    "})"
   ]
  },
  {
   "cell_type": "code",
   "execution_count": 36,
   "metadata": {},
   "outputs": [],
   "source": [
    "result.to_csv('../data/dataset/first_approach/baseline_submission.csv', index=False)"
   ]
  },
  {
   "cell_type": "markdown",
   "metadata": {},
   "source": [
    "# Let's tune our hyperparameters"
   ]
  },
  {
   "cell_type": "markdown",
   "metadata": {},
   "source": [
    "# ExtraTreesClassifier"
   ]
  },
  {
   "cell_type": "code",
   "execution_count": 37,
   "metadata": {},
   "outputs": [
    {
     "data": {
      "text/plain": [
       "{'bootstrap': False,\n",
       " 'class_weight': None,\n",
       " 'criterion': 'gini',\n",
       " 'max_depth': None,\n",
       " 'max_features': 'auto',\n",
       " 'max_leaf_nodes': None,\n",
       " 'min_impurity_decrease': 0.0,\n",
       " 'min_impurity_split': None,\n",
       " 'min_samples_leaf': 1,\n",
       " 'min_samples_split': 2,\n",
       " 'min_weight_fraction_leaf': 0.0,\n",
       " 'n_estimators': 10,\n",
       " 'n_jobs': 1,\n",
       " 'oob_score': False,\n",
       " 'random_state': None,\n",
       " 'verbose': 0,\n",
       " 'warm_start': False}"
      ]
     },
     "execution_count": 37,
     "metadata": {},
     "output_type": "execute_result"
    }
   ],
   "source": [
    "ExtraTreesClassifier().get_params()"
   ]
  },
  {
   "cell_type": "code",
   "execution_count": 38,
   "metadata": {},
   "outputs": [],
   "source": [
    "e_t_params_grid = {\n",
    "    'bootstrap': [False, True],\n",
    "    'n_estimators': [10, 15, 20, 25, 30],\n",
    "    'criterion': ['gini', 'entropy']\n",
    "}"
   ]
  },
  {
   "cell_type": "code",
   "execution_count": 39,
   "metadata": {},
   "outputs": [],
   "source": [
    "e_t_grid = GridSearchCV(\n",
    "    ExtraTreesClassifier(random_state=random_state),\n",
    "    param_grid=e_t_params_grid,\n",
    "    scoring=make_scorer(roc_auc_score),\n",
    "    verbose=10,\n",
    "    n_jobs=-1\n",
    ")"
   ]
  },
  {
   "cell_type": "code",
   "execution_count": 40,
   "metadata": {
    "scrolled": false
   },
   "outputs": [
    {
     "name": "stdout",
     "output_type": "stream",
     "text": [
      "Fitting 3 folds for each of 20 candidates, totalling 60 fits\n",
      "[CV] bootstrap=False, criterion=gini, n_estimators=10 ................\n",
      "[CV] bootstrap=False, criterion=gini, n_estimators=10 ................\n",
      "[CV] bootstrap=False, criterion=gini, n_estimators=10 ................\n",
      "[CV] bootstrap=False, criterion=gini, n_estimators=15 ................\n",
      "[CV]  bootstrap=False, criterion=gini, n_estimators=10, score=0.3722054380664653, total=   1.2s\n",
      "[CV] bootstrap=False, criterion=gini, n_estimators=15 ................\n",
      "[CV]  bootstrap=False, criterion=gini, n_estimators=10, score=0.38343002175489493, total=   1.2s\n",
      "[CV] bootstrap=False, criterion=gini, n_estimators=15 ................\n",
      "[CV]  bootstrap=False, criterion=gini, n_estimators=10, score=0.442168237853517, total=   1.4s\n",
      "[CV] bootstrap=False, criterion=gini, n_estimators=20 ................\n",
      "[CV]  bootstrap=False, criterion=gini, n_estimators=15, score=0.3406646525679758, total=   1.6s\n",
      "[CV] bootstrap=False, criterion=gini, n_estimators=20 ................\n",
      "[CV]  bootstrap=False, criterion=gini, n_estimators=15, score=0.4355813391346386, total=   1.7s\n",
      "[CV] bootstrap=False, criterion=gini, n_estimators=20 ................\n"
     ]
    },
    {
     "name": "stderr",
     "output_type": "stream",
     "text": [
      "[Parallel(n_jobs=-1)]: Done   5 tasks      | elapsed:    3.4s\n"
     ]
    },
    {
     "name": "stdout",
     "output_type": "stream",
     "text": [
      "[CV]  bootstrap=False, criterion=gini, n_estimators=15, score=0.35381919265167994, total=   1.6s\n",
      "[CV] bootstrap=False, criterion=gini, n_estimators=25 ................\n",
      "[CV]  bootstrap=False, criterion=gini, n_estimators=20, score=0.43817984046410446, total=   2.1s\n",
      "[CV] bootstrap=False, criterion=gini, n_estimators=25 ................\n",
      "[CV]  bootstrap=False, criterion=gini, n_estimators=20, score=0.35232628398791543, total=   2.6s\n",
      "[CV] bootstrap=False, criterion=gini, n_estimators=25 ................\n",
      "[CV]  bootstrap=False, criterion=gini, n_estimators=20, score=0.36167512690355336, total=   2.2s\n",
      "[CV] bootstrap=False, criterion=gini, n_estimators=30 ................\n",
      "[CV]  bootstrap=False, criterion=gini, n_estimators=25, score=0.33673716012084587, total=   2.8s\n",
      "[CV] bootstrap=False, criterion=gini, n_estimators=30 ................\n"
     ]
    },
    {
     "name": "stderr",
     "output_type": "stream",
     "text": [
      "[Parallel(n_jobs=-1)]: Done  10 tasks      | elapsed:    7.2s\n"
     ]
    },
    {
     "name": "stdout",
     "output_type": "stream",
     "text": [
      "[CV]  bootstrap=False, criterion=gini, n_estimators=25, score=0.4340705825477399, total=   2.8s\n",
      "[CV] bootstrap=False, criterion=gini, n_estimators=30 ................\n",
      "[CV]  bootstrap=False, criterion=gini, n_estimators=25, score=0.34711143340584966, total=   2.6s\n",
      "[CV] bootstrap=False, criterion=entropy, n_estimators=10 .............\n",
      "[CV]  bootstrap=False, criterion=entropy, n_estimators=10, score=0.3752870090634441, total=   1.1s\n",
      "[CV] bootstrap=False, criterion=entropy, n_estimators=10 .............\n",
      "[CV]  bootstrap=False, criterion=gini, n_estimators=30, score=0.34404833836858006, total=   3.2s\n",
      "[CV] bootstrap=False, criterion=entropy, n_estimators=10 .............\n",
      "[CV]  bootstrap=False, criterion=entropy, n_estimators=10, score=0.4471839497220208, total=   1.4s\n",
      "[CV] bootstrap=False, criterion=entropy, n_estimators=15 .............\n",
      "[CV]  bootstrap=False, criterion=entropy, n_estimators=10, score=0.3571428571428571, total=   1.2s\n",
      "[CV] bootstrap=False, criterion=entropy, n_estimators=15 .............\n",
      "[CV]  bootstrap=False, criterion=gini, n_estimators=30, score=0.43044476673918297, total=   3.4s\n",
      "[CV] bootstrap=False, criterion=entropy, n_estimators=15 .............\n"
     ]
    },
    {
     "name": "stderr",
     "output_type": "stream",
     "text": [
      "[Parallel(n_jobs=-1)]: Done  17 tasks      | elapsed:   11.3s\n"
     ]
    },
    {
     "name": "stdout",
     "output_type": "stream",
     "text": [
      "[CV]  bootstrap=False, criterion=gini, n_estimators=30, score=0.3543630650229635, total=   3.5s\n",
      "[CV] bootstrap=False, criterion=entropy, n_estimators=20 .............\n",
      "[CV]  bootstrap=False, criterion=entropy, n_estimators=15, score=0.3391540785498489, total=   2.0s\n",
      "[CV] bootstrap=False, criterion=entropy, n_estimators=20 .............\n",
      "[CV]  bootstrap=False, criterion=entropy, n_estimators=15, score=0.3329707517524776, total=   1.9s\n",
      "[CV] bootstrap=False, criterion=entropy, n_estimators=20 .............\n",
      "[CV]  bootstrap=False, criterion=entropy, n_estimators=15, score=0.43382886149383615, total=   2.0s\n",
      "[CV] bootstrap=False, criterion=entropy, n_estimators=25 .............\n",
      "[CV]  bootstrap=False, criterion=entropy, n_estimators=20, score=0.35262839879154073, total=   2.5s\n",
      "[CV] bootstrap=False, criterion=entropy, n_estimators=25 .............\n",
      "[CV]  bootstrap=False, criterion=entropy, n_estimators=20, score=0.3486221899927484, total=   2.3s\n",
      "[CV] bootstrap=False, criterion=entropy, n_estimators=25 .............\n",
      "[CV]  bootstrap=False, criterion=entropy, n_estimators=20, score=0.4281484167270969, total=   2.4s\n",
      "[CV] bootstrap=False, criterion=entropy, n_estimators=30 .............\n"
     ]
    },
    {
     "name": "stderr",
     "output_type": "stream",
     "text": [
      "[Parallel(n_jobs=-1)]: Done  24 tasks      | elapsed:   16.2s\n"
     ]
    },
    {
     "name": "stdout",
     "output_type": "stream",
     "text": [
      "[CV]  bootstrap=False, criterion=entropy, n_estimators=25, score=0.339214501510574, total=   2.8s\n",
      "[CV] bootstrap=False, criterion=entropy, n_estimators=30 .............\n",
      "[CV]  bootstrap=False, criterion=entropy, n_estimators=25, score=0.43020304568527923, total=   3.2s\n",
      "[CV] bootstrap=False, criterion=entropy, n_estimators=30 .............\n",
      "[CV]  bootstrap=False, criterion=entropy, n_estimators=25, score=0.330190959632584, total=   3.2s\n",
      "[CV] bootstrap=True, criterion=gini, n_estimators=10 .................\n",
      "[CV]  bootstrap=False, criterion=entropy, n_estimators=30, score=0.34640483383685794, total=   3.4s\n",
      "[CV] bootstrap=True, criterion=gini, n_estimators=10 .................\n",
      "[CV]  bootstrap=True, criterion=gini, n_estimators=10, score=0.3780060422960725, total=   0.7s\n",
      "[CV] bootstrap=True, criterion=gini, n_estimators=10 .................\n",
      "[CV]  bootstrap=False, criterion=entropy, n_estimators=30, score=0.4253686246072033, total=   3.2s\n",
      "[CV] bootstrap=True, criterion=gini, n_estimators=15 .................\n",
      "[CV]  bootstrap=True, criterion=gini, n_estimators=10, score=0.4703891708967851, total=   0.7s\n",
      "[CV] bootstrap=True, criterion=gini, n_estimators=15 .................\n",
      "[CV]  bootstrap=True, criterion=gini, n_estimators=10, score=0.3671138506163887, total=   0.7s\n",
      "[CV] bootstrap=True, criterion=gini, n_estimators=15 .................\n",
      "[CV]  bootstrap=True, criterion=gini, n_estimators=15, score=0.34380664652567977, total=   1.1s\n",
      "[CV] bootstrap=True, criterion=gini, n_estimators=20 .................\n",
      "[CV]  bootstrap=True, criterion=gini, n_estimators=15, score=0.4505680444766739, total=   1.1s\n",
      "[CV] bootstrap=True, criterion=gini, n_estimators=20 .................\n"
     ]
    },
    {
     "name": "stderr",
     "output_type": "stream",
     "text": [
      "[Parallel(n_jobs=-1)]: Done  33 tasks      | elapsed:   22.3s\n"
     ]
    },
    {
     "name": "stdout",
     "output_type": "stream",
     "text": [
      "[CV]  bootstrap=False, criterion=entropy, n_estimators=30, score=0.3416727096930142, total=   3.7s\n",
      "[CV] bootstrap=True, criterion=gini, n_estimators=20 .................\n",
      "[CV]  bootstrap=True, criterion=gini, n_estimators=15, score=0.3430021754894851, total=   1.0s\n",
      "[CV] bootstrap=True, criterion=gini, n_estimators=25 .................\n",
      "[CV]  bootstrap=True, criterion=gini, n_estimators=20, score=0.3555287009063445, total=   1.3s\n",
      "[CV] bootstrap=True, criterion=gini, n_estimators=25 .................\n",
      "[CV]  bootstrap=True, criterion=gini, n_estimators=20, score=0.4467005076142132, total=   1.4s\n",
      "[CV] bootstrap=True, criterion=gini, n_estimators=25 .................\n",
      "[CV]  bootstrap=True, criterion=gini, n_estimators=20, score=0.3575054387237129, total=   1.3s\n",
      "[CV] bootstrap=True, criterion=gini, n_estimators=30 .................\n",
      "[CV]  bootstrap=True, criterion=gini, n_estimators=25, score=0.338429003021148, total=   1.6s\n",
      "[CV] bootstrap=True, criterion=gini, n_estimators=30 .................\n",
      "[CV]  bootstrap=True, criterion=gini, n_estimators=25, score=0.4436185641769398, total=   1.7s\n",
      "[CV] bootstrap=True, criterion=gini, n_estimators=30 .................\n",
      "[CV]  bootstrap=True, criterion=gini, n_estimators=25, score=0.3350253807106599, total=   1.6s\n",
      "[CV] bootstrap=True, criterion=entropy, n_estimators=10 ..............\n"
     ]
    },
    {
     "name": "stderr",
     "output_type": "stream",
     "text": [
      "[Parallel(n_jobs=-1)]: Done  42 tasks      | elapsed:   26.1s\n"
     ]
    },
    {
     "name": "stdout",
     "output_type": "stream",
     "text": [
      "[CV]  bootstrap=True, criterion=entropy, n_estimators=10, score=0.3691238670694864, total=   0.9s\n",
      "[CV]  bootstrap=True, criterion=gini, n_estimators=30, score=0.35015105740181274, total=   2.2s\n",
      "[CV] bootstrap=True, criterion=entropy, n_estimators=10 ..............\n",
      "[CV] bootstrap=True, criterion=entropy, n_estimators=10 ..............\n",
      "[CV]  bootstrap=True, criterion=gini, n_estimators=30, score=0.43080734832003864, total=   2.2s\n",
      "[CV] bootstrap=True, criterion=entropy, n_estimators=15 ..............\n",
      "[CV]  bootstrap=True, criterion=entropy, n_estimators=10, score=0.4708121827411168, total=   0.8s\n",
      "[CV] bootstrap=True, criterion=entropy, n_estimators=15 ..............\n",
      "[CV]  bootstrap=True, criterion=entropy, n_estimators=10, score=0.3662678269277254, total=   1.0s\n",
      "[CV] bootstrap=True, criterion=entropy, n_estimators=15 ..............\n",
      "[CV]  bootstrap=True, criterion=gini, n_estimators=30, score=0.3411288373217307, total=   2.5s\n",
      "[CV] bootstrap=True, criterion=entropy, n_estimators=20 ..............\n",
      "[CV]  bootstrap=True, criterion=entropy, n_estimators=15, score=0.33981873111782473, total=   1.2s\n",
      "[CV] bootstrap=True, criterion=entropy, n_estimators=20 ..............\n",
      "[CV]  bootstrap=True, criterion=entropy, n_estimators=15, score=0.44150350495528157, total=   1.1s\n",
      "[CV] bootstrap=True, criterion=entropy, n_estimators=20 ..............\n",
      "[CV]  bootstrap=True, criterion=entropy, n_estimators=15, score=0.33798646362098145, total=   1.4s\n",
      "[CV] bootstrap=True, criterion=entropy, n_estimators=25 ..............\n",
      "[CV]  bootstrap=True, criterion=entropy, n_estimators=20, score=0.35027190332326286, total=   1.8s\n",
      "[CV] bootstrap=True, criterion=entropy, n_estimators=25 ..............\n",
      "[CV]  bootstrap=True, criterion=entropy, n_estimators=20, score=0.350253807106599, total=   1.4s\n",
      "[CV] bootstrap=True, criterion=entropy, n_estimators=25 ..............\n",
      "[CV]  bootstrap=True, criterion=entropy, n_estimators=20, score=0.43177423253565383, total=   1.7s\n",
      "[CV] bootstrap=True, criterion=entropy, n_estimators=30 ..............\n"
     ]
    },
    {
     "name": "stderr",
     "output_type": "stream",
     "text": [
      "[Parallel(n_jobs=-1)]: Done  53 tasks      | elapsed:   31.2s\n"
     ]
    },
    {
     "name": "stdout",
     "output_type": "stream",
     "text": [
      "[CV]  bootstrap=True, criterion=entropy, n_estimators=25, score=0.3342598187311179, total=   2.7s\n",
      "[CV] bootstrap=True, criterion=entropy, n_estimators=30 ..............\n",
      "[CV]  bootstrap=True, criterion=entropy, n_estimators=25, score=0.33375634517766495, total=   2.3s\n",
      "[CV] bootstrap=True, criterion=entropy, n_estimators=30 ..............\n",
      "[CV]  bootstrap=True, criterion=entropy, n_estimators=25, score=0.41630408508581096, total=   2.3s\n",
      "[CV]  bootstrap=True, criterion=entropy, n_estimators=30, score=0.34157099697885196, total=   2.8s\n",
      "[CV]  bootstrap=True, criterion=entropy, n_estimators=30, score=0.4262750785593425, total=   2.0s\n",
      "[CV]  bootstrap=True, criterion=entropy, n_estimators=30, score=0.3451172347111433, total=   1.6s\n"
     ]
    },
    {
     "name": "stderr",
     "output_type": "stream",
     "text": [
      "[Parallel(n_jobs=-1)]: Done  60 out of  60 | elapsed:   35.8s remaining:    0.0s\n",
      "[Parallel(n_jobs=-1)]: Done  60 out of  60 | elapsed:   35.8s finished\n"
     ]
    },
    {
     "data": {
      "text/plain": [
       "GridSearchCV(cv=None, error_score='raise',\n",
       "       estimator=ExtraTreesClassifier(bootstrap=False, class_weight=None, criterion='gini',\n",
       "           max_depth=None, max_features='auto', max_leaf_nodes=None,\n",
       "           min_impurity_decrease=0.0, min_impurity_split=None,\n",
       "           min_samples_leaf=1, min_samples_split=2,\n",
       "           min_weight_fraction_leaf=0.0, n_estimators=10, n_jobs=1,\n",
       "           oob_score=False, random_state=42, verbose=0, warm_start=False),\n",
       "       fit_params=None, iid=True, n_jobs=-1,\n",
       "       param_grid={'bootstrap': [False, True], 'n_estimators': [10, 15, 20, 25, 30], 'criterion': ['gini', 'entropy']},\n",
       "       pre_dispatch='2*n_jobs', refit=True, return_train_score='warn',\n",
       "       scoring=make_scorer(roc_auc_score), verbose=10)"
      ]
     },
     "execution_count": 40,
     "metadata": {},
     "output_type": "execute_result"
    }
   ],
   "source": [
    "e_t_grid.fit(X_b, Y_b)"
   ]
  },
  {
   "cell_type": "code",
   "execution_count": 41,
   "metadata": {},
   "outputs": [
    {
     "data": {
      "text/plain": [
       "{'bootstrap': True, 'criterion': 'gini', 'n_estimators': 10}"
      ]
     },
     "execution_count": 41,
     "metadata": {},
     "output_type": "execute_result"
    }
   ],
   "source": [
    "e_t_grid.best_params_"
   ]
  },
  {
   "cell_type": "code",
   "execution_count": 42,
   "metadata": {},
   "outputs": [
    {
     "data": {
      "text/plain": [
       "0.4051685936429924"
      ]
     },
     "execution_count": 42,
     "metadata": {},
     "output_type": "execute_result"
    }
   ],
   "source": [
    "e_t_grid.best_score_"
   ]
  },
  {
   "cell_type": "code",
   "execution_count": 43,
   "metadata": {},
   "outputs": [],
   "source": [
    "e_t_classifier = ExtraTreesClassifier(random_state=random_state, **e_t_grid.best_params_)"
   ]
  },
  {
   "cell_type": "code",
   "execution_count": 44,
   "metadata": {},
   "outputs": [
    {
     "data": {
      "text/plain": [
       "ExtraTreesClassifier(bootstrap=True, class_weight=None, criterion='gini',\n",
       "           max_depth=None, max_features='auto', max_leaf_nodes=None,\n",
       "           min_impurity_decrease=0.0, min_impurity_split=None,\n",
       "           min_samples_leaf=1, min_samples_split=2,\n",
       "           min_weight_fraction_leaf=0.0, n_estimators=10, n_jobs=1,\n",
       "           oob_score=False, random_state=42, verbose=0, warm_start=False)"
      ]
     },
     "execution_count": 44,
     "metadata": {},
     "output_type": "execute_result"
    }
   ],
   "source": [
    "e_t_classifier.fit(X_b, Y_b)"
   ]
  },
  {
   "cell_type": "code",
   "execution_count": 45,
   "metadata": {},
   "outputs": [],
   "source": [
    "e_t_y_est = e_t_classifier.predict_proba(test_tr)"
   ]
  },
  {
   "cell_type": "code",
   "execution_count": 46,
   "metadata": {},
   "outputs": [
    {
     "data": {
      "text/plain": [
       "(48744,)"
      ]
     },
     "execution_count": 46,
     "metadata": {},
     "output_type": "execute_result"
    }
   ],
   "source": [
    "e_t_y_est[:, 1].shape"
   ]
  },
  {
   "cell_type": "code",
   "execution_count": 47,
   "metadata": {},
   "outputs": [],
   "source": [
    "result = pd.DataFrame({\n",
    "    'SK_ID_CURR': data_dict[dataset_names[1]].SK_ID_CURR.values,\n",
    "    'TARGET': e_t_y_est[:, 1]\n",
    "})"
   ]
  },
  {
   "cell_type": "code",
   "execution_count": 48,
   "metadata": {},
   "outputs": [],
   "source": [
    "result.to_csv('../data/dataset/first_approach/e_t_grid_search_cv_submission.csv', index=False)"
   ]
  },
  {
   "cell_type": "markdown",
   "metadata": {},
   "source": [
    "# RandomForestClassifier"
   ]
  },
  {
   "cell_type": "code",
   "execution_count": 49,
   "metadata": {},
   "outputs": [
    {
     "data": {
      "text/plain": [
       "{'bootstrap': True,\n",
       " 'class_weight': None,\n",
       " 'criterion': 'gini',\n",
       " 'max_depth': None,\n",
       " 'max_features': 'auto',\n",
       " 'max_leaf_nodes': None,\n",
       " 'min_impurity_decrease': 0.0,\n",
       " 'min_impurity_split': None,\n",
       " 'min_samples_leaf': 1,\n",
       " 'min_samples_split': 2,\n",
       " 'min_weight_fraction_leaf': 0.0,\n",
       " 'n_estimators': 10,\n",
       " 'n_jobs': 1,\n",
       " 'oob_score': False,\n",
       " 'random_state': None,\n",
       " 'verbose': 0,\n",
       " 'warm_start': False}"
      ]
     },
     "execution_count": 49,
     "metadata": {},
     "output_type": "execute_result"
    }
   ],
   "source": [
    "RandomForestClassifier().get_params()"
   ]
  },
  {
   "cell_type": "code",
   "execution_count": 50,
   "metadata": {},
   "outputs": [],
   "source": [
    "r_f_params_grid = {\n",
    "    'bootstrap': [False, True],\n",
    "    'n_estimators': [10, 15, 20, 25, 30],\n",
    "    'criterion': ['gini', 'entropy']\n",
    "}"
   ]
  },
  {
   "cell_type": "code",
   "execution_count": 51,
   "metadata": {},
   "outputs": [],
   "source": [
    "r_f_grid = GridSearchCV(\n",
    "    RandomForestClassifier(random_state=random_state),\n",
    "    param_grid=r_f_params_grid,\n",
    "    scoring=make_scorer(roc_auc_score),\n",
    "    verbose=10,\n",
    "    n_jobs=-1\n",
    ")"
   ]
  },
  {
   "cell_type": "code",
   "execution_count": 52,
   "metadata": {
    "scrolled": false
   },
   "outputs": [
    {
     "name": "stdout",
     "output_type": "stream",
     "text": [
      "Fitting 3 folds for each of 20 candidates, totalling 60 fits\n",
      "[CV] bootstrap=False, criterion=gini, n_estimators=10 ................\n",
      "[CV] bootstrap=False, criterion=gini, n_estimators=10 ................\n",
      "[CV] bootstrap=False, criterion=gini, n_estimators=10 ................\n",
      "[CV] bootstrap=False, criterion=gini, n_estimators=15 ................\n",
      "[CV]  bootstrap=False, criterion=gini, n_estimators=10, score=0.35200628474740153, total=   1.7s\n",
      "[CV] bootstrap=False, criterion=gini, n_estimators=15 ................\n",
      "[CV]  bootstrap=False, criterion=gini, n_estimators=10, score=0.3329305135951661, total=   1.8s\n",
      "[CV] bootstrap=False, criterion=gini, n_estimators=15 ................\n",
      "[CV]  bootstrap=False, criterion=gini, n_estimators=10, score=0.33768431230360163, total=   1.9s\n",
      "[CV] bootstrap=False, criterion=gini, n_estimators=20 ................\n",
      "[CV]  bootstrap=False, criterion=gini, n_estimators=15, score=0.30398791540785497, total=   2.7s\n",
      "[CV] bootstrap=False, criterion=gini, n_estimators=20 ................\n",
      "[CV]  bootstrap=False, criterion=gini, n_estimators=15, score=0.3206429780033841, total=   2.2s\n",
      "[CV] bootstrap=False, criterion=gini, n_estimators=20 ................\n"
     ]
    },
    {
     "name": "stderr",
     "output_type": "stream",
     "text": [
      "[Parallel(n_jobs=-1)]: Done   5 tasks      | elapsed:    4.3s\n"
     ]
    },
    {
     "name": "stdout",
     "output_type": "stream",
     "text": [
      "[CV]  bootstrap=False, criterion=gini, n_estimators=15, score=0.300700991056321, total=   2.6s\n",
      "[CV] bootstrap=False, criterion=gini, n_estimators=25 ................\n",
      "[CV]  bootstrap=False, criterion=gini, n_estimators=20, score=0.32132930513595165, total=   4.2s\n",
      "[CV] bootstrap=False, criterion=gini, n_estimators=25 ................\n",
      "[CV]  bootstrap=False, criterion=gini, n_estimators=20, score=0.3371404399323181, total=   4.0s\n",
      "[CV] bootstrap=False, criterion=gini, n_estimators=25 ................\n",
      "[CV]  bootstrap=False, criterion=gini, n_estimators=20, score=0.3162919990331158, total=   3.7s\n",
      "[CV] bootstrap=False, criterion=gini, n_estimators=30 ................\n",
      "[CV]  bootstrap=False, criterion=gini, n_estimators=25, score=0.3037462235649547, total=   4.5s\n",
      "[CV] bootstrap=False, criterion=gini, n_estimators=30 ................\n"
     ]
    },
    {
     "name": "stderr",
     "output_type": "stream",
     "text": [
      "[Parallel(n_jobs=-1)]: Done  10 tasks      | elapsed:    9.8s\n"
     ]
    },
    {
     "name": "stdout",
     "output_type": "stream",
     "text": [
      "[CV]  bootstrap=False, criterion=gini, n_estimators=25, score=0.31725888324873097, total=   3.6s\n",
      "[CV] bootstrap=False, criterion=gini, n_estimators=30 ................\n",
      "[CV]  bootstrap=False, criterion=gini, n_estimators=25, score=0.2987067923616147, total=   4.4s\n",
      "[CV] bootstrap=False, criterion=entropy, n_estimators=10 .............\n",
      "[CV]  bootstrap=False, criterion=gini, n_estimators=30, score=0.3141389728096677, total=   5.2s\n",
      "[CV] bootstrap=False, criterion=entropy, n_estimators=10 .............\n",
      "[CV]  bootstrap=False, criterion=entropy, n_estimators=10, score=0.332749244712991, total=   2.6s\n",
      "[CV] bootstrap=False, criterion=entropy, n_estimators=10 .............\n",
      "[CV]  bootstrap=False, criterion=gini, n_estimators=30, score=0.3306139714769156, total=   5.0s\n",
      "[CV] bootstrap=False, criterion=entropy, n_estimators=15 .............\n",
      "[CV]  bootstrap=False, criterion=gini, n_estimators=30, score=0.31067198452985256, total=   5.3s\n",
      "[CV] bootstrap=False, criterion=entropy, n_estimators=15 .............\n",
      "[CV]  bootstrap=False, criterion=entropy, n_estimators=10, score=0.34535895576504716, total=   2.5s\n",
      "[CV] bootstrap=False, criterion=entropy, n_estimators=15 .............\n"
     ]
    },
    {
     "name": "stderr",
     "output_type": "stream",
     "text": [
      "[Parallel(n_jobs=-1)]: Done  17 tasks      | elapsed:   16.6s\n"
     ]
    },
    {
     "name": "stdout",
     "output_type": "stream",
     "text": [
      "[CV]  bootstrap=False, criterion=entropy, n_estimators=10, score=0.33025138989605995, total=   2.5s\n",
      "[CV] bootstrap=False, criterion=entropy, n_estimators=20 .............\n",
      "[CV]  bootstrap=False, criterion=entropy, n_estimators=15, score=0.30006042296072505, total=   3.9s\n",
      "[CV] bootstrap=False, criterion=entropy, n_estimators=20 .............\n",
      "[CV]  bootstrap=False, criterion=entropy, n_estimators=15, score=0.3155064056079284, total=   3.4s\n",
      "[CV] bootstrap=False, criterion=entropy, n_estimators=20 .............\n",
      "[CV]  bootstrap=False, criterion=entropy, n_estimators=15, score=0.29804205946337925, total=   3.7s\n",
      "[CV] bootstrap=False, criterion=entropy, n_estimators=25 .............\n",
      "[CV]  bootstrap=False, criterion=entropy, n_estimators=20, score=0.316797583081571, total=   4.5s\n",
      "[CV] bootstrap=False, criterion=entropy, n_estimators=25 .............\n",
      "[CV]  bootstrap=False, criterion=entropy, n_estimators=20, score=0.3300700991056321, total=   4.7s\n",
      "[CV] bootstrap=False, criterion=entropy, n_estimators=25 .............\n",
      "[CV]  bootstrap=False, criterion=entropy, n_estimators=20, score=0.3140560792845057, total=   4.5s\n",
      "[CV] bootstrap=False, criterion=entropy, n_estimators=30 .............\n"
     ]
    },
    {
     "name": "stderr",
     "output_type": "stream",
     "text": [
      "[Parallel(n_jobs=-1)]: Done  24 tasks      | elapsed:   24.9s\n"
     ]
    },
    {
     "name": "stdout",
     "output_type": "stream",
     "text": [
      "[CV]  bootstrap=False, criterion=entropy, n_estimators=25, score=0.2990936555891238, total=   6.0s\n",
      "[CV] bootstrap=False, criterion=entropy, n_estimators=30 .............\n",
      "[CV]  bootstrap=False, criterion=entropy, n_estimators=25, score=0.31260575296108295, total=   5.5s\n",
      "[CV] bootstrap=False, criterion=entropy, n_estimators=30 .............\n",
      "[CV]  bootstrap=False, criterion=entropy, n_estimators=25, score=0.29701474498428815, total=   5.8s\n",
      "[CV] bootstrap=True, criterion=gini, n_estimators=10 .................\n",
      "[CV]  bootstrap=True, criterion=gini, n_estimators=10, score=0.3366767371601208, total=   0.9s\n",
      "[CV] bootstrap=True, criterion=gini, n_estimators=10 .................\n",
      "[CV]  bootstrap=False, criterion=entropy, n_estimators=30, score=0.3110574018126888, total=   7.0s\n",
      "[CV] bootstrap=True, criterion=gini, n_estimators=10 .................\n",
      "[CV]  bootstrap=True, criterion=gini, n_estimators=10, score=0.34535895576504716, total=   1.0s\n",
      "[CV] bootstrap=True, criterion=gini, n_estimators=15 .................\n",
      "[CV]  bootstrap=True, criterion=gini, n_estimators=10, score=0.33460236886632827, total=   1.0s\n",
      "[CV] bootstrap=True, criterion=gini, n_estimators=15 .................\n",
      "[CV]  bootstrap=True, criterion=gini, n_estimators=15, score=0.3018126888217523, total=   1.4s\n",
      "[CV] bootstrap=True, criterion=gini, n_estimators=15 .................\n",
      "[CV]  bootstrap=False, criterion=entropy, n_estimators=30, score=0.3248730964467005, total=   7.4s\n",
      "[CV] bootstrap=True, criterion=gini, n_estimators=20 .................\n"
     ]
    },
    {
     "name": "stderr",
     "output_type": "stream",
     "text": [
      "[Parallel(n_jobs=-1)]: Done  33 tasks      | elapsed:   34.6s\n"
     ]
    },
    {
     "name": "stdout",
     "output_type": "stream",
     "text": [
      "[CV]  bootstrap=True, criterion=gini, n_estimators=15, score=0.3155064056079284, total=   1.5s\n",
      "[CV] bootstrap=True, criterion=gini, n_estimators=20 .................\n",
      "[CV]  bootstrap=True, criterion=gini, n_estimators=15, score=0.2996736765772299, total=   1.5s\n",
      "[CV] bootstrap=True, criterion=gini, n_estimators=20 .................\n",
      "[CV]  bootstrap=False, criterion=entropy, n_estimators=30, score=0.3063814358230602, total=   7.4s\n",
      "[CV] bootstrap=True, criterion=gini, n_estimators=25 .................\n",
      "[CV]  bootstrap=True, criterion=gini, n_estimators=20, score=0.32006042296072507, total=   2.1s\n",
      "[CV] bootstrap=True, criterion=gini, n_estimators=25 .................\n",
      "[CV]  bootstrap=True, criterion=gini, n_estimators=20, score=0.3338772057046169, total=   2.0s\n",
      "[CV] bootstrap=True, criterion=gini, n_estimators=25 .................\n",
      "[CV]  bootstrap=True, criterion=gini, n_estimators=20, score=0.3156876963983563, total=   1.9s\n",
      "[CV] bootstrap=True, criterion=gini, n_estimators=30 .................\n",
      "[CV]  bootstrap=True, criterion=gini, n_estimators=25, score=0.2982477341389728, total=   3.0s\n",
      "[CV] bootstrap=True, criterion=gini, n_estimators=30 .................\n",
      "[CV]  bootstrap=True, criterion=gini, n_estimators=25, score=0.3144186608653614, total=   2.7s\n",
      "[CV] bootstrap=True, criterion=gini, n_estimators=30 .................\n",
      "[CV]  bootstrap=True, criterion=gini, n_estimators=25, score=0.2958665699782451, total=   2.8s\n",
      "[CV] bootstrap=True, criterion=entropy, n_estimators=10 ..............\n"
     ]
    },
    {
     "name": "stderr",
     "output_type": "stream",
     "text": [
      "[Parallel(n_jobs=-1)]: Done  42 tasks      | elapsed:   40.5s\n"
     ]
    },
    {
     "name": "stdout",
     "output_type": "stream",
     "text": [
      "[CV]  bootstrap=True, criterion=gini, n_estimators=30, score=0.3109365558912387, total=   3.7s\n",
      "[CV] bootstrap=True, criterion=entropy, n_estimators=10 ..............\n",
      "[CV]  bootstrap=True, criterion=entropy, n_estimators=10, score=0.3355287009063444, total=   1.8s\n",
      "[CV] bootstrap=True, criterion=entropy, n_estimators=10 ..............\n",
      "[CV]  bootstrap=True, criterion=gini, n_estimators=30, score=0.32825719120135366, total=   3.3s\n",
      "[CV] bootstrap=True, criterion=entropy, n_estimators=15 ..............\n",
      "[CV]  bootstrap=True, criterion=gini, n_estimators=30, score=0.30855692530819434, total=   3.9s\n",
      "[CV] bootstrap=True, criterion=entropy, n_estimators=15 ..............\n",
      "[CV]  bootstrap=True, criterion=entropy, n_estimators=10, score=0.34977036499879144, total=   1.9s\n",
      "[CV] bootstrap=True, criterion=entropy, n_estimators=15 ..............\n",
      "[CV]  bootstrap=True, criterion=entropy, n_estimators=10, score=0.33224558859076625, total=   1.8s\n",
      "[CV] bootstrap=True, criterion=entropy, n_estimators=20 ..............\n",
      "[CV]  bootstrap=True, criterion=entropy, n_estimators=15, score=0.3000604229607251, total=   2.3s\n",
      "[CV] bootstrap=True, criterion=entropy, n_estimators=20 ..............\n",
      "[CV]  bootstrap=True, criterion=entropy, n_estimators=15, score=0.3155064056079284, total=   2.3s\n",
      "[CV] bootstrap=True, criterion=entropy, n_estimators=20 ..............\n",
      "[CV]  bootstrap=True, criterion=entropy, n_estimators=15, score=0.30064056079284507, total=   2.3s\n",
      "[CV] bootstrap=True, criterion=entropy, n_estimators=25 ..............\n",
      "[CV]  bootstrap=True, criterion=entropy, n_estimators=20, score=0.31915407854984895, total=   2.9s\n",
      "[CV] bootstrap=True, criterion=entropy, n_estimators=25 ..............\n",
      "[CV]  bootstrap=True, criterion=entropy, n_estimators=20, score=0.3320038675368624, total=   3.0s\n",
      "[CV] bootstrap=True, criterion=entropy, n_estimators=25 ..............\n"
     ]
    },
    {
     "name": "stderr",
     "output_type": "stream",
     "text": [
      "[Parallel(n_jobs=-1)]: Done  53 tasks      | elapsed:   48.8s\n"
     ]
    },
    {
     "name": "stdout",
     "output_type": "stream",
     "text": [
      "[CV]  bootstrap=True, criterion=entropy, n_estimators=20, score=0.3134517766497462, total=   2.9s\n",
      "[CV] bootstrap=True, criterion=entropy, n_estimators=30 ..............\n",
      "[CV]  bootstrap=True, criterion=entropy, n_estimators=25, score=0.29842900302114805, total=   4.0s\n",
      "[CV] bootstrap=True, criterion=entropy, n_estimators=30 ..............\n",
      "[CV]  bootstrap=True, criterion=entropy, n_estimators=25, score=0.31218274111675126, total=   4.0s\n",
      "[CV] bootstrap=True, criterion=entropy, n_estimators=30 ..............\n",
      "[CV]  bootstrap=True, criterion=entropy, n_estimators=25, score=0.2932680686487793, total=   4.0s\n",
      "[CV]  bootstrap=True, criterion=entropy, n_estimators=30, score=0.31178247734138975, total=   4.5s\n",
      "[CV]  bootstrap=True, criterion=entropy, n_estimators=30, score=0.3248126661832245, total=   4.3s\n",
      "[CV]  bootstrap=True, criterion=entropy, n_estimators=30, score=0.304205946337926, total=   3.7s\n"
     ]
    },
    {
     "name": "stderr",
     "output_type": "stream",
     "text": [
      "[Parallel(n_jobs=-1)]: Done  60 out of  60 | elapsed:   55.7s remaining:    0.0s\n",
      "[Parallel(n_jobs=-1)]: Done  60 out of  60 | elapsed:   55.7s finished\n"
     ]
    },
    {
     "data": {
      "text/plain": [
       "GridSearchCV(cv=None, error_score='raise',\n",
       "       estimator=RandomForestClassifier(bootstrap=True, class_weight=None, criterion='gini',\n",
       "            max_depth=None, max_features='auto', max_leaf_nodes=None,\n",
       "            min_impurity_decrease=0.0, min_impurity_split=None,\n",
       "            min_samples_leaf=1, min_samples_split=2,\n",
       "            min_weight_fraction_leaf=0.0, n_estimators=10, n_jobs=1,\n",
       "            oob_score=False, random_state=42, verbose=0, warm_start=False),\n",
       "       fit_params=None, iid=True, n_jobs=-1,\n",
       "       param_grid={'bootstrap': [False, True], 'n_estimators': [10, 15, 20, 25, 30], 'criterion': ['gini', 'entropy']},\n",
       "       pre_dispatch='2*n_jobs', refit=True, return_train_score='warn',\n",
       "       scoring=make_scorer(roc_auc_score), verbose=10)"
      ]
     },
     "execution_count": 52,
     "metadata": {},
     "output_type": "execute_result"
    }
   ],
   "source": [
    "r_f_grid.fit(X_b, Y_b)"
   ]
  },
  {
   "cell_type": "code",
   "execution_count": 53,
   "metadata": {},
   "outputs": [
    {
     "data": {
      "text/plain": [
       "{'bootstrap': False, 'criterion': 'gini', 'n_estimators': 10}"
      ]
     },
     "execution_count": 53,
     "metadata": {},
     "output_type": "execute_result"
    }
   ],
   "source": [
    "r_f_grid.best_params_"
   ]
  },
  {
   "cell_type": "code",
   "execution_count": 54,
   "metadata": {},
   "outputs": [
    {
     "data": {
      "text/plain": [
       "0.34087338355557345"
      ]
     },
     "execution_count": 54,
     "metadata": {},
     "output_type": "execute_result"
    }
   ],
   "source": [
    "r_f_grid.best_score_"
   ]
  },
  {
   "cell_type": "code",
   "execution_count": 55,
   "metadata": {},
   "outputs": [],
   "source": [
    "r_f_classifier = RandomForestClassifier(random_state=random_state, **r_f_grid.best_params_)"
   ]
  },
  {
   "cell_type": "code",
   "execution_count": 56,
   "metadata": {},
   "outputs": [
    {
     "data": {
      "text/plain": [
       "RandomForestClassifier(bootstrap=False, class_weight=None, criterion='gini',\n",
       "            max_depth=None, max_features='auto', max_leaf_nodes=None,\n",
       "            min_impurity_decrease=0.0, min_impurity_split=None,\n",
       "            min_samples_leaf=1, min_samples_split=2,\n",
       "            min_weight_fraction_leaf=0.0, n_estimators=10, n_jobs=1,\n",
       "            oob_score=False, random_state=42, verbose=0, warm_start=False)"
      ]
     },
     "execution_count": 56,
     "metadata": {},
     "output_type": "execute_result"
    }
   ],
   "source": [
    "r_f_classifier.fit(X_b, Y_b)"
   ]
  },
  {
   "cell_type": "code",
   "execution_count": 57,
   "metadata": {},
   "outputs": [],
   "source": [
    "r_f_y_est = r_f_classifier.predict_proba(test_tr)"
   ]
  },
  {
   "cell_type": "code",
   "execution_count": 58,
   "metadata": {},
   "outputs": [
    {
     "data": {
      "text/plain": [
       "(48744,)"
      ]
     },
     "execution_count": 58,
     "metadata": {},
     "output_type": "execute_result"
    }
   ],
   "source": [
    "r_f_y_est[:, 1].shape"
   ]
  },
  {
   "cell_type": "code",
   "execution_count": 59,
   "metadata": {},
   "outputs": [],
   "source": [
    "result = pd.DataFrame({\n",
    "    'SK_ID_CURR': data_dict[dataset_names[1]].SK_ID_CURR.values,\n",
    "    'TARGET': r_f_y_est[:, 1]\n",
    "})"
   ]
  },
  {
   "cell_type": "code",
   "execution_count": 60,
   "metadata": {},
   "outputs": [],
   "source": [
    "result.to_csv('../data/dataset/first_approach/r_f_grid_search_cv_submission.csv', index=False)"
   ]
  },
  {
   "cell_type": "markdown",
   "metadata": {},
   "source": [
    "# BaggingClassifier"
   ]
  },
  {
   "cell_type": "code",
   "execution_count": 61,
   "metadata": {},
   "outputs": [
    {
     "data": {
      "text/plain": [
       "{'base_estimator': None,\n",
       " 'bootstrap': True,\n",
       " 'bootstrap_features': False,\n",
       " 'max_features': 1.0,\n",
       " 'max_samples': 1.0,\n",
       " 'n_estimators': 10,\n",
       " 'n_jobs': 1,\n",
       " 'oob_score': False,\n",
       " 'random_state': None,\n",
       " 'verbose': 0,\n",
       " 'warm_start': False}"
      ]
     },
     "execution_count": 61,
     "metadata": {},
     "output_type": "execute_result"
    }
   ],
   "source": [
    "BaggingClassifier().get_params()"
   ]
  },
  {
   "cell_type": "code",
   "execution_count": 62,
   "metadata": {},
   "outputs": [],
   "source": [
    "bagging_params_grid = {\n",
    "    'bootstrap': [True],\n",
    "    'bootstrap_features': [False, True],\n",
    "    'n_estimators': [10, 15, 20, 25, 30],\n",
    "    'oob_score': [False, True]\n",
    "}"
   ]
  },
  {
   "cell_type": "code",
   "execution_count": 63,
   "metadata": {},
   "outputs": [],
   "source": [
    "bagging_grid = GridSearchCV(\n",
    "    BaggingClassifier(random_state=random_state),\n",
    "    param_grid=bagging_params_grid,\n",
    "    scoring=make_scorer(roc_auc_score),\n",
    "    verbose=10,\n",
    "    n_jobs=-1\n",
    ")"
   ]
  },
  {
   "cell_type": "code",
   "execution_count": 64,
   "metadata": {
    "scrolled": false
   },
   "outputs": [
    {
     "name": "stdout",
     "output_type": "stream",
     "text": [
      "Fitting 3 folds for each of 20 candidates, totalling 60 fits\n",
      "[CV] bootstrap=True, bootstrap_features=False, n_estimators=10, oob_score=False \n",
      "[CV] bootstrap=True, bootstrap_features=False, n_estimators=10, oob_score=False \n",
      "[CV] bootstrap=True, bootstrap_features=False, n_estimators=10, oob_score=False \n",
      "[CV] bootstrap=True, bootstrap_features=False, n_estimators=10, oob_score=True \n",
      "[CV]  bootstrap=True, bootstrap_features=False, n_estimators=10, oob_score=False, score=0.33417935702199664, total=   5.5s\n",
      "[CV] bootstrap=True, bootstrap_features=False, n_estimators=10, oob_score=True \n"
     ]
    },
    {
     "name": "stderr",
     "output_type": "stream",
     "text": [
      "/home/bender/anaconda3/lib/python3.6/site-packages/sklearn/ensemble/bagging.py:605: UserWarning: Some inputs do not have OOB scores. This probably means too few estimators were used to compute any reliable oob estimates.\n",
      "  warn(\"Some inputs do not have OOB scores. \"\n",
      "/home/bender/anaconda3/lib/python3.6/site-packages/sklearn/ensemble/bagging.py:610: RuntimeWarning: invalid value encountered in true_divide\n",
      "  predictions.sum(axis=1)[:, np.newaxis])\n"
     ]
    },
    {
     "name": "stdout",
     "output_type": "stream",
     "text": [
      "[CV]  bootstrap=True, bootstrap_features=False, n_estimators=10, oob_score=False, score=0.333595166163142, total=   6.3s\n",
      "[CV] bootstrap=True, bootstrap_features=False, n_estimators=10, oob_score=True \n",
      "[CV]  bootstrap=True, bootstrap_features=False, n_estimators=10, oob_score=True, score=0.333595166163142, total=   6.2s\n",
      "[CV] bootstrap=True, bootstrap_features=False, n_estimators=15, oob_score=False \n",
      "[CV]  bootstrap=True, bootstrap_features=False, n_estimators=10, oob_score=False, score=0.33025138989605995, total=   6.9s\n",
      "[CV] bootstrap=True, bootstrap_features=False, n_estimators=15, oob_score=False \n"
     ]
    },
    {
     "name": "stderr",
     "output_type": "stream",
     "text": [
      "/home/bender/anaconda3/lib/python3.6/site-packages/sklearn/ensemble/bagging.py:605: UserWarning: Some inputs do not have OOB scores. This probably means too few estimators were used to compute any reliable oob estimates.\n",
      "  warn(\"Some inputs do not have OOB scores. \"\n",
      "/home/bender/anaconda3/lib/python3.6/site-packages/sklearn/ensemble/bagging.py:610: RuntimeWarning: invalid value encountered in true_divide\n",
      "  predictions.sum(axis=1)[:, np.newaxis])\n"
     ]
    },
    {
     "name": "stdout",
     "output_type": "stream",
     "text": [
      "[CV]  bootstrap=True, bootstrap_features=False, n_estimators=10, oob_score=True, score=0.33417935702199664, total=   6.1s\n",
      "[CV] bootstrap=True, bootstrap_features=False, n_estimators=15, oob_score=False \n"
     ]
    },
    {
     "name": "stderr",
     "output_type": "stream",
     "text": [
      "/home/bender/anaconda3/lib/python3.6/site-packages/sklearn/ensemble/bagging.py:605: UserWarning: Some inputs do not have OOB scores. This probably means too few estimators were used to compute any reliable oob estimates.\n",
      "  warn(\"Some inputs do not have OOB scores. \"\n",
      "/home/bender/anaconda3/lib/python3.6/site-packages/sklearn/ensemble/bagging.py:610: RuntimeWarning: invalid value encountered in true_divide\n",
      "  predictions.sum(axis=1)[:, np.newaxis])\n",
      "[Parallel(n_jobs=-1)]: Done   5 tasks      | elapsed:   12.3s\n"
     ]
    },
    {
     "name": "stdout",
     "output_type": "stream",
     "text": [
      "[CV]  bootstrap=True, bootstrap_features=False, n_estimators=10, oob_score=True, score=0.33025138989605995, total=   5.7s\n",
      "[CV] bootstrap=True, bootstrap_features=False, n_estimators=15, oob_score=True \n",
      "[CV]  bootstrap=True, bootstrap_features=False, n_estimators=15, oob_score=False, score=0.30160744500846026, total=   7.4s\n",
      "[CV] bootstrap=True, bootstrap_features=False, n_estimators=15, oob_score=True \n",
      "[CV]  bootstrap=True, bootstrap_features=False, n_estimators=15, oob_score=False, score=0.298368580060423, total=   8.4s\n",
      "[CV] bootstrap=True, bootstrap_features=False, n_estimators=15, oob_score=True \n",
      "[CV]  bootstrap=True, bootstrap_features=False, n_estimators=15, oob_score=False, score=0.2997945371041818, total=   8.3s\n",
      "[CV] bootstrap=True, bootstrap_features=False, n_estimators=20, oob_score=False \n"
     ]
    },
    {
     "name": "stderr",
     "output_type": "stream",
     "text": [
      "/home/bender/anaconda3/lib/python3.6/site-packages/sklearn/ensemble/bagging.py:605: UserWarning: Some inputs do not have OOB scores. This probably means too few estimators were used to compute any reliable oob estimates.\n",
      "  warn(\"Some inputs do not have OOB scores. \"\n",
      "/home/bender/anaconda3/lib/python3.6/site-packages/sklearn/ensemble/bagging.py:610: RuntimeWarning: invalid value encountered in true_divide\n",
      "  predictions.sum(axis=1)[:, np.newaxis])\n"
     ]
    },
    {
     "name": "stdout",
     "output_type": "stream",
     "text": [
      "[CV]  bootstrap=True, bootstrap_features=False, n_estimators=15, oob_score=True, score=0.298368580060423, total=   9.0s\n",
      "[CV] bootstrap=True, bootstrap_features=False, n_estimators=20, oob_score=False \n"
     ]
    },
    {
     "name": "stderr",
     "output_type": "stream",
     "text": [
      "[Parallel(n_jobs=-1)]: Done  10 tasks      | elapsed:   22.3s\n",
      "/home/bender/anaconda3/lib/python3.6/site-packages/sklearn/ensemble/bagging.py:605: UserWarning: Some inputs do not have OOB scores. This probably means too few estimators were used to compute any reliable oob estimates.\n",
      "  warn(\"Some inputs do not have OOB scores. \"\n",
      "/home/bender/anaconda3/lib/python3.6/site-packages/sklearn/ensemble/bagging.py:610: RuntimeWarning: invalid value encountered in true_divide\n",
      "  predictions.sum(axis=1)[:, np.newaxis])\n"
     ]
    },
    {
     "name": "stdout",
     "output_type": "stream",
     "text": [
      "[CV]  bootstrap=True, bootstrap_features=False, n_estimators=15, oob_score=True, score=0.30160744500846026, total=   8.6s\n",
      "[CV] bootstrap=True, bootstrap_features=False, n_estimators=20, oob_score=False \n"
     ]
    },
    {
     "name": "stderr",
     "output_type": "stream",
     "text": [
      "/home/bender/anaconda3/lib/python3.6/site-packages/sklearn/ensemble/bagging.py:605: UserWarning: Some inputs do not have OOB scores. This probably means too few estimators were used to compute any reliable oob estimates.\n",
      "  warn(\"Some inputs do not have OOB scores. \"\n",
      "/home/bender/anaconda3/lib/python3.6/site-packages/sklearn/ensemble/bagging.py:610: RuntimeWarning: invalid value encountered in true_divide\n",
      "  predictions.sum(axis=1)[:, np.newaxis])\n"
     ]
    },
    {
     "name": "stdout",
     "output_type": "stream",
     "text": [
      "[CV]  bootstrap=True, bootstrap_features=False, n_estimators=15, oob_score=True, score=0.2997945371041818, total=   9.3s\n",
      "[CV] bootstrap=True, bootstrap_features=False, n_estimators=20, oob_score=True \n",
      "[CV]  bootstrap=True, bootstrap_features=False, n_estimators=20, oob_score=False, score=0.31703927492447126, total=  10.6s\n",
      "[CV] bootstrap=True, bootstrap_features=False, n_estimators=20, oob_score=True \n",
      "[CV]  bootstrap=True, bootstrap_features=False, n_estimators=20, oob_score=False, score=0.3181653372008702, total=  10.4s\n",
      "[CV] bootstrap=True, bootstrap_features=False, n_estimators=20, oob_score=True \n",
      "[CV]  bootstrap=True, bootstrap_features=False, n_estimators=20, oob_score=False, score=0.3149625332366449, total=  11.0s\n",
      "[CV] bootstrap=True, bootstrap_features=False, n_estimators=25, oob_score=False \n"
     ]
    },
    {
     "name": "stderr",
     "output_type": "stream",
     "text": [
      "/home/bender/anaconda3/lib/python3.6/site-packages/sklearn/ensemble/bagging.py:605: UserWarning: Some inputs do not have OOB scores. This probably means too few estimators were used to compute any reliable oob estimates.\n",
      "  warn(\"Some inputs do not have OOB scores. \"\n",
      "/home/bender/anaconda3/lib/python3.6/site-packages/sklearn/ensemble/bagging.py:610: RuntimeWarning: invalid value encountered in true_divide\n",
      "  predictions.sum(axis=1)[:, np.newaxis])\n"
     ]
    },
    {
     "name": "stdout",
     "output_type": "stream",
     "text": [
      "[CV]  bootstrap=True, bootstrap_features=False, n_estimators=20, oob_score=True, score=0.31703927492447126, total=  10.8s\n",
      "[CV] bootstrap=True, bootstrap_features=False, n_estimators=25, oob_score=False \n"
     ]
    },
    {
     "name": "stderr",
     "output_type": "stream",
     "text": [
      "/home/bender/anaconda3/lib/python3.6/site-packages/sklearn/ensemble/bagging.py:605: UserWarning: Some inputs do not have OOB scores. This probably means too few estimators were used to compute any reliable oob estimates.\n",
      "  warn(\"Some inputs do not have OOB scores. \"\n",
      "/home/bender/anaconda3/lib/python3.6/site-packages/sklearn/ensemble/bagging.py:610: RuntimeWarning: invalid value encountered in true_divide\n",
      "  predictions.sum(axis=1)[:, np.newaxis])\n"
     ]
    },
    {
     "name": "stdout",
     "output_type": "stream",
     "text": [
      "[CV]  bootstrap=True, bootstrap_features=False, n_estimators=20, oob_score=True, score=0.3181653372008702, total=  11.1s\n",
      "[CV] bootstrap=True, bootstrap_features=False, n_estimators=25, oob_score=False \n"
     ]
    },
    {
     "name": "stderr",
     "output_type": "stream",
     "text": [
      "[Parallel(n_jobs=-1)]: Done  17 tasks      | elapsed:   43.9s\n",
      "/home/bender/anaconda3/lib/python3.6/site-packages/sklearn/ensemble/bagging.py:605: UserWarning: Some inputs do not have OOB scores. This probably means too few estimators were used to compute any reliable oob estimates.\n",
      "  warn(\"Some inputs do not have OOB scores. \"\n",
      "/home/bender/anaconda3/lib/python3.6/site-packages/sklearn/ensemble/bagging.py:610: RuntimeWarning: invalid value encountered in true_divide\n",
      "  predictions.sum(axis=1)[:, np.newaxis])\n"
     ]
    },
    {
     "name": "stdout",
     "output_type": "stream",
     "text": [
      "[CV]  bootstrap=True, bootstrap_features=False, n_estimators=20, oob_score=True, score=0.3149625332366449, total=  11.3s\n",
      "[CV] bootstrap=True, bootstrap_features=False, n_estimators=25, oob_score=True \n",
      "[CV]  bootstrap=True, bootstrap_features=False, n_estimators=25, oob_score=False, score=0.29852550157118685, total=  12.8s\n",
      "[CV] bootstrap=True, bootstrap_features=False, n_estimators=25, oob_score=True \n",
      "[CV]  bootstrap=True, bootstrap_features=False, n_estimators=25, oob_score=False, score=0.2982477341389728, total=  14.2s\n",
      "[CV] bootstrap=True, bootstrap_features=False, n_estimators=25, oob_score=True \n",
      "[CV]  bootstrap=True, bootstrap_features=False, n_estimators=25, oob_score=False, score=0.29610829103214886, total=  14.6s\n",
      "[CV] bootstrap=True, bootstrap_features=False, n_estimators=30, oob_score=False \n",
      "[CV]  bootstrap=True, bootstrap_features=False, n_estimators=25, oob_score=True, score=0.2982477341389728, total=  14.7s\n",
      "[CV] bootstrap=True, bootstrap_features=False, n_estimators=30, oob_score=False \n",
      "[CV]  bootstrap=True, bootstrap_features=False, n_estimators=25, oob_score=True, score=0.29852550157118685, total=  15.2s\n",
      "[CV] bootstrap=True, bootstrap_features=False, n_estimators=30, oob_score=False \n",
      "[CV]  bootstrap=True, bootstrap_features=False, n_estimators=25, oob_score=True, score=0.29610829103214886, total=  15.8s\n",
      "[CV] bootstrap=True, bootstrap_features=False, n_estimators=30, oob_score=True \n"
     ]
    },
    {
     "name": "stderr",
     "output_type": "stream",
     "text": [
      "[Parallel(n_jobs=-1)]: Done  24 tasks      | elapsed:  1.1min\n"
     ]
    },
    {
     "name": "stdout",
     "output_type": "stream",
     "text": [
      "[CV]  bootstrap=True, bootstrap_features=False, n_estimators=30, oob_score=False, score=0.31000725163161713, total=  15.0s\n",
      "[CV] bootstrap=True, bootstrap_features=False, n_estimators=30, oob_score=True \n",
      "[CV]  bootstrap=True, bootstrap_features=False, n_estimators=30, oob_score=False, score=0.3113595166163142, total=  17.0s\n",
      "[CV] bootstrap=True, bootstrap_features=False, n_estimators=30, oob_score=True \n",
      "[CV]  bootstrap=True, bootstrap_features=False, n_estimators=30, oob_score=False, score=0.30759004109257915, total=  17.4s\n",
      "[CV] bootstrap=True, bootstrap_features=True, n_estimators=10, oob_score=False \n",
      "[CV]  bootstrap=True, bootstrap_features=False, n_estimators=30, oob_score=True, score=0.3113595166163142, total=  17.8s\n",
      "[CV] bootstrap=True, bootstrap_features=True, n_estimators=10, oob_score=False \n",
      "[CV]  bootstrap=True, bootstrap_features=True, n_estimators=10, oob_score=False, score=0.3410876132930514, total=   6.7s\n",
      "[CV] bootstrap=True, bootstrap_features=True, n_estimators=10, oob_score=False \n",
      "[CV]  bootstrap=True, bootstrap_features=True, n_estimators=10, oob_score=False, score=0.3425791636451535, total=   6.2s\n",
      "[CV] bootstrap=True, bootstrap_features=True, n_estimators=10, oob_score=True \n",
      "[CV]  bootstrap=True, bootstrap_features=False, n_estimators=30, oob_score=True, score=0.31000725163161713, total=  17.8s\n",
      "[CV] bootstrap=True, bootstrap_features=True, n_estimators=10, oob_score=True \n",
      "[CV]  bootstrap=True, bootstrap_features=False, n_estimators=30, oob_score=True, score=0.30759004109257915, total=  18.9s\n",
      "[CV] bootstrap=True, bootstrap_features=True, n_estimators=10, oob_score=True \n",
      "[CV]  bootstrap=True, bootstrap_features=True, n_estimators=10, oob_score=False, score=0.3396785109983079, total=   5.9s\n",
      "[CV] bootstrap=True, bootstrap_features=True, n_estimators=15, oob_score=False \n"
     ]
    },
    {
     "name": "stderr",
     "output_type": "stream",
     "text": [
      "[Parallel(n_jobs=-1)]: Done  33 tasks      | elapsed:  1.7min\n",
      "/home/bender/anaconda3/lib/python3.6/site-packages/sklearn/ensemble/bagging.py:605: UserWarning: Some inputs do not have OOB scores. This probably means too few estimators were used to compute any reliable oob estimates.\n",
      "  warn(\"Some inputs do not have OOB scores. \"\n",
      "/home/bender/anaconda3/lib/python3.6/site-packages/sklearn/ensemble/bagging.py:610: RuntimeWarning: invalid value encountered in true_divide\n",
      "  predictions.sum(axis=1)[:, np.newaxis])\n"
     ]
    },
    {
     "name": "stdout",
     "output_type": "stream",
     "text": [
      "[CV]  bootstrap=True, bootstrap_features=True, n_estimators=10, oob_score=True, score=0.3410876132930514, total=   7.5s\n",
      "[CV] bootstrap=True, bootstrap_features=True, n_estimators=15, oob_score=False \n"
     ]
    },
    {
     "name": "stderr",
     "output_type": "stream",
     "text": [
      "/home/bender/anaconda3/lib/python3.6/site-packages/sklearn/ensemble/bagging.py:605: UserWarning: Some inputs do not have OOB scores. This probably means too few estimators were used to compute any reliable oob estimates.\n",
      "  warn(\"Some inputs do not have OOB scores. \"\n",
      "/home/bender/anaconda3/lib/python3.6/site-packages/sklearn/ensemble/bagging.py:610: RuntimeWarning: invalid value encountered in true_divide\n",
      "  predictions.sum(axis=1)[:, np.newaxis])\n"
     ]
    },
    {
     "name": "stdout",
     "output_type": "stream",
     "text": [
      "[CV]  bootstrap=True, bootstrap_features=True, n_estimators=10, oob_score=True, score=0.3425791636451535, total=   6.7s\n",
      "[CV] bootstrap=True, bootstrap_features=True, n_estimators=15, oob_score=False \n"
     ]
    },
    {
     "name": "stderr",
     "output_type": "stream",
     "text": [
      "/home/bender/anaconda3/lib/python3.6/site-packages/sklearn/ensemble/bagging.py:605: UserWarning: Some inputs do not have OOB scores. This probably means too few estimators were used to compute any reliable oob estimates.\n",
      "  warn(\"Some inputs do not have OOB scores. \"\n",
      "/home/bender/anaconda3/lib/python3.6/site-packages/sklearn/ensemble/bagging.py:610: RuntimeWarning: invalid value encountered in true_divide\n",
      "  predictions.sum(axis=1)[:, np.newaxis])\n"
     ]
    },
    {
     "name": "stdout",
     "output_type": "stream",
     "text": [
      "[CV]  bootstrap=True, bootstrap_features=True, n_estimators=10, oob_score=True, score=0.3396785109983079, total=   6.4s\n",
      "[CV] bootstrap=True, bootstrap_features=True, n_estimators=15, oob_score=True \n",
      "[CV]  bootstrap=True, bootstrap_features=True, n_estimators=15, oob_score=False, score=0.3065861027190332, total=   9.6s\n",
      "[CV] bootstrap=True, bootstrap_features=True, n_estimators=15, oob_score=True \n",
      "[CV]  bootstrap=True, bootstrap_features=True, n_estimators=15, oob_score=False, score=0.30662315687696395, total=   9.2s\n",
      "[CV] bootstrap=True, bootstrap_features=True, n_estimators=15, oob_score=True \n",
      "[CV]  bootstrap=True, bootstrap_features=True, n_estimators=15, oob_score=False, score=0.3058979937152526, total=   9.0s\n",
      "[CV] bootstrap=True, bootstrap_features=True, n_estimators=20, oob_score=False \n"
     ]
    },
    {
     "name": "stderr",
     "output_type": "stream",
     "text": [
      "/home/bender/anaconda3/lib/python3.6/site-packages/sklearn/ensemble/bagging.py:605: UserWarning: Some inputs do not have OOB scores. This probably means too few estimators were used to compute any reliable oob estimates.\n",
      "  warn(\"Some inputs do not have OOB scores. \"\n",
      "/home/bender/anaconda3/lib/python3.6/site-packages/sklearn/ensemble/bagging.py:610: RuntimeWarning: invalid value encountered in true_divide\n",
      "  predictions.sum(axis=1)[:, np.newaxis])\n"
     ]
    },
    {
     "name": "stdout",
     "output_type": "stream",
     "text": [
      "[CV]  bootstrap=True, bootstrap_features=True, n_estimators=15, oob_score=True, score=0.3065861027190332, total=   9.9s\n",
      "[CV] bootstrap=True, bootstrap_features=True, n_estimators=20, oob_score=False \n"
     ]
    },
    {
     "name": "stderr",
     "output_type": "stream",
     "text": [
      "/home/bender/anaconda3/lib/python3.6/site-packages/sklearn/ensemble/bagging.py:605: UserWarning: Some inputs do not have OOB scores. This probably means too few estimators were used to compute any reliable oob estimates.\n",
      "  warn(\"Some inputs do not have OOB scores. \"\n",
      "/home/bender/anaconda3/lib/python3.6/site-packages/sklearn/ensemble/bagging.py:610: RuntimeWarning: invalid value encountered in true_divide\n",
      "  predictions.sum(axis=1)[:, np.newaxis])\n"
     ]
    },
    {
     "name": "stdout",
     "output_type": "stream",
     "text": [
      "[CV]  bootstrap=True, bootstrap_features=True, n_estimators=15, oob_score=True, score=0.30662315687696395, total=   9.8s\n",
      "[CV] bootstrap=True, bootstrap_features=True, n_estimators=20, oob_score=False \n"
     ]
    },
    {
     "name": "stderr",
     "output_type": "stream",
     "text": [
      "/home/bender/anaconda3/lib/python3.6/site-packages/sklearn/ensemble/bagging.py:605: UserWarning: Some inputs do not have OOB scores. This probably means too few estimators were used to compute any reliable oob estimates.\n",
      "  warn(\"Some inputs do not have OOB scores. \"\n",
      "/home/bender/anaconda3/lib/python3.6/site-packages/sklearn/ensemble/bagging.py:610: RuntimeWarning: invalid value encountered in true_divide\n",
      "  predictions.sum(axis=1)[:, np.newaxis])\n"
     ]
    },
    {
     "name": "stdout",
     "output_type": "stream",
     "text": [
      "[CV]  bootstrap=True, bootstrap_features=True, n_estimators=15, oob_score=True, score=0.3058979937152526, total=  10.1s\n",
      "[CV] bootstrap=True, bootstrap_features=True, n_estimators=20, oob_score=True \n"
     ]
    },
    {
     "name": "stderr",
     "output_type": "stream",
     "text": [
      "[Parallel(n_jobs=-1)]: Done  42 tasks      | elapsed:  2.0min\n"
     ]
    },
    {
     "name": "stdout",
     "output_type": "stream",
     "text": [
      "[CV]  bootstrap=True, bootstrap_features=True, n_estimators=20, oob_score=False, score=0.33202416918429, total=  13.7s\n",
      "[CV] bootstrap=True, bootstrap_features=True, n_estimators=20, oob_score=True \n",
      "[CV]  bootstrap=True, bootstrap_features=True, n_estimators=20, oob_score=False, score=0.3329103214890017, total=  12.5s\n",
      "[CV] bootstrap=True, bootstrap_features=True, n_estimators=20, oob_score=True \n",
      "[CV]  bootstrap=True, bootstrap_features=True, n_estimators=20, oob_score=False, score=0.3306139714769156, total=  13.3s\n",
      "[CV] bootstrap=True, bootstrap_features=True, n_estimators=25, oob_score=False \n"
     ]
    },
    {
     "name": "stderr",
     "output_type": "stream",
     "text": [
      "/home/bender/anaconda3/lib/python3.6/site-packages/sklearn/ensemble/bagging.py:605: UserWarning: Some inputs do not have OOB scores. This probably means too few estimators were used to compute any reliable oob estimates.\n",
      "  warn(\"Some inputs do not have OOB scores. \"\n",
      "/home/bender/anaconda3/lib/python3.6/site-packages/sklearn/ensemble/bagging.py:610: RuntimeWarning: invalid value encountered in true_divide\n",
      "  predictions.sum(axis=1)[:, np.newaxis])\n"
     ]
    },
    {
     "name": "stdout",
     "output_type": "stream",
     "text": [
      "[CV]  bootstrap=True, bootstrap_features=True, n_estimators=20, oob_score=True, score=0.33202416918429, total=  13.1s\n",
      "[CV] bootstrap=True, bootstrap_features=True, n_estimators=25, oob_score=False \n"
     ]
    },
    {
     "name": "stderr",
     "output_type": "stream",
     "text": [
      "/home/bender/anaconda3/lib/python3.6/site-packages/sklearn/ensemble/bagging.py:605: UserWarning: Some inputs do not have OOB scores. This probably means too few estimators were used to compute any reliable oob estimates.\n",
      "  warn(\"Some inputs do not have OOB scores. \"\n",
      "/home/bender/anaconda3/lib/python3.6/site-packages/sklearn/ensemble/bagging.py:610: RuntimeWarning: invalid value encountered in true_divide\n",
      "  predictions.sum(axis=1)[:, np.newaxis])\n"
     ]
    },
    {
     "name": "stdout",
     "output_type": "stream",
     "text": [
      "[CV]  bootstrap=True, bootstrap_features=True, n_estimators=20, oob_score=True, score=0.3329103214890017, total=  13.6s\n",
      "[CV] bootstrap=True, bootstrap_features=True, n_estimators=25, oob_score=False \n"
     ]
    },
    {
     "name": "stderr",
     "output_type": "stream",
     "text": [
      "/home/bender/anaconda3/lib/python3.6/site-packages/sklearn/ensemble/bagging.py:605: UserWarning: Some inputs do not have OOB scores. This probably means too few estimators were used to compute any reliable oob estimates.\n",
      "  warn(\"Some inputs do not have OOB scores. \"\n",
      "/home/bender/anaconda3/lib/python3.6/site-packages/sklearn/ensemble/bagging.py:610: RuntimeWarning: invalid value encountered in true_divide\n",
      "  predictions.sum(axis=1)[:, np.newaxis])\n"
     ]
    },
    {
     "name": "stdout",
     "output_type": "stream",
     "text": [
      "[CV]  bootstrap=True, bootstrap_features=True, n_estimators=20, oob_score=True, score=0.3306139714769156, total=  13.8s\n",
      "[CV] bootstrap=True, bootstrap_features=True, n_estimators=25, oob_score=True \n",
      "[CV]  bootstrap=True, bootstrap_features=True, n_estimators=25, oob_score=False, score=0.31045317220543805, total=  15.9s\n",
      "[CV] bootstrap=True, bootstrap_features=True, n_estimators=25, oob_score=True \n",
      "[CV]  bootstrap=True, bootstrap_features=True, n_estimators=25, oob_score=False, score=0.31067198452985256, total=  16.0s\n",
      "[CV] bootstrap=True, bootstrap_features=True, n_estimators=25, oob_score=True \n",
      "[CV]  bootstrap=True, bootstrap_features=True, n_estimators=25, oob_score=False, score=0.3065022963500121, total=  15.6s\n",
      "[CV] bootstrap=True, bootstrap_features=True, n_estimators=30, oob_score=False \n",
      "[CV]  bootstrap=True, bootstrap_features=True, n_estimators=25, oob_score=True, score=0.31045317220543805, total=  16.0s\n",
      "[CV] bootstrap=True, bootstrap_features=True, n_estimators=30, oob_score=False \n",
      "[CV]  bootstrap=True, bootstrap_features=True, n_estimators=25, oob_score=True, score=0.31067198452985256, total=  16.1s\n",
      "[CV] bootstrap=True, bootstrap_features=True, n_estimators=30, oob_score=False \n"
     ]
    },
    {
     "name": "stderr",
     "output_type": "stream",
     "text": [
      "[Parallel(n_jobs=-1)]: Done  53 tasks      | elapsed:  2.8min\n"
     ]
    },
    {
     "name": "stdout",
     "output_type": "stream",
     "text": [
      "[CV]  bootstrap=True, bootstrap_features=True, n_estimators=25, oob_score=True, score=0.3065022963500121, total=  15.7s\n",
      "[CV] bootstrap=True, bootstrap_features=True, n_estimators=30, oob_score=True \n",
      "[CV]  bootstrap=True, bootstrap_features=True, n_estimators=30, oob_score=False, score=0.3242900302114804, total=  18.1s\n",
      "[CV] bootstrap=True, bootstrap_features=True, n_estimators=30, oob_score=True \n",
      "[CV]  bootstrap=True, bootstrap_features=True, n_estimators=30, oob_score=False, score=0.32704858593183467, total=  16.9s\n",
      "[CV] bootstrap=True, bootstrap_features=True, n_estimators=30, oob_score=True \n",
      "[CV]  bootstrap=True, bootstrap_features=True, n_estimators=30, oob_score=False, score=0.323120618805898, total=  19.0s\n",
      "[CV]  bootstrap=True, bootstrap_features=True, n_estimators=30, oob_score=True, score=0.3242900302114804, total=  19.1s\n",
      "[CV]  bootstrap=True, bootstrap_features=True, n_estimators=30, oob_score=True, score=0.32704858593183467, total=  16.4s\n",
      "[CV]  bootstrap=True, bootstrap_features=True, n_estimators=30, oob_score=True, score=0.323120618805898, total=  16.1s\n"
     ]
    },
    {
     "name": "stderr",
     "output_type": "stream",
     "text": [
      "[Parallel(n_jobs=-1)]: Done  60 out of  60 | elapsed:  3.2min remaining:    0.0s\n",
      "[Parallel(n_jobs=-1)]: Done  60 out of  60 | elapsed:  3.2min finished\n"
     ]
    },
    {
     "data": {
      "text/plain": [
       "GridSearchCV(cv=None, error_score='raise',\n",
       "       estimator=BaggingClassifier(base_estimator=None, bootstrap=True,\n",
       "         bootstrap_features=False, max_features=1.0, max_samples=1.0,\n",
       "         n_estimators=10, n_jobs=1, oob_score=False, random_state=42,\n",
       "         verbose=0, warm_start=False),\n",
       "       fit_params=None, iid=True, n_jobs=-1,\n",
       "       param_grid={'bootstrap': [True], 'bootstrap_features': [False, True], 'n_estimators': [10, 15, 20, 25, 30], 'oob_score': [False, True]},\n",
       "       pre_dispatch='2*n_jobs', refit=True, return_train_score='warn',\n",
       "       scoring=make_scorer(roc_auc_score), verbose=10)"
      ]
     },
     "execution_count": 64,
     "metadata": {},
     "output_type": "execute_result"
    }
   ],
   "source": [
    "bagging_grid.fit(X_b, Y_b)"
   ]
  },
  {
   "cell_type": "code",
   "execution_count": 65,
   "metadata": {},
   "outputs": [
    {
     "data": {
      "text/plain": [
       "{'bootstrap': True,\n",
       " 'bootstrap_features': True,\n",
       " 'n_estimators': 10,\n",
       " 'oob_score': False}"
      ]
     },
     "execution_count": 65,
     "metadata": {},
     "output_type": "execute_result"
    }
   ],
   "source": [
    "bagging_grid.best_params_"
   ]
  },
  {
   "cell_type": "code",
   "execution_count": 66,
   "metadata": {},
   "outputs": [
    {
     "data": {
      "text/plain": [
       "0.34111509487169156"
      ]
     },
     "execution_count": 66,
     "metadata": {},
     "output_type": "execute_result"
    }
   ],
   "source": [
    "bagging_grid.best_score_"
   ]
  },
  {
   "cell_type": "code",
   "execution_count": 67,
   "metadata": {},
   "outputs": [],
   "source": [
    "bagging_classifier = BaggingClassifier(random_state=random_state, **bagging_grid.best_params_)"
   ]
  },
  {
   "cell_type": "code",
   "execution_count": 68,
   "metadata": {},
   "outputs": [
    {
     "data": {
      "text/plain": [
       "BaggingClassifier(base_estimator=None, bootstrap=True,\n",
       "         bootstrap_features=True, max_features=1.0, max_samples=1.0,\n",
       "         n_estimators=10, n_jobs=1, oob_score=False, random_state=42,\n",
       "         verbose=0, warm_start=False)"
      ]
     },
     "execution_count": 68,
     "metadata": {},
     "output_type": "execute_result"
    }
   ],
   "source": [
    "bagging_classifier.fit(X_b, Y_b)"
   ]
  },
  {
   "cell_type": "code",
   "execution_count": 69,
   "metadata": {},
   "outputs": [],
   "source": [
    "bagging_y_est = bagging_classifier.predict_proba(test_tr)"
   ]
  },
  {
   "cell_type": "code",
   "execution_count": 70,
   "metadata": {},
   "outputs": [
    {
     "data": {
      "text/plain": [
       "(48744,)"
      ]
     },
     "execution_count": 70,
     "metadata": {},
     "output_type": "execute_result"
    }
   ],
   "source": [
    "bagging_y_est[:, 1].shape"
   ]
  },
  {
   "cell_type": "code",
   "execution_count": 71,
   "metadata": {},
   "outputs": [],
   "source": [
    "result = pd.DataFrame({\n",
    "    'SK_ID_CURR': data_dict[dataset_names[1]].SK_ID_CURR.values,\n",
    "    'TARGET': bagging_y_est[:, 1]\n",
    "})"
   ]
  },
  {
   "cell_type": "code",
   "execution_count": 72,
   "metadata": {},
   "outputs": [],
   "source": [
    "result.to_csv('../data/dataset/first_approach/bagging_grid_search_cv_submission.csv', index=False)"
   ]
  },
  {
   "cell_type": "markdown",
   "metadata": {},
   "source": [
    "# Models mixture"
   ]
  },
  {
   "cell_type": "code",
   "execution_count": 73,
   "metadata": {},
   "outputs": [],
   "source": [
    "voting_classifier = VotingClassifier(\n",
    "    estimators=[\n",
    "        ('baseline', RandomForestClassifier(random_state=random_state)),\n",
    "        ('extra trees', ExtraTreesClassifier(random_state=random_state, **e_t_grid.best_params_)),\n",
    "        ('random forest', RandomForestClassifier(random_state=random_state, **r_f_grid.best_params_)),\n",
    "        ('bagging', BaggingClassifier(random_state=random_state, **bagging_grid.best_params_))\n",
    "    ],\n",
    "    voting='soft')"
   ]
  },
  {
   "cell_type": "code",
   "execution_count": 74,
   "metadata": {},
   "outputs": [
    {
     "data": {
      "text/plain": [
       "VotingClassifier(estimators=[('baseline', RandomForestClassifier(bootstrap=True, class_weight=None, criterion='gini',\n",
       "            max_depth=None, max_features='auto', max_leaf_nodes=None,\n",
       "            min_impurity_decrease=0.0, min_impurity_split=None,\n",
       "            min_samples_leaf=1, min_samples_split=2,\n",
       "            ...n_estimators=10, n_jobs=1, oob_score=False, random_state=42,\n",
       "         verbose=0, warm_start=False))],\n",
       "         flatten_transform=None, n_jobs=1, voting='soft', weights=None)"
      ]
     },
     "execution_count": 74,
     "metadata": {},
     "output_type": "execute_result"
    }
   ],
   "source": [
    "voting_classifier.fit(X_b, Y_b)"
   ]
  },
  {
   "cell_type": "code",
   "execution_count": 75,
   "metadata": {},
   "outputs": [],
   "source": [
    "res_y = voting_classifier.predict_proba(test_tr)"
   ]
  },
  {
   "cell_type": "code",
   "execution_count": 76,
   "metadata": {},
   "outputs": [],
   "source": [
    "result = pd.DataFrame({\n",
    "    'SK_ID_CURR': data_dict[dataset_names[1]].SK_ID_CURR.values,\n",
    "    'TARGET': res_y[:, 1]\n",
    "})"
   ]
  },
  {
   "cell_type": "code",
   "execution_count": 77,
   "metadata": {},
   "outputs": [],
   "source": [
    "result.to_csv('../data/dataset/first_approach/mixture_submission.csv', index=False)"
   ]
  }
 ],
 "metadata": {
  "kernelspec": {
   "display_name": "Python 3",
   "language": "python",
   "name": "python3"
  },
  "language_info": {
   "codemirror_mode": {
    "name": "ipython",
    "version": 3
   },
   "file_extension": ".py",
   "mimetype": "text/x-python",
   "name": "python",
   "nbconvert_exporter": "python",
   "pygments_lexer": "ipython3",
   "version": "3.6.4"
  }
 },
 "nbformat": 4,
 "nbformat_minor": 1
}
